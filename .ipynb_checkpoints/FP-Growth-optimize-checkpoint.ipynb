{
 "cells": [
  {
   "cell_type": "code",
   "execution_count": 1,
   "metadata": {},
   "outputs": [],
   "source": [
    "import boto3\n",
    "import pandas as pd\n",
    "import numpy as np\n",
    "import matplotlib.pyplot as plt\n",
    "from io import BytesIO\n",
    "from mlxtend.preprocessing import TransactionEncoder\n",
    "import random\n",
    "from mlxtend.frequent_patterns import apriori\n",
    "import pyfpgrowth\n",
    "from format_rules import format_rules\n",
    "#from server_association import server_association\n",
    "from Server_Assign import server_association\n",
    "from assign_servers import assign_servers_output"
   ]
  },
  {
   "cell_type": "code",
   "execution_count": 2,
   "metadata": {},
   "outputs": [],
   "source": [
    "#load data\n",
    "#df=pd.read_csv('/home/natalie/Documents/Manifold/df_test.csv')\n",
    "client = boto3.client('s3')\n",
    "obj = client.get_object(Bucket='manifolddata', Key='week1.csv')\n",
    "df = pd.read_csv(BytesIO(obj['Body'].read()), low_memory=False)\n",
    "\n",
    "\n",
    "df=df.iloc[:,[0,1,3,4,5,6,7,8]]\n",
    "df.columns=['Date', 'Duration', 'Src_IP', 'Src_pt', 'Dst_IP', 'Dst_pt','Packets', 'Bytes']\n",
    "#add an date column that is rounded to nearest hour, so we can use this as a timestep to see how frequently IP pairs occur in each timestep\n",
    "df['Date']=pd.to_datetime(df['Date'], format=\"%Y-%m-%d %H:%M:%S.%f\", errors = 'coerce')\n",
    "df['date_hr']=pd.Series(df['Date']).dt.round(\"H\")\n"
   ]
  },
  {
   "cell_type": "code",
   "execution_count": 3,
   "metadata": {},
   "outputs": [],
   "source": [
    "#create a pair column, which is a touple of the src and dst IP, sorted. \n",
    "#It does not matter which call came first, we simply want to know which pair occurs most frequently.\n",
    "\n",
    "df['pairs']=list(zip(df.Src_IP, df.Dst_IP))\n",
    "df['pairs']=df['pairs'].apply(sorted)\n",
    "df['pairs2']=tuple(df['pairs'])\n",
    "#create a normalized latency column = duration/packets\n",
    "df['norm_latency']=df['Duration']/df['Packets']"
   ]
  },
  {
   "cell_type": "code",
   "execution_count": 4,
   "metadata": {},
   "outputs": [],
   "source": [
    "def convert_si_to_number(x):\n",
    "    total_stars = 0\n",
    "    if 'k' in x:\n",
    "        if len(x) > 1:\n",
    "            total_stars = float(x.replace('k', '')) * 1000 # convert k to a thousand\n",
    "    elif 'M' in x:\n",
    "        if len(x) > 1:\n",
    "            total_stars = float(x.replace('M', '')) * 1000000 # convert M to a million\n",
    "    elif 'B' in x:\n",
    "        total_stars = float(x.replace('B', '')) * 1000000000 # convert B to a Billion\n",
    "    else:\n",
    "        total_stars = int(x) # Less than 1000\n",
    "    return int(total_stars)"
   ]
  },
  {
   "cell_type": "code",
   "execution_count": 5,
   "metadata": {},
   "outputs": [],
   "source": [
    "df.Bytes=df.Bytes.astype('str')\n",
    "test_list=df.Bytes\n",
    "\n",
    "[i for i, s in enumerate(test_list) if 'M' in s]#show where the M errors are happening\n",
    "\n",
    "test_list= [convert_si_to_number(x) for x in test_list]\n",
    "df.Bytes=test_list #bring it back into the dataframe\n"
   ]
  },
  {
   "cell_type": "code",
   "execution_count": 6,
   "metadata": {},
   "outputs": [
    {
     "data": {
      "text/html": [
       "<div>\n",
       "<style scoped>\n",
       "    .dataframe tbody tr th:only-of-type {\n",
       "        vertical-align: middle;\n",
       "    }\n",
       "\n",
       "    .dataframe tbody tr th {\n",
       "        vertical-align: top;\n",
       "    }\n",
       "\n",
       "    .dataframe thead th {\n",
       "        text-align: right;\n",
       "    }\n",
       "</style>\n",
       "<table border=\"1\" class=\"dataframe\">\n",
       "  <thead>\n",
       "    <tr style=\"text-align: right;\">\n",
       "      <th></th>\n",
       "      <th>Date</th>\n",
       "      <th>Duration</th>\n",
       "      <th>Src_IP</th>\n",
       "      <th>Src_pt</th>\n",
       "      <th>Dst_IP</th>\n",
       "      <th>Dst_pt</th>\n",
       "      <th>Packets</th>\n",
       "      <th>Bytes</th>\n",
       "      <th>date_hr</th>\n",
       "      <th>pairs</th>\n",
       "      <th>pairs2</th>\n",
       "      <th>norm_latency</th>\n",
       "    </tr>\n",
       "  </thead>\n",
       "  <tbody>\n",
       "    <tr>\n",
       "      <th>0</th>\n",
       "      <td>2017-08-02 00:00:00.419</td>\n",
       "      <td>0.003</td>\n",
       "      <td>192.168.210.55</td>\n",
       "      <td>44870</td>\n",
       "      <td>192.168.100.11</td>\n",
       "      <td>445.0</td>\n",
       "      <td>2</td>\n",
       "      <td>174</td>\n",
       "      <td>2017-08-02</td>\n",
       "      <td>[192.168.100.11, 192.168.210.55]</td>\n",
       "      <td>(192.168.100.11, 192.168.210.55)</td>\n",
       "      <td>0.0015</td>\n",
       "    </tr>\n",
       "    <tr>\n",
       "      <th>1</th>\n",
       "      <td>2017-08-02 00:00:00.421</td>\n",
       "      <td>0.000</td>\n",
       "      <td>192.168.100.11</td>\n",
       "      <td>445</td>\n",
       "      <td>192.168.210.55</td>\n",
       "      <td>44870.0</td>\n",
       "      <td>1</td>\n",
       "      <td>108</td>\n",
       "      <td>2017-08-02</td>\n",
       "      <td>[192.168.100.11, 192.168.210.55]</td>\n",
       "      <td>(192.168.100.11, 192.168.210.55)</td>\n",
       "      <td>0.0000</td>\n",
       "    </tr>\n",
       "    <tr>\n",
       "      <th>2</th>\n",
       "      <td>2017-08-02 00:00:02.593</td>\n",
       "      <td>0.004</td>\n",
       "      <td>192.168.220.47</td>\n",
       "      <td>55101</td>\n",
       "      <td>192.168.100.11</td>\n",
       "      <td>445.0</td>\n",
       "      <td>2</td>\n",
       "      <td>174</td>\n",
       "      <td>2017-08-02</td>\n",
       "      <td>[192.168.100.11, 192.168.220.47]</td>\n",
       "      <td>(192.168.100.11, 192.168.220.47)</td>\n",
       "      <td>0.0020</td>\n",
       "    </tr>\n",
       "    <tr>\n",
       "      <th>3</th>\n",
       "      <td>2017-08-02 00:00:02.859</td>\n",
       "      <td>0.000</td>\n",
       "      <td>10000_34</td>\n",
       "      <td>443</td>\n",
       "      <td>192.168.210.54</td>\n",
       "      <td>59628.0</td>\n",
       "      <td>1</td>\n",
       "      <td>100</td>\n",
       "      <td>2017-08-02</td>\n",
       "      <td>[10000_34, 192.168.210.54]</td>\n",
       "      <td>(10000_34, 192.168.210.54)</td>\n",
       "      <td>0.0000</td>\n",
       "    </tr>\n",
       "    <tr>\n",
       "      <th>4</th>\n",
       "      <td>2017-08-02 00:00:02.594</td>\n",
       "      <td>0.000</td>\n",
       "      <td>192.168.100.11</td>\n",
       "      <td>445</td>\n",
       "      <td>192.168.220.47</td>\n",
       "      <td>55101.0</td>\n",
       "      <td>1</td>\n",
       "      <td>108</td>\n",
       "      <td>2017-08-02</td>\n",
       "      <td>[192.168.100.11, 192.168.220.47]</td>\n",
       "      <td>(192.168.100.11, 192.168.220.47)</td>\n",
       "      <td>0.0000</td>\n",
       "    </tr>\n",
       "  </tbody>\n",
       "</table>\n",
       "</div>"
      ],
      "text/plain": [
       "                     Date  Duration          Src_IP  Src_pt          Dst_IP  \\\n",
       "0 2017-08-02 00:00:00.419     0.003  192.168.210.55   44870  192.168.100.11   \n",
       "1 2017-08-02 00:00:00.421     0.000  192.168.100.11     445  192.168.210.55   \n",
       "2 2017-08-02 00:00:02.593     0.004  192.168.220.47   55101  192.168.100.11   \n",
       "3 2017-08-02 00:00:02.859     0.000        10000_34     443  192.168.210.54   \n",
       "4 2017-08-02 00:00:02.594     0.000  192.168.100.11     445  192.168.220.47   \n",
       "\n",
       "    Dst_pt  Packets  Bytes    date_hr                             pairs  \\\n",
       "0    445.0        2    174 2017-08-02  [192.168.100.11, 192.168.210.55]   \n",
       "1  44870.0        1    108 2017-08-02  [192.168.100.11, 192.168.210.55]   \n",
       "2    445.0        2    174 2017-08-02  [192.168.100.11, 192.168.220.47]   \n",
       "3  59628.0        1    100 2017-08-02        [10000_34, 192.168.210.54]   \n",
       "4  55101.0        1    108 2017-08-02  [192.168.100.11, 192.168.220.47]   \n",
       "\n",
       "                             pairs2  norm_latency  \n",
       "0  (192.168.100.11, 192.168.210.55)        0.0015  \n",
       "1  (192.168.100.11, 192.168.210.55)        0.0000  \n",
       "2  (192.168.100.11, 192.168.220.47)        0.0020  \n",
       "3        (10000_34, 192.168.210.54)        0.0000  \n",
       "4  (192.168.100.11, 192.168.220.47)        0.0000  "
      ]
     },
     "execution_count": 6,
     "metadata": {},
     "output_type": "execute_result"
    }
   ],
   "source": [
    "df.head()"
   ]
  },
  {
   "cell_type": "markdown",
   "metadata": {},
   "source": [
    "## Implement Frequent Pattern (FP) - Growth algorithm\n",
    "\n",
    "https://fp-growth.readthedocs.io/en/latest/usage.html\n",
    "\n",
    "This algorithm\n",
    "1. Counts occurence of items in dataset in 1st pass\n",
    "2. Build FP-tree by inserting instances, and adds count to each instance based on the number of times it appears in the dataset. Those infrequent instances are dropped from the tree.\n",
    "\n",
    "This allows the frequentest set to be generated organically, instead of creating a list of each itemset and checking if it does/does not pass minimum threshold (like Apriori algorithm)\n",
    "\n",
    "#### Vocabulary\n",
    " - itemset = all items in 1 transaction\n",
    "A \"pattern\" is a conjunction of items, or the unique itemset.\n",
    "A \"rule\" X --> Y means if you buy X you are likely to buy Y, or in this case if X IP address is used Y IP address is likely also\n",
    "\n",
    "\n",
    "#### Evaluation metrics include:\n",
    "\n",
    "1. Support = how frequently it occurs. The number of transactions of that unique itemset / all transactions. In this case: number of times IP pair occurs/all requests\n",
    "\n",
    "2. Confidence = how often rule is likely to be true. frequency of X and Y occuring/ frequency of X occuring in entire dataset. Conditional probability of Y given X. P(Ey|Ex)\n",
    "\n",
    "3. Lift = How likely is item Y given item X occurs, controlling for how frequent Y occurs in the entire dataset. For rule X-->Y, lift = P(Y|X)/P(Y).\n",
    "    Lift = 1 means X and Y are independent\n",
    "    Lift >1 = X and Y are positively correlated\n",
    "    Lift <1 = X and Y are negatively correlated"
   ]
  },
  {
   "cell_type": "markdown",
   "metadata": {},
   "source": [
    "This module does the following steps:\n",
    "    \n",
    "    1. Data manipulation, puts the dataframe in the correct form needed\n",
    "    2. Frequent Pattern growth algorithm --> creates patterns and rules\n",
    "    3. Merges in the latency and frequency information from the original data to prioritize the rules\n",
    "    4. Assigns Apps to specific servers in order of prioritization\n",
    "    5. Outputs:\n",
    "        1. the dataframe with all the assigned servers adjacent to each transaction\n",
    "        2. the app assignment table\n",
    "        3. summation of latency times for the entire data\n",
    "        4. summation of latency times for the enitre data if the model were applied\n",
    "        5. and the data if it were assigned to the servers as prescribed by the model\n",
    "        6. average transaction latency (s)\n",
    "        7. average transaction latency modeled (s)\n",
    "    \n",
    "    \n",
    "The input to the module are:\n",
    "    1. df = dataframe cleaned as outlined above (I did not put this in code in case different dataframes are used). The format should be:\n",
    "    Date, Duration, Src_IP,\tSrc_pt,\tDst_IP,\tDst_pt,\tPackets, Bytes,\tdate_hr, pairs, pairs2, norm_latency\n",
    "    Although order does not really matter, as any variables are called by name.\n",
    "    2. Percentile = minimum number of occurances you want a particular pair of apps to pass. If this value = 0.4, then any pair that's frequency is >= the 40th percentile of all pairs occuriing in the entire dataset will be used to create rules.\n",
    "    3. confidence = minimum threshold that you want the rule to be true within the entire dataset. If this value = 0.7 we want to be sure that the rule is true 70% of the time.\n",
    "    4. apps_server = how many apps can fit on a server. If this value = 20 you can fit 20 apps on a server before it is full and we move on to the next one."
   ]
  },
  {
   "cell_type": "code",
   "execution_count": 9,
   "metadata": {},
   "outputs": [],
   "source": [
    "percentile=0.8\n",
    "confidence=0.7\n",
    "apps_server=20\n",
    "\n",
    "server_df, server_assignments, total_latency, total_latency_model, avg_latency, avg_latency_model=assign_servers_output(df, percentile, confidence, apps_server)"
   ]
  },
  {
   "cell_type": "code",
   "execution_count": 10,
   "metadata": {},
   "outputs": [
    {
     "data": {
      "text/plain": [
       "2014119.5810000007"
      ]
     },
     "execution_count": 10,
     "metadata": {},
     "output_type": "execute_result"
    }
   ],
   "source": [
    "total_latency"
   ]
  },
  {
   "cell_type": "code",
   "execution_count": 11,
   "metadata": {},
   "outputs": [
    {
     "data": {
      "text/plain": [
       "1884878.5070000016"
      ]
     },
     "execution_count": 11,
     "metadata": {},
     "output_type": "execute_result"
    }
   ],
   "source": [
    "total_latency_model"
   ]
  },
  {
   "cell_type": "markdown",
   "metadata": {},
   "source": [
    "How much of an improvement?"
   ]
  },
  {
   "cell_type": "code",
   "execution_count": 12,
   "metadata": {},
   "outputs": [
    {
     "data": {
      "text/plain": [
       "0.06416752769755187"
      ]
     },
     "execution_count": 12,
     "metadata": {},
     "output_type": "execute_result"
    }
   ],
   "source": [
    "(total_latency-total_latency_model)/total_latency"
   ]
  },
  {
   "cell_type": "code",
   "execution_count": 17,
   "metadata": {},
   "outputs": [],
   "source": [
    "#sum up by an hourly timestep, get the average transaction time (s)\n",
    "\n",
    "server_df_hour=server_df.groupby('hour')[['Duration', 'duration_pred']].mean().reset_index()"
   ]
  },
  {
   "cell_type": "code",
   "execution_count": 20,
   "metadata": {},
   "outputs": [
    {
     "data": {
      "image/png": "[encoded data removed]",
      "text/plain": [
       "<Figure size 504x360 with 1 Axes>"
      ]
     },
     "metadata": {
      "needs_background": "light"
     },
     "output_type": "display_data"
    }
   ],
   "source": [
    "from datetime import datetime\n",
    "import matplotlib.pyplot as plt\n",
    "from matplotlib.dates import DateFormatter\n",
    "\n",
    "#plot average transaction time\n",
    "\n",
    "fig, ax = plt.subplots(1,1, figsize=(7,5))\n",
    "ax.plot(server_df_hour['hour'], server_df_hour['Duration'], color='steelblue', linewidth=2.0)\n",
    "ax.plot(server_df_hour['hour'], server_df_hour['duration_pred'], color='firebrick', linewidth=4.0)\n",
    "\n",
    "\n",
    "## Rotate date labels automatically\n",
    "fig.autofmt_xdate()\n",
    "plt.ylabel('Latency (s)')\n",
    "plt.xlabel('hour of day')\n",
    "plt.title('Average Transaction Latency')\n",
    "fig.savefig('Average_transaction_latency.png')"
   ]
  },
  {
   "cell_type": "markdown",
   "metadata": {},
   "source": [
    "## How to optimize our min thresholds?"
   ]
  },
  {
   "cell_type": "code",
   "execution_count": 12,
   "metadata": {},
   "outputs": [],
   "source": [
    "percentiles=np.linspace(0.1,1,4,endpoint=False)\n",
    "confidences=np.linspace(0.1,1,4,endpoint=False)\n",
    "apps_server=20"
   ]
  },
  {
   "cell_type": "code",
   "execution_count": 8,
   "metadata": {},
   "outputs": [
    {
     "data": {
      "text/plain": [
       "array([0.1  , 0.325, 0.55 , 0.775])"
      ]
     },
     "execution_count": 8,
     "metadata": {},
     "output_type": "execute_result"
    }
   ],
   "source": [
    "percentiles"
   ]
  },
  {
   "cell_type": "code",
   "execution_count": 13,
   "metadata": {},
   "outputs": [],
   "source": [
    "data_l=list(df['pairs'])\n",
    "pairs_count=(df.groupby('pairs2').agg({'Date':'count', 'norm_latency': 'mean', 'Duration': 'sum', 'Packets':'sum'}).reset_index())\n",
    "pairs_count.columns=['pairs','frequency', 'avg_norm_latency', 'total_duration', 'total_packets']\n",
    "pairs_count['norm_latency']=(pairs_count['total_duration']/pairs_count['total_packets'].sum())*100 #sum of all duration time divided by sum of all packets transfered for that pair\n"
   ]
  },
  {
   "cell_type": "code",
   "execution_count": 19,
   "metadata": {},
   "outputs": [],
   "source": [
    "groups=[]\n",
    "for i in percentiles:\n",
    "    for j in confidences:\n",
    "        groups.append(i)"
   ]
  },
  {
   "cell_type": "code",
   "execution_count": 14,
   "metadata": {},
   "outputs": [
    {
     "name": "stdout",
     "output_type": "stream",
     "text": [
      "6.0\n",
      "6.0\n",
      "6.0\n",
      "6.0\n",
      "18.0\n",
      "18.0\n",
      "18.0\n",
      "18.0\n",
      "38.0\n",
      "38.0\n",
      "38.0\n",
      "38.0\n",
      "108.0\n",
      "108.0\n",
      "108.0\n",
      "108.0\n"
     ]
    }
   ],
   "source": [
    "len_apps_assigned=[]\n",
    "total_latency_model_list=[]\n",
    "avg_latency_list=[]\n",
    "avg_latency_model_list=[]\n",
    "percentile_list=[]\n",
    "confidence_list=[]\n",
    "\n",
    "groups=[]\n",
    "for i in percentiles:\n",
    "    for j in confidences:\n",
    "        per_n=(pairs_count['frequency'].quantile(i))\n",
    "        server_df, server_assignments, total_latency, total_latency_model, avg_latency, avg_latency_model=assign_servers_output(df, i, j, apps_server)\n",
    "        len_apps_assigned.append(len(server_assignments))\n",
    "        total_latency_model_list.append(total_latency_model)\n",
    "        avg_latency_model_list.append(avg_latency_model)\n",
    "        percentile_list.append(i)\n",
    "        confidence_list.append(j)\n",
    "        print(per_n)\n"
   ]
  },
  {
   "cell_type": "code",
   "execution_count": 17,
   "metadata": {},
   "outputs": [],
   "source": [
    "model_matrix=pd.DataFrame({'percentile': percentile_list, 'confidence': confidence_list, 'len_apps_assigned':len_apps_assigned, 'total_latency_model':total_latency_model_list,  ' avg_latency_model': avg_latency_model_list})"
   ]
  },
  {
   "cell_type": "code",
   "execution_count": 24,
   "metadata": {},
   "outputs": [
    {
     "data": {
      "text/html": [
       "<div>\n",
       "<style scoped>\n",
       "    .dataframe tbody tr th:only-of-type {\n",
       "        vertical-align: middle;\n",
       "    }\n",
       "\n",
       "    .dataframe tbody tr th {\n",
       "        vertical-align: top;\n",
       "    }\n",
       "\n",
       "    .dataframe thead th {\n",
       "        text-align: right;\n",
       "    }\n",
       "</style>\n",
       "<table border=\"1\" class=\"dataframe\">\n",
       "  <thead>\n",
       "    <tr style=\"text-align: right;\">\n",
       "      <th></th>\n",
       "      <th>percentile</th>\n",
       "      <th>confidence</th>\n",
       "      <th>len_apps_assigned</th>\n",
       "      <th>total_latency_model</th>\n",
       "      <th>avg_latency_model</th>\n",
       "    </tr>\n",
       "  </thead>\n",
       "  <tbody>\n",
       "    <tr>\n",
       "      <th>0</th>\n",
       "      <td>0.100</td>\n",
       "      <td>0.100</td>\n",
       "      <td>3828</td>\n",
       "      <td>1885168.543</td>\n",
       "      <td>0.230292</td>\n",
       "    </tr>\n",
       "    <tr>\n",
       "      <th>1</th>\n",
       "      <td>0.100</td>\n",
       "      <td>0.325</td>\n",
       "      <td>3824</td>\n",
       "      <td>1890614.448</td>\n",
       "      <td>0.230957</td>\n",
       "    </tr>\n",
       "    <tr>\n",
       "      <th>2</th>\n",
       "      <td>0.100</td>\n",
       "      <td>0.550</td>\n",
       "      <td>3804</td>\n",
       "      <td>1890614.448</td>\n",
       "      <td>0.230957</td>\n",
       "    </tr>\n",
       "    <tr>\n",
       "      <th>3</th>\n",
       "      <td>0.100</td>\n",
       "      <td>0.775</td>\n",
       "      <td>3723</td>\n",
       "      <td>1890614.448</td>\n",
       "      <td>0.230957</td>\n",
       "    </tr>\n",
       "    <tr>\n",
       "      <th>4</th>\n",
       "      <td>0.325</td>\n",
       "      <td>0.100</td>\n",
       "      <td>2689</td>\n",
       "      <td>1884815.578</td>\n",
       "      <td>0.230249</td>\n",
       "    </tr>\n",
       "    <tr>\n",
       "      <th>5</th>\n",
       "      <td>0.325</td>\n",
       "      <td>0.325</td>\n",
       "      <td>2634</td>\n",
       "      <td>1890015.116</td>\n",
       "      <td>0.230884</td>\n",
       "    </tr>\n",
       "    <tr>\n",
       "      <th>6</th>\n",
       "      <td>0.325</td>\n",
       "      <td>0.550</td>\n",
       "      <td>2427</td>\n",
       "      <td>1890015.116</td>\n",
       "      <td>0.230884</td>\n",
       "    </tr>\n",
       "    <tr>\n",
       "      <th>7</th>\n",
       "      <td>0.325</td>\n",
       "      <td>0.775</td>\n",
       "      <td>2152</td>\n",
       "      <td>1890015.116</td>\n",
       "      <td>0.230884</td>\n",
       "    </tr>\n",
       "    <tr>\n",
       "      <th>8</th>\n",
       "      <td>0.550</td>\n",
       "      <td>0.100</td>\n",
       "      <td>1663</td>\n",
       "      <td>1882338.197</td>\n",
       "      <td>0.229946</td>\n",
       "    </tr>\n",
       "    <tr>\n",
       "      <th>9</th>\n",
       "      <td>0.550</td>\n",
       "      <td>0.325</td>\n",
       "      <td>1551</td>\n",
       "      <td>1886604.957</td>\n",
       "      <td>0.230467</td>\n",
       "    </tr>\n",
       "    <tr>\n",
       "      <th>10</th>\n",
       "      <td>0.550</td>\n",
       "      <td>0.550</td>\n",
       "      <td>1269</td>\n",
       "      <td>1886609.192</td>\n",
       "      <td>0.230468</td>\n",
       "    </tr>\n",
       "    <tr>\n",
       "      <th>11</th>\n",
       "      <td>0.550</td>\n",
       "      <td>0.775</td>\n",
       "      <td>1001</td>\n",
       "      <td>1886639.798</td>\n",
       "      <td>0.230472</td>\n",
       "    </tr>\n",
       "    <tr>\n",
       "      <th>12</th>\n",
       "      <td>0.775</td>\n",
       "      <td>0.100</td>\n",
       "      <td>974</td>\n",
       "      <td>1880270.807</td>\n",
       "      <td>0.229694</td>\n",
       "    </tr>\n",
       "    <tr>\n",
       "      <th>13</th>\n",
       "      <td>0.775</td>\n",
       "      <td>0.325</td>\n",
       "      <td>777</td>\n",
       "      <td>1885055.983</td>\n",
       "      <td>0.230278</td>\n",
       "    </tr>\n",
       "    <tr>\n",
       "      <th>14</th>\n",
       "      <td>0.775</td>\n",
       "      <td>0.550</td>\n",
       "      <td>516</td>\n",
       "      <td>1885096.698</td>\n",
       "      <td>0.230283</td>\n",
       "    </tr>\n",
       "    <tr>\n",
       "      <th>15</th>\n",
       "      <td>0.775</td>\n",
       "      <td>0.775</td>\n",
       "      <td>372</td>\n",
       "      <td>1886183.679</td>\n",
       "      <td>0.230416</td>\n",
       "    </tr>\n",
       "  </tbody>\n",
       "</table>\n",
       "</div>"
      ],
      "text/plain": [
       "    percentile  confidence  len_apps_assigned  total_latency_model  \\\n",
       "0        0.100       0.100               3828          1885168.543   \n",
       "1        0.100       0.325               3824          1890614.448   \n",
       "2        0.100       0.550               3804          1890614.448   \n",
       "3        0.100       0.775               3723          1890614.448   \n",
       "4        0.325       0.100               2689          1884815.578   \n",
       "5        0.325       0.325               2634          1890015.116   \n",
       "6        0.325       0.550               2427          1890015.116   \n",
       "7        0.325       0.775               2152          1890015.116   \n",
       "8        0.550       0.100               1663          1882338.197   \n",
       "9        0.550       0.325               1551          1886604.957   \n",
       "10       0.550       0.550               1269          1886609.192   \n",
       "11       0.550       0.775               1001          1886639.798   \n",
       "12       0.775       0.100                974          1880270.807   \n",
       "13       0.775       0.325                777          1885055.983   \n",
       "14       0.775       0.550                516          1885096.698   \n",
       "15       0.775       0.775                372          1886183.679   \n",
       "\n",
       "     avg_latency_model  \n",
       "0             0.230292  \n",
       "1             0.230957  \n",
       "2             0.230957  \n",
       "3             0.230957  \n",
       "4             0.230249  \n",
       "5             0.230884  \n",
       "6             0.230884  \n",
       "7             0.230884  \n",
       "8             0.229946  \n",
       "9             0.230467  \n",
       "10            0.230468  \n",
       "11            0.230472  \n",
       "12            0.229694  \n",
       "13            0.230278  \n",
       "14            0.230283  \n",
       "15            0.230416  "
      ]
     },
     "execution_count": 24,
     "metadata": {},
     "output_type": "execute_result"
    }
   ],
   "source": [
    "model_matrix.to_csv('model_matrix_all.csv')\n",
    "model_matrix"
   ]
  },
  {
   "cell_type": "code",
   "execution_count": null,
   "metadata": {},
   "outputs": [],
   "source": []
  },
  {
   "cell_type": "code",
   "execution_count": null,
   "metadata": {},
   "outputs": [],
   "source": []
  },
  {
   "cell_type": "markdown",
   "metadata": {},
   "source": [
    "### Train/Test split"
   ]
  },
  {
   "cell_type": "code",
   "execution_count": 23,
   "metadata": {},
   "outputs": [],
   "source": [
    "train_df=df[df['Date']<'2017-08-08'] #first 6 days"
   ]
  },
  {
   "cell_type": "code",
   "execution_count": 24,
   "metadata": {},
   "outputs": [],
   "source": [
    "test_df=df[df['Date']>'2017-08-08'] #last day"
   ]
  },
  {
   "cell_type": "code",
   "execution_count": 25,
   "metadata": {},
   "outputs": [],
   "source": [
    "data_l_test=list(test_df['pairs'])"
   ]
  },
  {
   "cell_type": "code",
   "execution_count": 27,
   "metadata": {},
   "outputs": [],
   "source": [
    "data_l_train=list(train_df['pairs'])"
   ]
  },
  {
   "cell_type": "code",
   "execution_count": 30,
   "metadata": {},
   "outputs": [],
   "source": [
    "#group the dataset by unique pairs, then count how frequently each pair occurs, and also get the average normalized latency time for that pair. The latency times vary because the servers they are assigned are random.\n",
    "pairs_count_train=(train_df.groupby('pairs2').agg({'Date':'count', 'norm_latency': 'mean', 'Duration': 'sum', 'Packets':'sum'}).reset_index())\n",
    "pairs_count_train.columns=['pairs','frequency', 'avg_norm_latency', 'total_duration', 'total_packets']\n",
    "pairs_count_train['norm_latency']=(pairs_count_train['total_duration']/pairs_count_train['total_packets'].sum())*100 #sum of all duration time divided by sum of all packets transfered for that pair\n",
    "\n",
    "per_80_test=np.percentile(pairs_count_train['frequency'], [80])[0]\n",
    "patterns_train = pyfpgrowth.find_frequent_patterns(data_l_train, per_80_test) \n"
   ]
  },
  {
   "cell_type": "code",
   "execution_count": 35,
   "metadata": {},
   "outputs": [],
   "source": [
    "patterns_train_df=pd.DataFrame.from_dict(patterns_train ,orient='index')\n",
    "patterns_train_df.to_csv('patterns_train_80.csv' )"
   ]
  },
  {
   "cell_type": "code",
   "execution_count": 38,
   "metadata": {},
   "outputs": [],
   "source": [
    "confidence=0.7 #this means the rule is likely to be true 20% of the time, it is a high threshold, used for testing\n",
    "rules_train = pyfpgrowth.generate_association_rules(patterns_train, confidence)"
   ]
  },
  {
   "cell_type": "code",
   "execution_count": 40,
   "metadata": {},
   "outputs": [],
   "source": [
    "rules_df_80per_70con_test=format_rules(rules_train, train_df, 20) "
   ]
  },
  {
   "cell_type": "code",
   "execution_count": 41,
   "metadata": {},
   "outputs": [],
   "source": [
    "server_df80_test, server_assignments80_test, total_latency_test, total_latency80_test, avg_latency_test, avg_latency80_test = server_association(rules_df_80per_70con_test, test_df, 20) #this function loaded from server_assocation.py file\n",
    "#assign rules created by the training data to the test data"
   ]
  },
  {
   "cell_type": "markdown",
   "metadata": {},
   "source": [
    "How did our test data do against our model?"
   ]
  },
  {
   "cell_type": "code",
   "execution_count": 64,
   "metadata": {},
   "outputs": [
    {
     "data": {
      "text/plain": [
       "506250.077"
      ]
     },
     "execution_count": 64,
     "metadata": {},
     "output_type": "execute_result"
    }
   ],
   "source": [
    "total_latency_test"
   ]
  },
  {
   "cell_type": "code",
   "execution_count": 65,
   "metadata": {},
   "outputs": [
    {
     "data": {
      "text/plain": [
       "501156.24000000005"
      ]
     },
     "execution_count": 65,
     "metadata": {},
     "output_type": "execute_result"
    }
   ],
   "source": [
    "total_latency80_test"
   ]
  },
  {
   "cell_type": "code",
   "execution_count": 43,
   "metadata": {},
   "outputs": [],
   "source": [
    "#add hour column,here it is a value 1-24, and repeats each day\n",
    "server_df80_test['hour']=None\n",
    "server_df80_test['hour']=pd.DatetimeIndex(server_df80_test['Date']).hour"
   ]
  },
  {
   "cell_type": "code",
   "execution_count": 60,
   "metadata": {},
   "outputs": [],
   "source": [
    "server_df80_test_hour=server_df80_test.groupby('hour').agg({'Date':'count', 'norm_latency': 'mean', 'Duration': ['sum','mean'], 'Packets':'sum', 'duration_pred': ['sum', 'mean'],}).reset_index()"
   ]
  },
  {
   "cell_type": "code",
   "execution_count": 62,
   "metadata": {},
   "outputs": [
    {
     "data": {
      "text/html": [
       "<div>\n",
       "<style scoped>\n",
       "    .dataframe tbody tr th:only-of-type {\n",
       "        vertical-align: middle;\n",
       "    }\n",
       "\n",
       "    .dataframe tbody tr th {\n",
       "        vertical-align: top;\n",
       "    }\n",
       "\n",
       "    .dataframe thead th {\n",
       "        text-align: right;\n",
       "    }\n",
       "</style>\n",
       "<table border=\"1\" class=\"dataframe\">\n",
       "  <thead>\n",
       "    <tr style=\"text-align: right;\">\n",
       "      <th></th>\n",
       "      <th>hour</th>\n",
       "      <th>transactions</th>\n",
       "      <th>norm_latency_mean</th>\n",
       "      <th>duration_total</th>\n",
       "      <th>duration_mean</th>\n",
       "      <th>packets_total</th>\n",
       "      <th>duration_pred_total</th>\n",
       "      <th>duration_pred_mean</th>\n",
       "    </tr>\n",
       "  </thead>\n",
       "  <tbody>\n",
       "    <tr>\n",
       "      <th>0</th>\n",
       "      <td>0</td>\n",
       "      <td>22084</td>\n",
       "      <td>0.012514</td>\n",
       "      <td>1181.750</td>\n",
       "      <td>0.053512</td>\n",
       "      <td>43855</td>\n",
       "      <td>819.881</td>\n",
       "      <td>0.037126</td>\n",
       "    </tr>\n",
       "    <tr>\n",
       "      <th>1</th>\n",
       "      <td>1</td>\n",
       "      <td>16555</td>\n",
       "      <td>0.014949</td>\n",
       "      <td>1068.873</td>\n",
       "      <td>0.064565</td>\n",
       "      <td>36752</td>\n",
       "      <td>710.035</td>\n",
       "      <td>0.042889</td>\n",
       "    </tr>\n",
       "    <tr>\n",
       "      <th>2</th>\n",
       "      <td>2</td>\n",
       "      <td>18027</td>\n",
       "      <td>0.016853</td>\n",
       "      <td>1346.696</td>\n",
       "      <td>0.074704</td>\n",
       "      <td>40233</td>\n",
       "      <td>932.685</td>\n",
       "      <td>0.051738</td>\n",
       "    </tr>\n",
       "    <tr>\n",
       "      <th>3</th>\n",
       "      <td>3</td>\n",
       "      <td>17184</td>\n",
       "      <td>0.016476</td>\n",
       "      <td>1171.800</td>\n",
       "      <td>0.068191</td>\n",
       "      <td>35798</td>\n",
       "      <td>818.149</td>\n",
       "      <td>0.047611</td>\n",
       "    </tr>\n",
       "    <tr>\n",
       "      <th>4</th>\n",
       "      <td>4</td>\n",
       "      <td>21267</td>\n",
       "      <td>0.018811</td>\n",
       "      <td>1857.150</td>\n",
       "      <td>0.087325</td>\n",
       "      <td>51920</td>\n",
       "      <td>1453.192</td>\n",
       "      <td>0.068331</td>\n",
       "    </tr>\n",
       "  </tbody>\n",
       "</table>\n",
       "</div>"
      ],
      "text/plain": [
       "   hour  transactions  norm_latency_mean  duration_total  duration_mean  \\\n",
       "0     0         22084           0.012514        1181.750       0.053512   \n",
       "1     1         16555           0.014949        1068.873       0.064565   \n",
       "2     2         18027           0.016853        1346.696       0.074704   \n",
       "3     3         17184           0.016476        1171.800       0.068191   \n",
       "4     4         21267           0.018811        1857.150       0.087325   \n",
       "\n",
       "   packets_total  duration_pred_total  duration_pred_mean  \n",
       "0          43855              819.881            0.037126  \n",
       "1          36752              710.035            0.042889  \n",
       "2          40233              932.685            0.051738  \n",
       "3          35798              818.149            0.047611  \n",
       "4          51920             1453.192            0.068331  "
      ]
     },
     "execution_count": 62,
     "metadata": {},
     "output_type": "execute_result"
    }
   ],
   "source": [
    "server_df80_test_hour.columns=['hour', 'transactions', 'norm_latency_mean', 'duration_total', 'duration_mean', 'packets_total', 'duration_pred_total', 'duration_pred_mean']\n",
    "server_df80_test_hour.head()"
   ]
  },
  {
   "cell_type": "code",
   "execution_count": 63,
   "metadata": {},
   "outputs": [
    {
     "data": {
      "image/png": "[encoded data removed]",
      "text/plain": [
       "<Figure size 504x360 with 1 Axes>"
      ]
     },
     "metadata": {
      "needs_background": "light"
     },
     "output_type": "display_data"
    }
   ],
   "source": [
    "from datetime import datetime\n",
    "import matplotlib.pyplot as plt\n",
    "from matplotlib.dates import DateFormatter\n",
    "\n",
    "fig, ax = plt.subplots(1,1, figsize=(7,5))\n",
    "ax.plot(server_df80_test_hour['hour'], server_df80_test_hour['duration_mean'], color='steelblue', linewidth=2.0)\n",
    "ax.plot(server_df80_test_hour['hour'], server_df80_test_hour['duration_pred_mean'], color='firebrick', linewidth=4.0)\n",
    "\n",
    "\n",
    "## Rotate date labels automatically\n",
    "fig.autofmt_xdate()\n",
    "plt.ylabel('Latency (s)')\n",
    "plt.xlabel('hour of day')\n",
    "plt.title('Average Transaction Latency')\n",
    "fig.savefig('Average_transaction_latency_test.png')"
   ]
  }
 ],
 "metadata": {
  "kernelspec": {
   "display_name": "Python [conda env:anaconda3]",
   "language": "python",
   "name": "conda-env-anaconda3-py"
  },
  "language_info": {
   "codemirror_mode": {
    "name": "ipython",
    "version": 3
   },
   "file_extension": ".py",
   "mimetype": "text/x-python",
   "name": "python",
   "nbconvert_exporter": "python",
   "pygments_lexer": "ipython3",
   "version": "3.6.4"
  }
 },
 "nbformat": 4,
 "nbformat_minor": 2
}
