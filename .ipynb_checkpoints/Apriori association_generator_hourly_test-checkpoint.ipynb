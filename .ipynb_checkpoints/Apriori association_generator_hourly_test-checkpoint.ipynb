{
 "cells": [
  {
   "cell_type": "code",
   "execution_count": 11,
   "metadata": {},
   "outputs": [],
   "source": [
    "import boto3\n",
    "import pandas as pd\n",
    "import numpy as np\n",
    "import matplotlib.pyplot as plt\n",
    "from io import BytesIO\n",
    "from mlxtend.preprocessing import TransactionEncoder\n",
    "import random\n",
    "#from mlxtend.frequent_patterns import apriori\n",
    "from apyori import apriori \n",
    "from itertools import combinations, groupby\n",
    "from collections import Counter\n",
    "from Server_Assign import server_association\n",
    "from format_rules_apriori import  format_rules_apriori\n",
    "from hourly_step_assign_test_apriori import hourly_step_test_apriori_output"
   ]
  },
  {
   "cell_type": "code",
   "execution_count": 3,
   "metadata": {},
   "outputs": [
    {
     "name": "stderr",
     "output_type": "stream",
     "text": [
      "/home/ubuntu/anaconda3/lib/python3.6/site-packages/IPython/core/interactiveshell.py:2785: DtypeWarning: Columns (8) have mixed types. Specify dtype option on import or set low_memory=False.\n",
      "  interactivity=interactivity, compiler=compiler, result=result)\n"
     ]
    }
   ],
   "source": [
    "#load data\n",
    "# based off https://www.datatheque.com/posts/association-analysis/\n",
    "\n",
    "client = boto3.client('s3')\n",
    "obj = client.get_object(Bucket='manifolddata', Key='week1.csv')\n",
    "df = pd.read_csv(BytesIO(obj['Body'].read()))\n"
   ]
  },
  {
   "cell_type": "code",
   "execution_count": 4,
   "metadata": {},
   "outputs": [],
   "source": [
    "df=df.iloc[:,[0,1,3,4,5,6,7,8]]\n",
    "df.columns=['Date', 'Duration', 'Src_IP', 'Src_pt', 'Dst_IP', 'Dst_pt','Packets', 'Bytes']\n",
    "#add an date column that is rounded to nearest hour, so we can use this as a timestep to see how frequently IP pairs occur in each timestep\n",
    "df['Date']=pd.to_datetime(df['Date'], format=\"%Y-%m-%d %H:%M:%S.%f\", errors = 'coerce')\n",
    "df['date_hr']=pd.Series(df['Date']).dt.round(\"H\")"
   ]
  },
  {
   "cell_type": "code",
   "execution_count": 5,
   "metadata": {},
   "outputs": [],
   "source": [
    "def convert_si_to_number(x):\n",
    "    total_stars = 0\n",
    "    if 'k' in x:\n",
    "        if len(x) > 1:\n",
    "            total_stars = float(x.replace('k', '')) * 1000 # convert k to a thousand\n",
    "    elif 'M' in x:\n",
    "        if len(x) > 1:\n",
    "            total_stars = float(x.replace('M', '')) * 1000000 # convert M to a million\n",
    "    elif 'B' in x:\n",
    "        total_stars = float(x.replace('B', '')) * 1000000000 # convert B to a Billion\n",
    "    else:\n",
    "        total_stars = int(x) # Less than 1000\n",
    "    return int(total_stars)"
   ]
  },
  {
   "cell_type": "code",
   "execution_count": 6,
   "metadata": {},
   "outputs": [],
   "source": [
    "df.Bytes=df.Bytes.astype('str')\n",
    "test_list=df.Bytes\n",
    "\n",
    "[i for i, s in enumerate(test_list) if 'M' in s]#show where the M errors are happening\n",
    "\n",
    "test_list= [convert_si_to_number(x) for x in test_list]\n",
    "df.Bytes=test_list #bring it back into the dataframe\n"
   ]
  },
  {
   "cell_type": "code",
   "execution_count": 7,
   "metadata": {},
   "outputs": [],
   "source": [
    "df['norm_latency']=df['Duration']/df['Packets']"
   ]
  },
  {
   "cell_type": "code",
   "execution_count": 8,
   "metadata": {},
   "outputs": [],
   "source": [
    "#create a pair column, which is a touple of the src and dst IP, sorted. \n",
    "#It does not matter which call came first, we simply want to know which pair occurs most frequently.\n",
    "\n",
    "df['pairs']=list(zip(df.Src_IP, df.Dst_IP))\n",
    "df['pairs']=df['pairs'].apply(sorted)\n",
    "df['pairs2']=tuple(df['pairs'])"
   ]
  },
  {
   "cell_type": "code",
   "execution_count": 9,
   "metadata": {},
   "outputs": [],
   "source": [
    "df_train=df[df['Date']<'2017-08-08'] #first 6 days\n",
    "df_test=df[df['Date']>'2017-08-08'] #last day"
   ]
  },
  {
   "cell_type": "code",
   "execution_count": 12,
   "metadata": {},
   "outputs": [
    {
     "name": "stderr",
     "output_type": "stream",
     "text": [
      "/home/ubuntu/notebook/Manifold/hourly_step_assign_test_apriori.py:26: SettingWithCopyWarning: \n",
      "A value is trying to be set on a copy of a slice from a DataFrame.\n",
      "Try using .loc[row_indexer,col_indexer] = value instead\n",
      "\n",
      "See the caveats in the documentation: http://pandas.pydata.org/pandas-docs/stable/indexing.html#indexing-view-versus-copy\n",
      "  df_train['hour']=None\n",
      "/home/ubuntu/notebook/Manifold/hourly_step_assign_test_apriori.py:27: SettingWithCopyWarning: \n",
      "A value is trying to be set on a copy of a slice from a DataFrame.\n",
      "Try using .loc[row_indexer,col_indexer] = value instead\n",
      "\n",
      "See the caveats in the documentation: http://pandas.pydata.org/pandas-docs/stable/indexing.html#indexing-view-versus-copy\n",
      "  df_train['hour']=pd.DatetimeIndex(df_train['Date']).hour\n",
      "/home/ubuntu/notebook/Manifold/hourly_step_assign_test_apriori.py:28: SettingWithCopyWarning: \n",
      "A value is trying to be set on a copy of a slice from a DataFrame.\n",
      "Try using .loc[row_indexer,col_indexer] = value instead\n",
      "\n",
      "See the caveats in the documentation: http://pandas.pydata.org/pandas-docs/stable/indexing.html#indexing-view-versus-copy\n",
      "  df_test['hour']=None\n",
      "/home/ubuntu/notebook/Manifold/hourly_step_assign_test_apriori.py:29: SettingWithCopyWarning: \n",
      "A value is trying to be set on a copy of a slice from a DataFrame.\n",
      "Try using .loc[row_indexer,col_indexer] = value instead\n",
      "\n",
      "See the caveats in the documentation: http://pandas.pydata.org/pandas-docs/stable/indexing.html#indexing-view-versus-copy\n",
      "  df_test['hour']=pd.DatetimeIndex(df_test['Date']).hour\n"
     ]
    },
    {
     "ename": "NameError",
     "evalue": "name 'df' is not defined",
     "output_type": "error",
     "traceback": [
      "\u001b[0;31m---------------------------------------------------------------------------\u001b[0m",
      "\u001b[0;31mNameError\u001b[0m                                 Traceback (most recent call last)",
      "\u001b[0;32m<ipython-input-12-1d8c2c62c125>\u001b[0m in \u001b[0;36m<module>\u001b[0;34m()\u001b[0m\n\u001b[1;32m      1\u001b[0m \u001b[0mpercentile\u001b[0m\u001b[0;34m=\u001b[0m\u001b[0;36m90\u001b[0m\u001b[0;34m\u001b[0m\u001b[0m\n\u001b[1;32m      2\u001b[0m \u001b[0mapps_server\u001b[0m\u001b[0;34m=\u001b[0m\u001b[0;36m20\u001b[0m\u001b[0;34m\u001b[0m\u001b[0m\n\u001b[0;32m----> 3\u001b[0;31m \u001b[0mserver_df_list\u001b[0m\u001b[0;34m,\u001b[0m \u001b[0mserver_assign_list\u001b[0m\u001b[0;34m,\u001b[0m \u001b[0mmodel_output\u001b[0m \u001b[0;34m,\u001b[0m \u001b[0mtotal_latency\u001b[0m\u001b[0;34m,\u001b[0m \u001b[0mtotal_latency_model\u001b[0m\u001b[0;34m,\u001b[0m \u001b[0mavg_latency\u001b[0m\u001b[0;34m,\u001b[0m \u001b[0mavg_latency_model\u001b[0m \u001b[0;34m=\u001b[0m \u001b[0mhourly_step_test_apriori_output\u001b[0m\u001b[0;34m(\u001b[0m\u001b[0mdf_train\u001b[0m\u001b[0;34m=\u001b[0m\u001b[0mdf_train\u001b[0m\u001b[0;34m,\u001b[0m \u001b[0mdf_test\u001b[0m\u001b[0;34m=\u001b[0m\u001b[0mdf_test\u001b[0m\u001b[0;34m,\u001b[0m \u001b[0mpercentile\u001b[0m\u001b[0;34m=\u001b[0m\u001b[0mpercentile\u001b[0m\u001b[0;34m,\u001b[0m \u001b[0mapps_server\u001b[0m\u001b[0;34m=\u001b[0m\u001b[0mapps_server\u001b[0m\u001b[0;34m)\u001b[0m\u001b[0;34m\u001b[0m\u001b[0m\n\u001b[0m",
      "\u001b[0;32m~/notebook/Manifold/hourly_step_assign_test_apriori.py\u001b[0m in \u001b[0;36mhourly_step_test_apriori_output\u001b[0;34m(df_train, df_test, percentile, apps_server)\u001b[0m\n\u001b[1;32m     29\u001b[0m     \u001b[0mdf_test\u001b[0m\u001b[0;34m[\u001b[0m\u001b[0;34m'hour'\u001b[0m\u001b[0;34m]\u001b[0m\u001b[0;34m=\u001b[0m\u001b[0mpd\u001b[0m\u001b[0;34m.\u001b[0m\u001b[0mDatetimeIndex\u001b[0m\u001b[0;34m(\u001b[0m\u001b[0mdf_test\u001b[0m\u001b[0;34m[\u001b[0m\u001b[0;34m'Date'\u001b[0m\u001b[0;34m]\u001b[0m\u001b[0;34m)\u001b[0m\u001b[0;34m.\u001b[0m\u001b[0mhour\u001b[0m\u001b[0;34m\u001b[0m\u001b[0m\n\u001b[1;32m     30\u001b[0m \u001b[0;34m\u001b[0m\u001b[0m\n\u001b[0;32m---> 31\u001b[0;31m     \u001b[0mdata\u001b[0m\u001b[0;34m=\u001b[0m\u001b[0mdf_train\u001b[0m\u001b[0;34m[\u001b[0m\u001b[0;34m[\u001b[0m\u001b[0;34m'Date'\u001b[0m\u001b[0;34m,\u001b[0m \u001b[0;34m'Src_IP'\u001b[0m\u001b[0;34m,\u001b[0m \u001b[0;34m'Dst_IP'\u001b[0m\u001b[0;34m]\u001b[0m\u001b[0;34m]\u001b[0m\u001b[0;34m\u001b[0m\u001b[0m\n\u001b[0m\u001b[1;32m     32\u001b[0m     \u001b[0;31m#melt\u001b[0m\u001b[0;34m\u001b[0m\u001b[0;34m\u001b[0m\u001b[0m\n\u001b[1;32m     33\u001b[0m     \u001b[0mdata_series\u001b[0m\u001b[0;34m=\u001b[0m\u001b[0mdata\u001b[0m\u001b[0;34m\u001b[0m\u001b[0m\n",
      "\u001b[0;31mNameError\u001b[0m: name 'df' is not defined"
     ]
    }
   ],
   "source": [
    "percentile=90\n",
    "apps_server=20\n",
    "server_df_list, server_assign_list, model_output , total_latency, total_latency_model, avg_latency, avg_latency_model = hourly_step_test_apriori_output(df_train=df_train, df_test=df_test, percentile=percentile, apps_server=apps_server)\n",
    "\n"
   ]
  },
  {
   "cell_type": "code",
   "execution_count": null,
   "metadata": {},
   "outputs": [],
   "source": []
  },
  {
   "cell_type": "code",
   "execution_count": null,
   "metadata": {},
   "outputs": [],
   "source": []
  },
  {
   "cell_type": "code",
   "execution_count": 6,
   "metadata": {},
   "outputs": [],
   "source": [
    "data=df[['Date', 'Src_IP', 'Dst_IP']]\n",
    "#melt \n",
    "data2=data\n",
    "data2=pd.melt(data2, id_vars=['Date'])"
   ]
  },
  {
   "cell_type": "code",
   "execution_count": 7,
   "metadata": {},
   "outputs": [
    {
     "data": {
      "text/html": [
       "<div>\n",
       "<style scoped>\n",
       "    .dataframe tbody tr th:only-of-type {\n",
       "        vertical-align: middle;\n",
       "    }\n",
       "\n",
       "    .dataframe tbody tr th {\n",
       "        vertical-align: top;\n",
       "    }\n",
       "\n",
       "    .dataframe thead th {\n",
       "        text-align: right;\n",
       "    }\n",
       "</style>\n",
       "<table border=\"1\" class=\"dataframe\">\n",
       "  <thead>\n",
       "    <tr style=\"text-align: right;\">\n",
       "      <th></th>\n",
       "      <th>Date</th>\n",
       "      <th>Duration</th>\n",
       "      <th>Src_IP</th>\n",
       "      <th>Src_pt</th>\n",
       "      <th>Dst_IP</th>\n",
       "      <th>Dst_pt</th>\n",
       "      <th>Packets</th>\n",
       "      <th>Bytes</th>\n",
       "      <th>date_hr</th>\n",
       "      <th>pairs</th>\n",
       "      <th>pairs2</th>\n",
       "    </tr>\n",
       "  </thead>\n",
       "  <tbody>\n",
       "    <tr>\n",
       "      <th>0</th>\n",
       "      <td>2017-08-02 00:00:00.419</td>\n",
       "      <td>0.003</td>\n",
       "      <td>192.168.210.55</td>\n",
       "      <td>44870</td>\n",
       "      <td>192.168.100.11</td>\n",
       "      <td>445.0</td>\n",
       "      <td>2</td>\n",
       "      <td>174</td>\n",
       "      <td>2017-08-02</td>\n",
       "      <td>[192.168.100.11, 192.168.210.55]</td>\n",
       "      <td>(192.168.100.11, 192.168.210.55)</td>\n",
       "    </tr>\n",
       "    <tr>\n",
       "      <th>1</th>\n",
       "      <td>2017-08-02 00:00:00.421</td>\n",
       "      <td>0.000</td>\n",
       "      <td>192.168.100.11</td>\n",
       "      <td>445</td>\n",
       "      <td>192.168.210.55</td>\n",
       "      <td>44870.0</td>\n",
       "      <td>1</td>\n",
       "      <td>108</td>\n",
       "      <td>2017-08-02</td>\n",
       "      <td>[192.168.100.11, 192.168.210.55]</td>\n",
       "      <td>(192.168.100.11, 192.168.210.55)</td>\n",
       "    </tr>\n",
       "    <tr>\n",
       "      <th>2</th>\n",
       "      <td>2017-08-02 00:00:02.593</td>\n",
       "      <td>0.004</td>\n",
       "      <td>192.168.220.47</td>\n",
       "      <td>55101</td>\n",
       "      <td>192.168.100.11</td>\n",
       "      <td>445.0</td>\n",
       "      <td>2</td>\n",
       "      <td>174</td>\n",
       "      <td>2017-08-02</td>\n",
       "      <td>[192.168.100.11, 192.168.220.47]</td>\n",
       "      <td>(192.168.100.11, 192.168.220.47)</td>\n",
       "    </tr>\n",
       "    <tr>\n",
       "      <th>3</th>\n",
       "      <td>2017-08-02 00:00:02.859</td>\n",
       "      <td>0.000</td>\n",
       "      <td>10000_34</td>\n",
       "      <td>443</td>\n",
       "      <td>192.168.210.54</td>\n",
       "      <td>59628.0</td>\n",
       "      <td>1</td>\n",
       "      <td>100</td>\n",
       "      <td>2017-08-02</td>\n",
       "      <td>[10000_34, 192.168.210.54]</td>\n",
       "      <td>(10000_34, 192.168.210.54)</td>\n",
       "    </tr>\n",
       "    <tr>\n",
       "      <th>4</th>\n",
       "      <td>2017-08-02 00:00:02.594</td>\n",
       "      <td>0.000</td>\n",
       "      <td>192.168.100.11</td>\n",
       "      <td>445</td>\n",
       "      <td>192.168.220.47</td>\n",
       "      <td>55101.0</td>\n",
       "      <td>1</td>\n",
       "      <td>108</td>\n",
       "      <td>2017-08-02</td>\n",
       "      <td>[192.168.100.11, 192.168.220.47]</td>\n",
       "      <td>(192.168.100.11, 192.168.220.47)</td>\n",
       "    </tr>\n",
       "  </tbody>\n",
       "</table>\n",
       "</div>"
      ],
      "text/plain": [
       "                     Date  Duration          Src_IP  Src_pt          Dst_IP  \\\n",
       "0 2017-08-02 00:00:00.419     0.003  192.168.210.55   44870  192.168.100.11   \n",
       "1 2017-08-02 00:00:00.421     0.000  192.168.100.11     445  192.168.210.55   \n",
       "2 2017-08-02 00:00:02.593     0.004  192.168.220.47   55101  192.168.100.11   \n",
       "3 2017-08-02 00:00:02.859     0.000        10000_34     443  192.168.210.54   \n",
       "4 2017-08-02 00:00:02.594     0.000  192.168.100.11     445  192.168.220.47   \n",
       "\n",
       "    Dst_pt  Packets     Bytes    date_hr                             pairs  \\\n",
       "0    445.0        2       174 2017-08-02  [192.168.100.11, 192.168.210.55]   \n",
       "1  44870.0        1       108 2017-08-02  [192.168.100.11, 192.168.210.55]   \n",
       "2    445.0        2       174 2017-08-02  [192.168.100.11, 192.168.220.47]   \n",
       "3  59628.0        1       100 2017-08-02        [10000_34, 192.168.210.54]   \n",
       "4  55101.0        1       108 2017-08-02  [192.168.100.11, 192.168.220.47]   \n",
       "\n",
       "                             pairs2  \n",
       "0  (192.168.100.11, 192.168.210.55)  \n",
       "1  (192.168.100.11, 192.168.210.55)  \n",
       "2  (192.168.100.11, 192.168.220.47)  \n",
       "3        (10000_34, 192.168.210.54)  \n",
       "4  (192.168.100.11, 192.168.220.47)  "
      ]
     },
     "execution_count": 7,
     "metadata": {},
     "output_type": "execute_result"
    }
   ],
   "source": [
    "df.head()"
   ]
  },
  {
   "cell_type": "code",
   "execution_count": 8,
   "metadata": {},
   "outputs": [
    {
     "data": {
      "text/plain": [
       "pandas.core.series.Series"
      ]
     },
     "execution_count": 8,
     "metadata": {},
     "output_type": "execute_result"
    }
   ],
   "source": [
    "# Convert from DataFrame to a Series, with order_id as index and item_id as value\n",
    "# Convert from DataFrame to a Series, with order_id as index and item_id as value\n",
    "#necessary for assocation mining\n",
    "data2=data2[['Date', 'value']]\n",
    "data2.columns=['Date', 'IP']\n",
    "data_series = data2.set_index('Date')['IP'].rename('IP')\n",
    "\n",
    "type(data_series)"
   ]
  },
  {
   "cell_type": "code",
   "execution_count": 45,
   "metadata": {},
   "outputs": [
    {
     "data": {
      "text/html": [
       "<div>\n",
       "<style scoped>\n",
       "    .dataframe tbody tr th:only-of-type {\n",
       "        vertical-align: middle;\n",
       "    }\n",
       "\n",
       "    .dataframe tbody tr th {\n",
       "        vertical-align: top;\n",
       "    }\n",
       "\n",
       "    .dataframe thead th {\n",
       "        text-align: right;\n",
       "    }\n",
       "</style>\n",
       "<table border=\"1\" class=\"dataframe\">\n",
       "  <thead>\n",
       "    <tr style=\"text-align: right;\">\n",
       "      <th></th>\n",
       "      <th>Date</th>\n",
       "      <th>value</th>\n",
       "      <th>hour</th>\n",
       "    </tr>\n",
       "  </thead>\n",
       "  <tbody>\n",
       "    <tr>\n",
       "      <th>0</th>\n",
       "      <td>2017-08-02 00:00:00.419</td>\n",
       "      <td>192.168.210.55</td>\n",
       "      <td>0</td>\n",
       "    </tr>\n",
       "    <tr>\n",
       "      <th>1</th>\n",
       "      <td>2017-08-02 00:00:00.421</td>\n",
       "      <td>192.168.100.11</td>\n",
       "      <td>0</td>\n",
       "    </tr>\n",
       "    <tr>\n",
       "      <th>2</th>\n",
       "      <td>2017-08-02 00:00:02.593</td>\n",
       "      <td>192.168.220.47</td>\n",
       "      <td>0</td>\n",
       "    </tr>\n",
       "    <tr>\n",
       "      <th>3</th>\n",
       "      <td>2017-08-02 00:00:02.859</td>\n",
       "      <td>10000_34</td>\n",
       "      <td>0</td>\n",
       "    </tr>\n",
       "    <tr>\n",
       "      <th>4</th>\n",
       "      <td>2017-08-02 00:00:02.594</td>\n",
       "      <td>192.168.100.11</td>\n",
       "      <td>0</td>\n",
       "    </tr>\n",
       "    <tr>\n",
       "      <th>5</th>\n",
       "      <td>2017-08-02 00:00:02.847</td>\n",
       "      <td>192.168.210.54</td>\n",
       "      <td>0</td>\n",
       "    </tr>\n",
       "    <tr>\n",
       "      <th>6</th>\n",
       "      <td>2017-08-02 00:00:03.568</td>\n",
       "      <td>192.168.100.11</td>\n",
       "      <td>0</td>\n",
       "    </tr>\n",
       "    <tr>\n",
       "      <th>7</th>\n",
       "      <td>2017-08-02 00:00:03.567</td>\n",
       "      <td>192.168.220.42</td>\n",
       "      <td>0</td>\n",
       "    </tr>\n",
       "    <tr>\n",
       "      <th>8</th>\n",
       "      <td>2017-08-02 00:00:04.193</td>\n",
       "      <td>192.168.100.11</td>\n",
       "      <td>0</td>\n",
       "    </tr>\n",
       "    <tr>\n",
       "      <th>9</th>\n",
       "      <td>2017-08-02 00:00:04.192</td>\n",
       "      <td>192.168.220.46</td>\n",
       "      <td>0</td>\n",
       "    </tr>\n",
       "    <tr>\n",
       "      <th>10</th>\n",
       "      <td>2017-08-02 00:00:07.509</td>\n",
       "      <td>192.168.100.11</td>\n",
       "      <td>0</td>\n",
       "    </tr>\n",
       "    <tr>\n",
       "      <th>11</th>\n",
       "      <td>2017-08-02 00:00:07.510</td>\n",
       "      <td>192.168.210.46</td>\n",
       "      <td>0</td>\n",
       "    </tr>\n",
       "    <tr>\n",
       "      <th>12</th>\n",
       "      <td>2017-08-02 00:00:10.258</td>\n",
       "      <td>192.168.100.11</td>\n",
       "      <td>0</td>\n",
       "    </tr>\n",
       "    <tr>\n",
       "      <th>13</th>\n",
       "      <td>2017-08-02 00:00:10.257</td>\n",
       "      <td>192.168.210.46</td>\n",
       "      <td>0</td>\n",
       "    </tr>\n",
       "    <tr>\n",
       "      <th>14</th>\n",
       "      <td>2017-08-02 00:00:10.791</td>\n",
       "      <td>192.168.220.43</td>\n",
       "      <td>0</td>\n",
       "    </tr>\n",
       "    <tr>\n",
       "      <th>15</th>\n",
       "      <td>2017-08-02 00:00:10.792</td>\n",
       "      <td>192.168.100.11</td>\n",
       "      <td>0</td>\n",
       "    </tr>\n",
       "    <tr>\n",
       "      <th>16</th>\n",
       "      <td>2017-08-02 00:00:12.979</td>\n",
       "      <td>192.168.220.44</td>\n",
       "      <td>0</td>\n",
       "    </tr>\n",
       "    <tr>\n",
       "      <th>17</th>\n",
       "      <td>2017-08-02 00:00:12.980</td>\n",
       "      <td>192.168.100.11</td>\n",
       "      <td>0</td>\n",
       "    </tr>\n",
       "    <tr>\n",
       "      <th>18</th>\n",
       "      <td>2017-08-02 00:00:15.693</td>\n",
       "      <td>192.168.100.11</td>\n",
       "      <td>0</td>\n",
       "    </tr>\n",
       "    <tr>\n",
       "      <th>19</th>\n",
       "      <td>2017-08-02 00:00:15.691</td>\n",
       "      <td>192.168.210.50</td>\n",
       "      <td>0</td>\n",
       "    </tr>\n",
       "    <tr>\n",
       "      <th>20</th>\n",
       "      <td>2017-08-02 00:00:20.454</td>\n",
       "      <td>192.168.100.11</td>\n",
       "      <td>0</td>\n",
       "    </tr>\n",
       "    <tr>\n",
       "      <th>21</th>\n",
       "      <td>2017-08-02 00:00:20.455</td>\n",
       "      <td>192.168.220.44</td>\n",
       "      <td>0</td>\n",
       "    </tr>\n",
       "    <tr>\n",
       "      <th>22</th>\n",
       "      <td>2017-08-02 00:00:20.322</td>\n",
       "      <td>192.168.220.48</td>\n",
       "      <td>0</td>\n",
       "    </tr>\n",
       "    <tr>\n",
       "      <th>23</th>\n",
       "      <td>2017-08-02 00:00:20.323</td>\n",
       "      <td>192.168.100.11</td>\n",
       "      <td>0</td>\n",
       "    </tr>\n",
       "    <tr>\n",
       "      <th>24</th>\n",
       "      <td>2017-08-02 00:00:20.454</td>\n",
       "      <td>192.168.100.11</td>\n",
       "      <td>0</td>\n",
       "    </tr>\n",
       "    <tr>\n",
       "      <th>25</th>\n",
       "      <td>2017-08-02 00:00:20.455</td>\n",
       "      <td>192.168.220.44</td>\n",
       "      <td>0</td>\n",
       "    </tr>\n",
       "    <tr>\n",
       "      <th>26</th>\n",
       "      <td>2017-08-02 00:00:20.321</td>\n",
       "      <td>192.168.220.48</td>\n",
       "      <td>0</td>\n",
       "    </tr>\n",
       "    <tr>\n",
       "      <th>27</th>\n",
       "      <td>2017-08-02 00:00:21.661</td>\n",
       "      <td>192.168.100.11</td>\n",
       "      <td>0</td>\n",
       "    </tr>\n",
       "    <tr>\n",
       "      <th>28</th>\n",
       "      <td>2017-08-02 00:00:21.660</td>\n",
       "      <td>192.168.210.56</td>\n",
       "      <td>0</td>\n",
       "    </tr>\n",
       "    <tr>\n",
       "      <th>29</th>\n",
       "      <td>2017-08-02 00:00:23.441</td>\n",
       "      <td>DNS</td>\n",
       "      <td>0</td>\n",
       "    </tr>\n",
       "    <tr>\n",
       "      <th>...</th>\n",
       "      <td>...</td>\n",
       "      <td>...</td>\n",
       "      <td>...</td>\n",
       "    </tr>\n",
       "    <tr>\n",
       "      <th>16371954</th>\n",
       "      <td>2017-08-08 23:59:30.037</td>\n",
       "      <td>192.168.210.255</td>\n",
       "      <td>23</td>\n",
       "    </tr>\n",
       "    <tr>\n",
       "      <th>16371955</th>\n",
       "      <td>2017-08-08 23:59:30.746</td>\n",
       "      <td>192.168.210.54</td>\n",
       "      <td>23</td>\n",
       "    </tr>\n",
       "    <tr>\n",
       "      <th>16371956</th>\n",
       "      <td>2017-08-08 23:59:30.938</td>\n",
       "      <td>192.168.100.11</td>\n",
       "      <td>23</td>\n",
       "    </tr>\n",
       "    <tr>\n",
       "      <th>16371957</th>\n",
       "      <td>2017-08-08 23:59:30.939</td>\n",
       "      <td>192.168.220.47</td>\n",
       "      <td>23</td>\n",
       "    </tr>\n",
       "    <tr>\n",
       "      <th>16371958</th>\n",
       "      <td>2017-08-08 23:59:33.946</td>\n",
       "      <td>192.168.100.11</td>\n",
       "      <td>23</td>\n",
       "    </tr>\n",
       "    <tr>\n",
       "      <th>16371959</th>\n",
       "      <td>2017-08-08 23:59:33.945</td>\n",
       "      <td>192.168.220.42</td>\n",
       "      <td>23</td>\n",
       "    </tr>\n",
       "    <tr>\n",
       "      <th>16371960</th>\n",
       "      <td>2017-08-08 23:59:34.388</td>\n",
       "      <td>192.168.220.51</td>\n",
       "      <td>23</td>\n",
       "    </tr>\n",
       "    <tr>\n",
       "      <th>16371961</th>\n",
       "      <td>2017-08-08 23:59:34.387</td>\n",
       "      <td>192.168.100.11</td>\n",
       "      <td>23</td>\n",
       "    </tr>\n",
       "    <tr>\n",
       "      <th>16371962</th>\n",
       "      <td>2017-08-08 23:59:37.541</td>\n",
       "      <td>192.168.220.43</td>\n",
       "      <td>23</td>\n",
       "    </tr>\n",
       "    <tr>\n",
       "      <th>16371963</th>\n",
       "      <td>2017-08-08 23:59:37.539</td>\n",
       "      <td>192.168.100.11</td>\n",
       "      <td>23</td>\n",
       "    </tr>\n",
       "    <tr>\n",
       "      <th>16371964</th>\n",
       "      <td>2017-08-08 23:59:39.277</td>\n",
       "      <td>192.168.220.50</td>\n",
       "      <td>23</td>\n",
       "    </tr>\n",
       "    <tr>\n",
       "      <th>16371965</th>\n",
       "      <td>2017-08-08 23:59:39.276</td>\n",
       "      <td>192.168.100.11</td>\n",
       "      <td>23</td>\n",
       "    </tr>\n",
       "    <tr>\n",
       "      <th>16371966</th>\n",
       "      <td>2017-08-08 23:59:44.688</td>\n",
       "      <td>192.168.210.48</td>\n",
       "      <td>23</td>\n",
       "    </tr>\n",
       "    <tr>\n",
       "      <th>16371967</th>\n",
       "      <td>2017-08-08 23:59:44.687</td>\n",
       "      <td>192.168.100.11</td>\n",
       "      <td>23</td>\n",
       "    </tr>\n",
       "    <tr>\n",
       "      <th>16371968</th>\n",
       "      <td>2017-08-08 23:59:45.483</td>\n",
       "      <td>192.168.210.54</td>\n",
       "      <td>23</td>\n",
       "    </tr>\n",
       "    <tr>\n",
       "      <th>16371969</th>\n",
       "      <td>2017-08-08 23:59:45.470</td>\n",
       "      <td>10027_238</td>\n",
       "      <td>23</td>\n",
       "    </tr>\n",
       "    <tr>\n",
       "      <th>16371970</th>\n",
       "      <td>2017-08-08 23:59:47.480</td>\n",
       "      <td>192.168.210.54</td>\n",
       "      <td>23</td>\n",
       "    </tr>\n",
       "    <tr>\n",
       "      <th>16371971</th>\n",
       "      <td>2017-08-08 23:59:47.472</td>\n",
       "      <td>10028_162</td>\n",
       "      <td>23</td>\n",
       "    </tr>\n",
       "    <tr>\n",
       "      <th>16371972</th>\n",
       "      <td>2017-08-08 23:59:48.549</td>\n",
       "      <td>192.168.220.49</td>\n",
       "      <td>23</td>\n",
       "    </tr>\n",
       "    <tr>\n",
       "      <th>16371973</th>\n",
       "      <td>2017-08-08 23:59:48.555</td>\n",
       "      <td>192.168.220.48</td>\n",
       "      <td>23</td>\n",
       "    </tr>\n",
       "    <tr>\n",
       "      <th>16371974</th>\n",
       "      <td>2017-08-08 23:59:48.554</td>\n",
       "      <td>192.168.100.11</td>\n",
       "      <td>23</td>\n",
       "    </tr>\n",
       "    <tr>\n",
       "      <th>16371975</th>\n",
       "      <td>2017-08-08 23:59:48.548</td>\n",
       "      <td>192.168.100.11</td>\n",
       "      <td>23</td>\n",
       "    </tr>\n",
       "    <tr>\n",
       "      <th>16371976</th>\n",
       "      <td>2017-08-08 23:59:49.188</td>\n",
       "      <td>192.168.220.46</td>\n",
       "      <td>23</td>\n",
       "    </tr>\n",
       "    <tr>\n",
       "      <th>16371977</th>\n",
       "      <td>2017-08-08 23:59:49.187</td>\n",
       "      <td>192.168.100.11</td>\n",
       "      <td>23</td>\n",
       "    </tr>\n",
       "    <tr>\n",
       "      <th>16371978</th>\n",
       "      <td>2017-08-08 23:59:52.086</td>\n",
       "      <td>192.168.210.56</td>\n",
       "      <td>23</td>\n",
       "    </tr>\n",
       "    <tr>\n",
       "      <th>16371979</th>\n",
       "      <td>2017-08-08 23:59:52.085</td>\n",
       "      <td>192.168.100.11</td>\n",
       "      <td>23</td>\n",
       "    </tr>\n",
       "    <tr>\n",
       "      <th>16371980</th>\n",
       "      <td>2017-08-08 23:59:54.891</td>\n",
       "      <td>192.168.210.47</td>\n",
       "      <td>23</td>\n",
       "    </tr>\n",
       "    <tr>\n",
       "      <th>16371981</th>\n",
       "      <td>2017-08-08 23:59:54.890</td>\n",
       "      <td>192.168.100.11</td>\n",
       "      <td>23</td>\n",
       "    </tr>\n",
       "    <tr>\n",
       "      <th>16371982</th>\n",
       "      <td>2017-08-08 23:59:57.087</td>\n",
       "      <td>192.168.210.54</td>\n",
       "      <td>23</td>\n",
       "    </tr>\n",
       "    <tr>\n",
       "      <th>16371983</th>\n",
       "      <td>2017-08-08 23:59:57.075</td>\n",
       "      <td>10391_172</td>\n",
       "      <td>23</td>\n",
       "    </tr>\n",
       "  </tbody>\n",
       "</table>\n",
       "<p>16371984 rows × 3 columns</p>\n",
       "</div>"
      ],
      "text/plain": [
       "                            Date            value  hour\n",
       "0        2017-08-02 00:00:00.419   192.168.210.55     0\n",
       "1        2017-08-02 00:00:00.421   192.168.100.11     0\n",
       "2        2017-08-02 00:00:02.593   192.168.220.47     0\n",
       "3        2017-08-02 00:00:02.859         10000_34     0\n",
       "4        2017-08-02 00:00:02.594   192.168.100.11     0\n",
       "5        2017-08-02 00:00:02.847   192.168.210.54     0\n",
       "6        2017-08-02 00:00:03.568   192.168.100.11     0\n",
       "7        2017-08-02 00:00:03.567   192.168.220.42     0\n",
       "8        2017-08-02 00:00:04.193   192.168.100.11     0\n",
       "9        2017-08-02 00:00:04.192   192.168.220.46     0\n",
       "10       2017-08-02 00:00:07.509   192.168.100.11     0\n",
       "11       2017-08-02 00:00:07.510   192.168.210.46     0\n",
       "12       2017-08-02 00:00:10.258   192.168.100.11     0\n",
       "13       2017-08-02 00:00:10.257   192.168.210.46     0\n",
       "14       2017-08-02 00:00:10.791   192.168.220.43     0\n",
       "15       2017-08-02 00:00:10.792   192.168.100.11     0\n",
       "16       2017-08-02 00:00:12.979   192.168.220.44     0\n",
       "17       2017-08-02 00:00:12.980   192.168.100.11     0\n",
       "18       2017-08-02 00:00:15.693   192.168.100.11     0\n",
       "19       2017-08-02 00:00:15.691   192.168.210.50     0\n",
       "20       2017-08-02 00:00:20.454   192.168.100.11     0\n",
       "21       2017-08-02 00:00:20.455   192.168.220.44     0\n",
       "22       2017-08-02 00:00:20.322   192.168.220.48     0\n",
       "23       2017-08-02 00:00:20.323   192.168.100.11     0\n",
       "24       2017-08-02 00:00:20.454   192.168.100.11     0\n",
       "25       2017-08-02 00:00:20.455   192.168.220.44     0\n",
       "26       2017-08-02 00:00:20.321   192.168.220.48     0\n",
       "27       2017-08-02 00:00:21.661   192.168.100.11     0\n",
       "28       2017-08-02 00:00:21.660   192.168.210.56     0\n",
       "29       2017-08-02 00:00:23.441              DNS     0\n",
       "...                          ...              ...   ...\n",
       "16371954 2017-08-08 23:59:30.037  192.168.210.255    23\n",
       "16371955 2017-08-08 23:59:30.746   192.168.210.54    23\n",
       "16371956 2017-08-08 23:59:30.938   192.168.100.11    23\n",
       "16371957 2017-08-08 23:59:30.939   192.168.220.47    23\n",
       "16371958 2017-08-08 23:59:33.946   192.168.100.11    23\n",
       "16371959 2017-08-08 23:59:33.945   192.168.220.42    23\n",
       "16371960 2017-08-08 23:59:34.388   192.168.220.51    23\n",
       "16371961 2017-08-08 23:59:34.387   192.168.100.11    23\n",
       "16371962 2017-08-08 23:59:37.541   192.168.220.43    23\n",
       "16371963 2017-08-08 23:59:37.539   192.168.100.11    23\n",
       "16371964 2017-08-08 23:59:39.277   192.168.220.50    23\n",
       "16371965 2017-08-08 23:59:39.276   192.168.100.11    23\n",
       "16371966 2017-08-08 23:59:44.688   192.168.210.48    23\n",
       "16371967 2017-08-08 23:59:44.687   192.168.100.11    23\n",
       "16371968 2017-08-08 23:59:45.483   192.168.210.54    23\n",
       "16371969 2017-08-08 23:59:45.470        10027_238    23\n",
       "16371970 2017-08-08 23:59:47.480   192.168.210.54    23\n",
       "16371971 2017-08-08 23:59:47.472        10028_162    23\n",
       "16371972 2017-08-08 23:59:48.549   192.168.220.49    23\n",
       "16371973 2017-08-08 23:59:48.555   192.168.220.48    23\n",
       "16371974 2017-08-08 23:59:48.554   192.168.100.11    23\n",
       "16371975 2017-08-08 23:59:48.548   192.168.100.11    23\n",
       "16371976 2017-08-08 23:59:49.188   192.168.220.46    23\n",
       "16371977 2017-08-08 23:59:49.187   192.168.100.11    23\n",
       "16371978 2017-08-08 23:59:52.086   192.168.210.56    23\n",
       "16371979 2017-08-08 23:59:52.085   192.168.100.11    23\n",
       "16371980 2017-08-08 23:59:54.891   192.168.210.47    23\n",
       "16371981 2017-08-08 23:59:54.890   192.168.100.11    23\n",
       "16371982 2017-08-08 23:59:57.087   192.168.210.54    23\n",
       "16371983 2017-08-08 23:59:57.075        10391_172    23\n",
       "\n",
       "[16371984 rows x 3 columns]"
      ]
     },
     "execution_count": 45,
     "metadata": {},
     "output_type": "execute_result"
    }
   ],
   "source": [
    "\n",
    "data=df[['Date', 'Src_IP', 'Dst_IP']]\n",
    "    #melt \n",
    "data2=data\n",
    "data2=pd.melt(data2, id_vars=['Date'])\n",
    "\n",
    "data2['hour']=None\n",
    "data2['hour']=pd.DatetimeIndex(data2['Date']).hour\n",
    "data2=data2.drop('variable', axis=1)\n",
    "data2"
   ]
  },
  {
   "cell_type": "code",
   "execution_count": 9,
   "metadata": {},
   "outputs": [
    {
     "data": {
      "text/plain": [
       "Date\n",
       "2017-08-02 00:00:00.419    192.168.210.55\n",
       "2017-08-02 00:00:00.419    192.168.100.11\n",
       "Name: IP, dtype: object"
      ]
     },
     "execution_count": 9,
     "metadata": {},
     "output_type": "execute_result"
    }
   ],
   "source": [
    "data_series.loc['2017-08-02 00:00:00.419']# yes we get two results, 1 for source and 1 for destination"
   ]
  },
  {
   "cell_type": "code",
   "execution_count": 10,
   "metadata": {},
   "outputs": [],
   "source": [
    "#Returns frequency counts for items and item pairs\n",
    "def freq(iterable):\n",
    "    if type(iterable) == pd.core.series.Series:\n",
    "        return iterable.value_counts().rename(\"freq\")\n",
    "    else: \n",
    "        return pd.Series(Counter(iterable)).rename(\"freq\")\n",
    "\n",
    "    \n",
    "# Returns number of unique orders\n",
    "def order_count(order_item):\n",
    "    return len(set(order_item.index))\n",
    "\n",
    "\n",
    "# Returns generator that yields item pairs, one at a time\n",
    "def get_item_pairs(order_item):\n",
    "    order_item = order_item.reset_index().as_matrix()\n",
    "    for order_id, order_object in groupby(order_item, lambda x: x[0]):\n",
    "        item_list = [item[1] for item in order_object]\n",
    "              \n",
    "        for item_pair in combinations(item_list, 2):\n",
    "            yield item_pair\n",
    "            \n",
    "\n",
    "# Returns frequency and support associated with item\n",
    "def merge_item_stats(item_pairs, item_stats):\n",
    "    return (item_pairs\n",
    "                .merge(item_stats.rename(columns={'freq': 'freqA', 'support': 'supportA'}), left_on='item_A', right_index=True)\n",
    "                .merge(item_stats.rename(columns={'freq': 'freqB', 'support': 'supportB'}), left_on='item_B', right_index=True))\n",
    "\n",
    "\n",
    "# Returns name associated with item\n",
    "def merge_item_name(rules, item_name):\n",
    "    columns = ['itemA','itemB','freqAB','supportAB','freqA','supportA','freqB','supportB', \n",
    "               'confidenceAtoB','confidenceBtoA','lift']\n",
    "    rules = (rules\n",
    "                .merge(item_name.rename(columns={'item_name': 'itemA'}), left_on='item_A', right_on='item_id')\n",
    "                .merge(item_name.rename(columns={'item_name': 'itemB'}), left_on='item_B', right_on='item_id'))\n",
    "    return rules[columns]   "
   ]
  },
  {
   "cell_type": "code",
   "execution_count": 11,
   "metadata": {},
   "outputs": [],
   "source": [
    "def association_rules(order_item, min_support):\n",
    "\n",
    "    print(\"Starting order_item: {:22d}\".format(len(order_item)))\n",
    "\n",
    "\n",
    "    # Calculate item frequency and support\n",
    "    item_stats             = freq(order_item).to_frame(\"freq\")\n",
    "    item_stats['support']  = item_stats['freq'] / order_count(order_item) * 100\n",
    "\n",
    "\n",
    "    # Filter from order_item items below min support \n",
    "    qualifying_items       = item_stats[item_stats['support'] >= min_support].index\n",
    "    order_item             = order_item[order_item.isin(qualifying_items)]\n",
    "\n",
    "    print(\"Items with support >= {}: {:15d}\".format(min_support, len(qualifying_items)))\n",
    "    print(\"Remaining order_item: {:21d}\".format(len(order_item)))\n",
    "\n",
    "\n",
    "    # Filter from order_item orders with less than 2 items\n",
    "    order_size             = freq(order_item.index)\n",
    "    qualifying_orders      = order_size[order_size >= 2].index\n",
    "    order_item             = order_item[order_item.index.isin(qualifying_orders)]\n",
    "\n",
    "    print(\"Remaining orders with 2+ items: {:11d}\".format(len(qualifying_orders)))\n",
    "    print(\"Remaining order_item: {:21d}\".format(len(order_item)))\n",
    "\n",
    "\n",
    "    # Recalculate item frequency and support\n",
    "    item_stats             = freq(order_item).to_frame(\"freq\")\n",
    "    item_stats['support']  = item_stats['freq'] / order_count(order_item) * 100\n",
    "\n",
    "\n",
    "    # Get item pairs generator\n",
    "    item_pair_gen          = get_item_pairs(order_item)\n",
    "\n",
    "\n",
    "    # Calculate item pair frequency and support\n",
    "    item_pairs              = freq(item_pair_gen).to_frame(\"freqAB\")\n",
    "    item_pairs['supportAB'] = item_pairs['freqAB'] / len(qualifying_orders) * 100\n",
    "\n",
    "    print(\"Item pairs: {:31d}\".format(len(item_pairs)))\n",
    "\n",
    "\n",
    "    # Filter from item_pairs those below min support\n",
    "    item_pairs              = item_pairs[item_pairs['supportAB'] >= min_support]\n",
    "\n",
    "    print(\"Item pairs with support >= {}: {:10d}\\n\".format(min_support, len(item_pairs)))\n",
    "\n",
    "\n",
    "    # Create table of association rules and compute relevant metrics\n",
    "    item_pairs = item_pairs.reset_index().rename(columns={'level_0': 'item_A', 'level_1': 'item_B'})\n",
    "    item_pairs = merge_item_stats(item_pairs, item_stats)\n",
    "    \n",
    "    item_pairs['confidenceAtoB'] = item_pairs['supportAB'] / item_pairs['supportA']\n",
    "    item_pairs['confidenceBtoA'] = item_pairs['supportAB'] / item_pairs['supportB']\n",
    "    item_pairs['lift']           = item_pairs['supportAB'] / (item_pairs['supportA'] * item_pairs['supportB'])\n",
    "    \n",
    "    \n",
    "    # Return association rules sorted by lift in descending order\n",
    "    return item_pairs.sort_values('lift', ascending=False)"
   ]
  },
  {
   "cell_type": "markdown",
   "metadata": {},
   "source": [
    "Set minimum threshold to the same value used in the FP-Growth Model, for comparisoin. The FP-Growth wants the support in whole numbers, like it occurs '50' times in the dataset. Here, the Apriori wants the support in percent, like the pair makes up 1% of the dataset."
   ]
  },
  {
   "cell_type": "code",
   "execution_count": 12,
   "metadata": {},
   "outputs": [],
   "source": [
    "#group the dataset by unique pairs, then count how frequently each pair occurs, and also get the average normalized latency time for that pair. The latency times vary because the servers they are assigned are random.\n",
    "pairs_count=(df.groupby('pairs2').agg({'Date':'count', 'Duration': 'sum', 'Packets':'sum'}).reset_index())\n",
    "\n",
    "pairs_count.columns=['pairs','frequency', 'total_duration', 'total_packets']\n",
    "pairs_count['norm_latency']=(pairs_count['total_duration']/pairs_count['total_packets'].sum())*100 #sum of all duration time divided by sum of all packets transfered for that pair"
   ]
  },
  {
   "cell_type": "code",
   "execution_count": 13,
   "metadata": {},
   "outputs": [],
   "source": [
    "per_90=np.percentile(pairs_count['frequency'], [90])\n",
    "\n",
    "min_support=per_90/len(df)"
   ]
  },
  {
   "cell_type": "code",
   "execution_count": 14,
   "metadata": {},
   "outputs": [
    {
     "data": {
      "text/plain": [
       "3.24945345658779e-05"
      ]
     },
     "execution_count": 14,
     "metadata": {},
     "output_type": "execute_result"
    }
   ],
   "source": [
    "min_support=min_support[0]\n",
    "min_support"
   ]
  },
  {
   "cell_type": "code",
   "execution_count": 15,
   "metadata": {},
   "outputs": [
    {
     "name": "stdout",
     "output_type": "stream",
     "text": [
      "Starting order_item:               16371984\n",
      "Items with support >= 3.24945345658779e-05:            9041\n",
      "Remaining order_item:              16371372\n",
      "Remaining orders with 2+ items:     6709534\n",
      "Remaining order_item:              16370809\n"
     ]
    },
    {
     "name": "stderr",
     "output_type": "stream",
     "text": [
      "/home/ubuntu/anaconda3/lib/python3.6/site-packages/ipykernel/__main__.py:16: FutureWarning: Method .as_matrix will be removed in a future version. Use .values instead.\n"
     ]
    },
    {
     "name": "stdout",
     "output_type": "stream",
     "text": [
      "Item pairs:                           92273\n",
      "Item pairs with support >= 3.24945345658779e-05:      17282\n",
      "\n"
     ]
    }
   ],
   "source": [
    "#run the model\n",
    "\n",
    "rules = association_rules(data_series, min_support)  #0.001 is minimum support or that the IP address must appear in the requests 1% of time"
   ]
  },
  {
   "cell_type": "markdown",
   "metadata": {},
   "source": [
    "How many rules did we create?"
   ]
  },
  {
   "cell_type": "code",
   "execution_count": 16,
   "metadata": {},
   "outputs": [
    {
     "data": {
      "text/plain": [
       "17282"
      ]
     },
     "execution_count": 16,
     "metadata": {},
     "output_type": "execute_result"
    }
   ],
   "source": [
    "len(rules)"
   ]
  },
  {
   "cell_type": "markdown",
   "metadata": {},
   "source": [
    "582 rules is not a lot, considering we have 44,000 unique pairs of IP addresses"
   ]
  },
  {
   "cell_type": "code",
   "execution_count": 17,
   "metadata": {},
   "outputs": [
    {
     "data": {
      "text/html": [
       "<div>\n",
       "<style scoped>\n",
       "    .dataframe tbody tr th:only-of-type {\n",
       "        vertical-align: middle;\n",
       "    }\n",
       "\n",
       "    .dataframe tbody tr th {\n",
       "        vertical-align: top;\n",
       "    }\n",
       "\n",
       "    .dataframe thead th {\n",
       "        text-align: right;\n",
       "    }\n",
       "</style>\n",
       "<table border=\"1\" class=\"dataframe\">\n",
       "  <thead>\n",
       "    <tr style=\"text-align: right;\">\n",
       "      <th></th>\n",
       "      <th>item_A</th>\n",
       "      <th>item_B</th>\n",
       "      <th>freqAB</th>\n",
       "      <th>supportAB</th>\n",
       "      <th>freqA</th>\n",
       "      <th>supportA</th>\n",
       "      <th>freqB</th>\n",
       "      <th>supportB</th>\n",
       "      <th>confidenceAtoB</th>\n",
       "      <th>confidenceBtoA</th>\n",
       "      <th>lift</th>\n",
       "    </tr>\n",
       "  </thead>\n",
       "  <tbody>\n",
       "    <tr>\n",
       "      <th>6075</th>\n",
       "      <td>14218_62</td>\n",
       "      <td>14218_62</td>\n",
       "      <td>3</td>\n",
       "      <td>0.000045</td>\n",
       "      <td>8</td>\n",
       "      <td>0.000119</td>\n",
       "      <td>8</td>\n",
       "      <td>0.000119</td>\n",
       "      <td>0.375</td>\n",
       "      <td>0.375</td>\n",
       "      <td>3145.094063</td>\n",
       "    </tr>\n",
       "    <tr>\n",
       "      <th>11531</th>\n",
       "      <td>192.168.200.120</td>\n",
       "      <td>192.168.200.99</td>\n",
       "      <td>3</td>\n",
       "      <td>0.000045</td>\n",
       "      <td>8</td>\n",
       "      <td>0.000119</td>\n",
       "      <td>8</td>\n",
       "      <td>0.000119</td>\n",
       "      <td>0.375</td>\n",
       "      <td>0.375</td>\n",
       "      <td>3145.094063</td>\n",
       "    </tr>\n",
       "    <tr>\n",
       "      <th>11530</th>\n",
       "      <td>192.168.200.73</td>\n",
       "      <td>192.168.200.99</td>\n",
       "      <td>3</td>\n",
       "      <td>0.000045</td>\n",
       "      <td>8</td>\n",
       "      <td>0.000119</td>\n",
       "      <td>8</td>\n",
       "      <td>0.000119</td>\n",
       "      <td>0.375</td>\n",
       "      <td>0.375</td>\n",
       "      <td>3145.094063</td>\n",
       "    </tr>\n",
       "    <tr>\n",
       "      <th>11529</th>\n",
       "      <td>192.168.200.188</td>\n",
       "      <td>192.168.200.189</td>\n",
       "      <td>3</td>\n",
       "      <td>0.000045</td>\n",
       "      <td>8</td>\n",
       "      <td>0.000119</td>\n",
       "      <td>8</td>\n",
       "      <td>0.000119</td>\n",
       "      <td>0.375</td>\n",
       "      <td>0.375</td>\n",
       "      <td>3145.094063</td>\n",
       "    </tr>\n",
       "    <tr>\n",
       "      <th>3049</th>\n",
       "      <td>12914_60</td>\n",
       "      <td>12914_60</td>\n",
       "      <td>3</td>\n",
       "      <td>0.000045</td>\n",
       "      <td>8</td>\n",
       "      <td>0.000119</td>\n",
       "      <td>8</td>\n",
       "      <td>0.000119</td>\n",
       "      <td>0.375</td>\n",
       "      <td>0.375</td>\n",
       "      <td>3145.094063</td>\n",
       "    </tr>\n",
       "  </tbody>\n",
       "</table>\n",
       "</div>"
      ],
      "text/plain": [
       "                item_A           item_B  freqAB  supportAB  freqA  supportA  \\\n",
       "6075          14218_62         14218_62       3   0.000045      8  0.000119   \n",
       "11531  192.168.200.120   192.168.200.99       3   0.000045      8  0.000119   \n",
       "11530   192.168.200.73   192.168.200.99       3   0.000045      8  0.000119   \n",
       "11529  192.168.200.188  192.168.200.189       3   0.000045      8  0.000119   \n",
       "3049          12914_60         12914_60       3   0.000045      8  0.000119   \n",
       "\n",
       "       freqB  supportB  confidenceAtoB  confidenceBtoA         lift  \n",
       "6075       8  0.000119           0.375           0.375  3145.094063  \n",
       "11531      8  0.000119           0.375           0.375  3145.094063  \n",
       "11530      8  0.000119           0.375           0.375  3145.094063  \n",
       "11529      8  0.000119           0.375           0.375  3145.094063  \n",
       "3049       8  0.000119           0.375           0.375  3145.094063  "
      ]
     },
     "execution_count": 17,
     "metadata": {},
     "output_type": "execute_result"
    }
   ],
   "source": [
    "rules.head()"
   ]
  },
  {
   "cell_type": "code",
   "execution_count": 18,
   "metadata": {},
   "outputs": [
    {
     "data": {
      "text/plain": [
       "(array([1.6911e+04, 2.7100e+02, 7.0000e+01, 1.7000e+01, 1.0000e+01,\n",
       "        2.0000e+00, 0.0000e+00, 0.0000e+00, 0.0000e+00, 1.0000e+00]),\n",
       " array([1.67212895e-06, 8.75015049e-02, 1.75001338e-01, 2.62501170e-01,\n",
       "        3.50001003e-01, 4.37500836e-01, 5.25000669e-01, 6.12500502e-01,\n",
       "        7.00000334e-01, 7.87500167e-01, 8.75000000e-01]),\n",
       " <a list of 10 Patch objects>)"
      ]
     },
     "execution_count": 18,
     "metadata": {},
     "output_type": "execute_result"
    },
    {
     "data": {
      "image/png": "[encoded data removed]",
      "text/plain": [
       "<Figure size 432x288 with 1 Axes>"
      ]
     },
     "metadata": {
      "needs_background": "light"
     },
     "output_type": "display_data"
    }
   ],
   "source": [
    "plt.hist(rules['confidenceAtoB'])"
   ]
  },
  {
   "cell_type": "code",
   "execution_count": 19,
   "metadata": {},
   "outputs": [],
   "source": [
    "#The FP algorithm uses a confidence filter of 0.7 or 70%. However, this dataset has much lower confidence values.... and we will keep all values going forward."
   ]
  },
  {
   "cell_type": "code",
   "execution_count": 20,
   "metadata": {},
   "outputs": [
    {
     "data": {
      "text/html": [
       "<div>\n",
       "<style scoped>\n",
       "    .dataframe tbody tr th:only-of-type {\n",
       "        vertical-align: middle;\n",
       "    }\n",
       "\n",
       "    .dataframe tbody tr th {\n",
       "        vertical-align: top;\n",
       "    }\n",
       "\n",
       "    .dataframe thead th {\n",
       "        text-align: right;\n",
       "    }\n",
       "</style>\n",
       "<table border=\"1\" class=\"dataframe\">\n",
       "  <thead>\n",
       "    <tr style=\"text-align: right;\">\n",
       "      <th></th>\n",
       "      <th>item_A</th>\n",
       "      <th>item_B</th>\n",
       "      <th>freqAB</th>\n",
       "      <th>supportAB</th>\n",
       "      <th>freqA</th>\n",
       "      <th>supportA</th>\n",
       "      <th>freqB</th>\n",
       "      <th>supportB</th>\n",
       "      <th>confidenceAtoB</th>\n",
       "      <th>confidenceBtoA</th>\n",
       "      <th>lift</th>\n",
       "    </tr>\n",
       "  </thead>\n",
       "  <tbody>\n",
       "    <tr>\n",
       "      <th>3054</th>\n",
       "      <td>12916_236</td>\n",
       "      <td>12916_236</td>\n",
       "      <td>21</td>\n",
       "      <td>0.000313</td>\n",
       "      <td>24</td>\n",
       "      <td>0.000358</td>\n",
       "      <td>24</td>\n",
       "      <td>0.000358</td>\n",
       "      <td>0.875</td>\n",
       "      <td>0.875</td>\n",
       "      <td>2446.184271</td>\n",
       "    </tr>\n",
       "  </tbody>\n",
       "</table>\n",
       "</div>"
      ],
      "text/plain": [
       "         item_A     item_B  freqAB  supportAB  freqA  supportA  freqB  \\\n",
       "3054  12916_236  12916_236      21   0.000313     24  0.000358     24   \n",
       "\n",
       "      supportB  confidenceAtoB  confidenceBtoA         lift  \n",
       "3054  0.000358           0.875           0.875  2446.184271  "
      ]
     },
     "execution_count": 20,
     "metadata": {},
     "output_type": "execute_result"
    }
   ],
   "source": [
    "rules[rules['confidenceAtoB']>=0.7]"
   ]
  },
  {
   "cell_type": "code",
   "execution_count": 21,
   "metadata": {},
   "outputs": [
    {
     "data": {
      "text/plain": [
       "1"
      ]
     },
     "execution_count": 21,
     "metadata": {},
     "output_type": "execute_result"
    }
   ],
   "source": [
    "rules_70=rules[rules['confidenceAtoB']>=0.7]\n",
    "len(rules_70)"
   ]
  },
  {
   "cell_type": "markdown",
   "metadata": {},
   "source": [
    "## Create Scheduler"
   ]
  },
  {
   "cell_type": "code",
   "execution_count": 22,
   "metadata": {},
   "outputs": [],
   "source": [
    "rules.rename(columns={'item_A': 'IP_A', 'item_B' : 'IP_B'}, inplace=True)\n"
   ]
  },
  {
   "cell_type": "code",
   "execution_count": null,
   "metadata": {},
   "outputs": [],
   "source": []
  },
  {
   "cell_type": "code",
   "execution_count": 28,
   "metadata": {},
   "outputs": [],
   "source": [
    "formated_rules=format_rules_apriori(rules, df, 20)"
   ]
  },
  {
   "cell_type": "code",
   "execution_count": 30,
   "metadata": {},
   "outputs": [
    {
     "data": {
      "text/html": [
       "<div>\n",
       "<style scoped>\n",
       "    .dataframe tbody tr th:only-of-type {\n",
       "        vertical-align: middle;\n",
       "    }\n",
       "\n",
       "    .dataframe tbody tr th {\n",
       "        vertical-align: top;\n",
       "    }\n",
       "\n",
       "    .dataframe thead th {\n",
       "        text-align: right;\n",
       "    }\n",
       "</style>\n",
       "<table border=\"1\" class=\"dataframe\">\n",
       "  <thead>\n",
       "    <tr style=\"text-align: right;\">\n",
       "      <th></th>\n",
       "      <th>IP_A</th>\n",
       "      <th>IP_B</th>\n",
       "      <th>freqAB</th>\n",
       "      <th>supportAB</th>\n",
       "      <th>freqA</th>\n",
       "      <th>supportA</th>\n",
       "      <th>freqB</th>\n",
       "      <th>supportB</th>\n",
       "      <th>confidenceAtoB</th>\n",
       "      <th>confidenceBtoA</th>\n",
       "      <th>...</th>\n",
       "      <th>frequency</th>\n",
       "      <th>avg_norm_latency</th>\n",
       "      <th>total_duration</th>\n",
       "      <th>total_packets</th>\n",
       "      <th>norm_latency</th>\n",
       "      <th>latency_rank</th>\n",
       "      <th>pair_ID</th>\n",
       "      <th>server_A</th>\n",
       "      <th>server_B</th>\n",
       "      <th>server</th>\n",
       "    </tr>\n",
       "  </thead>\n",
       "  <tbody>\n",
       "    <tr>\n",
       "      <th>0</th>\n",
       "      <td>10008_9</td>\n",
       "      <td>192.168.210.55</td>\n",
       "      <td>4</td>\n",
       "      <td>0.000060</td>\n",
       "      <td>189662</td>\n",
       "      <td>2.826754</td>\n",
       "      <td>503956</td>\n",
       "      <td>7.511043</td>\n",
       "      <td>0.000021</td>\n",
       "      <td>0.000008</td>\n",
       "      <td>...</td>\n",
       "      <td>173796</td>\n",
       "      <td>0.001424</td>\n",
       "      <td>8622.761</td>\n",
       "      <td>8257508</td>\n",
       "      <td>0.004718</td>\n",
       "      <td>819.937865</td>\n",
       "      <td>0</td>\n",
       "      <td>0</td>\n",
       "      <td>0</td>\n",
       "      <td>0</td>\n",
       "    </tr>\n",
       "    <tr>\n",
       "      <th>1</th>\n",
       "      <td>10008_24</td>\n",
       "      <td>192.168.220.43</td>\n",
       "      <td>9</td>\n",
       "      <td>0.000134</td>\n",
       "      <td>10111</td>\n",
       "      <td>0.150696</td>\n",
       "      <td>345516</td>\n",
       "      <td>5.149627</td>\n",
       "      <td>0.000890</td>\n",
       "      <td>0.000026</td>\n",
       "      <td>...</td>\n",
       "      <td>5526</td>\n",
       "      <td>0.211087</td>\n",
       "      <td>192871.945</td>\n",
       "      <td>1119144</td>\n",
       "      <td>0.105527</td>\n",
       "      <td>583.142585</td>\n",
       "      <td>1</td>\n",
       "      <td>None</td>\n",
       "      <td>None</td>\n",
       "      <td>0</td>\n",
       "    </tr>\n",
       "    <tr>\n",
       "      <th>2</th>\n",
       "      <td>192.168.220.43</td>\n",
       "      <td>10008_24</td>\n",
       "      <td>9</td>\n",
       "      <td>0.000134</td>\n",
       "      <td>345516</td>\n",
       "      <td>5.149627</td>\n",
       "      <td>10111</td>\n",
       "      <td>0.150696</td>\n",
       "      <td>0.000026</td>\n",
       "      <td>0.000890</td>\n",
       "      <td>...</td>\n",
       "      <td>5526</td>\n",
       "      <td>0.211087</td>\n",
       "      <td>192871.945</td>\n",
       "      <td>1119144</td>\n",
       "      <td>0.105527</td>\n",
       "      <td>583.142585</td>\n",
       "      <td>2</td>\n",
       "      <td>None</td>\n",
       "      <td>None</td>\n",
       "      <td>0</td>\n",
       "    </tr>\n",
       "    <tr>\n",
       "      <th>3</th>\n",
       "      <td>192.168.220.51</td>\n",
       "      <td>DNS</td>\n",
       "      <td>94</td>\n",
       "      <td>0.001401</td>\n",
       "      <td>1794120</td>\n",
       "      <td>26.739860</td>\n",
       "      <td>995938</td>\n",
       "      <td>14.843624</td>\n",
       "      <td>0.000052</td>\n",
       "      <td>0.000094</td>\n",
       "      <td>...</td>\n",
       "      <td>205930</td>\n",
       "      <td>0.005020</td>\n",
       "      <td>2094.579</td>\n",
       "      <td>385538</td>\n",
       "      <td>0.001146</td>\n",
       "      <td>235.999554</td>\n",
       "      <td>3</td>\n",
       "      <td>None</td>\n",
       "      <td>None</td>\n",
       "      <td>0</td>\n",
       "    </tr>\n",
       "    <tr>\n",
       "      <th>4</th>\n",
       "      <td>DNS</td>\n",
       "      <td>192.168.220.51</td>\n",
       "      <td>98</td>\n",
       "      <td>0.001461</td>\n",
       "      <td>995938</td>\n",
       "      <td>14.843624</td>\n",
       "      <td>1794120</td>\n",
       "      <td>26.739860</td>\n",
       "      <td>0.000098</td>\n",
       "      <td>0.000055</td>\n",
       "      <td>...</td>\n",
       "      <td>205930</td>\n",
       "      <td>0.005020</td>\n",
       "      <td>2094.579</td>\n",
       "      <td>385538</td>\n",
       "      <td>0.001146</td>\n",
       "      <td>235.999554</td>\n",
       "      <td>4</td>\n",
       "      <td>None</td>\n",
       "      <td>None</td>\n",
       "      <td>0</td>\n",
       "    </tr>\n",
       "  </tbody>\n",
       "</table>\n",
       "<p>5 rows × 23 columns</p>\n",
       "</div>"
      ],
      "text/plain": [
       "             IP_A            IP_B  freqAB  supportAB    freqA   supportA  \\\n",
       "0         10008_9  192.168.210.55       4   0.000060   189662   2.826754   \n",
       "1        10008_24  192.168.220.43       9   0.000134    10111   0.150696   \n",
       "2  192.168.220.43        10008_24       9   0.000134   345516   5.149627   \n",
       "3  192.168.220.51             DNS      94   0.001401  1794120  26.739860   \n",
       "4             DNS  192.168.220.51      98   0.001461   995938  14.843624   \n",
       "\n",
       "     freqB   supportB  confidenceAtoB  confidenceBtoA   ...    frequency  \\\n",
       "0   503956   7.511043        0.000021        0.000008   ...       173796   \n",
       "1   345516   5.149627        0.000890        0.000026   ...         5526   \n",
       "2    10111   0.150696        0.000026        0.000890   ...         5526   \n",
       "3   995938  14.843624        0.000052        0.000094   ...       205930   \n",
       "4  1794120  26.739860        0.000098        0.000055   ...       205930   \n",
       "\n",
       "  avg_norm_latency total_duration  total_packets  norm_latency  latency_rank  \\\n",
       "0         0.001424       8622.761        8257508      0.004718    819.937865   \n",
       "1         0.211087     192871.945        1119144      0.105527    583.142585   \n",
       "2         0.211087     192871.945        1119144      0.105527    583.142585   \n",
       "3         0.005020       2094.579         385538      0.001146    235.999554   \n",
       "4         0.005020       2094.579         385538      0.001146    235.999554   \n",
       "\n",
       "   pair_ID  server_A  server_B  server  \n",
       "0        0         0         0       0  \n",
       "1        1      None      None       0  \n",
       "2        2      None      None       0  \n",
       "3        3      None      None       0  \n",
       "4        4      None      None       0  \n",
       "\n",
       "[5 rows x 23 columns]"
      ]
     },
     "execution_count": 30,
     "metadata": {},
     "output_type": "execute_result"
    }
   ],
   "source": [
    "formated_rules.head()"
   ]
  },
  {
   "cell_type": "markdown",
   "metadata": {},
   "source": [
    "Assume we have enough servers to host each app (IP address), and each server can hold 20 apps. How many servers do we need?"
   ]
  },
  {
   "cell_type": "code",
   "execution_count": 34,
   "metadata": {},
   "outputs": [],
   "source": [
    "#assign servers\n",
    "apps_server=20\n",
    "server_df, server_rules, latency_total, latency_model_total, avg_latency, avg_model_latency=server_association(formated_rules, df, apps_server)\n"
   ]
  },
  {
   "cell_type": "code",
   "execution_count": 35,
   "metadata": {},
   "outputs": [
    {
     "data": {
      "text/plain": [
       "2014119.5810000007"
      ]
     },
     "execution_count": 35,
     "metadata": {},
     "output_type": "execute_result"
    }
   ],
   "source": [
    "latency_total"
   ]
  },
  {
   "cell_type": "code",
   "execution_count": 36,
   "metadata": {},
   "outputs": [
    {
     "data": {
      "text/plain": [
       "1144726.8879999986"
      ]
     },
     "execution_count": 36,
     "metadata": {},
     "output_type": "execute_result"
    }
   ],
   "source": [
    "latency_model_total"
   ]
  },
  {
   "cell_type": "code",
   "execution_count": 37,
   "metadata": {},
   "outputs": [
    {
     "data": {
      "text/plain": [
       "0.43164899502558474"
      ]
     },
     "execution_count": 37,
     "metadata": {},
     "output_type": "execute_result"
    }
   ],
   "source": [
    "(latency_total-latency_model_total)/latency_total"
   ]
  },
  {
   "cell_type": "code",
   "execution_count": null,
   "metadata": {},
   "outputs": [],
   "source": []
  },
  {
   "cell_type": "code",
   "execution_count": 39,
   "metadata": {},
   "outputs": [
    {
     "data": {
      "text/html": [
       "<div>\n",
       "<style scoped>\n",
       "    .dataframe tbody tr th:only-of-type {\n",
       "        vertical-align: middle;\n",
       "    }\n",
       "\n",
       "    .dataframe tbody tr th {\n",
       "        vertical-align: top;\n",
       "    }\n",
       "\n",
       "    .dataframe thead th {\n",
       "        text-align: right;\n",
       "    }\n",
       "</style>\n",
       "<table border=\"1\" class=\"dataframe\">\n",
       "  <thead>\n",
       "    <tr style=\"text-align: right;\">\n",
       "      <th></th>\n",
       "      <th>Date</th>\n",
       "      <th>Duration</th>\n",
       "      <th>Src_IP</th>\n",
       "      <th>Src_pt</th>\n",
       "      <th>Dst_IP</th>\n",
       "      <th>Dst_pt</th>\n",
       "      <th>Packets</th>\n",
       "      <th>Bytes</th>\n",
       "      <th>date_hr</th>\n",
       "      <th>pairs</th>\n",
       "      <th>pairs2</th>\n",
       "      <th>norm_latency</th>\n",
       "      <th>Src_Server</th>\n",
       "      <th>Dst_Server</th>\n",
       "      <th>duration_pred</th>\n",
       "    </tr>\n",
       "  </thead>\n",
       "  <tbody>\n",
       "    <tr>\n",
       "      <th>0</th>\n",
       "      <td>2017-08-02 00:00:00.419</td>\n",
       "      <td>0.003</td>\n",
       "      <td>192.168.210.55</td>\n",
       "      <td>44870</td>\n",
       "      <td>192.168.100.11</td>\n",
       "      <td>445.0</td>\n",
       "      <td>2</td>\n",
       "      <td>174</td>\n",
       "      <td>2017-08-02</td>\n",
       "      <td>[192.168.100.11, 192.168.210.55]</td>\n",
       "      <td>(192.168.100.11, 192.168.210.55)</td>\n",
       "      <td>0.0015</td>\n",
       "      <td>0.0</td>\n",
       "      <td>0.0</td>\n",
       "      <td>0.0</td>\n",
       "    </tr>\n",
       "    <tr>\n",
       "      <th>1</th>\n",
       "      <td>2017-08-02 00:00:00.421</td>\n",
       "      <td>0.000</td>\n",
       "      <td>192.168.100.11</td>\n",
       "      <td>445</td>\n",
       "      <td>192.168.210.55</td>\n",
       "      <td>44870.0</td>\n",
       "      <td>1</td>\n",
       "      <td>108</td>\n",
       "      <td>2017-08-02</td>\n",
       "      <td>[192.168.100.11, 192.168.210.55]</td>\n",
       "      <td>(192.168.100.11, 192.168.210.55)</td>\n",
       "      <td>0.0000</td>\n",
       "      <td>0.0</td>\n",
       "      <td>0.0</td>\n",
       "      <td>0.0</td>\n",
       "    </tr>\n",
       "    <tr>\n",
       "      <th>2</th>\n",
       "      <td>2017-08-02 00:00:02.593</td>\n",
       "      <td>0.004</td>\n",
       "      <td>192.168.220.47</td>\n",
       "      <td>55101</td>\n",
       "      <td>192.168.100.11</td>\n",
       "      <td>445.0</td>\n",
       "      <td>2</td>\n",
       "      <td>174</td>\n",
       "      <td>2017-08-02</td>\n",
       "      <td>[192.168.100.11, 192.168.220.47]</td>\n",
       "      <td>(192.168.100.11, 192.168.220.47)</td>\n",
       "      <td>0.0020</td>\n",
       "      <td>0.0</td>\n",
       "      <td>0.0</td>\n",
       "      <td>0.0</td>\n",
       "    </tr>\n",
       "    <tr>\n",
       "      <th>3</th>\n",
       "      <td>2017-08-02 00:00:02.859</td>\n",
       "      <td>0.000</td>\n",
       "      <td>10000_34</td>\n",
       "      <td>443</td>\n",
       "      <td>192.168.210.54</td>\n",
       "      <td>59628.0</td>\n",
       "      <td>1</td>\n",
       "      <td>100</td>\n",
       "      <td>2017-08-02</td>\n",
       "      <td>[10000_34, 192.168.210.54]</td>\n",
       "      <td>(10000_34, 192.168.210.54)</td>\n",
       "      <td>0.0000</td>\n",
       "      <td>NaN</td>\n",
       "      <td>3.0</td>\n",
       "      <td>0.0</td>\n",
       "    </tr>\n",
       "    <tr>\n",
       "      <th>4</th>\n",
       "      <td>2017-08-02 00:00:02.594</td>\n",
       "      <td>0.000</td>\n",
       "      <td>192.168.100.11</td>\n",
       "      <td>445</td>\n",
       "      <td>192.168.220.47</td>\n",
       "      <td>55101.0</td>\n",
       "      <td>1</td>\n",
       "      <td>108</td>\n",
       "      <td>2017-08-02</td>\n",
       "      <td>[192.168.100.11, 192.168.220.47]</td>\n",
       "      <td>(192.168.100.11, 192.168.220.47)</td>\n",
       "      <td>0.0000</td>\n",
       "      <td>0.0</td>\n",
       "      <td>0.0</td>\n",
       "      <td>0.0</td>\n",
       "    </tr>\n",
       "  </tbody>\n",
       "</table>\n",
       "</div>"
      ],
      "text/plain": [
       "                     Date  Duration          Src_IP  Src_pt          Dst_IP  \\\n",
       "0 2017-08-02 00:00:00.419     0.003  192.168.210.55   44870  192.168.100.11   \n",
       "1 2017-08-02 00:00:00.421     0.000  192.168.100.11     445  192.168.210.55   \n",
       "2 2017-08-02 00:00:02.593     0.004  192.168.220.47   55101  192.168.100.11   \n",
       "3 2017-08-02 00:00:02.859     0.000        10000_34     443  192.168.210.54   \n",
       "4 2017-08-02 00:00:02.594     0.000  192.168.100.11     445  192.168.220.47   \n",
       "\n",
       "    Dst_pt  Packets  Bytes    date_hr                             pairs  \\\n",
       "0    445.0        2    174 2017-08-02  [192.168.100.11, 192.168.210.55]   \n",
       "1  44870.0        1    108 2017-08-02  [192.168.100.11, 192.168.210.55]   \n",
       "2    445.0        2    174 2017-08-02  [192.168.100.11, 192.168.220.47]   \n",
       "3  59628.0        1    100 2017-08-02        [10000_34, 192.168.210.54]   \n",
       "4  55101.0        1    108 2017-08-02  [192.168.100.11, 192.168.220.47]   \n",
       "\n",
       "                             pairs2  norm_latency  Src_Server  Dst_Server  \\\n",
       "0  (192.168.100.11, 192.168.210.55)        0.0015         0.0         0.0   \n",
       "1  (192.168.100.11, 192.168.210.55)        0.0000         0.0         0.0   \n",
       "2  (192.168.100.11, 192.168.220.47)        0.0020         0.0         0.0   \n",
       "3        (10000_34, 192.168.210.54)        0.0000         NaN         3.0   \n",
       "4  (192.168.100.11, 192.168.220.47)        0.0000         0.0         0.0   \n",
       "\n",
       "   duration_pred  \n",
       "0            0.0  \n",
       "1            0.0  \n",
       "2            0.0  \n",
       "3            0.0  \n",
       "4            0.0  "
      ]
     },
     "execution_count": 39,
     "metadata": {},
     "output_type": "execute_result"
    }
   ],
   "source": [
    "server_df.head()"
   ]
  },
  {
   "cell_type": "code",
   "execution_count": null,
   "metadata": {},
   "outputs": [],
   "source": [
    "int(num_server)"
   ]
  },
  {
   "cell_type": "markdown",
   "metadata": {},
   "source": [
    "We know we can only fit 20 apps on each server, so in terms of the rules dataframe this is 10 rows (because each row contains 2 apps).\n",
    "Create a sequence that fills in the server number on the rules dataframe, then merge these servers into the entire dataset."
   ]
  },
  {
   "cell_type": "code",
   "execution_count": null,
   "metadata": {},
   "outputs": [],
   "source": [
    "#how many servers will we use for our rules\n",
    "import math\n",
    "pairs_server=apps_server/2\n",
    "\n",
    "#how many servers do we need for our rules, which are in pairs?\n",
    "servers_rule=math.ceil(len(rules)/pairs_server)"
   ]
  },
  {
   "cell_type": "code",
   "execution_count": null,
   "metadata": {},
   "outputs": [],
   "source": [
    "servers_rule_list=list(range(0,servers_rule+1))\n",
    "servers_rule_list=np.repeat(servers_rule_list,pairs_server)\n",
    "\n",
    "#remove the extra items\n",
    "servers_rule_list=servers_rule_list[0:len(rules)]"
   ]
  },
  {
   "cell_type": "code",
   "execution_count": null,
   "metadata": {},
   "outputs": [],
   "source": [
    "rules['server']=servers_rule_list"
   ]
  },
  {
   "cell_type": "code",
   "execution_count": null,
   "metadata": {},
   "outputs": [],
   "source": [
    "rules.tail(10)"
   ]
  },
  {
   "cell_type": "code",
   "execution_count": null,
   "metadata": {},
   "outputs": [],
   "source": [
    "rules_A=rules[['item_A', 'server']]\n",
    "rules_B=rules[['item_B', 'server']]\n",
    "rules_A.columns=['item', 'server']\n",
    "rules_B.columns=['item', 'server']"
   ]
  },
  {
   "cell_type": "code",
   "execution_count": null,
   "metadata": {},
   "outputs": [],
   "source": [
    "rules_AB=pd.concat([rules_A, rules_B])"
   ]
  },
  {
   "cell_type": "code",
   "execution_count": null,
   "metadata": {},
   "outputs": [],
   "source": [
    "rules_AB.head()"
   ]
  },
  {
   "cell_type": "markdown",
   "metadata": {},
   "source": [
    "### merge in the servers from the rules to the  main dataframe"
   ]
  },
  {
   "cell_type": "code",
   "execution_count": null,
   "metadata": {},
   "outputs": [],
   "source": [
    "df2=df\n"
   ]
  },
  {
   "cell_type": "code",
   "execution_count": null,
   "metadata": {},
   "outputs": [],
   "source": [
    "df2=df2.merge(rules_AB, left_on='Src_IP', right_on='item', how='left') #creates a column that shows the server used for Src_IP\n"
   ]
  },
  {
   "cell_type": "code",
   "execution_count": null,
   "metadata": {},
   "outputs": [],
   "source": [
    "df2=df2.rename(columns = {'server':'server_Src'})"
   ]
  },
  {
   "cell_type": "code",
   "execution_count": null,
   "metadata": {},
   "outputs": [],
   "source": [
    "df2=df2.merge(rules_AB, left_on='Dst_IP', right_on='item', how='left') #creates a column that shows the server used for Src_IP\n",
    " #creates a column that shows the server used for Dst_IP, or 'itemB' in the rules"
   ]
  },
  {
   "cell_type": "code",
   "execution_count": null,
   "metadata": {},
   "outputs": [],
   "source": [
    "df2=df2.rename(columns = {'server':'server_Dst'})\n"
   ]
  },
  {
   "cell_type": "code",
   "execution_count": null,
   "metadata": {},
   "outputs": [],
   "source": [
    "df2=df2.drop(['item_y', 'item_x'], axis=1)"
   ]
  },
  {
   "cell_type": "markdown",
   "metadata": {},
   "source": [
    "create new column with the predicted durationo. if servers are the same for the pair, set duration=0"
   ]
  },
  {
   "cell_type": "code",
   "execution_count": null,
   "metadata": {},
   "outputs": [],
   "source": [
    "df2['duration_pred']=df2['Duration']\n",
    "df2['duration_pred'][df2['server_Src']==df2['server_Dst']]=0"
   ]
  },
  {
   "cell_type": "code",
   "execution_count": null,
   "metadata": {},
   "outputs": [],
   "source": [
    "#want to check that we do indeed have matching servers for the rules we created\n",
    "df2[df2['server_Src']==df2['server_Dst']]"
   ]
  },
  {
   "cell_type": "markdown",
   "metadata": {},
   "source": [
    "Sum up the originial duration times for latency, and compare that with our predicted latency times"
   ]
  },
  {
   "cell_type": "code",
   "execution_count": null,
   "metadata": {},
   "outputs": [],
   "source": [
    "df2['Duration'].sum()"
   ]
  },
  {
   "cell_type": "code",
   "execution_count": null,
   "metadata": {},
   "outputs": [],
   "source": [
    "df2['duration_pred'].sum()"
   ]
  },
  {
   "cell_type": "markdown",
   "metadata": {},
   "source": [
    "% Difference:"
   ]
  },
  {
   "cell_type": "code",
   "execution_count": null,
   "metadata": {},
   "outputs": [],
   "source": [
    "(df2['Duration'].sum()- df2['duration_pred'].sum())/ df2['Duration'].sum()"
   ]
  },
  {
   "cell_type": "markdown",
   "metadata": {},
   "source": [
    "a 1% improvement"
   ]
  },
  {
   "cell_type": "markdown",
   "metadata": {},
   "source": [
    "Now, fill in the rest of the servers based on random chance."
   ]
  },
  {
   "cell_type": "code",
   "execution_count": null,
   "metadata": {},
   "outputs": [],
   "source": []
  }
 ],
 "metadata": {
  "kernelspec": {
   "display_name": "Python [conda env:anaconda3]",
   "language": "python",
   "name": "conda-env-anaconda3-py"
  },
  "language_info": {
   "codemirror_mode": {
    "name": "ipython",
    "version": 3
   },
   "file_extension": ".py",
   "mimetype": "text/x-python",
   "name": "python",
   "nbconvert_exporter": "python",
   "pygments_lexer": "ipython3",
   "version": "3.6.4"
  }
 },
 "nbformat": 4,
 "nbformat_minor": 2
}
