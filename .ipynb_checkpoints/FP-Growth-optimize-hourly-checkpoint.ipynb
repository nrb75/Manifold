{
 "cells": [
  {
   "cell_type": "code",
   "execution_count": 7,
   "metadata": {},
   "outputs": [],
   "source": [
    "import boto3\n",
    "import pandas as pd\n",
    "import numpy as np\n",
    "import matplotlib.pyplot as plt\n",
    "from io import BytesIO\n",
    "from mlxtend.preprocessing import TransactionEncoder\n",
    "import random\n",
    "from mlxtend.frequent_patterns import apriori\n",
    "import pyfpgrowth\n",
    "from format_rules import format_rules\n",
    "#from server_association import server_association\n",
    "from Server_Assign import server_association\n",
    "from hourly_step2 import hourly_step_output\n",
    "#from apyori import apriori "
   ]
  },
  {
   "cell_type": "code",
   "execution_count": 8,
   "metadata": {},
   "outputs": [],
   "source": [
    "#load data\n",
    "df=pd.read_csv('df_test.csv')\n",
    "#client = boto3.client('s3')\n",
    "#obj = client.get_object(Bucket='manifolddata', Key='week1.csv')\n",
    "#df = pd.read_csv(BytesIO(obj['Body'].read()), low_memory=False)\n",
    "\n",
    "\n",
    "#df=df.iloc[:,[0,1,3,4,5,6,7,8]]\n",
    "#df.columns=['Date', 'Duration', 'Src_IP', 'Src_pt', 'Dst_IP', 'Dst_pt','Packets', 'Bytes']\n",
    "#add an date column that is rounded to nearest hour, so we can use this as a timestep to see how frequently IP pairs occur in each timestep\n",
    "df['Date']=pd.to_datetime(df['Date'], format=\"%Y-%m-%d %H:%M:%S.%f\", errors = 'coerce')\n",
    "df['date_hr']=pd.Series(df['Date']).dt.round(\"H\")\n"
   ]
  },
  {
   "cell_type": "code",
   "execution_count": 9,
   "metadata": {},
   "outputs": [],
   "source": [
    "#create a pair column, which is a touple of the src and dst IP, sorted. \n",
    "#It does not matter which call came first, we simply want to know which pair occurs most frequently.\n",
    "\n",
    "df['pairs']=list(zip(df.Src_IP, df.Dst_IP))\n",
    "df['pairs']=df['pairs'].apply(sorted)\n",
    "df['pairs2']=tuple(df['pairs'])\n",
    "#create a normalized latency column = duration/packets\n",
    "df['norm_latency']=df['Duration']/df['Packets']"
   ]
  },
  {
   "cell_type": "code",
   "execution_count": 10,
   "metadata": {},
   "outputs": [],
   "source": [
    "def convert_si_to_number(x):\n",
    "    total_stars = 0\n",
    "    if 'k' in x:\n",
    "        if len(x) > 1:\n",
    "            total_stars = float(x.replace('k', '')) * 1000 # convert k to a thousand\n",
    "    elif 'M' in x:\n",
    "        if len(x) > 1:\n",
    "            total_stars = float(x.replace('M', '')) * 1000000 # convert M to a million\n",
    "    elif 'B' in x:\n",
    "        total_stars = float(x.replace('B', '')) * 1000000000 # convert B to a Billion\n",
    "    else:\n",
    "        total_stars = int(x) # Less than 1000\n",
    "    return int(total_stars)"
   ]
  },
  {
   "cell_type": "code",
   "execution_count": 11,
   "metadata": {},
   "outputs": [],
   "source": [
    "df.Bytes=df.Bytes.astype('str')\n",
    "test_list=df.Bytes\n",
    "\n",
    "[i for i, s in enumerate(test_list) if 'M' in s]#show where the M errors are happening\n",
    "\n",
    "test_list= [convert_si_to_number(x) for x in test_list]\n",
    "df.Bytes=test_list #bring it back into the dataframe\n"
   ]
  },
  {
   "cell_type": "code",
   "execution_count": 12,
   "metadata": {},
   "outputs": [],
   "source": [
    "#add hour column, where it is a value 1-24, and repeats each day\n",
    "df['hour']=None\n",
    "df['hour']=pd.DatetimeIndex(df['Date']).hour\n",
    "\n",
    "#lambda x: x[0]).head()"
   ]
  },
  {
   "cell_type": "code",
   "execution_count": 13,
   "metadata": {},
   "outputs": [
    {
     "data": {
      "text/html": [
       "<div>\n",
       "<style scoped>\n",
       "    .dataframe tbody tr th:only-of-type {\n",
       "        vertical-align: middle;\n",
       "    }\n",
       "\n",
       "    .dataframe tbody tr th {\n",
       "        vertical-align: top;\n",
       "    }\n",
       "\n",
       "    .dataframe thead th {\n",
       "        text-align: right;\n",
       "    }\n",
       "</style>\n",
       "<table border=\"1\" class=\"dataframe\">\n",
       "  <thead>\n",
       "    <tr style=\"text-align: right;\">\n",
       "      <th></th>\n",
       "      <th>Unnamed: 0</th>\n",
       "      <th>Date</th>\n",
       "      <th>Duration</th>\n",
       "      <th>Src_IP</th>\n",
       "      <th>Src_pt</th>\n",
       "      <th>Dst_IP</th>\n",
       "      <th>Dst_pt</th>\n",
       "      <th>Packets</th>\n",
       "      <th>Bytes</th>\n",
       "      <th>date_hr</th>\n",
       "      <th>pairs</th>\n",
       "      <th>pairs2</th>\n",
       "      <th>norm_latency</th>\n",
       "      <th>hour</th>\n",
       "    </tr>\n",
       "  </thead>\n",
       "  <tbody>\n",
       "    <tr>\n",
       "      <th>0</th>\n",
       "      <td>0</td>\n",
       "      <td>2017-08-02 00:00:00.419</td>\n",
       "      <td>0.003</td>\n",
       "      <td>192.168.210.55</td>\n",
       "      <td>44870</td>\n",
       "      <td>192.168.100.11</td>\n",
       "      <td>445.0</td>\n",
       "      <td>2</td>\n",
       "      <td>174</td>\n",
       "      <td>2017-08-02</td>\n",
       "      <td>[192.168.100.11, 192.168.210.55]</td>\n",
       "      <td>(192.168.100.11, 192.168.210.55)</td>\n",
       "      <td>0.0015</td>\n",
       "      <td>0</td>\n",
       "    </tr>\n",
       "    <tr>\n",
       "      <th>1</th>\n",
       "      <td>1</td>\n",
       "      <td>2017-08-02 00:00:00.421</td>\n",
       "      <td>0.000</td>\n",
       "      <td>192.168.100.11</td>\n",
       "      <td>445</td>\n",
       "      <td>192.168.210.55</td>\n",
       "      <td>44870.0</td>\n",
       "      <td>1</td>\n",
       "      <td>108</td>\n",
       "      <td>2017-08-02</td>\n",
       "      <td>[192.168.100.11, 192.168.210.55]</td>\n",
       "      <td>(192.168.100.11, 192.168.210.55)</td>\n",
       "      <td>0.0000</td>\n",
       "      <td>0</td>\n",
       "    </tr>\n",
       "    <tr>\n",
       "      <th>2</th>\n",
       "      <td>2</td>\n",
       "      <td>2017-08-02 00:00:02.593</td>\n",
       "      <td>0.004</td>\n",
       "      <td>192.168.220.47</td>\n",
       "      <td>55101</td>\n",
       "      <td>192.168.100.11</td>\n",
       "      <td>445.0</td>\n",
       "      <td>2</td>\n",
       "      <td>174</td>\n",
       "      <td>2017-08-02</td>\n",
       "      <td>[192.168.100.11, 192.168.220.47]</td>\n",
       "      <td>(192.168.100.11, 192.168.220.47)</td>\n",
       "      <td>0.0020</td>\n",
       "      <td>0</td>\n",
       "    </tr>\n",
       "    <tr>\n",
       "      <th>3</th>\n",
       "      <td>3</td>\n",
       "      <td>2017-08-02 00:00:02.859</td>\n",
       "      <td>0.000</td>\n",
       "      <td>10000_34</td>\n",
       "      <td>443</td>\n",
       "      <td>192.168.210.54</td>\n",
       "      <td>59628.0</td>\n",
       "      <td>1</td>\n",
       "      <td>100</td>\n",
       "      <td>2017-08-02</td>\n",
       "      <td>[10000_34, 192.168.210.54]</td>\n",
       "      <td>(10000_34, 192.168.210.54)</td>\n",
       "      <td>0.0000</td>\n",
       "      <td>0</td>\n",
       "    </tr>\n",
       "    <tr>\n",
       "      <th>4</th>\n",
       "      <td>4</td>\n",
       "      <td>2017-08-02 00:00:02.594</td>\n",
       "      <td>0.000</td>\n",
       "      <td>192.168.100.11</td>\n",
       "      <td>445</td>\n",
       "      <td>192.168.220.47</td>\n",
       "      <td>55101.0</td>\n",
       "      <td>1</td>\n",
       "      <td>108</td>\n",
       "      <td>2017-08-02</td>\n",
       "      <td>[192.168.100.11, 192.168.220.47]</td>\n",
       "      <td>(192.168.100.11, 192.168.220.47)</td>\n",
       "      <td>0.0000</td>\n",
       "      <td>0</td>\n",
       "    </tr>\n",
       "  </tbody>\n",
       "</table>\n",
       "</div>"
      ],
      "text/plain": [
       "   Unnamed: 0                    Date  Duration          Src_IP  Src_pt  \\\n",
       "0           0 2017-08-02 00:00:00.419     0.003  192.168.210.55   44870   \n",
       "1           1 2017-08-02 00:00:00.421     0.000  192.168.100.11     445   \n",
       "2           2 2017-08-02 00:00:02.593     0.004  192.168.220.47   55101   \n",
       "3           3 2017-08-02 00:00:02.859     0.000        10000_34     443   \n",
       "4           4 2017-08-02 00:00:02.594     0.000  192.168.100.11     445   \n",
       "\n",
       "           Dst_IP   Dst_pt  Packets  Bytes    date_hr  \\\n",
       "0  192.168.100.11    445.0        2    174 2017-08-02   \n",
       "1  192.168.210.55  44870.0        1    108 2017-08-02   \n",
       "2  192.168.100.11    445.0        2    174 2017-08-02   \n",
       "3  192.168.210.54  59628.0        1    100 2017-08-02   \n",
       "4  192.168.220.47  55101.0        1    108 2017-08-02   \n",
       "\n",
       "                              pairs                            pairs2  \\\n",
       "0  [192.168.100.11, 192.168.210.55]  (192.168.100.11, 192.168.210.55)   \n",
       "1  [192.168.100.11, 192.168.210.55]  (192.168.100.11, 192.168.210.55)   \n",
       "2  [192.168.100.11, 192.168.220.47]  (192.168.100.11, 192.168.220.47)   \n",
       "3        [10000_34, 192.168.210.54]        (10000_34, 192.168.210.54)   \n",
       "4  [192.168.100.11, 192.168.220.47]  (192.168.100.11, 192.168.220.47)   \n",
       "\n",
       "   norm_latency  hour  \n",
       "0        0.0015     0  \n",
       "1        0.0000     0  \n",
       "2        0.0020     0  \n",
       "3        0.0000     0  \n",
       "4        0.0000     0  "
      ]
     },
     "execution_count": 13,
     "metadata": {},
     "output_type": "execute_result"
    }
   ],
   "source": [
    "df.head()"
   ]
  },
  {
   "cell_type": "markdown",
   "metadata": {},
   "source": [
    "how many transactions do we have?"
   ]
  },
  {
   "cell_type": "code",
   "execution_count": 69,
   "metadata": {},
   "outputs": [
    {
     "data": {
      "text/plain": [
       "4000"
      ]
     },
     "execution_count": 69,
     "metadata": {},
     "output_type": "execute_result"
    }
   ],
   "source": [
    "len(df)"
   ]
  },
  {
   "cell_type": "markdown",
   "metadata": {},
   "source": [
    "## Implement Frequent Pattern (FP) - Growth algorithm\n",
    "\n",
    "https://fp-growth.readthedocs.io/en/latest/usage.html\n",
    "\n",
    "This algorithm\n",
    "1. Counts occurence of items in dataset in 1st pass\n",
    "2. Build FP-tree by inserting instances, and adds count to each instance based on the number of times it appears in the dataset. Those infrequent instances are dropped from the tree.\n",
    "\n",
    "This allows the frequentest set to be generated organically, instead of creating a list of each itemset and checking if it does/does not pass minimum threshold (like Apriori algorithm)\n",
    "\n",
    "#### Vocabulary\n",
    " - itemset = all items in 1 transaction\n",
    "A \"pattern\" is a conjunction of items, or the unique itemset.\n",
    "A \"rule\" X --> Y means if you buy X you are likely to buy Y, or in this case if X IP address is used Y IP address is likely also\n",
    "\n",
    "\n",
    "#### Evaluation metrics include:\n",
    "\n",
    "1. Support = how frequently it occurs. The number of transactions of that unique itemset / all transactions. In this case: number of times IP pair occurs/all requests\n",
    "\n",
    "2. Confidence = how often rule is likely to be true. frequency of X and Y occuring/ frequency of X occuring in entire dataset. Conditional probability of Y given X. P(Ey|Ex)\n",
    "\n",
    "3. Lift = How likely is item Y given item X occurs, controlling for how frequent Y occurs in the entire dataset. For rule X-->Y, lift = P(Y|X)/P(Y).\n",
    "    Lift = 1 means X and Y are independent\n",
    "    Lift >1 = X and Y are positively correlated\n",
    "    Lift <1 = X and Y are negatively correlated"
   ]
  },
  {
   "cell_type": "markdown",
   "metadata": {},
   "source": [
    "## 2. Implement Frequentest paterns algorithm\n",
    "\n",
    "Before we run this algorithm, we should have some idea of the minimum threshold we want to set. This is the \"support\" for each IP pair. Support = % of time this pair occurs in dataset."
   ]
  },
  {
   "cell_type": "markdown",
   "metadata": {},
   "source": [
    "### Do this for each hour in the dataset, we think that frequency in pairs might change with time."
   ]
  },
  {
   "cell_type": "code",
   "execution_count": 70,
   "metadata": {},
   "outputs": [],
   "source": [
    "data_groups=[]\n",
    "\n",
    "for i in range(0,25):\n",
    "    data=df[df['hour']==i]\n",
    "    data_groups.append(data)"
   ]
  },
  {
   "cell_type": "code",
   "execution_count": 71,
   "metadata": {},
   "outputs": [],
   "source": [
    "pairs_list=[]\n",
    "per80_list=[]\n",
    "data_l_list=[]\n",
    "patterns_list=[]\n",
    "rules_list=[]\n",
    "confidence=0.7 #this means the rule is likely to be true 20% of the time, it is a high threshold, used for testing\n",
    "\n",
    "\n",
    "for i in data_groups:    \n",
    "    data_l=list(i['pairs'])\n",
    "    pairs_count=(i.groupby('pairs2').agg({'Date':'count', 'norm_latency': 'mean', 'Duration': 'sum', 'Packets':'sum'}).reset_index())\n",
    "    pairs_count.columns=['pairs','frequency', 'avg_norm_latency', 'total_duration', 'total_packets']\n",
    "    pairs_count['norm_latency']=(pairs_count['total_duration']/pairs_count['total_packets'].sum())*100 #sum of all duration time divided by sum of all packets transfered for that pair\n",
    "    pairs_list.append(pairs_count)\n",
    "    per_80=(pairs_count['frequency'].quantile(.8))\n",
    "    patterns = pyfpgrowth.find_frequent_patterns(data_l, per_80) \n",
    "    patterns_list.append(patterns)\n",
    "    rules = pyfpgrowth.generate_association_rules(patterns, confidence)\n",
    "    rules_list.append(rules)\n",
    "      "
   ]
  },
  {
   "cell_type": "code",
   "execution_count": 72,
   "metadata": {},
   "outputs": [],
   "source": [
    "#format the rules, bring back in the other info on latency rank\n",
    "while {} in rules_list:\n",
    "    rules_list.remove({})#last item was empty, remove it\n",
    "\n",
    "formated_rules=[]\n",
    "apps_server=20\n",
    "\n",
    "for i in rules_list:\n",
    "    formatrule=format_rules(i, df, apps_server)\n",
    "    formated_rules.append(formatrule)\n"
   ]
  },
  {
   "cell_type": "markdown",
   "metadata": {},
   "source": [
    "## Assign Servers to each IP address in the rules dataframe\n",
    "\n",
    "Start with the highest rank IP pair, assign matching servers and then move on to the next highest rank pair until that server is full. This is a 'dumb' approach, but  it clearly assigns things based on priority and gets a proof of concept. Because IP addresses repeat throughout the rules dataset, we will remove repeated IPs leaving the highest ranked IP.\n",
    "\n",
    "For this exercise we assume a server can hold 20 apps, or 10 pairs"
   ]
  },
  {
   "cell_type": "code",
   "execution_count": 73,
   "metadata": {},
   "outputs": [
    {
     "data": {
      "text/plain": [
       "range(0, 2)"
      ]
     },
     "execution_count": 73,
     "metadata": {},
     "output_type": "execute_result"
    }
   ],
   "source": [
    "range(len(formated_rules))"
   ]
  },
  {
   "cell_type": "code",
   "execution_count": 74,
   "metadata": {},
   "outputs": [],
   "source": [
    "#assign IPs to the servers at each hour\n",
    "server_assign_list=[]\n",
    "total_latency_list=[]\n",
    "total_latency_model_list=[]\n",
    "avg_latency_list=[]\n",
    "avg_latency_model_list=[]\n",
    "\n",
    "\n",
    "for i, j in zip(formated_rules, data_groups) :\n",
    "    server_df, server_assignments, total_latency, total_latency_model, avg_latency, avg_latency_model = server_association(i, j, apps_server) #this function loaded fr\n",
    "    server_assign_list.append(server_assignments)\n",
    "    total_latency_list.append(total_latency)\n",
    "    total_latency_model_list.append(total_latency_model)\n",
    "    avg_latency_list.append(avg_latency)\n",
    "    avg_latency_model_list.append(avg_latency_model)\n",
    "    "
   ]
  },
  {
   "cell_type": "code",
   "execution_count": 75,
   "metadata": {},
   "outputs": [],
   "source": [
    "#original times\n",
    "\n",
    "df_hour=df.groupby('hour')['Duration'].sum()"
   ]
  },
  {
   "cell_type": "code",
   "execution_count": 76,
   "metadata": {},
   "outputs": [
    {
     "data": {
      "text/html": [
       "<div>\n",
       "<style scoped>\n",
       "    .dataframe tbody tr th:only-of-type {\n",
       "        vertical-align: middle;\n",
       "    }\n",
       "\n",
       "    .dataframe tbody tr th {\n",
       "        vertical-align: top;\n",
       "    }\n",
       "\n",
       "    .dataframe thead th {\n",
       "        text-align: right;\n",
       "    }\n",
       "</style>\n",
       "<table border=\"1\" class=\"dataframe\">\n",
       "  <thead>\n",
       "    <tr style=\"text-align: right;\">\n",
       "      <th></th>\n",
       "      <th>hours</th>\n",
       "      <th>total_latency</th>\n",
       "      <th>total_latency_model</th>\n",
       "      <th>avg_latency</th>\n",
       "      <th>avg_latency_model</th>\n",
       "      <th>avg_latency_per_reduction</th>\n",
       "    </tr>\n",
       "  </thead>\n",
       "  <tbody>\n",
       "    <tr>\n",
       "      <th>0</th>\n",
       "      <td>0</td>\n",
       "      <td>171.389</td>\n",
       "      <td>45.729</td>\n",
       "      <td>0.055305</td>\n",
       "      <td>0.014756</td>\n",
       "      <td>73.318591</td>\n",
       "    </tr>\n",
       "    <tr>\n",
       "      <th>1</th>\n",
       "      <td>1</td>\n",
       "      <td>69.903</td>\n",
       "      <td>66.378</td>\n",
       "      <td>0.077584</td>\n",
       "      <td>0.073671</td>\n",
       "      <td>5.042702</td>\n",
       "    </tr>\n",
       "  </tbody>\n",
       "</table>\n",
       "</div>"
      ],
      "text/plain": [
       "   hours  total_latency  total_latency_model  avg_latency  avg_latency_model  \\\n",
       "0      0        171.389               45.729     0.055305           0.014756   \n",
       "1      1         69.903               66.378     0.077584           0.073671   \n",
       "\n",
       "   avg_latency_per_reduction  \n",
       "0                  73.318591  \n",
       "1                   5.042702  "
      ]
     },
     "execution_count": 76,
     "metadata": {},
     "output_type": "execute_result"
    }
   ],
   "source": [
    "#bring together all the durations for the actual data and the model\n",
    "hours=range(0,df['hour'].nunique())\n",
    "model_output=pd.DataFrame({'hours':hours,'total_latency_list': total_latency_list, 'total_latency_model_list': total_latency_model_list, 'avg_latency_list': avg_latency_list, 'avg_latency_model_list': avg_latency_model_list})\n",
    "model_output.columns=['hours', 'total_latency', 'total_latency_model', 'avg_latency', 'avg_latency_model']\n",
    "model_output['avg_latency_per_reduction']=((model_output['avg_latency']-model_output['avg_latency_model'])/model_output['avg_latency'])*100\n",
    "model_output"
   ]
  },
  {
   "cell_type": "markdown",
   "metadata": {},
   "source": [
    "How did this model do?"
   ]
  },
  {
   "cell_type": "code",
   "execution_count": 77,
   "metadata": {},
   "outputs": [
    {
     "data": {
      "text/plain": [
       "241.29200000000003"
      ]
     },
     "execution_count": 77,
     "metadata": {},
     "output_type": "execute_result"
    }
   ],
   "source": [
    "model_output['total_latency'].sum() #original total latency"
   ]
  },
  {
   "cell_type": "code",
   "execution_count": 78,
   "metadata": {},
   "outputs": [
    {
     "data": {
      "text/plain": [
       "112.107"
      ]
     },
     "execution_count": 78,
     "metadata": {},
     "output_type": "execute_result"
    }
   ],
   "source": [
    "model_output['total_latency_model'].sum()#predicted latency, does not match the other output.... what is wrong..."
   ]
  },
  {
   "cell_type": "markdown",
   "metadata": {},
   "source": [
    "## Overall, this is a % improvement in total latency:"
   ]
  },
  {
   "cell_type": "code",
   "execution_count": 79,
   "metadata": {},
   "outputs": [
    {
     "data": {
      "text/plain": [
       "0.5353886577259089"
      ]
     },
     "execution_count": 79,
     "metadata": {},
     "output_type": "execute_result"
    }
   ],
   "source": [
    "(model_output['total_latency'].sum()-model_output['total_latency_model'].sum())/model_output['total_latency'].sum()"
   ]
  },
  {
   "cell_type": "markdown",
   "metadata": {},
   "source": [
    "What about average transaction time?"
   ]
  },
  {
   "cell_type": "code",
   "execution_count": 80,
   "metadata": {},
   "outputs": [
    {
     "data": {
      "text/plain": [
       "0.06644420508710128"
      ]
     },
     "execution_count": 80,
     "metadata": {},
     "output_type": "execute_result"
    }
   ],
   "source": [
    "model_output['avg_latency'].mean()"
   ]
  },
  {
   "cell_type": "code",
   "execution_count": 81,
   "metadata": {},
   "outputs": [
    {
     "data": {
      "text/plain": [
       "0.044213763238221904"
      ]
     },
     "execution_count": 81,
     "metadata": {},
     "output_type": "execute_result"
    }
   ],
   "source": [
    "model_output['avg_latency_model'].mean()"
   ]
  },
  {
   "cell_type": "code",
   "execution_count": 82,
   "metadata": {},
   "outputs": [
    {
     "data": {
      "text/plain": [
       "39.180646535693796"
      ]
     },
     "execution_count": 82,
     "metadata": {},
     "output_type": "execute_result"
    }
   ],
   "source": [
    "#each hour the avg transaction time is averaged for a overall avg\n",
    "\n",
    "model_output['avg_latency_per_reduction'].mean()"
   ]
  },
  {
   "cell_type": "code",
   "execution_count": 83,
   "metadata": {},
   "outputs": [
    {
     "data": {
      "image/png": "[encoded data removed]",
      "text/plain": [
       "<Figure size 432x288 with 1 Axes>"
      ]
     },
     "metadata": {
      "needs_background": "light"
     },
     "output_type": "display_data"
    }
   ],
   "source": [
    "from datetime import datetime\n",
    "import matplotlib.pyplot as plt\n",
    "from matplotlib.dates import DateFormatter\n",
    "\n",
    "fig, ax = plt.subplots()\n",
    "ax.plot(model_output['hours'], model_output['total_latency'])\n",
    "ax.plot(model_output['hours'], model_output['total_latency_model'])\n",
    "\n",
    "\n",
    "## Rotate date labels automatically\n",
    "fig.autofmt_xdate()\n",
    "plt.ylabel('Total latency (s)')\n",
    "plt.xlabel('hour of day')\n",
    "plt.title('Total latency')\n",
    "plt.show()"
   ]
  },
  {
   "cell_type": "code",
   "execution_count": 84,
   "metadata": {},
   "outputs": [
    {
     "data": {
      "image/png": "[encoded data removed]",
      "text/plain": [
       "<Figure size 504x360 with 1 Axes>"
      ]
     },
     "metadata": {
      "needs_background": "light"
     },
     "output_type": "display_data"
    }
   ],
   "source": [
    "from datetime import datetime\n",
    "import matplotlib.pyplot as plt\n",
    "from matplotlib.dates import DateFormatter\n",
    "\n",
    "fig, ax = plt.subplots(1,1, figsize=(7,5))\n",
    "ax.plot(model_output['hours'], model_output['avg_latency'], color='steelblue', linewidth=2.0)\n",
    "ax.plot(model_output['hours'], model_output['avg_latency_model'], color='firebrick', linewidth=4.0)\n",
    "\n",
    "\n",
    "## Rotate date labels automatically\n",
    "fig.autofmt_xdate()\n",
    "plt.ylabel('Latency (s)')\n",
    "plt.xlabel('hour of day')\n",
    "plt.title('Average Transaction Latency')\n",
    "fig.savefig('Average_transaction_latency_hours_day1.png')"
   ]
  },
  {
   "cell_type": "markdown",
   "metadata": {},
   "source": [
    "## Same analysis but use modules"
   ]
  },
  {
   "cell_type": "code",
   "execution_count": 14,
   "metadata": {},
   "outputs": [],
   "source": [
    "confidence=0.7\n",
    "percentile=0.8\n",
    "apps_server=20\n",
    "\n",
    "model_output, total_latency, total_model_latency, avg_latency, avg_model_latency=hourly_step_output(df, confidence=confidence, percentile=percentile, apps_server=apps_server)"
   ]
  },
  {
   "cell_type": "code",
   "execution_count": 16,
   "metadata": {},
   "outputs": [
    {
     "data": {
      "text/plain": [
       "241.29200000000003"
      ]
     },
     "execution_count": 16,
     "metadata": {},
     "output_type": "execute_result"
    }
   ],
   "source": [
    "total_latency"
   ]
  },
  {
   "cell_type": "code",
   "execution_count": 17,
   "metadata": {},
   "outputs": [
    {
     "data": {
      "text/plain": [
       "112.107"
      ]
     },
     "execution_count": 17,
     "metadata": {},
     "output_type": "execute_result"
    }
   ],
   "source": [
    "total_model_latency"
   ]
  },
  {
   "cell_type": "code",
   "execution_count": null,
   "metadata": {},
   "outputs": [],
   "source": []
  },
  {
   "cell_type": "code",
   "execution_count": 109,
   "metadata": {},
   "outputs": [],
   "source": [
    "df['hour']=None\n",
    "df['hour']=pd.DatetimeIndex(df['Date']).hour\n",
    "\n",
    "data_groups=[]\n",
    "\n",
    "for i in range(0,25):\n",
    "    data=df[df['hour']==i]\n",
    "    data_groups.append(data)\n",
    "    \n",
    "pairs_list=[]\n",
    "data_l_list=[]\n",
    "patterns_list=[]\n",
    "rules_list=[]\n",
    "\n",
    "for i in data_groups:    \n",
    "    data_l=list(i['pairs'])\n",
    "    pairs_count=(i.groupby('pairs2').agg({'Date':'count', 'norm_latency': 'mean', 'Duration': 'sum', 'Packets':'sum'}).reset_index())\n",
    "    pairs_count.columns=['pairs','frequency', 'avg_norm_latency', 'total_duration', 'total_packets']\n",
    "    pairs_count['norm_latency']=(pairs_count['total_duration']/pairs_count['total_packets'].sum())*100 #sum of all duration time divided by sum of all packets transfered for that pair\n",
    "    pairs_list.append(pairs_count)\n",
    "    per_n=(pairs_count['frequency'].quantile(percentile))\n",
    "    patterns = pyfpgrowth.find_frequent_patterns(data_l, per_n) \n",
    "    patterns_list.append(patterns)\n",
    "    rules = pyfpgrowth.generate_association_rules(patterns, confidence)\n",
    "    rules_list.append(rules)\n",
    "    "
   ]
  },
  {
   "cell_type": "code",
   "execution_count": 110,
   "metadata": {},
   "outputs": [],
   "source": [
    "#format the rules, bring back in the other info on latency rank\n",
    "while {} in rules_list:\n",
    "    rules_list.remove({})#lremove empty items if they have less than 24 hours\n",
    "formated_rules=[]"
   ]
  },
  {
   "cell_type": "code",
   "execution_count": 58,
   "metadata": {},
   "outputs": [
    {
     "data": {
      "text/plain": [
       "[{('192.168.210.49',): (('192.168.100.11',), 0.8548387096774194),\n",
       "  ('192.168.210.47',): (('192.168.100.11',), 0.8571428571428571),\n",
       "  ('192.168.220.49',): (('192.168.100.11',), 0.8571428571428571),\n",
       "  ('192.168.220.44',): (('192.168.100.11',), 0.859375),\n",
       "  ('192.168.210.50',): (('192.168.100.11',), 0.859375),\n",
       "  ('192.168.220.50',): (('192.168.100.11',), 0.859375),\n",
       "  ('192.168.210.48',): (('192.168.100.11',), 0.859375),\n",
       "  ('192.168.210.56',): (('192.168.100.11',), 0.8615384615384616),\n",
       "  ('192.168.210.45',): (('192.168.100.11',), 0.8615384615384616),\n",
       "  ('192.168.220.45',): (('192.168.100.11',), 0.8615384615384616),\n",
       "  ('192.168.220.51',): (('192.168.100.11',), 0.8615384615384616),\n",
       "  ('192.168.220.48',): (('192.168.100.11',), 0.8625954198473282),\n",
       "  ('192.168.210.55',): (('192.168.100.11',), 0.8636363636363636),\n",
       "  ('192.168.220.47',): (('192.168.100.11',), 0.8636363636363636),\n",
       "  ('192.168.220.42',): (('192.168.100.11',), 0.8636363636363636),\n",
       "  ('192.168.220.46',): (('192.168.100.11',), 0.8636363636363636),\n",
       "  ('192.168.210.46',): (('192.168.100.11',), 0.8636363636363636),\n",
       "  ('192.168.220.43',): (('192.168.100.11',), 0.8636363636363636),\n",
       "  ('10003_235',): (('192.168.210.54',), 1.0)},\n",
       " {('192.168.220.48',): (('192.168.100.11',), 0.8823529411764706),\n",
       "  ('192.168.210.45',): (('192.168.100.11',), 0.8823529411764706),\n",
       "  ('192.168.220.50',): (('192.168.100.11',), 0.8823529411764706),\n",
       "  ('192.168.210.47',): (('192.168.100.11',), 0.8823529411764706),\n",
       "  ('192.168.210.48',): (('192.168.100.11',), 0.8823529411764706),\n",
       "  ('192.168.210.50',): (('192.168.100.11',), 0.8571428571428571),\n",
       "  ('192.168.220.49',): (('192.168.100.11',), 0.8888888888888888),\n",
       "  ('192.168.210.49',): (('192.168.100.11',), 0.8888888888888888),\n",
       "  ('192.168.220.45',): (('192.168.100.11',), 0.8888888888888888),\n",
       "  ('192.168.210.55',): (('192.168.100.11',), 0.8888888888888888),\n",
       "  ('192.168.220.51',): (('192.168.100.11',), 0.8888888888888888),\n",
       "  ('192.168.210.56',): (('192.168.100.11',), 0.8333333333333334),\n",
       "  ('192.168.220.47',): (('192.168.100.11',), 0.8648648648648649),\n",
       "  ('192.168.220.42',): (('192.168.100.11',), 0.8648648648648649),\n",
       "  ('192.168.220.44',): (('192.168.100.11',), 0.8918918918918919),\n",
       "  ('192.168.210.46',): (('192.168.100.11',), 0.8947368421052632),\n",
       "  ('192.168.220.46',): (('192.168.100.11',), 0.8421052631578947),\n",
       "  ('192.168.220.43',): (('192.168.100.11',), 0.8421052631578947)}]"
      ]
     },
     "execution_count": 58,
     "metadata": {},
     "output_type": "execute_result"
    }
   ],
   "source": [
    "rules_list"
   ]
  },
  {
   "cell_type": "code",
   "execution_count": 111,
   "metadata": {},
   "outputs": [],
   "source": [
    "for i in rules_list:\n",
    "    formatrule=format_rules(i, df, apps_server)\n",
    "    formated_rules.append(formatrule)"
   ]
  },
  {
   "cell_type": "code",
   "execution_count": 112,
   "metadata": {},
   "outputs": [
    {
     "data": {
      "text/plain": [
       "[              IP_A            IP_B          confidence  \\\n",
       " 0        10003_235  192.168.210.54                 1.0   \n",
       " 1   192.168.210.47  192.168.100.11  0.8571428571428571   \n",
       " 2   192.168.220.44  192.168.100.11            0.859375   \n",
       " 3   192.168.210.50  192.168.100.11            0.859375   \n",
       " 4   192.168.210.49  192.168.100.11  0.8548387096774194   \n",
       " 5   192.168.210.46  192.168.100.11  0.8636363636363636   \n",
       " 6   192.168.220.47  192.168.100.11  0.8636363636363636   \n",
       " 7   192.168.210.45  192.168.100.11  0.8615384615384616   \n",
       " 8   192.168.220.51  192.168.100.11  0.8615384615384616   \n",
       " 9   192.168.220.49  192.168.100.11  0.8571428571428571   \n",
       " 10  192.168.210.48  192.168.100.11            0.859375   \n",
       " 11  192.168.220.45  192.168.100.11  0.8615384615384616   \n",
       " 12  192.168.220.42  192.168.100.11  0.8636363636363636   \n",
       " 13  192.168.210.55  192.168.100.11  0.8636363636363636   \n",
       " 14  192.168.220.43  192.168.100.11  0.8636363636363636   \n",
       " 15  192.168.220.48  192.168.100.11  0.8625954198473282   \n",
       " 16  192.168.220.46  192.168.100.11  0.8636363636363636   \n",
       " 17  192.168.210.56  192.168.100.11  0.8615384615384616   \n",
       " 18  192.168.220.50  192.168.100.11            0.859375   \n",
       " \n",
       "                                pairs                            pairs2  \\\n",
       " 0        [10003_235, 192.168.210.54]       (10003_235, 192.168.210.54)   \n",
       " 1   [192.168.100.11, 192.168.210.47]  (192.168.100.11, 192.168.210.47)   \n",
       " 2   [192.168.100.11, 192.168.220.44]  (192.168.100.11, 192.168.220.44)   \n",
       " 3   [192.168.100.11, 192.168.210.50]  (192.168.100.11, 192.168.210.50)   \n",
       " 4   [192.168.100.11, 192.168.210.49]  (192.168.100.11, 192.168.210.49)   \n",
       " 5   [192.168.100.11, 192.168.210.46]  (192.168.100.11, 192.168.210.46)   \n",
       " 6   [192.168.100.11, 192.168.220.47]  (192.168.100.11, 192.168.220.47)   \n",
       " 7   [192.168.100.11, 192.168.210.45]  (192.168.100.11, 192.168.210.45)   \n",
       " 8   [192.168.100.11, 192.168.220.51]  (192.168.100.11, 192.168.220.51)   \n",
       " 9   [192.168.100.11, 192.168.220.49]  (192.168.100.11, 192.168.220.49)   \n",
       " 10  [192.168.100.11, 192.168.210.48]  (192.168.100.11, 192.168.210.48)   \n",
       " 11  [192.168.100.11, 192.168.220.45]  (192.168.100.11, 192.168.220.45)   \n",
       " 12  [192.168.100.11, 192.168.220.42]  (192.168.100.11, 192.168.220.42)   \n",
       " 13  [192.168.100.11, 192.168.210.55]  (192.168.100.11, 192.168.210.55)   \n",
       " 14  [192.168.100.11, 192.168.220.43]  (192.168.100.11, 192.168.220.43)   \n",
       " 15  [192.168.100.11, 192.168.220.48]  (192.168.100.11, 192.168.220.48)   \n",
       " 16  [192.168.100.11, 192.168.220.46]  (192.168.100.11, 192.168.220.46)   \n",
       " 17  [192.168.100.11, 192.168.210.56]  (192.168.100.11, 192.168.210.56)   \n",
       " 18  [192.168.100.11, 192.168.220.50]  (192.168.100.11, 192.168.220.50)   \n",
       " \n",
       "     frequency  avg_norm_latency  total_duration  total_packets  norm_latency  \\\n",
       " 0         214          0.020252         100.167          90681      0.097979   \n",
       " 1         138          0.025181           7.966            205      0.007792   \n",
       " 2         143          0.018314           6.254            209      0.006117   \n",
       " 3         140          0.018732           6.261            207      0.006124   \n",
       " 4         138          0.018946           6.246            204      0.006110   \n",
       " 5         148          0.000662           0.196            206      0.000192   \n",
       " 6         146          0.000627           0.183            204      0.000179   \n",
       " 7         142          0.000634           0.180            198      0.000176   \n",
       " 8         144          0.000615           0.177            201      0.000173   \n",
       " 9         140          0.000650           0.182            195      0.000178   \n",
       " 10        140          0.000643           0.180            195      0.000176   \n",
       " 11        144          0.000604           0.174            201      0.000170   \n",
       " 12        146          0.000582           0.170            204      0.000166   \n",
       " 13        146          0.000575           0.168            204      0.000164   \n",
       " 14        146          0.000575           0.168            204      0.000164   \n",
       " 15        143          0.000598           0.171            200      0.000167   \n",
       " 16        146          0.000531           0.155            204      0.000152   \n",
       " 17        142          0.000539           0.153            198      0.000150   \n",
       " 18        140          0.000543           0.152            195      0.000149   \n",
       " \n",
       "     latency_rank  pair_ID server_A server_B  server  \n",
       " 0      20.967533        0        0        0       0  \n",
       " 1       1.075297        1     None     None       0  \n",
       " 2       0.874788        2     None     None       0  \n",
       " 3       0.857394        3     None     None       0  \n",
       " 4       0.843121        4     None     None       0  \n",
       " 5       0.028374        5     None     None       0  \n",
       " 6       0.026134        6     None     None       0  \n",
       " 7       0.025002        7     None     None       0  \n",
       " 8       0.024931        8     None     None       0  \n",
       " 9       0.024923        9     None     None       0  \n",
       " 10      0.024650       10     None     None       1  \n",
       " 11      0.024509       11     None     None       1  \n",
       " 12      0.024278       12     None     None       1  \n",
       " 13      0.023992       13     None     None       1  \n",
       " 14      0.023992       14     None     None       1  \n",
       " 15      0.023919       15     None     None       1  \n",
       " 16      0.022136       16     None     None       1  \n",
       " 17      0.021251       17     None     None       1  \n",
       " 18      0.020815       18     None     None       1  ,\n",
       "               IP_A            IP_B          confidence  \\\n",
       " 0   192.168.210.47  192.168.100.11  0.8823529411764706   \n",
       " 1   192.168.220.44  192.168.100.11  0.8918918918918919   \n",
       " 2   192.168.210.50  192.168.100.11  0.8571428571428571   \n",
       " 3   192.168.210.49  192.168.100.11  0.8888888888888888   \n",
       " 4   192.168.210.46  192.168.100.11  0.8947368421052632   \n",
       " 5   192.168.220.47  192.168.100.11  0.8648648648648649   \n",
       " 6   192.168.210.45  192.168.100.11  0.8823529411764706   \n",
       " 7   192.168.220.51  192.168.100.11  0.8888888888888888   \n",
       " 8   192.168.220.49  192.168.100.11  0.8888888888888888   \n",
       " 9   192.168.210.48  192.168.100.11  0.8823529411764706   \n",
       " 10  192.168.220.45  192.168.100.11  0.8888888888888888   \n",
       " 11  192.168.220.42  192.168.100.11  0.8648648648648649   \n",
       " 12  192.168.210.55  192.168.100.11  0.8888888888888888   \n",
       " 13  192.168.220.43  192.168.100.11  0.8421052631578947   \n",
       " 14  192.168.220.48  192.168.100.11  0.8823529411764706   \n",
       " 15  192.168.220.46  192.168.100.11  0.8421052631578947   \n",
       " 16  192.168.210.56  192.168.100.11  0.8333333333333334   \n",
       " 17  192.168.220.50  192.168.100.11  0.8823529411764706   \n",
       " \n",
       "                                pairs                            pairs2  \\\n",
       " 0   [192.168.100.11, 192.168.210.47]  (192.168.100.11, 192.168.210.47)   \n",
       " 1   [192.168.100.11, 192.168.220.44]  (192.168.100.11, 192.168.220.44)   \n",
       " 2   [192.168.100.11, 192.168.210.50]  (192.168.100.11, 192.168.210.50)   \n",
       " 3   [192.168.100.11, 192.168.210.49]  (192.168.100.11, 192.168.210.49)   \n",
       " 4   [192.168.100.11, 192.168.210.46]  (192.168.100.11, 192.168.210.46)   \n",
       " 5   [192.168.100.11, 192.168.220.47]  (192.168.100.11, 192.168.220.47)   \n",
       " 6   [192.168.100.11, 192.168.210.45]  (192.168.100.11, 192.168.210.45)   \n",
       " 7   [192.168.100.11, 192.168.220.51]  (192.168.100.11, 192.168.220.51)   \n",
       " 8   [192.168.100.11, 192.168.220.49]  (192.168.100.11, 192.168.220.49)   \n",
       " 9   [192.168.100.11, 192.168.210.48]  (192.168.100.11, 192.168.210.48)   \n",
       " 10  [192.168.100.11, 192.168.220.45]  (192.168.100.11, 192.168.220.45)   \n",
       " 11  [192.168.100.11, 192.168.220.42]  (192.168.100.11, 192.168.220.42)   \n",
       " 12  [192.168.100.11, 192.168.210.55]  (192.168.100.11, 192.168.210.55)   \n",
       " 13  [192.168.100.11, 192.168.220.43]  (192.168.100.11, 192.168.220.43)   \n",
       " 14  [192.168.100.11, 192.168.220.48]  (192.168.100.11, 192.168.220.48)   \n",
       " 15  [192.168.100.11, 192.168.220.46]  (192.168.100.11, 192.168.220.46)   \n",
       " 16  [192.168.100.11, 192.168.210.56]  (192.168.100.11, 192.168.210.56)   \n",
       " 17  [192.168.100.11, 192.168.220.50]  (192.168.100.11, 192.168.220.50)   \n",
       " \n",
       "     frequency  avg_norm_latency  total_duration  total_packets  norm_latency  \\\n",
       " 0         138          0.025181           7.966            205      0.007792   \n",
       " 1         143          0.018314           6.254            209      0.006117   \n",
       " 2         140          0.018732           6.261            207      0.006124   \n",
       " 3         138          0.018946           6.246            204      0.006110   \n",
       " 4         148          0.000662           0.196            206      0.000192   \n",
       " 5         146          0.000627           0.183            204      0.000179   \n",
       " 6         142          0.000634           0.180            198      0.000176   \n",
       " 7         144          0.000615           0.177            201      0.000173   \n",
       " 8         140          0.000650           0.182            195      0.000178   \n",
       " 9         140          0.000643           0.180            195      0.000176   \n",
       " 10        144          0.000604           0.174            201      0.000170   \n",
       " 11        146          0.000582           0.170            204      0.000166   \n",
       " 12        146          0.000575           0.168            204      0.000164   \n",
       " 13        146          0.000575           0.168            204      0.000164   \n",
       " 14        143          0.000598           0.171            200      0.000167   \n",
       " 15        146          0.000531           0.155            204      0.000152   \n",
       " 16        142          0.000539           0.153            198      0.000150   \n",
       " 17        140          0.000543           0.152            195      0.000149   \n",
       " \n",
       "     latency_rank  pair_ID server_A server_B  server  \n",
       " 0       1.075297        0        0        0       0  \n",
       " 1       0.874788        1     None     None       0  \n",
       " 2       0.857394        2     None     None       0  \n",
       " 3       0.843121        3     None     None       0  \n",
       " 4       0.028374        4     None     None       0  \n",
       " 5       0.026134        5     None     None       0  \n",
       " 6       0.025002        6     None     None       0  \n",
       " 7       0.024931        7     None     None       0  \n",
       " 8       0.024923        8     None     None       0  \n",
       " 9       0.024650        9     None     None       0  \n",
       " 10      0.024509       10     None     None       1  \n",
       " 11      0.024278       11     None     None       1  \n",
       " 12      0.023992       12     None     None       1  \n",
       " 13      0.023992       13     None     None       1  \n",
       " 14      0.023919       14     None     None       1  \n",
       " 15      0.022136       15     None     None       1  \n",
       " 16      0.021251       16     None     None       1  \n",
       " 17      0.020815       17     None     None       1  ]"
      ]
     },
     "execution_count": 112,
     "metadata": {},
     "output_type": "execute_result"
    }
   ],
   "source": [
    "formated_rules"
   ]
  },
  {
   "cell_type": "markdown",
   "metadata": {},
   "source": [
    "## Same analysis but subset the data for training and testing\n",
    "\n",
    "use the first 5 days for training, and the last 2 days for testing. Even though this covers weekends, which are in the training dataset, because of the relatively small amount of transactions on the weekend, it is not likely to skew the results."
   ]
  },
  {
   "cell_type": "code",
   "execution_count": null,
   "metadata": {},
   "outputs": [],
   "source": []
  },
  {
   "cell_type": "code",
   "execution_count": null,
   "metadata": {},
   "outputs": [],
   "source": []
  },
  {
   "cell_type": "code",
   "execution_count": 26,
   "metadata": {},
   "outputs": [],
   "source": [
    "train_df=df[df['Date']<'2017-08-08'] #first 6 days"
   ]
  },
  {
   "cell_type": "code",
   "execution_count": 27,
   "metadata": {},
   "outputs": [
    {
     "data": {
      "text/html": [
       "<div>\n",
       "<style scoped>\n",
       "    .dataframe tbody tr th:only-of-type {\n",
       "        vertical-align: middle;\n",
       "    }\n",
       "\n",
       "    .dataframe tbody tr th {\n",
       "        vertical-align: top;\n",
       "    }\n",
       "\n",
       "    .dataframe thead th {\n",
       "        text-align: right;\n",
       "    }\n",
       "</style>\n",
       "<table border=\"1\" class=\"dataframe\">\n",
       "  <thead>\n",
       "    <tr style=\"text-align: right;\">\n",
       "      <th></th>\n",
       "      <th>Date</th>\n",
       "      <th>Duration</th>\n",
       "      <th>Src_IP</th>\n",
       "      <th>Src_pt</th>\n",
       "      <th>Dst_IP</th>\n",
       "      <th>Dst_pt</th>\n",
       "      <th>Packets</th>\n",
       "      <th>Bytes</th>\n",
       "      <th>date_hr</th>\n",
       "      <th>pairs</th>\n",
       "      <th>pairs2</th>\n",
       "      <th>norm_latency</th>\n",
       "      <th>hour</th>\n",
       "    </tr>\n",
       "  </thead>\n",
       "  <tbody>\n",
       "    <tr>\n",
       "      <th>0</th>\n",
       "      <td>2017-08-02 00:00:00.419</td>\n",
       "      <td>0.003</td>\n",
       "      <td>192.168.210.55</td>\n",
       "      <td>44870</td>\n",
       "      <td>192.168.100.11</td>\n",
       "      <td>445.0</td>\n",
       "      <td>2</td>\n",
       "      <td>174</td>\n",
       "      <td>2017-08-02</td>\n",
       "      <td>[192.168.100.11, 192.168.210.55]</td>\n",
       "      <td>(192.168.100.11, 192.168.210.55)</td>\n",
       "      <td>0.0015</td>\n",
       "      <td>0</td>\n",
       "    </tr>\n",
       "    <tr>\n",
       "      <th>1</th>\n",
       "      <td>2017-08-02 00:00:00.421</td>\n",
       "      <td>0.000</td>\n",
       "      <td>192.168.100.11</td>\n",
       "      <td>445</td>\n",
       "      <td>192.168.210.55</td>\n",
       "      <td>44870.0</td>\n",
       "      <td>1</td>\n",
       "      <td>108</td>\n",
       "      <td>2017-08-02</td>\n",
       "      <td>[192.168.100.11, 192.168.210.55]</td>\n",
       "      <td>(192.168.100.11, 192.168.210.55)</td>\n",
       "      <td>0.0000</td>\n",
       "      <td>0</td>\n",
       "    </tr>\n",
       "    <tr>\n",
       "      <th>2</th>\n",
       "      <td>2017-08-02 00:00:02.593</td>\n",
       "      <td>0.004</td>\n",
       "      <td>192.168.220.47</td>\n",
       "      <td>55101</td>\n",
       "      <td>192.168.100.11</td>\n",
       "      <td>445.0</td>\n",
       "      <td>2</td>\n",
       "      <td>174</td>\n",
       "      <td>2017-08-02</td>\n",
       "      <td>[192.168.100.11, 192.168.220.47]</td>\n",
       "      <td>(192.168.100.11, 192.168.220.47)</td>\n",
       "      <td>0.0020</td>\n",
       "      <td>0</td>\n",
       "    </tr>\n",
       "    <tr>\n",
       "      <th>3</th>\n",
       "      <td>2017-08-02 00:00:02.859</td>\n",
       "      <td>0.000</td>\n",
       "      <td>10000_34</td>\n",
       "      <td>443</td>\n",
       "      <td>192.168.210.54</td>\n",
       "      <td>59628.0</td>\n",
       "      <td>1</td>\n",
       "      <td>100</td>\n",
       "      <td>2017-08-02</td>\n",
       "      <td>[10000_34, 192.168.210.54]</td>\n",
       "      <td>(10000_34, 192.168.210.54)</td>\n",
       "      <td>0.0000</td>\n",
       "      <td>0</td>\n",
       "    </tr>\n",
       "    <tr>\n",
       "      <th>4</th>\n",
       "      <td>2017-08-02 00:00:02.594</td>\n",
       "      <td>0.000</td>\n",
       "      <td>192.168.100.11</td>\n",
       "      <td>445</td>\n",
       "      <td>192.168.220.47</td>\n",
       "      <td>55101.0</td>\n",
       "      <td>1</td>\n",
       "      <td>108</td>\n",
       "      <td>2017-08-02</td>\n",
       "      <td>[192.168.100.11, 192.168.220.47]</td>\n",
       "      <td>(192.168.100.11, 192.168.220.47)</td>\n",
       "      <td>0.0000</td>\n",
       "      <td>0</td>\n",
       "    </tr>\n",
       "  </tbody>\n",
       "</table>\n",
       "</div>"
      ],
      "text/plain": [
       "                     Date  Duration          Src_IP  Src_pt          Dst_IP  \\\n",
       "0 2017-08-02 00:00:00.419     0.003  192.168.210.55   44870  192.168.100.11   \n",
       "1 2017-08-02 00:00:00.421     0.000  192.168.100.11     445  192.168.210.55   \n",
       "2 2017-08-02 00:00:02.593     0.004  192.168.220.47   55101  192.168.100.11   \n",
       "3 2017-08-02 00:00:02.859     0.000        10000_34     443  192.168.210.54   \n",
       "4 2017-08-02 00:00:02.594     0.000  192.168.100.11     445  192.168.220.47   \n",
       "\n",
       "    Dst_pt  Packets  Bytes    date_hr                             pairs  \\\n",
       "0    445.0        2    174 2017-08-02  [192.168.100.11, 192.168.210.55]   \n",
       "1  44870.0        1    108 2017-08-02  [192.168.100.11, 192.168.210.55]   \n",
       "2    445.0        2    174 2017-08-02  [192.168.100.11, 192.168.220.47]   \n",
       "3  59628.0        1    100 2017-08-02        [10000_34, 192.168.210.54]   \n",
       "4  55101.0        1    108 2017-08-02  [192.168.100.11, 192.168.220.47]   \n",
       "\n",
       "                             pairs2  norm_latency  hour  \n",
       "0  (192.168.100.11, 192.168.210.55)        0.0015     0  \n",
       "1  (192.168.100.11, 192.168.210.55)        0.0000     0  \n",
       "2  (192.168.100.11, 192.168.220.47)        0.0020     0  \n",
       "3        (10000_34, 192.168.210.54)        0.0000     0  \n",
       "4  (192.168.100.11, 192.168.220.47)        0.0000     0  "
      ]
     },
     "execution_count": 27,
     "metadata": {},
     "output_type": "execute_result"
    }
   ],
   "source": [
    "df.head()"
   ]
  },
  {
   "cell_type": "code",
   "execution_count": 28,
   "metadata": {},
   "outputs": [],
   "source": [
    "test_df=df[df['Date']>'2017-08-08'] #last day"
   ]
  },
  {
   "cell_type": "code",
   "execution_count": 29,
   "metadata": {},
   "outputs": [
    {
     "data": {
      "text/plain": [
       "1830704"
      ]
     },
     "execution_count": 29,
     "metadata": {},
     "output_type": "execute_result"
    }
   ],
   "source": [
    "len(test_df)"
   ]
  },
  {
   "cell_type": "code",
   "execution_count": 30,
   "metadata": {},
   "outputs": [
    {
     "data": {
      "text/plain": [
       "6355288"
      ]
     },
     "execution_count": 30,
     "metadata": {},
     "output_type": "execute_result"
    }
   ],
   "source": [
    "len(train_df)"
   ]
  },
  {
   "cell_type": "code",
   "execution_count": 31,
   "metadata": {},
   "outputs": [],
   "source": [
    "#training data\n",
    "\n",
    "data_groups_t=[]\n",
    "\n",
    "for i in range(0,25):\n",
    "    data=train_df[train_df['hour']==i]\n",
    "    data_groups_t.append(data)"
   ]
  },
  {
   "cell_type": "code",
   "execution_count": 32,
   "metadata": {},
   "outputs": [],
   "source": [
    "len_groups=[]\n",
    "for i in data_groups_t:\n",
    "    len_groups.append(len(i))"
   ]
  },
  {
   "cell_type": "code",
   "execution_count": 105,
   "metadata": {},
   "outputs": [],
   "source": [
    "#make individual 'pairs count' frequency tables so we can get a good value for our minimum support and keep it consitent.\n",
    "#We are selecting the 80th percentile as our min threshold, so each group will ahve a different 80th value.\n",
    "\n",
    "pairs_list_t=[]\n",
    "per80_list_t=[]\n",
    "data_l_list_t=[]\n",
    "patterns_list_t=[]\n",
    "rules_list_t=[]\n",
    "confidence=0.7 #this means the rule is likely to be true 70% of the time\n",
    "\n",
    "\n",
    "for i in data_groups_t:    \n",
    "    data_l_t=list(i['pairs'])#the IP pairs are now a list of lists\n",
    "    pairs_count_t=(i.groupby('pairs2').agg({'Date':'count', 'norm_latency': 'mean', 'Duration': 'sum', 'Packets':'sum'}).reset_index())\n",
    "    pairs_count_t.columns=['pairs','frequency', 'avg_norm_latency', 'total_duration', 'total_packets']\n",
    "    pairs_count_t['norm_latency']=(pairs_count_t['total_duration']/pairs_count_t5['total_packets'].sum())*100 #sum of all duration time divided by sum of all packets transfered for that pair\n",
    "    pairs_list_t.append(pairs_count_t)\n",
    "    per_80=(pairs_count_t['frequency'].quantile(.8))\n",
    "    patterns = pyfpgrowth.find_frequent_patterns(data_l_t, per_80) \n",
    "    patterns_list_t.append(patterns)\n",
    "    rules = pyfpgrowth.generate_association_rules(patterns, confidence)\n",
    "    rules_list_t.append(rules)\n",
    "   "
   ]
  },
  {
   "cell_type": "code",
   "execution_count": 106,
   "metadata": {},
   "outputs": [],
   "source": [
    "#format the rules, bring back in the other info on latency rank, based on the training data\n",
    "rules_list_t=rules_list_t[:-1]#last item was empty, remove it\n",
    "formated_rules_train=[]\n",
    "apps_server=20\n",
    "\n",
    "for i in rules_list_t:\n",
    "    formatrule=format_rules(i, train_df, apps_server)\n",
    "    formated_rules_train.append(formatrule)\n"
   ]
  },
  {
   "cell_type": "code",
   "execution_count": 107,
   "metadata": {},
   "outputs": [],
   "source": [
    "\n",
    "data_groups_test=[]\n",
    "\n",
    "for i in range(0,25):\n",
    "    data=test_df[test_df['hour']==i]\n",
    "    data_groups_test.append(data)"
   ]
  },
  {
   "cell_type": "code",
   "execution_count": 108,
   "metadata": {},
   "outputs": [],
   "source": [
    "#assign IPs to the TEST servers at each hour, \n",
    "#NOW WE ASSIGN SERVERS TO THE TETING DATA BASED ON THE TRAINING DATA USED ABOVE\n",
    "\n",
    "server_assign_list_test=[]\n",
    "total_latency_list_test=[]\n",
    "total_latency_model_list_test=[]\n",
    "avg_latency_list_test=[]\n",
    "avg_latency_model_list_test=[]\n",
    "df_server_list=[]\n",
    "\n",
    "\n",
    "for i, j in zip(formated_rules_train, data_groups_test) :\n",
    "    df_servers, server_assignments, total_latency, total_latency_model, avg_latency, avg_latency_model = server_association(i, j, apps_server) #this function loaded fr\n",
    "    df_server_list.append(df_servers)\n",
    "    server_assign_list_test.append(server_assignments)\n",
    "    total_latency_list_test.append(total_latency)\n",
    "    total_latency_model_list_test.append(total_latency_model)\n",
    "    avg_latency_list_test.append(avg_latency)\n",
    "    avg_latency_model_list_test.append(avg_latency_model)\n",
    "    "
   ]
  },
  {
   "cell_type": "code",
   "execution_count": 110,
   "metadata": {},
   "outputs": [
    {
     "data": {
      "text/html": [
       "<div>\n",
       "<style scoped>\n",
       "    .dataframe tbody tr th:only-of-type {\n",
       "        vertical-align: middle;\n",
       "    }\n",
       "\n",
       "    .dataframe tbody tr th {\n",
       "        vertical-align: top;\n",
       "    }\n",
       "\n",
       "    .dataframe thead th {\n",
       "        text-align: right;\n",
       "    }\n",
       "</style>\n",
       "<table border=\"1\" class=\"dataframe\">\n",
       "  <thead>\n",
       "    <tr style=\"text-align: right;\">\n",
       "      <th></th>\n",
       "      <th>hours</th>\n",
       "      <th>total_latency</th>\n",
       "      <th>total_latency_model</th>\n",
       "      <th>avg_latency</th>\n",
       "      <th>avg_latency_model</th>\n",
       "      <th>avg_latency_per_reduction</th>\n",
       "    </tr>\n",
       "  </thead>\n",
       "  <tbody>\n",
       "    <tr>\n",
       "      <th>0</th>\n",
       "      <td>0</td>\n",
       "      <td>1181.750</td>\n",
       "      <td>1180.314</td>\n",
       "      <td>0.053512</td>\n",
       "      <td>0.053447</td>\n",
       "      <td>0.121515</td>\n",
       "    </tr>\n",
       "    <tr>\n",
       "      <th>1</th>\n",
       "      <td>1</td>\n",
       "      <td>1068.873</td>\n",
       "      <td>1064.958</td>\n",
       "      <td>0.064565</td>\n",
       "      <td>0.064328</td>\n",
       "      <td>0.366274</td>\n",
       "    </tr>\n",
       "    <tr>\n",
       "      <th>2</th>\n",
       "      <td>2</td>\n",
       "      <td>1346.696</td>\n",
       "      <td>1333.177</td>\n",
       "      <td>0.074704</td>\n",
       "      <td>0.073954</td>\n",
       "      <td>1.003864</td>\n",
       "    </tr>\n",
       "    <tr>\n",
       "      <th>3</th>\n",
       "      <td>3</td>\n",
       "      <td>1171.800</td>\n",
       "      <td>1171.628</td>\n",
       "      <td>0.068191</td>\n",
       "      <td>0.068181</td>\n",
       "      <td>0.014678</td>\n",
       "    </tr>\n",
       "    <tr>\n",
       "      <th>4</th>\n",
       "      <td>4</td>\n",
       "      <td>1857.150</td>\n",
       "      <td>1856.971</td>\n",
       "      <td>0.087325</td>\n",
       "      <td>0.087317</td>\n",
       "      <td>0.009638</td>\n",
       "    </tr>\n",
       "    <tr>\n",
       "      <th>5</th>\n",
       "      <td>5</td>\n",
       "      <td>1628.038</td>\n",
       "      <td>1627.674</td>\n",
       "      <td>0.086304</td>\n",
       "      <td>0.086285</td>\n",
       "      <td>0.022358</td>\n",
       "    </tr>\n",
       "    <tr>\n",
       "      <th>6</th>\n",
       "      <td>6</td>\n",
       "      <td>3233.341</td>\n",
       "      <td>3096.209</td>\n",
       "      <td>0.096978</td>\n",
       "      <td>0.092865</td>\n",
       "      <td>4.241186</td>\n",
       "    </tr>\n",
       "    <tr>\n",
       "      <th>7</th>\n",
       "      <td>7</td>\n",
       "      <td>3271.897</td>\n",
       "      <td>3121.813</td>\n",
       "      <td>0.111829</td>\n",
       "      <td>0.106699</td>\n",
       "      <td>4.587064</td>\n",
       "    </tr>\n",
       "    <tr>\n",
       "      <th>8</th>\n",
       "      <td>8</td>\n",
       "      <td>3172.261</td>\n",
       "      <td>3130.169</td>\n",
       "      <td>0.119406</td>\n",
       "      <td>0.117822</td>\n",
       "      <td>1.326877</td>\n",
       "    </tr>\n",
       "    <tr>\n",
       "      <th>9</th>\n",
       "      <td>9</td>\n",
       "      <td>24430.228</td>\n",
       "      <td>24383.342</td>\n",
       "      <td>0.141347</td>\n",
       "      <td>0.141075</td>\n",
       "      <td>0.191918</td>\n",
       "    </tr>\n",
       "    <tr>\n",
       "      <th>10</th>\n",
       "      <td>10</td>\n",
       "      <td>24191.907</td>\n",
       "      <td>24124.431</td>\n",
       "      <td>0.174598</td>\n",
       "      <td>0.174111</td>\n",
       "      <td>0.278920</td>\n",
       "    </tr>\n",
       "    <tr>\n",
       "      <th>11</th>\n",
       "      <td>11</td>\n",
       "      <td>21692.456</td>\n",
       "      <td>21684.185</td>\n",
       "      <td>0.161052</td>\n",
       "      <td>0.160991</td>\n",
       "      <td>0.038128</td>\n",
       "    </tr>\n",
       "    <tr>\n",
       "      <th>12</th>\n",
       "      <td>12</td>\n",
       "      <td>36021.222</td>\n",
       "      <td>23193.493</td>\n",
       "      <td>0.213813</td>\n",
       "      <td>0.137671</td>\n",
       "      <td>35.611588</td>\n",
       "    </tr>\n",
       "    <tr>\n",
       "      <th>13</th>\n",
       "      <td>13</td>\n",
       "      <td>32948.576</td>\n",
       "      <td>32697.049</td>\n",
       "      <td>0.256881</td>\n",
       "      <td>0.254920</td>\n",
       "      <td>0.763393</td>\n",
       "    </tr>\n",
       "    <tr>\n",
       "      <th>14</th>\n",
       "      <td>14</td>\n",
       "      <td>40906.353</td>\n",
       "      <td>40738.705</td>\n",
       "      <td>0.180736</td>\n",
       "      <td>0.179995</td>\n",
       "      <td>0.409834</td>\n",
       "    </tr>\n",
       "    <tr>\n",
       "      <th>15</th>\n",
       "      <td>15</td>\n",
       "      <td>74625.053</td>\n",
       "      <td>74569.686</td>\n",
       "      <td>0.440632</td>\n",
       "      <td>0.440305</td>\n",
       "      <td>0.074194</td>\n",
       "    </tr>\n",
       "    <tr>\n",
       "      <th>16</th>\n",
       "      <td>16</td>\n",
       "      <td>80217.415</td>\n",
       "      <td>78874.497</td>\n",
       "      <td>0.442332</td>\n",
       "      <td>0.434927</td>\n",
       "      <td>1.674098</td>\n",
       "    </tr>\n",
       "    <tr>\n",
       "      <th>17</th>\n",
       "      <td>17</td>\n",
       "      <td>55138.056</td>\n",
       "      <td>54906.151</td>\n",
       "      <td>0.533895</td>\n",
       "      <td>0.531650</td>\n",
       "      <td>0.420590</td>\n",
       "    </tr>\n",
       "    <tr>\n",
       "      <th>18</th>\n",
       "      <td>18</td>\n",
       "      <td>53484.935</td>\n",
       "      <td>53424.316</td>\n",
       "      <td>0.402282</td>\n",
       "      <td>0.401826</td>\n",
       "      <td>0.113338</td>\n",
       "    </tr>\n",
       "    <tr>\n",
       "      <th>19</th>\n",
       "      <td>19</td>\n",
       "      <td>36586.035</td>\n",
       "      <td>36525.459</td>\n",
       "      <td>0.675194</td>\n",
       "      <td>0.674076</td>\n",
       "      <td>0.165571</td>\n",
       "    </tr>\n",
       "    <tr>\n",
       "      <th>20</th>\n",
       "      <td>20</td>\n",
       "      <td>7821.663</td>\n",
       "      <td>3394.435</td>\n",
       "      <td>1.121064</td>\n",
       "      <td>0.486518</td>\n",
       "      <td>56.602132</td>\n",
       "    </tr>\n",
       "    <tr>\n",
       "      <th>21</th>\n",
       "      <td>21</td>\n",
       "      <td>72.393</td>\n",
       "      <td>37.761</td>\n",
       "      <td>0.019656</td>\n",
       "      <td>0.010253</td>\n",
       "      <td>47.838879</td>\n",
       "    </tr>\n",
       "    <tr>\n",
       "      <th>22</th>\n",
       "      <td>22</td>\n",
       "      <td>79.748</td>\n",
       "      <td>29.321</td>\n",
       "      <td>0.024100</td>\n",
       "      <td>0.008861</td>\n",
       "      <td>63.232934</td>\n",
       "    </tr>\n",
       "    <tr>\n",
       "      <th>23</th>\n",
       "      <td>23</td>\n",
       "      <td>102.231</td>\n",
       "      <td>32.547</td>\n",
       "      <td>0.030914</td>\n",
       "      <td>0.009842</td>\n",
       "      <td>68.163277</td>\n",
       "    </tr>\n",
       "  </tbody>\n",
       "</table>\n",
       "</div>"
      ],
      "text/plain": [
       "    hours  total_latency  total_latency_model  avg_latency  avg_latency_model  \\\n",
       "0       0       1181.750             1180.314     0.053512           0.053447   \n",
       "1       1       1068.873             1064.958     0.064565           0.064328   \n",
       "2       2       1346.696             1333.177     0.074704           0.073954   \n",
       "3       3       1171.800             1171.628     0.068191           0.068181   \n",
       "4       4       1857.150             1856.971     0.087325           0.087317   \n",
       "5       5       1628.038             1627.674     0.086304           0.086285   \n",
       "6       6       3233.341             3096.209     0.096978           0.092865   \n",
       "7       7       3271.897             3121.813     0.111829           0.106699   \n",
       "8       8       3172.261             3130.169     0.119406           0.117822   \n",
       "9       9      24430.228            24383.342     0.141347           0.141075   \n",
       "10     10      24191.907            24124.431     0.174598           0.174111   \n",
       "11     11      21692.456            21684.185     0.161052           0.160991   \n",
       "12     12      36021.222            23193.493     0.213813           0.137671   \n",
       "13     13      32948.576            32697.049     0.256881           0.254920   \n",
       "14     14      40906.353            40738.705     0.180736           0.179995   \n",
       "15     15      74625.053            74569.686     0.440632           0.440305   \n",
       "16     16      80217.415            78874.497     0.442332           0.434927   \n",
       "17     17      55138.056            54906.151     0.533895           0.531650   \n",
       "18     18      53484.935            53424.316     0.402282           0.401826   \n",
       "19     19      36586.035            36525.459     0.675194           0.674076   \n",
       "20     20       7821.663             3394.435     1.121064           0.486518   \n",
       "21     21         72.393               37.761     0.019656           0.010253   \n",
       "22     22         79.748               29.321     0.024100           0.008861   \n",
       "23     23        102.231               32.547     0.030914           0.009842   \n",
       "\n",
       "    avg_latency_per_reduction  \n",
       "0                    0.121515  \n",
       "1                    0.366274  \n",
       "2                    1.003864  \n",
       "3                    0.014678  \n",
       "4                    0.009638  \n",
       "5                    0.022358  \n",
       "6                    4.241186  \n",
       "7                    4.587064  \n",
       "8                    1.326877  \n",
       "9                    0.191918  \n",
       "10                   0.278920  \n",
       "11                   0.038128  \n",
       "12                  35.611588  \n",
       "13                   0.763393  \n",
       "14                   0.409834  \n",
       "15                   0.074194  \n",
       "16                   1.674098  \n",
       "17                   0.420590  \n",
       "18                   0.113338  \n",
       "19                   0.165571  \n",
       "20                  56.602132  \n",
       "21                  47.838879  \n",
       "22                  63.232934  \n",
       "23                  68.163277  "
      ]
     },
     "execution_count": 110,
     "metadata": {},
     "output_type": "execute_result"
    }
   ],
   "source": [
    "#bring together all the durations for the actual data and the model\n",
    "hours=range(0,24)\n",
    "model_output_test=pd.DataFrame({'hours':hours,'total_latency_list': total_latency_list_test, 'total_latency_model_list': total_latency_model_list_test, 'avg_latency_list': avg_latency_list_test, 'avg_latency_model_list': avg_latency_model_list_test})\n",
    "model_output_test.columns=['hours', 'total_latency', 'total_latency_model', 'avg_latency', 'avg_latency_model']\n",
    "model_output_test['avg_latency_per_reduction']=((model_output_test['avg_latency']-model_output_test['avg_latency_model'])/model_output_test['avg_latency'])*100\n",
    "model_output_test"
   ]
  },
  {
   "cell_type": "code",
   "execution_count": 111,
   "metadata": {},
   "outputs": [
    {
     "data": {
      "image/png": "[encoded data removed]",
      "text/plain": [
       "<Figure size 504x360 with 1 Axes>"
      ]
     },
     "metadata": {
      "needs_background": "light"
     },
     "output_type": "display_data"
    }
   ],
   "source": [
    "from datetime import datetime\n",
    "import matplotlib.pyplot as plt\n",
    "from matplotlib.dates import DateFormatter\n",
    "import matplotlib as matplotlib\n",
    "\n",
    "font = {'family' : 'normal',\n",
    "        'weight' : 'bold',\n",
    "        'size'   : 16}\n",
    "matplotlib.rc('font', **font)\n",
    "fig, ax = plt.subplots(1,1, figsize=(7,5))\n",
    "ax.plot(model_output_test['hours'], model_output_test['avg_latency'], color='steelblue', linewidth=2.0)\n",
    "ax.plot(model_output_test['hours'], model_output_test['avg_latency_model'], color='firebrick', linewidth=4.0)\n",
    "\n",
    "\n",
    "## Rotate date labels automatically\n",
    "fig.autofmt_xdate()\n",
    "plt.ylabel('Latency (s)')\n",
    "plt.xlabel('hour of day')\n",
    "plt.title('Average Transaction Latency Test Data')\n",
    "fig.savefig('Average_transaction_latency_hours_day_Test.png')"
   ]
  },
  {
   "cell_type": "markdown",
   "metadata": {},
   "source": [
    "### While we are doing a good job getting rid of the peak, we are not doing a great job in other periods. \n",
    "I believe this is because this last day of data is not simmilar to the other 6 days. Even if we remove weekends, which are much lower, we still get a model that underperforms for the majority of the hours except the last few in this test day."
   ]
  },
  {
   "cell_type": "code",
   "execution_count": 39,
   "metadata": {},
   "outputs": [
    {
     "data": {
      "text/plain": [
       "506250.077"
      ]
     },
     "execution_count": 39,
     "metadata": {},
     "output_type": "execute_result"
    }
   ],
   "source": [
    "model_output_test['total_latency'].sum()#total latency, "
   ]
  },
  {
   "cell_type": "code",
   "execution_count": 40,
   "metadata": {},
   "outputs": [
    {
     "data": {
      "text/plain": [
       "486198.29099999997"
      ]
     },
     "execution_count": 40,
     "metadata": {},
     "output_type": "execute_result"
    }
   ],
   "source": [
    "model_output_test['total_latency_model'].sum()#predicted latency, "
   ]
  },
  {
   "cell_type": "markdown",
   "metadata": {},
   "source": [
    "We performed how much better, %:"
   ]
  },
  {
   "cell_type": "code",
   "execution_count": 41,
   "metadata": {},
   "outputs": [
    {
     "data": {
      "text/plain": [
       "0.03960846014844166"
      ]
     },
     "execution_count": 41,
     "metadata": {},
     "output_type": "execute_result"
    }
   ],
   "source": [
    "(model_output_test['total_latency'].sum()-model_output_test['total_latency_model'].sum())/model_output_test['total_latency'].sum()"
   ]
  },
  {
   "cell_type": "markdown",
   "metadata": {},
   "source": [
    "The average transactional time before and after the model:"
   ]
  },
  {
   "cell_type": "code",
   "execution_count": 42,
   "metadata": {},
   "outputs": [
    {
     "data": {
      "text/plain": [
       "0.23255458633382028"
      ]
     },
     "execution_count": 42,
     "metadata": {},
     "output_type": "execute_result"
    }
   ],
   "source": [
    "model_output_test['avg_latency'].mean()"
   ]
  },
  {
   "cell_type": "code",
   "execution_count": 43,
   "metadata": {},
   "outputs": [
    {
     "data": {
      "text/plain": [
       "0.1999132803586853"
      ]
     },
     "execution_count": 43,
     "metadata": {},
     "output_type": "execute_result"
    }
   ],
   "source": [
    "model_output_test['avg_latency_model'].mean()"
   ]
  },
  {
   "cell_type": "code",
   "execution_count": 44,
   "metadata": {},
   "outputs": [
    {
     "data": {
      "text/plain": [
       "0.14035976021681226"
      ]
     },
     "execution_count": 44,
     "metadata": {},
     "output_type": "execute_result"
    }
   ],
   "source": [
    "(model_output_test['avg_latency'].mean()-model_output_test['avg_latency_model'].mean())/model_output_test['avg_latency'].mean()"
   ]
  },
  {
   "cell_type": "markdown",
   "metadata": {},
   "source": [
    "## same hourly step through, but with a min threshold of 50th percentile"
   ]
  },
  {
   "cell_type": "code",
   "execution_count": 123,
   "metadata": {},
   "outputs": [],
   "source": [
    "data_groups_t=[]\n",
    "for i in range(0,25):\n",
    "    data=train_df[train_df['hour']==i]\n",
    "    data_groups_t.append(data)\n",
    "    \n",
    "pairs_list_t5=[]\n",
    "data_l_list_t5=[]\n",
    "patterns_list_t5=[]\n",
    "rules_list_t5=[]\n",
    "confidence=0.7 #this means the rule is likely to be true 70% of the time\n",
    "\n",
    "\n",
    "for i in data_groups_t:    \n",
    "    data_l_t=list(i['pairs'])#the IP pairs are now a list of lists\n",
    "    pairs_count_t5=(i.groupby('pairs2').agg({'Date':'count', 'norm_latency': 'mean', 'Duration': 'sum', 'Packets':'sum'}).reset_index())\n",
    "    pairs_count_t5.columns=['pairs','frequency', 'avg_norm_latency', 'total_duration', 'total_packets']\n",
    "    pairs_count_t5['norm_latency']=(pairs_count_t5['total_duration']/pairs_count_t5['total_packets'].sum())*100 #sum of all duration time divided by sum of all packets transfered for that pair\n",
    "    pairs_list_t5.append(pairs_count_t5)\n",
    "    per_50=(pairs_count_t5['frequency'].quantile(.5))\n",
    "    patterns = pyfpgrowth.find_frequent_patterns(data_l_t, per_50) \n",
    "    patterns_list_t5.append(patterns)\n",
    "    rules = pyfpgrowth.generate_association_rules(patterns, confidence)\n",
    "    rules_list_t5.append(rules) "
   ]
  },
  {
   "cell_type": "code",
   "execution_count": 116,
   "metadata": {},
   "outputs": [],
   "source": [
    "#format the rules, bring back in the other info on latency rank, based on the training data\n",
    "rules_list_t5=rules_list_t5[:-1]#last item was empty, remove it\n",
    "formated_rules_train5=[]\n",
    "apps_server=20\n",
    "\n",
    "for i in rules_list_t5:\n",
    "    formatrule5=format_rules(i, train_df, apps_server)\n",
    "    formated_rules_train5.append(formatrule5)\n"
   ]
  },
  {
   "cell_type": "code",
   "execution_count": 117,
   "metadata": {},
   "outputs": [],
   "source": [
    "data_groups_test5=[]\n",
    "\n",
    "for i in range(0,25):\n",
    "    data=test_df[test_df['hour']==i]\n",
    "    data_groups_test5.append(data)"
   ]
  },
  {
   "cell_type": "code",
   "execution_count": 121,
   "metadata": {},
   "outputs": [
    {
     "data": {
      "text/html": [
       "<div>\n",
       "<style scoped>\n",
       "    .dataframe tbody tr th:only-of-type {\n",
       "        vertical-align: middle;\n",
       "    }\n",
       "\n",
       "    .dataframe tbody tr th {\n",
       "        vertical-align: top;\n",
       "    }\n",
       "\n",
       "    .dataframe thead th {\n",
       "        text-align: right;\n",
       "    }\n",
       "</style>\n",
       "<table border=\"1\" class=\"dataframe\">\n",
       "  <thead>\n",
       "    <tr style=\"text-align: right;\">\n",
       "      <th></th>\n",
       "      <th>IP</th>\n",
       "      <th>serverid</th>\n",
       "    </tr>\n",
       "  </thead>\n",
       "  <tbody>\n",
       "    <tr>\n",
       "      <th>10003_235</th>\n",
       "      <td>10003_235</td>\n",
       "      <td>1.0</td>\n",
       "    </tr>\n",
       "    <tr>\n",
       "      <th>10013_226</th>\n",
       "      <td>10013_226</td>\n",
       "      <td>1.0</td>\n",
       "    </tr>\n",
       "    <tr>\n",
       "      <th>10013_228</th>\n",
       "      <td>10013_228</td>\n",
       "      <td>0.0</td>\n",
       "    </tr>\n",
       "    <tr>\n",
       "      <th>10013_238</th>\n",
       "      <td>10013_238</td>\n",
       "      <td>0.0</td>\n",
       "    </tr>\n",
       "    <tr>\n",
       "      <th>10027_194</th>\n",
       "      <td>10027_194</td>\n",
       "      <td>1.0</td>\n",
       "    </tr>\n",
       "    <tr>\n",
       "      <th>10030_142</th>\n",
       "      <td>10030_142</td>\n",
       "      <td>0.0</td>\n",
       "    </tr>\n",
       "    <tr>\n",
       "      <th>10138_81</th>\n",
       "      <td>10138_81</td>\n",
       "      <td>0.0</td>\n",
       "    </tr>\n",
       "    <tr>\n",
       "      <th>11396_56</th>\n",
       "      <td>11396_56</td>\n",
       "      <td>0.0</td>\n",
       "    </tr>\n",
       "    <tr>\n",
       "      <th>11681_180</th>\n",
       "      <td>11681_180</td>\n",
       "      <td>0.0</td>\n",
       "    </tr>\n",
       "    <tr>\n",
       "      <th>11685_203</th>\n",
       "      <td>11685_203</td>\n",
       "      <td>0.0</td>\n",
       "    </tr>\n",
       "    <tr>\n",
       "      <th>11714_20</th>\n",
       "      <td>11714_20</td>\n",
       "      <td>0.0</td>\n",
       "    </tr>\n",
       "    <tr>\n",
       "      <th>12204_156</th>\n",
       "      <td>12204_156</td>\n",
       "      <td>1.0</td>\n",
       "    </tr>\n",
       "    <tr>\n",
       "      <th>192.168.100.11</th>\n",
       "      <td>192.168.100.11</td>\n",
       "      <td>0.0</td>\n",
       "    </tr>\n",
       "    <tr>\n",
       "      <th>192.168.210.45</th>\n",
       "      <td>192.168.210.45</td>\n",
       "      <td>0.0</td>\n",
       "    </tr>\n",
       "    <tr>\n",
       "      <th>192.168.210.46</th>\n",
       "      <td>192.168.210.46</td>\n",
       "      <td>0.0</td>\n",
       "    </tr>\n",
       "    <tr>\n",
       "      <th>192.168.210.47</th>\n",
       "      <td>192.168.210.47</td>\n",
       "      <td>0.0</td>\n",
       "    </tr>\n",
       "    <tr>\n",
       "      <th>192.168.210.48</th>\n",
       "      <td>192.168.210.48</td>\n",
       "      <td>0.0</td>\n",
       "    </tr>\n",
       "    <tr>\n",
       "      <th>192.168.210.53</th>\n",
       "      <td>192.168.210.53</td>\n",
       "      <td>0.0</td>\n",
       "    </tr>\n",
       "    <tr>\n",
       "      <th>192.168.210.54</th>\n",
       "      <td>192.168.210.54</td>\n",
       "      <td>0.0</td>\n",
       "    </tr>\n",
       "    <tr>\n",
       "      <th>192.168.210.56</th>\n",
       "      <td>192.168.210.56</td>\n",
       "      <td>0.0</td>\n",
       "    </tr>\n",
       "    <tr>\n",
       "      <th>192.168.210.57</th>\n",
       "      <td>192.168.210.57</td>\n",
       "      <td>0.0</td>\n",
       "    </tr>\n",
       "    <tr>\n",
       "      <th>192.168.220.43</th>\n",
       "      <td>192.168.220.43</td>\n",
       "      <td>0.0</td>\n",
       "    </tr>\n",
       "    <tr>\n",
       "      <th>192.168.220.44</th>\n",
       "      <td>192.168.220.44</td>\n",
       "      <td>0.0</td>\n",
       "    </tr>\n",
       "    <tr>\n",
       "      <th>192.168.220.50</th>\n",
       "      <td>192.168.220.50</td>\n",
       "      <td>0.0</td>\n",
       "    </tr>\n",
       "  </tbody>\n",
       "</table>\n",
       "</div>"
      ],
      "text/plain": [
       "                            IP  serverid\n",
       "10003_235            10003_235       1.0\n",
       "10013_226            10013_226       1.0\n",
       "10013_228            10013_228       0.0\n",
       "10013_238            10013_238       0.0\n",
       "10027_194            10027_194       1.0\n",
       "10030_142            10030_142       0.0\n",
       "10138_81              10138_81       0.0\n",
       "11396_56              11396_56       0.0\n",
       "11681_180            11681_180       0.0\n",
       "11685_203            11685_203       0.0\n",
       "11714_20              11714_20       0.0\n",
       "12204_156            12204_156       1.0\n",
       "192.168.100.11  192.168.100.11       0.0\n",
       "192.168.210.45  192.168.210.45       0.0\n",
       "192.168.210.46  192.168.210.46       0.0\n",
       "192.168.210.47  192.168.210.47       0.0\n",
       "192.168.210.48  192.168.210.48       0.0\n",
       "192.168.210.53  192.168.210.53       0.0\n",
       "192.168.210.54  192.168.210.54       0.0\n",
       "192.168.210.56  192.168.210.56       0.0\n",
       "192.168.210.57  192.168.210.57       0.0\n",
       "192.168.220.43  192.168.220.43       0.0\n",
       "192.168.220.44  192.168.220.44       0.0\n",
       "192.168.220.50  192.168.220.50       0.0"
      ]
     },
     "execution_count": 121,
     "metadata": {},
     "output_type": "execute_result"
    }
   ],
   "source": [
    "server_assign_list_test5[0]"
   ]
  },
  {
   "cell_type": "code",
   "execution_count": 122,
   "metadata": {},
   "outputs": [
    {
     "data": {
      "text/html": [
       "<div>\n",
       "<style scoped>\n",
       "    .dataframe tbody tr th:only-of-type {\n",
       "        vertical-align: middle;\n",
       "    }\n",
       "\n",
       "    .dataframe tbody tr th {\n",
       "        vertical-align: top;\n",
       "    }\n",
       "\n",
       "    .dataframe thead th {\n",
       "        text-align: right;\n",
       "    }\n",
       "</style>\n",
       "<table border=\"1\" class=\"dataframe\">\n",
       "  <thead>\n",
       "    <tr style=\"text-align: right;\">\n",
       "      <th></th>\n",
       "      <th>IP</th>\n",
       "      <th>serverid</th>\n",
       "    </tr>\n",
       "  </thead>\n",
       "  <tbody>\n",
       "    <tr>\n",
       "      <th>10003_235</th>\n",
       "      <td>10003_235</td>\n",
       "      <td>1.0</td>\n",
       "    </tr>\n",
       "    <tr>\n",
       "      <th>10013_226</th>\n",
       "      <td>10013_226</td>\n",
       "      <td>1.0</td>\n",
       "    </tr>\n",
       "    <tr>\n",
       "      <th>10013_228</th>\n",
       "      <td>10013_228</td>\n",
       "      <td>0.0</td>\n",
       "    </tr>\n",
       "    <tr>\n",
       "      <th>10013_238</th>\n",
       "      <td>10013_238</td>\n",
       "      <td>0.0</td>\n",
       "    </tr>\n",
       "    <tr>\n",
       "      <th>10027_194</th>\n",
       "      <td>10027_194</td>\n",
       "      <td>1.0</td>\n",
       "    </tr>\n",
       "    <tr>\n",
       "      <th>10030_142</th>\n",
       "      <td>10030_142</td>\n",
       "      <td>0.0</td>\n",
       "    </tr>\n",
       "    <tr>\n",
       "      <th>10138_81</th>\n",
       "      <td>10138_81</td>\n",
       "      <td>0.0</td>\n",
       "    </tr>\n",
       "    <tr>\n",
       "      <th>11396_56</th>\n",
       "      <td>11396_56</td>\n",
       "      <td>0.0</td>\n",
       "    </tr>\n",
       "    <tr>\n",
       "      <th>11681_180</th>\n",
       "      <td>11681_180</td>\n",
       "      <td>0.0</td>\n",
       "    </tr>\n",
       "    <tr>\n",
       "      <th>11685_203</th>\n",
       "      <td>11685_203</td>\n",
       "      <td>0.0</td>\n",
       "    </tr>\n",
       "    <tr>\n",
       "      <th>11714_20</th>\n",
       "      <td>11714_20</td>\n",
       "      <td>0.0</td>\n",
       "    </tr>\n",
       "    <tr>\n",
       "      <th>12204_156</th>\n",
       "      <td>12204_156</td>\n",
       "      <td>1.0</td>\n",
       "    </tr>\n",
       "    <tr>\n",
       "      <th>192.168.100.11</th>\n",
       "      <td>192.168.100.11</td>\n",
       "      <td>0.0</td>\n",
       "    </tr>\n",
       "    <tr>\n",
       "      <th>192.168.210.45</th>\n",
       "      <td>192.168.210.45</td>\n",
       "      <td>0.0</td>\n",
       "    </tr>\n",
       "    <tr>\n",
       "      <th>192.168.210.46</th>\n",
       "      <td>192.168.210.46</td>\n",
       "      <td>0.0</td>\n",
       "    </tr>\n",
       "    <tr>\n",
       "      <th>192.168.210.47</th>\n",
       "      <td>192.168.210.47</td>\n",
       "      <td>0.0</td>\n",
       "    </tr>\n",
       "    <tr>\n",
       "      <th>192.168.210.48</th>\n",
       "      <td>192.168.210.48</td>\n",
       "      <td>0.0</td>\n",
       "    </tr>\n",
       "    <tr>\n",
       "      <th>192.168.210.53</th>\n",
       "      <td>192.168.210.53</td>\n",
       "      <td>0.0</td>\n",
       "    </tr>\n",
       "    <tr>\n",
       "      <th>192.168.210.54</th>\n",
       "      <td>192.168.210.54</td>\n",
       "      <td>0.0</td>\n",
       "    </tr>\n",
       "    <tr>\n",
       "      <th>192.168.210.56</th>\n",
       "      <td>192.168.210.56</td>\n",
       "      <td>0.0</td>\n",
       "    </tr>\n",
       "    <tr>\n",
       "      <th>192.168.210.57</th>\n",
       "      <td>192.168.210.57</td>\n",
       "      <td>0.0</td>\n",
       "    </tr>\n",
       "    <tr>\n",
       "      <th>192.168.220.43</th>\n",
       "      <td>192.168.220.43</td>\n",
       "      <td>0.0</td>\n",
       "    </tr>\n",
       "    <tr>\n",
       "      <th>192.168.220.44</th>\n",
       "      <td>192.168.220.44</td>\n",
       "      <td>0.0</td>\n",
       "    </tr>\n",
       "    <tr>\n",
       "      <th>192.168.220.50</th>\n",
       "      <td>192.168.220.50</td>\n",
       "      <td>0.0</td>\n",
       "    </tr>\n",
       "  </tbody>\n",
       "</table>\n",
       "</div>"
      ],
      "text/plain": [
       "                            IP  serverid\n",
       "10003_235            10003_235       1.0\n",
       "10013_226            10013_226       1.0\n",
       "10013_228            10013_228       0.0\n",
       "10013_238            10013_238       0.0\n",
       "10027_194            10027_194       1.0\n",
       "10030_142            10030_142       0.0\n",
       "10138_81              10138_81       0.0\n",
       "11396_56              11396_56       0.0\n",
       "11681_180            11681_180       0.0\n",
       "11685_203            11685_203       0.0\n",
       "11714_20              11714_20       0.0\n",
       "12204_156            12204_156       1.0\n",
       "192.168.100.11  192.168.100.11       0.0\n",
       "192.168.210.45  192.168.210.45       0.0\n",
       "192.168.210.46  192.168.210.46       0.0\n",
       "192.168.210.47  192.168.210.47       0.0\n",
       "192.168.210.48  192.168.210.48       0.0\n",
       "192.168.210.53  192.168.210.53       0.0\n",
       "192.168.210.54  192.168.210.54       0.0\n",
       "192.168.210.56  192.168.210.56       0.0\n",
       "192.168.210.57  192.168.210.57       0.0\n",
       "192.168.220.43  192.168.220.43       0.0\n",
       "192.168.220.44  192.168.220.44       0.0\n",
       "192.168.220.50  192.168.220.50       0.0"
      ]
     },
     "execution_count": 122,
     "metadata": {},
     "output_type": "execute_result"
    }
   ],
   "source": [
    "server_assign_list_test[0]"
   ]
  },
  {
   "cell_type": "code",
   "execution_count": 118,
   "metadata": {},
   "outputs": [],
   "source": [
    "#assign IPs to the TEST servers at each hour, \n",
    "#NOW WE ASSIGN SERVERS TO THE TETING DATA BASED ON THE TRAINING DATA USED ABOVE\n",
    "\n",
    "server_assign_list_test5=[]\n",
    "total_latency_list_test5=[]\n",
    "total_latency_model_list_test5=[]\n",
    "avg_latency_list_test5=[]\n",
    "avg_latency_model_list_test5=[]\n",
    "df_server_list5=[]\n",
    "\n",
    "\n",
    "for i, j in zip(formated_rules_train5, data_groups_test5) :\n",
    "    df_servers5, server_assignments5, total_latency5, total_latency_model5, avg_latency5, avg_latency_model5 = server_association(i, j, apps_server) #this function loaded fr\n",
    "    df_server_list5.append(df_servers5)\n",
    "    server_assign_list_test5.append(server_assignments5)\n",
    "    total_latency_list_test5.append(total_latency5)\n",
    "    total_latency_model_list_test5.append(total_latency_model5)\n",
    "    avg_latency_list_test5.append(avg_latency5)\n",
    "    avg_latency_model_list_test5.append(avg_latency_model5)\n",
    "   "
   ]
  },
  {
   "cell_type": "code",
   "execution_count": 119,
   "metadata": {},
   "outputs": [
    {
     "data": {
      "text/html": [
       "<div>\n",
       "<style scoped>\n",
       "    .dataframe tbody tr th:only-of-type {\n",
       "        vertical-align: middle;\n",
       "    }\n",
       "\n",
       "    .dataframe tbody tr th {\n",
       "        vertical-align: top;\n",
       "    }\n",
       "\n",
       "    .dataframe thead th {\n",
       "        text-align: right;\n",
       "    }\n",
       "</style>\n",
       "<table border=\"1\" class=\"dataframe\">\n",
       "  <thead>\n",
       "    <tr style=\"text-align: right;\">\n",
       "      <th></th>\n",
       "      <th>hours</th>\n",
       "      <th>total_latency</th>\n",
       "      <th>total_latency_model</th>\n",
       "      <th>avg_latency</th>\n",
       "      <th>avg_latency_model</th>\n",
       "      <th>avg_latency_per_reduction</th>\n",
       "    </tr>\n",
       "  </thead>\n",
       "  <tbody>\n",
       "    <tr>\n",
       "      <th>0</th>\n",
       "      <td>0</td>\n",
       "      <td>1181.750</td>\n",
       "      <td>1180.314</td>\n",
       "      <td>0.053512</td>\n",
       "      <td>0.053447</td>\n",
       "      <td>0.121515</td>\n",
       "    </tr>\n",
       "    <tr>\n",
       "      <th>1</th>\n",
       "      <td>1</td>\n",
       "      <td>1068.873</td>\n",
       "      <td>1064.958</td>\n",
       "      <td>0.064565</td>\n",
       "      <td>0.064328</td>\n",
       "      <td>0.366274</td>\n",
       "    </tr>\n",
       "    <tr>\n",
       "      <th>2</th>\n",
       "      <td>2</td>\n",
       "      <td>1346.696</td>\n",
       "      <td>1333.177</td>\n",
       "      <td>0.074704</td>\n",
       "      <td>0.073954</td>\n",
       "      <td>1.003864</td>\n",
       "    </tr>\n",
       "    <tr>\n",
       "      <th>3</th>\n",
       "      <td>3</td>\n",
       "      <td>1171.800</td>\n",
       "      <td>1171.628</td>\n",
       "      <td>0.068191</td>\n",
       "      <td>0.068181</td>\n",
       "      <td>0.014678</td>\n",
       "    </tr>\n",
       "    <tr>\n",
       "      <th>4</th>\n",
       "      <td>4</td>\n",
       "      <td>1857.150</td>\n",
       "      <td>1856.971</td>\n",
       "      <td>0.087325</td>\n",
       "      <td>0.087317</td>\n",
       "      <td>0.009638</td>\n",
       "    </tr>\n",
       "    <tr>\n",
       "      <th>5</th>\n",
       "      <td>5</td>\n",
       "      <td>1628.038</td>\n",
       "      <td>1627.674</td>\n",
       "      <td>0.086304</td>\n",
       "      <td>0.086285</td>\n",
       "      <td>0.022358</td>\n",
       "    </tr>\n",
       "    <tr>\n",
       "      <th>6</th>\n",
       "      <td>6</td>\n",
       "      <td>3233.341</td>\n",
       "      <td>3130.973</td>\n",
       "      <td>0.096978</td>\n",
       "      <td>0.092865</td>\n",
       "      <td>4.241186</td>\n",
       "    </tr>\n",
       "    <tr>\n",
       "      <th>7</th>\n",
       "      <td>7</td>\n",
       "      <td>3271.897</td>\n",
       "      <td>3118.272</td>\n",
       "      <td>0.111829</td>\n",
       "      <td>0.106699</td>\n",
       "      <td>4.587064</td>\n",
       "    </tr>\n",
       "    <tr>\n",
       "      <th>8</th>\n",
       "      <td>8</td>\n",
       "      <td>3172.261</td>\n",
       "      <td>3120.553</td>\n",
       "      <td>0.119406</td>\n",
       "      <td>0.117822</td>\n",
       "      <td>1.326877</td>\n",
       "    </tr>\n",
       "    <tr>\n",
       "      <th>9</th>\n",
       "      <td>9</td>\n",
       "      <td>24430.228</td>\n",
       "      <td>24249.181</td>\n",
       "      <td>0.141347</td>\n",
       "      <td>0.141075</td>\n",
       "      <td>0.191918</td>\n",
       "    </tr>\n",
       "    <tr>\n",
       "      <th>10</th>\n",
       "      <td>10</td>\n",
       "      <td>24191.907</td>\n",
       "      <td>24115.407</td>\n",
       "      <td>0.174598</td>\n",
       "      <td>0.174111</td>\n",
       "      <td>0.278920</td>\n",
       "    </tr>\n",
       "    <tr>\n",
       "      <th>11</th>\n",
       "      <td>11</td>\n",
       "      <td>21692.456</td>\n",
       "      <td>21667.456</td>\n",
       "      <td>0.161052</td>\n",
       "      <td>0.160991</td>\n",
       "      <td>0.038128</td>\n",
       "    </tr>\n",
       "    <tr>\n",
       "      <th>12</th>\n",
       "      <td>12</td>\n",
       "      <td>36021.222</td>\n",
       "      <td>23215.131</td>\n",
       "      <td>0.213813</td>\n",
       "      <td>0.137671</td>\n",
       "      <td>35.611588</td>\n",
       "    </tr>\n",
       "    <tr>\n",
       "      <th>13</th>\n",
       "      <td>13</td>\n",
       "      <td>32948.576</td>\n",
       "      <td>32704.934</td>\n",
       "      <td>0.256881</td>\n",
       "      <td>0.254920</td>\n",
       "      <td>0.763393</td>\n",
       "    </tr>\n",
       "    <tr>\n",
       "      <th>14</th>\n",
       "      <td>14</td>\n",
       "      <td>40906.353</td>\n",
       "      <td>40664.502</td>\n",
       "      <td>0.180736</td>\n",
       "      <td>0.179995</td>\n",
       "      <td>0.409834</td>\n",
       "    </tr>\n",
       "    <tr>\n",
       "      <th>15</th>\n",
       "      <td>15</td>\n",
       "      <td>74625.053</td>\n",
       "      <td>74566.254</td>\n",
       "      <td>0.440632</td>\n",
       "      <td>0.440305</td>\n",
       "      <td>0.074194</td>\n",
       "    </tr>\n",
       "    <tr>\n",
       "      <th>16</th>\n",
       "      <td>16</td>\n",
       "      <td>80217.415</td>\n",
       "      <td>78797.419</td>\n",
       "      <td>0.442332</td>\n",
       "      <td>0.434927</td>\n",
       "      <td>1.674098</td>\n",
       "    </tr>\n",
       "    <tr>\n",
       "      <th>17</th>\n",
       "      <td>17</td>\n",
       "      <td>55138.056</td>\n",
       "      <td>54904.521</td>\n",
       "      <td>0.533895</td>\n",
       "      <td>0.531650</td>\n",
       "      <td>0.420590</td>\n",
       "    </tr>\n",
       "    <tr>\n",
       "      <th>18</th>\n",
       "      <td>18</td>\n",
       "      <td>53484.935</td>\n",
       "      <td>53378.831</td>\n",
       "      <td>0.402282</td>\n",
       "      <td>0.401826</td>\n",
       "      <td>0.113338</td>\n",
       "    </tr>\n",
       "    <tr>\n",
       "      <th>19</th>\n",
       "      <td>19</td>\n",
       "      <td>36586.035</td>\n",
       "      <td>36525.459</td>\n",
       "      <td>0.675194</td>\n",
       "      <td>0.674076</td>\n",
       "      <td>0.165571</td>\n",
       "    </tr>\n",
       "    <tr>\n",
       "      <th>20</th>\n",
       "      <td>20</td>\n",
       "      <td>7821.663</td>\n",
       "      <td>3397.094</td>\n",
       "      <td>1.121064</td>\n",
       "      <td>0.486518</td>\n",
       "      <td>56.602132</td>\n",
       "    </tr>\n",
       "    <tr>\n",
       "      <th>21</th>\n",
       "      <td>21</td>\n",
       "      <td>72.393</td>\n",
       "      <td>71.888</td>\n",
       "      <td>0.019656</td>\n",
       "      <td>0.010253</td>\n",
       "      <td>47.838879</td>\n",
       "    </tr>\n",
       "    <tr>\n",
       "      <th>22</th>\n",
       "      <td>22</td>\n",
       "      <td>79.748</td>\n",
       "      <td>29.321</td>\n",
       "      <td>0.024100</td>\n",
       "      <td>0.008861</td>\n",
       "      <td>63.232934</td>\n",
       "    </tr>\n",
       "    <tr>\n",
       "      <th>23</th>\n",
       "      <td>23</td>\n",
       "      <td>102.231</td>\n",
       "      <td>32.547</td>\n",
       "      <td>0.030914</td>\n",
       "      <td>0.009842</td>\n",
       "      <td>68.163277</td>\n",
       "    </tr>\n",
       "  </tbody>\n",
       "</table>\n",
       "</div>"
      ],
      "text/plain": [
       "    hours  total_latency  total_latency_model  avg_latency  avg_latency_model  \\\n",
       "0       0       1181.750             1180.314     0.053512           0.053447   \n",
       "1       1       1068.873             1064.958     0.064565           0.064328   \n",
       "2       2       1346.696             1333.177     0.074704           0.073954   \n",
       "3       3       1171.800             1171.628     0.068191           0.068181   \n",
       "4       4       1857.150             1856.971     0.087325           0.087317   \n",
       "5       5       1628.038             1627.674     0.086304           0.086285   \n",
       "6       6       3233.341             3130.973     0.096978           0.092865   \n",
       "7       7       3271.897             3118.272     0.111829           0.106699   \n",
       "8       8       3172.261             3120.553     0.119406           0.117822   \n",
       "9       9      24430.228            24249.181     0.141347           0.141075   \n",
       "10     10      24191.907            24115.407     0.174598           0.174111   \n",
       "11     11      21692.456            21667.456     0.161052           0.160991   \n",
       "12     12      36021.222            23215.131     0.213813           0.137671   \n",
       "13     13      32948.576            32704.934     0.256881           0.254920   \n",
       "14     14      40906.353            40664.502     0.180736           0.179995   \n",
       "15     15      74625.053            74566.254     0.440632           0.440305   \n",
       "16     16      80217.415            78797.419     0.442332           0.434927   \n",
       "17     17      55138.056            54904.521     0.533895           0.531650   \n",
       "18     18      53484.935            53378.831     0.402282           0.401826   \n",
       "19     19      36586.035            36525.459     0.675194           0.674076   \n",
       "20     20       7821.663             3397.094     1.121064           0.486518   \n",
       "21     21         72.393               71.888     0.019656           0.010253   \n",
       "22     22         79.748               29.321     0.024100           0.008861   \n",
       "23     23        102.231               32.547     0.030914           0.009842   \n",
       "\n",
       "    avg_latency_per_reduction  \n",
       "0                    0.121515  \n",
       "1                    0.366274  \n",
       "2                    1.003864  \n",
       "3                    0.014678  \n",
       "4                    0.009638  \n",
       "5                    0.022358  \n",
       "6                    4.241186  \n",
       "7                    4.587064  \n",
       "8                    1.326877  \n",
       "9                    0.191918  \n",
       "10                   0.278920  \n",
       "11                   0.038128  \n",
       "12                  35.611588  \n",
       "13                   0.763393  \n",
       "14                   0.409834  \n",
       "15                   0.074194  \n",
       "16                   1.674098  \n",
       "17                   0.420590  \n",
       "18                   0.113338  \n",
       "19                   0.165571  \n",
       "20                  56.602132  \n",
       "21                  47.838879  \n",
       "22                  63.232934  \n",
       "23                  68.163277  "
      ]
     },
     "execution_count": 119,
     "metadata": {},
     "output_type": "execute_result"
    }
   ],
   "source": [
    "#bring together all the durations for the actual data and the model\n",
    "hours=range(0,24)\n",
    "model_output_test50=pd.DataFrame({'hours':hours,'total_latency_list': total_latency_list_test5, 'total_latency_model_list': total_latency_model_list_test5, 'avg_latency_list': avg_latency_list_test5, 'avg_latency_model_list': avg_latency_model_list_test})\n",
    "model_output_test50.columns=['hours', 'total_latency', 'total_latency_model', 'avg_latency', 'avg_latency_model']\n",
    "model_output_test50['avg_latency_per_reduction']=((model_output_test50['avg_latency']-model_output_test50['avg_latency_model'])/model_output_test50['avg_latency'])*100\n",
    "model_output_test50"
   ]
  },
  {
   "cell_type": "code",
   "execution_count": 120,
   "metadata": {},
   "outputs": [
    {
     "data": {
      "image/png": "[encoded data removed]",
      "text/plain": [
       "<Figure size 504x360 with 1 Axes>"
      ]
     },
     "metadata": {
      "needs_background": "light"
     },
     "output_type": "display_data"
    }
   ],
   "source": [
    "font = {'family' : 'normal',\n",
    "        'weight' : 'bold',\n",
    "        'size'   : 16}\n",
    "matplotlib.rc('font', **font)\n",
    "fig, ax = plt.subplots(1,1, figsize=(7,5))\n",
    "ax.plot(model_output_test50['hours'], model_output_test50['avg_latency'], color='steelblue', linewidth=2.0)\n",
    "ax.plot(model_output_test50['hours'], model_output_test50['avg_latency_model'], color='firebrick', linewidth=4.0)\n",
    "\n",
    "\n",
    "## Rotate date labels automatically\n",
    "fig.autofmt_xdate()\n",
    "plt.ylabel('Latency (s)')\n",
    "plt.xlabel('hour of day')\n",
    "plt.title('Average Transaction Latency Test Data')\n",
    "fig.savefig('Average_transaction_latency_hours_day_Test50.png')"
   ]
  },
  {
   "cell_type": "code",
   "execution_count": 51,
   "metadata": {},
   "outputs": [],
   "source": [
    "#only reducing the min threshold from 80th percentile to 50th did not produce a big difference.\n",
    "#Lowering it to to the 20th percentile also did not improve the model.\n",
    "\n",
    "#lowering the confidence from 0.7 to 0.5 "
   ]
  },
  {
   "cell_type": "markdown",
   "metadata": {},
   "source": [
    "## What if we use a different train/test split?"
   ]
  },
  {
   "cell_type": "markdown",
   "metadata": {},
   "source": [
    "Using the first 2 days as training data, and the 3rd day as our test:\n"
   ]
  },
  {
   "cell_type": "code",
   "execution_count": 93,
   "metadata": {},
   "outputs": [],
   "source": [
    "train_df2=df[df['Date']<'2017-08-04'] #first 2 days"
   ]
  },
  {
   "cell_type": "code",
   "execution_count": null,
   "metadata": {},
   "outputs": [],
   "source": [
    "test_df2=df[df['Date']=='2017-08-04'] #3rd day"
   ]
  },
  {
   "cell_type": "code",
   "execution_count": null,
   "metadata": {},
   "outputs": [],
   "source": []
  },
  {
   "cell_type": "code",
   "execution_count": null,
   "metadata": {},
   "outputs": [],
   "source": []
  },
  {
   "cell_type": "markdown",
   "metadata": {},
   "source": [
    "## How does this compare to randomly assigning servers?"
   ]
  },
  {
   "cell_type": "markdown",
   "metadata": {},
   "source": [
    "Figure out how many IPs were assigned based on our model, then randomly assign servers to the same amount of IPs"
   ]
  },
  {
   "cell_type": "code",
   "execution_count": null,
   "metadata": {},
   "outputs": [],
   "source": [
    "df_server_test = pd.concat(df_server_list)"
   ]
  },
  {
   "cell_type": "code",
   "execution_count": null,
   "metadata": {},
   "outputs": [],
   "source": [
    "lengthts=[]\n",
    "for i in df_server_list:\n",
    "    lengthts.append(len(i))"
   ]
  },
  {
   "cell_type": "code",
   "execution_count": null,
   "metadata": {},
   "outputs": [],
   "source": [
    "sum(lengthts)"
   ]
  },
  {
   "cell_type": "code",
   "execution_count": null,
   "metadata": {},
   "outputs": [],
   "source": [
    "len(df_server_test) #should match originial test data length"
   ]
  },
  {
   "cell_type": "code",
   "execution_count": null,
   "metadata": {},
   "outputs": [],
   "source": [
    "len(test_df)"
   ]
  },
  {
   "cell_type": "code",
   "execution_count": null,
   "metadata": {},
   "outputs": [],
   "source": [
    "#need to assign random servers to the IP addressed, however b/c we did not assign a server to all the IP addresses in our model run, we will only assign servers to the same proportion of the data.\n",
    "\n",
    "#how many servers did we assign in the Src_server column?\n",
    "num_src_assign=test_df['Src_Server'].count()\n",
    "num_dst_assign=test_df['Dst_Server'].count()\n",
    "\n",
    "xx_src=np.random.choice(len(test_df), num_src_assign) #which rows are randomly assigned src servers\n",
    "xx_dst=np.random.choice(len(test_df), num_dst_assign) #which rows are randomly assigned dst servers\n",
    "num_servers=server_rules['serverid'].nunique()\n",
    "test_df['rnd_src_server']=None\n",
    "test_df['rnd_dst_server']=None"
   ]
  },
  {
   "cell_type": "code",
   "execution_count": null,
   "metadata": {},
   "outputs": [],
   "source": [
    "rnd_src_servers=[]\n",
    "for x in range(len(xx_src)):\n",
    "  rnd_src_servers.append(random.randint(0,num_servers))"
   ]
  },
  {
   "cell_type": "code",
   "execution_count": null,
   "metadata": {},
   "outputs": [],
   "source": [
    "rnd_dst_servers=[]\n",
    "for x in range(len(xx_dst)):\n",
    "  rnd_dst_servers.append(random.randint(0,num_servers)) #create random numbers for dst serve"
   ]
  },
  {
   "cell_type": "code",
   "execution_count": null,
   "metadata": {},
   "outputs": [],
   "source": [
    "test_df['rnd_src_server'][xx_src]=rnd_src_servers\n",
    "test_df['rnd_dst_server'][xx_dst]=rnd_dst_servers"
   ]
  },
  {
   "cell_type": "code",
   "execution_count": null,
   "metadata": {},
   "outputs": [],
   "source": [
    "len(test_df[df_servers.rnd_src_server==df_servers.rnd_dst_server])/len(df_servers) #we only get 0.9% matching pairs"
   ]
  },
  {
   "cell_type": "code",
   "execution_count": null,
   "metadata": {},
   "outputs": [],
   "source": [
    "df_servers['duration_rnd']=df_servers['Duration']\n",
    "df_servers['duration_rnd'][df_servers['rnd_src_server']==df_servers['rnd_dst_server']]=0 #if random servers match, set latency time=0"
   ]
  }
 ],
 "metadata": {
  "kernelspec": {
   "display_name": "Python [conda env:anaconda3]",
   "language": "python",
   "name": "conda-env-anaconda3-py"
  }
 },
 "nbformat": 4,
 "nbformat_minor": 2
}
