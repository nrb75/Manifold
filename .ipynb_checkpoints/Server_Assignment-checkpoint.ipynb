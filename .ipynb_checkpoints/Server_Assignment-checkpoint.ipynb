{
 "cells": [
  {
   "cell_type": "markdown",
   "metadata": {},
   "source": [
    "After running the notebook to generate the FP-Growth Rules, and the server assignments based on number of servers and ensuring IP pairs are placed on the same server to the extent possible.\n",
    "\n",
    "We now go back to our origninal dataframe, and add 2 new columns: Src_server and Dst_server, which explicately states where that IP address (or app) should have been scheduled if all other resources were available.\n",
    "\n",
    "The number of apps per server is set int he 'Rules' notebook. In this instance we assume 20 apps/server."
   ]
  },
  {
   "cell_type": "code",
   "execution_count": 1,
   "metadata": {},
   "outputs": [],
   "source": [
    "import boto3\n",
    "import pandas as pd\n",
    "import numpy as np\n",
    "import matplotlib.pyplot as plt\n",
    "from io import BytesIO\n",
    "from mlxtend.preprocessing import TransactionEncoder\n",
    "import random\n",
    "from mlxtend.frequent_patterns import apriori\n",
    "import pyfpgrowth\n",
    "#from apyori import apriori "
   ]
  },
  {
   "cell_type": "code",
   "execution_count": 2,
   "metadata": {},
   "outputs": [],
   "source": [
    "#testing data\n",
    "#df=pd.read_csv('df_test.csv')"
   ]
  },
  {
   "cell_type": "code",
   "execution_count": 2,
   "metadata": {},
   "outputs": [
    {
     "name": "stderr",
     "output_type": "stream",
     "text": [
      "/home/ubuntu/anaconda3/lib/python3.6/site-packages/IPython/core/interactiveshell.py:2785: DtypeWarning: Columns (8) have mixed types. Specify dtype option on import or set low_memory=False.\n",
      "  interactivity=interactivity, compiler=compiler, result=result)\n"
     ]
    }
   ],
   "source": [
    "#load data\n",
    "\n",
    "client = boto3.client('s3')\n",
    "obj = client.get_object(Bucket='manifolddata', Key='week1.csv')\n",
    "df = pd.read_csv(BytesIO(obj['Body'].read()))\n",
    "\n",
    "df=df.iloc[:,[0,1,3,4,5,6,7,8]]\n",
    "df.columns=['Date', 'Duration', 'Src_IP', 'Src_pt', 'Dst_IP', 'Dst_pt','Packets', 'Bytes']\n",
    "#add an date column that is rounded to nearest hour, so we can use this as a timestep to see how frequently IP pairs occur in each timestep\n",
    "df['Date']=pd.to_datetime(df['Date'], format=\"%Y-%m-%d %H:%M:%S.%f\", errors = 'coerce')\n",
    "df['date_hr']=pd.Series(df['Date']).dt.round(\"H\")\n",
    "\n",
    "df['pairs']=list(zip(df.Src_IP, df.Dst_IP))\n",
    "df['pairs']=df['pairs'].apply(sorted)\n",
    "df['pairs2']=tuple(df['pairs'])\n",
    "#create a normalized latency column = duration/packets\n",
    "df['norm_latency']=df['Duration']/df['Packets']"
   ]
  },
  {
   "cell_type": "code",
   "execution_count": 3,
   "metadata": {},
   "outputs": [],
   "source": [
    "def convert_si_to_number(x):\n",
    "    total_stars = 0\n",
    "    if 'k' in x:\n",
    "        if len(x) > 1:\n",
    "            total_stars = float(x.replace('k', '')) * 1000 # convert k to a thousand\n",
    "    elif 'M' in x:\n",
    "        if len(x) > 1:\n",
    "            total_stars = float(x.replace('M', '')) * 1000000 # convert M to a million\n",
    "    elif 'B' in x:\n",
    "        total_stars = float(x.replace('B', '')) * 1000000000 # convert B to a Billion\n",
    "    else:\n",
    "        total_stars = int(x) # Less than 1000\n",
    "    \n",
    "    return int(total_stars)"
   ]
  },
  {
   "cell_type": "code",
   "execution_count": 4,
   "metadata": {},
   "outputs": [],
   "source": [
    "df.Bytes=df.Bytes.astype('str')\n",
    "test_list=df.Bytes\n",
    "\n",
    "#[i for i, s in enumerate(test_list) if 'M' in s]#show where the M errors are happening\n",
    "\n",
    "test_list= [convert_si_to_number(x) for x in test_list]\n",
    "df.Bytes=test_list #bring it back into the dataframe"
   ]
  },
  {
   "cell_type": "code",
   "execution_count": 5,
   "metadata": {},
   "outputs": [],
   "source": [
    "#load in the server assignment dataframe\n",
    "\n",
    "#server_rules=pd.read_csv('server_rules_80_70con.csv') #original with low latency output, rules len = 329\n",
    "server_rules=pd.read_csv('server_rules_80_70con_351.csv') #rules len = 351, we get them all\n",
    "\n",
    "#these are note in a particular oder, simply sorted by IP address. However, the most important rules are associated with the lower server ids.\n",
    "#a IP was assigned to the first server based on it's priorety, so server 0 had the top important IPs."
   ]
  },
  {
   "cell_type": "code",
   "execution_count": 6,
   "metadata": {},
   "outputs": [
    {
     "data": {
      "text/html": [
       "<div>\n",
       "<style scoped>\n",
       "    .dataframe tbody tr th:only-of-type {\n",
       "        vertical-align: middle;\n",
       "    }\n",
       "\n",
       "    .dataframe tbody tr th {\n",
       "        vertical-align: top;\n",
       "    }\n",
       "\n",
       "    .dataframe thead th {\n",
       "        text-align: right;\n",
       "    }\n",
       "</style>\n",
       "<table border=\"1\" class=\"dataframe\">\n",
       "  <thead>\n",
       "    <tr style=\"text-align: right;\">\n",
       "      <th></th>\n",
       "      <th>Unnamed: 0</th>\n",
       "      <th>IP</th>\n",
       "      <th>serverid</th>\n",
       "    </tr>\n",
       "  </thead>\n",
       "  <tbody>\n",
       "    <tr>\n",
       "      <th>0</th>\n",
       "      <td>10001_210</td>\n",
       "      <td>10001_210</td>\n",
       "      <td>17.0</td>\n",
       "    </tr>\n",
       "    <tr>\n",
       "      <th>1</th>\n",
       "      <td>10003_106</td>\n",
       "      <td>10003_106</td>\n",
       "      <td>9.0</td>\n",
       "    </tr>\n",
       "    <tr>\n",
       "      <th>2</th>\n",
       "      <td>10003_162</td>\n",
       "      <td>10003_162</td>\n",
       "      <td>3.0</td>\n",
       "    </tr>\n",
       "    <tr>\n",
       "      <th>3</th>\n",
       "      <td>10003_235</td>\n",
       "      <td>10003_235</td>\n",
       "      <td>4.0</td>\n",
       "    </tr>\n",
       "    <tr>\n",
       "      <th>4</th>\n",
       "      <td>10003_51</td>\n",
       "      <td>10003_51</td>\n",
       "      <td>15.0</td>\n",
       "    </tr>\n",
       "  </tbody>\n",
       "</table>\n",
       "</div>"
      ],
      "text/plain": [
       "  Unnamed: 0         IP  serverid\n",
       "0  10001_210  10001_210      17.0\n",
       "1  10003_106  10003_106       9.0\n",
       "2  10003_162  10003_162       3.0\n",
       "3  10003_235  10003_235       4.0\n",
       "4   10003_51   10003_51      15.0"
      ]
     },
     "execution_count": 6,
     "metadata": {},
     "output_type": "execute_result"
    }
   ],
   "source": [
    "server_rules.head()"
   ]
  },
  {
   "cell_type": "code",
   "execution_count": 7,
   "metadata": {},
   "outputs": [
    {
     "data": {
      "text/plain": [
       "351"
      ]
     },
     "execution_count": 7,
     "metadata": {},
     "output_type": "execute_result"
    }
   ],
   "source": [
    "len(server_rules)"
   ]
  },
  {
   "cell_type": "code",
   "execution_count": 8,
   "metadata": {},
   "outputs": [
    {
     "data": {
      "text/html": [
       "<div>\n",
       "<style scoped>\n",
       "    .dataframe tbody tr th:only-of-type {\n",
       "        vertical-align: middle;\n",
       "    }\n",
       "\n",
       "    .dataframe tbody tr th {\n",
       "        vertical-align: top;\n",
       "    }\n",
       "\n",
       "    .dataframe thead th {\n",
       "        text-align: right;\n",
       "    }\n",
       "</style>\n",
       "<table border=\"1\" class=\"dataframe\">\n",
       "  <thead>\n",
       "    <tr style=\"text-align: right;\">\n",
       "      <th></th>\n",
       "      <th>Unnamed: 0</th>\n",
       "      <th>IP</th>\n",
       "      <th>serverid</th>\n",
       "    </tr>\n",
       "  </thead>\n",
       "  <tbody>\n",
       "    <tr>\n",
       "      <th>0</th>\n",
       "      <td>10001_210</td>\n",
       "      <td>10001_210</td>\n",
       "      <td>17.0</td>\n",
       "    </tr>\n",
       "    <tr>\n",
       "      <th>1</th>\n",
       "      <td>10003_106</td>\n",
       "      <td>10003_106</td>\n",
       "      <td>9.0</td>\n",
       "    </tr>\n",
       "    <tr>\n",
       "      <th>2</th>\n",
       "      <td>10003_162</td>\n",
       "      <td>10003_162</td>\n",
       "      <td>3.0</td>\n",
       "    </tr>\n",
       "    <tr>\n",
       "      <th>3</th>\n",
       "      <td>10003_235</td>\n",
       "      <td>10003_235</td>\n",
       "      <td>4.0</td>\n",
       "    </tr>\n",
       "    <tr>\n",
       "      <th>4</th>\n",
       "      <td>10003_51</td>\n",
       "      <td>10003_51</td>\n",
       "      <td>15.0</td>\n",
       "    </tr>\n",
       "    <tr>\n",
       "      <th>5</th>\n",
       "      <td>10003_90</td>\n",
       "      <td>10003_90</td>\n",
       "      <td>17.0</td>\n",
       "    </tr>\n",
       "    <tr>\n",
       "      <th>6</th>\n",
       "      <td>10011_132</td>\n",
       "      <td>10011_132</td>\n",
       "      <td>2.0</td>\n",
       "    </tr>\n",
       "    <tr>\n",
       "      <th>7</th>\n",
       "      <td>10013_240</td>\n",
       "      <td>10013_240</td>\n",
       "      <td>16.0</td>\n",
       "    </tr>\n",
       "    <tr>\n",
       "      <th>8</th>\n",
       "      <td>10016_144</td>\n",
       "      <td>10016_144</td>\n",
       "      <td>17.0</td>\n",
       "    </tr>\n",
       "    <tr>\n",
       "      <th>9</th>\n",
       "      <td>10021_188</td>\n",
       "      <td>10021_188</td>\n",
       "      <td>8.0</td>\n",
       "    </tr>\n",
       "    <tr>\n",
       "      <th>10</th>\n",
       "      <td>10022_144</td>\n",
       "      <td>10022_144</td>\n",
       "      <td>2.0</td>\n",
       "    </tr>\n",
       "    <tr>\n",
       "      <th>11</th>\n",
       "      <td>10022_207</td>\n",
       "      <td>10022_207</td>\n",
       "      <td>7.0</td>\n",
       "    </tr>\n",
       "    <tr>\n",
       "      <th>12</th>\n",
       "      <td>10030_137</td>\n",
       "      <td>10030_137</td>\n",
       "      <td>15.0</td>\n",
       "    </tr>\n",
       "    <tr>\n",
       "      <th>13</th>\n",
       "      <td>10030_147</td>\n",
       "      <td>10030_147</td>\n",
       "      <td>13.0</td>\n",
       "    </tr>\n",
       "    <tr>\n",
       "      <th>14</th>\n",
       "      <td>10030_163</td>\n",
       "      <td>10030_163</td>\n",
       "      <td>8.0</td>\n",
       "    </tr>\n",
       "    <tr>\n",
       "      <th>15</th>\n",
       "      <td>10030_164</td>\n",
       "      <td>10030_164</td>\n",
       "      <td>7.0</td>\n",
       "    </tr>\n",
       "    <tr>\n",
       "      <th>16</th>\n",
       "      <td>10045_202</td>\n",
       "      <td>10045_202</td>\n",
       "      <td>4.0</td>\n",
       "    </tr>\n",
       "    <tr>\n",
       "      <th>17</th>\n",
       "      <td>10045_94</td>\n",
       "      <td>10045_94</td>\n",
       "      <td>16.0</td>\n",
       "    </tr>\n",
       "    <tr>\n",
       "      <th>18</th>\n",
       "      <td>10054_151</td>\n",
       "      <td>10054_151</td>\n",
       "      <td>4.0</td>\n",
       "    </tr>\n",
       "    <tr>\n",
       "      <th>19</th>\n",
       "      <td>10057_27</td>\n",
       "      <td>10057_27</td>\n",
       "      <td>16.0</td>\n",
       "    </tr>\n",
       "    <tr>\n",
       "      <th>20</th>\n",
       "      <td>10057_64</td>\n",
       "      <td>10057_64</td>\n",
       "      <td>10.0</td>\n",
       "    </tr>\n",
       "    <tr>\n",
       "      <th>21</th>\n",
       "      <td>10058_130</td>\n",
       "      <td>10058_130</td>\n",
       "      <td>9.0</td>\n",
       "    </tr>\n",
       "    <tr>\n",
       "      <th>22</th>\n",
       "      <td>10058_69</td>\n",
       "      <td>10058_69</td>\n",
       "      <td>6.0</td>\n",
       "    </tr>\n",
       "    <tr>\n",
       "      <th>23</th>\n",
       "      <td>10067_13</td>\n",
       "      <td>10067_13</td>\n",
       "      <td>14.0</td>\n",
       "    </tr>\n",
       "    <tr>\n",
       "      <th>24</th>\n",
       "      <td>10067_144</td>\n",
       "      <td>10067_144</td>\n",
       "      <td>12.0</td>\n",
       "    </tr>\n",
       "    <tr>\n",
       "      <th>25</th>\n",
       "      <td>10072_35</td>\n",
       "      <td>10072_35</td>\n",
       "      <td>14.0</td>\n",
       "    </tr>\n",
       "    <tr>\n",
       "      <th>26</th>\n",
       "      <td>10085_11</td>\n",
       "      <td>10085_11</td>\n",
       "      <td>17.0</td>\n",
       "    </tr>\n",
       "    <tr>\n",
       "      <th>27</th>\n",
       "      <td>10085_147</td>\n",
       "      <td>10085_147</td>\n",
       "      <td>6.0</td>\n",
       "    </tr>\n",
       "    <tr>\n",
       "      <th>28</th>\n",
       "      <td>10088_156</td>\n",
       "      <td>10088_156</td>\n",
       "      <td>11.0</td>\n",
       "    </tr>\n",
       "    <tr>\n",
       "      <th>29</th>\n",
       "      <td>10088_187</td>\n",
       "      <td>10088_187</td>\n",
       "      <td>14.0</td>\n",
       "    </tr>\n",
       "    <tr>\n",
       "      <th>...</th>\n",
       "      <td>...</td>\n",
       "      <td>...</td>\n",
       "      <td>...</td>\n",
       "    </tr>\n",
       "    <tr>\n",
       "      <th>321</th>\n",
       "      <td>192.168.100.1</td>\n",
       "      <td>192.168.100.1</td>\n",
       "      <td>0.0</td>\n",
       "    </tr>\n",
       "    <tr>\n",
       "      <th>322</th>\n",
       "      <td>192.168.100.14</td>\n",
       "      <td>192.168.100.14</td>\n",
       "      <td>0.0</td>\n",
       "    </tr>\n",
       "    <tr>\n",
       "      <th>323</th>\n",
       "      <td>192.168.100.2</td>\n",
       "      <td>192.168.100.2</td>\n",
       "      <td>0.0</td>\n",
       "    </tr>\n",
       "    <tr>\n",
       "      <th>324</th>\n",
       "      <td>192.168.100.20</td>\n",
       "      <td>192.168.100.20</td>\n",
       "      <td>2.0</td>\n",
       "    </tr>\n",
       "    <tr>\n",
       "      <th>325</th>\n",
       "      <td>192.168.200.1</td>\n",
       "      <td>192.168.200.1</td>\n",
       "      <td>3.0</td>\n",
       "    </tr>\n",
       "    <tr>\n",
       "      <th>326</th>\n",
       "      <td>192.168.200.2</td>\n",
       "      <td>192.168.200.2</td>\n",
       "      <td>17.0</td>\n",
       "    </tr>\n",
       "    <tr>\n",
       "      <th>327</th>\n",
       "      <td>192.168.210.1</td>\n",
       "      <td>192.168.210.1</td>\n",
       "      <td>17.0</td>\n",
       "    </tr>\n",
       "    <tr>\n",
       "      <th>328</th>\n",
       "      <td>192.168.210.45</td>\n",
       "      <td>192.168.210.45</td>\n",
       "      <td>4.0</td>\n",
       "    </tr>\n",
       "    <tr>\n",
       "      <th>329</th>\n",
       "      <td>192.168.210.46</td>\n",
       "      <td>192.168.210.46</td>\n",
       "      <td>5.0</td>\n",
       "    </tr>\n",
       "    <tr>\n",
       "      <th>330</th>\n",
       "      <td>192.168.210.47</td>\n",
       "      <td>192.168.210.47</td>\n",
       "      <td>4.0</td>\n",
       "    </tr>\n",
       "    <tr>\n",
       "      <th>331</th>\n",
       "      <td>192.168.210.48</td>\n",
       "      <td>192.168.210.48</td>\n",
       "      <td>5.0</td>\n",
       "    </tr>\n",
       "    <tr>\n",
       "      <th>332</th>\n",
       "      <td>192.168.210.49</td>\n",
       "      <td>192.168.210.49</td>\n",
       "      <td>1.0</td>\n",
       "    </tr>\n",
       "    <tr>\n",
       "      <th>333</th>\n",
       "      <td>192.168.210.50</td>\n",
       "      <td>192.168.210.50</td>\n",
       "      <td>3.0</td>\n",
       "    </tr>\n",
       "    <tr>\n",
       "      <th>334</th>\n",
       "      <td>192.168.210.52</td>\n",
       "      <td>192.168.210.52</td>\n",
       "      <td>1.0</td>\n",
       "    </tr>\n",
       "    <tr>\n",
       "      <th>335</th>\n",
       "      <td>192.168.210.53</td>\n",
       "      <td>192.168.210.53</td>\n",
       "      <td>0.0</td>\n",
       "    </tr>\n",
       "    <tr>\n",
       "      <th>336</th>\n",
       "      <td>192.168.210.54</td>\n",
       "      <td>192.168.210.54</td>\n",
       "      <td>0.0</td>\n",
       "    </tr>\n",
       "    <tr>\n",
       "      <th>337</th>\n",
       "      <td>192.168.210.55</td>\n",
       "      <td>192.168.210.55</td>\n",
       "      <td>9.0</td>\n",
       "    </tr>\n",
       "    <tr>\n",
       "      <th>338</th>\n",
       "      <td>192.168.210.56</td>\n",
       "      <td>192.168.210.56</td>\n",
       "      <td>0.0</td>\n",
       "    </tr>\n",
       "    <tr>\n",
       "      <th>339</th>\n",
       "      <td>192.168.210.57</td>\n",
       "      <td>192.168.210.57</td>\n",
       "      <td>4.0</td>\n",
       "    </tr>\n",
       "    <tr>\n",
       "      <th>340</th>\n",
       "      <td>192.168.220.1</td>\n",
       "      <td>192.168.220.1</td>\n",
       "      <td>0.0</td>\n",
       "    </tr>\n",
       "    <tr>\n",
       "      <th>341</th>\n",
       "      <td>192.168.220.2</td>\n",
       "      <td>192.168.220.2</td>\n",
       "      <td>16.0</td>\n",
       "    </tr>\n",
       "    <tr>\n",
       "      <th>342</th>\n",
       "      <td>192.168.220.42</td>\n",
       "      <td>192.168.220.42</td>\n",
       "      <td>3.0</td>\n",
       "    </tr>\n",
       "    <tr>\n",
       "      <th>343</th>\n",
       "      <td>192.168.220.43</td>\n",
       "      <td>192.168.220.43</td>\n",
       "      <td>1.0</td>\n",
       "    </tr>\n",
       "    <tr>\n",
       "      <th>344</th>\n",
       "      <td>192.168.220.45</td>\n",
       "      <td>192.168.220.45</td>\n",
       "      <td>3.0</td>\n",
       "    </tr>\n",
       "    <tr>\n",
       "      <th>345</th>\n",
       "      <td>192.168.220.46</td>\n",
       "      <td>192.168.220.46</td>\n",
       "      <td>2.0</td>\n",
       "    </tr>\n",
       "    <tr>\n",
       "      <th>346</th>\n",
       "      <td>192.168.220.47</td>\n",
       "      <td>192.168.220.47</td>\n",
       "      <td>0.0</td>\n",
       "    </tr>\n",
       "    <tr>\n",
       "      <th>347</th>\n",
       "      <td>192.168.220.48</td>\n",
       "      <td>192.168.220.48</td>\n",
       "      <td>1.0</td>\n",
       "    </tr>\n",
       "    <tr>\n",
       "      <th>348</th>\n",
       "      <td>192.168.220.49</td>\n",
       "      <td>192.168.220.49</td>\n",
       "      <td>4.0</td>\n",
       "    </tr>\n",
       "    <tr>\n",
       "      <th>349</th>\n",
       "      <td>192.168.220.50</td>\n",
       "      <td>192.168.220.50</td>\n",
       "      <td>3.0</td>\n",
       "    </tr>\n",
       "    <tr>\n",
       "      <th>350</th>\n",
       "      <td>192.168.220.51</td>\n",
       "      <td>192.168.220.51</td>\n",
       "      <td>0.0</td>\n",
       "    </tr>\n",
       "  </tbody>\n",
       "</table>\n",
       "<p>351 rows × 3 columns</p>\n",
       "</div>"
      ],
      "text/plain": [
       "         Unnamed: 0              IP  serverid\n",
       "0         10001_210       10001_210      17.0\n",
       "1         10003_106       10003_106       9.0\n",
       "2         10003_162       10003_162       3.0\n",
       "3         10003_235       10003_235       4.0\n",
       "4          10003_51        10003_51      15.0\n",
       "5          10003_90        10003_90      17.0\n",
       "6         10011_132       10011_132       2.0\n",
       "7         10013_240       10013_240      16.0\n",
       "8         10016_144       10016_144      17.0\n",
       "9         10021_188       10021_188       8.0\n",
       "10        10022_144       10022_144       2.0\n",
       "11        10022_207       10022_207       7.0\n",
       "12        10030_137       10030_137      15.0\n",
       "13        10030_147       10030_147      13.0\n",
       "14        10030_163       10030_163       8.0\n",
       "15        10030_164       10030_164       7.0\n",
       "16        10045_202       10045_202       4.0\n",
       "17         10045_94        10045_94      16.0\n",
       "18        10054_151       10054_151       4.0\n",
       "19         10057_27        10057_27      16.0\n",
       "20         10057_64        10057_64      10.0\n",
       "21        10058_130       10058_130       9.0\n",
       "22         10058_69        10058_69       6.0\n",
       "23         10067_13        10067_13      14.0\n",
       "24        10067_144       10067_144      12.0\n",
       "25         10072_35        10072_35      14.0\n",
       "26         10085_11        10085_11      17.0\n",
       "27        10085_147       10085_147       6.0\n",
       "28        10088_156       10088_156      11.0\n",
       "29        10088_187       10088_187      14.0\n",
       "..              ...             ...       ...\n",
       "321   192.168.100.1   192.168.100.1       0.0\n",
       "322  192.168.100.14  192.168.100.14       0.0\n",
       "323   192.168.100.2   192.168.100.2       0.0\n",
       "324  192.168.100.20  192.168.100.20       2.0\n",
       "325   192.168.200.1   192.168.200.1       3.0\n",
       "326   192.168.200.2   192.168.200.2      17.0\n",
       "327   192.168.210.1   192.168.210.1      17.0\n",
       "328  192.168.210.45  192.168.210.45       4.0\n",
       "329  192.168.210.46  192.168.210.46       5.0\n",
       "330  192.168.210.47  192.168.210.47       4.0\n",
       "331  192.168.210.48  192.168.210.48       5.0\n",
       "332  192.168.210.49  192.168.210.49       1.0\n",
       "333  192.168.210.50  192.168.210.50       3.0\n",
       "334  192.168.210.52  192.168.210.52       1.0\n",
       "335  192.168.210.53  192.168.210.53       0.0\n",
       "336  192.168.210.54  192.168.210.54       0.0\n",
       "337  192.168.210.55  192.168.210.55       9.0\n",
       "338  192.168.210.56  192.168.210.56       0.0\n",
       "339  192.168.210.57  192.168.210.57       4.0\n",
       "340   192.168.220.1   192.168.220.1       0.0\n",
       "341   192.168.220.2   192.168.220.2      16.0\n",
       "342  192.168.220.42  192.168.220.42       3.0\n",
       "343  192.168.220.43  192.168.220.43       1.0\n",
       "344  192.168.220.45  192.168.220.45       3.0\n",
       "345  192.168.220.46  192.168.220.46       2.0\n",
       "346  192.168.220.47  192.168.220.47       0.0\n",
       "347  192.168.220.48  192.168.220.48       1.0\n",
       "348  192.168.220.49  192.168.220.49       4.0\n",
       "349  192.168.220.50  192.168.220.50       3.0\n",
       "350  192.168.220.51  192.168.220.51       0.0\n",
       "\n",
       "[351 rows x 3 columns]"
      ]
     },
     "execution_count": 8,
     "metadata": {},
     "output_type": "execute_result"
    }
   ],
   "source": [
    "server_rules"
   ]
  },
  {
   "cell_type": "code",
   "execution_count": 9,
   "metadata": {},
   "outputs": [],
   "source": [
    "#merge in the serverid\n",
    "\n",
    "df_servers=df.merge(server_rules.iloc[:,1:3], left_on='Src_IP', right_on='IP', how='left')\n",
    "df_servers=df_servers.rename(columns={'serverid': 'Src_Server'})"
   ]
  },
  {
   "cell_type": "code",
   "execution_count": 10,
   "metadata": {},
   "outputs": [],
   "source": [
    "df_servers=df_servers.merge(server_rules.iloc[:,1:3], left_on='Dst_IP', right_on='IP', how='left')\n",
    "df_servers=df_servers.rename(columns={'serverid': 'Dst_Server'})\n",
    "df_servers=df_servers.drop(['IP_x', 'IP_y'], axis=1)"
   ]
  },
  {
   "cell_type": "code",
   "execution_count": 11,
   "metadata": {},
   "outputs": [
    {
     "data": {
      "text/html": [
       "<div>\n",
       "<style scoped>\n",
       "    .dataframe tbody tr th:only-of-type {\n",
       "        vertical-align: middle;\n",
       "    }\n",
       "\n",
       "    .dataframe tbody tr th {\n",
       "        vertical-align: top;\n",
       "    }\n",
       "\n",
       "    .dataframe thead th {\n",
       "        text-align: right;\n",
       "    }\n",
       "</style>\n",
       "<table border=\"1\" class=\"dataframe\">\n",
       "  <thead>\n",
       "    <tr style=\"text-align: right;\">\n",
       "      <th></th>\n",
       "      <th>Date</th>\n",
       "      <th>Duration</th>\n",
       "      <th>Src_IP</th>\n",
       "      <th>Src_pt</th>\n",
       "      <th>Dst_IP</th>\n",
       "      <th>Dst_pt</th>\n",
       "      <th>Packets</th>\n",
       "      <th>Bytes</th>\n",
       "      <th>date_hr</th>\n",
       "      <th>pairs</th>\n",
       "      <th>pairs2</th>\n",
       "      <th>norm_latency</th>\n",
       "      <th>Src_Server</th>\n",
       "      <th>Dst_Server</th>\n",
       "    </tr>\n",
       "  </thead>\n",
       "  <tbody>\n",
       "    <tr>\n",
       "      <th>1490</th>\n",
       "      <td>2017-08-02 00:23:54.113</td>\n",
       "      <td>0.997</td>\n",
       "      <td>192.168.100.20</td>\n",
       "      <td>59883</td>\n",
       "      <td>10011_132</td>\n",
       "      <td>25.0</td>\n",
       "      <td>2</td>\n",
       "      <td>148</td>\n",
       "      <td>2017-08-02 00:00:00</td>\n",
       "      <td>[10011_132, 192.168.100.20]</td>\n",
       "      <td>(10011_132, 192.168.100.20)</td>\n",
       "      <td>0.4985</td>\n",
       "      <td>2.0</td>\n",
       "      <td>2.0</td>\n",
       "    </tr>\n",
       "    <tr>\n",
       "      <th>1497</th>\n",
       "      <td>2017-08-02 00:23:57.115</td>\n",
       "      <td>0.000</td>\n",
       "      <td>192.168.100.20</td>\n",
       "      <td>59883</td>\n",
       "      <td>10011_132</td>\n",
       "      <td>25.0</td>\n",
       "      <td>1</td>\n",
       "      <td>74</td>\n",
       "      <td>2017-08-02 00:00:00</td>\n",
       "      <td>[10011_132, 192.168.100.20]</td>\n",
       "      <td>(10011_132, 192.168.100.20)</td>\n",
       "      <td>0.0000</td>\n",
       "      <td>2.0</td>\n",
       "      <td>2.0</td>\n",
       "    </tr>\n",
       "    <tr>\n",
       "      <th>1727</th>\n",
       "      <td>2017-08-02 00:28:54.340</td>\n",
       "      <td>0.998</td>\n",
       "      <td>192.168.100.20</td>\n",
       "      <td>59886</td>\n",
       "      <td>10011_132</td>\n",
       "      <td>25.0</td>\n",
       "      <td>2</td>\n",
       "      <td>148</td>\n",
       "      <td>2017-08-02 00:00:00</td>\n",
       "      <td>[10011_132, 192.168.100.20]</td>\n",
       "      <td>(10011_132, 192.168.100.20)</td>\n",
       "      <td>0.4990</td>\n",
       "      <td>2.0</td>\n",
       "      <td>2.0</td>\n",
       "    </tr>\n",
       "    <tr>\n",
       "      <th>1736</th>\n",
       "      <td>2017-08-02 00:28:57.342</td>\n",
       "      <td>0.000</td>\n",
       "      <td>192.168.100.20</td>\n",
       "      <td>59886</td>\n",
       "      <td>10011_132</td>\n",
       "      <td>25.0</td>\n",
       "      <td>1</td>\n",
       "      <td>74</td>\n",
       "      <td>2017-08-02 00:00:00</td>\n",
       "      <td>[10011_132, 192.168.100.20]</td>\n",
       "      <td>(10011_132, 192.168.100.20)</td>\n",
       "      <td>0.0000</td>\n",
       "      <td>2.0</td>\n",
       "      <td>2.0</td>\n",
       "    </tr>\n",
       "    <tr>\n",
       "      <th>3035</th>\n",
       "      <td>2017-08-02 00:58:53.915</td>\n",
       "      <td>0.999</td>\n",
       "      <td>192.168.100.20</td>\n",
       "      <td>59891</td>\n",
       "      <td>10011_132</td>\n",
       "      <td>25.0</td>\n",
       "      <td>2</td>\n",
       "      <td>148</td>\n",
       "      <td>2017-08-02 01:00:00</td>\n",
       "      <td>[10011_132, 192.168.100.20]</td>\n",
       "      <td>(10011_132, 192.168.100.20)</td>\n",
       "      <td>0.4995</td>\n",
       "      <td>2.0</td>\n",
       "      <td>2.0</td>\n",
       "    </tr>\n",
       "  </tbody>\n",
       "</table>\n",
       "</div>"
      ],
      "text/plain": [
       "                        Date  Duration          Src_IP  Src_pt     Dst_IP  \\\n",
       "1490 2017-08-02 00:23:54.113     0.997  192.168.100.20   59883  10011_132   \n",
       "1497 2017-08-02 00:23:57.115     0.000  192.168.100.20   59883  10011_132   \n",
       "1727 2017-08-02 00:28:54.340     0.998  192.168.100.20   59886  10011_132   \n",
       "1736 2017-08-02 00:28:57.342     0.000  192.168.100.20   59886  10011_132   \n",
       "3035 2017-08-02 00:58:53.915     0.999  192.168.100.20   59891  10011_132   \n",
       "\n",
       "      Dst_pt  Packets  Bytes             date_hr                        pairs  \\\n",
       "1490    25.0        2    148 2017-08-02 00:00:00  [10011_132, 192.168.100.20]   \n",
       "1497    25.0        1     74 2017-08-02 00:00:00  [10011_132, 192.168.100.20]   \n",
       "1727    25.0        2    148 2017-08-02 00:00:00  [10011_132, 192.168.100.20]   \n",
       "1736    25.0        1     74 2017-08-02 00:00:00  [10011_132, 192.168.100.20]   \n",
       "3035    25.0        2    148 2017-08-02 01:00:00  [10011_132, 192.168.100.20]   \n",
       "\n",
       "                           pairs2  norm_latency  Src_Server  Dst_Server  \n",
       "1490  (10011_132, 192.168.100.20)        0.4985         2.0         2.0  \n",
       "1497  (10011_132, 192.168.100.20)        0.0000         2.0         2.0  \n",
       "1727  (10011_132, 192.168.100.20)        0.4990         2.0         2.0  \n",
       "1736  (10011_132, 192.168.100.20)        0.0000         2.0         2.0  \n",
       "3035  (10011_132, 192.168.100.20)        0.4995         2.0         2.0  "
      ]
     },
     "execution_count": 11,
     "metadata": {},
     "output_type": "execute_result"
    }
   ],
   "source": [
    "#check to see if we get any pairs\n",
    "df_servers[df_servers['Src_Server']==df_servers['Dst_Server']].head()"
   ]
  },
  {
   "cell_type": "markdown",
   "metadata": {},
   "source": [
    "Great, at least we get some pairs. The percentage of matching pairs from the dataset is:\n"
   ]
  },
  {
   "cell_type": "code",
   "execution_count": 13,
   "metadata": {},
   "outputs": [
    {
     "data": {
      "text/plain": [
       "0.01940607809047456"
      ]
     },
     "execution_count": 13,
     "metadata": {},
     "output_type": "execute_result"
    }
   ],
   "source": [
    "len(df_servers[df_servers['Src_Server']==df_servers['Dst_Server']])/len(df_servers)"
   ]
  },
  {
   "cell_type": "code",
   "execution_count": 14,
   "metadata": {},
   "outputs": [
    {
     "data": {
      "text/html": [
       "<div>\n",
       "<style scoped>\n",
       "    .dataframe tbody tr th:only-of-type {\n",
       "        vertical-align: middle;\n",
       "    }\n",
       "\n",
       "    .dataframe tbody tr th {\n",
       "        vertical-align: top;\n",
       "    }\n",
       "\n",
       "    .dataframe thead th {\n",
       "        text-align: right;\n",
       "    }\n",
       "</style>\n",
       "<table border=\"1\" class=\"dataframe\">\n",
       "  <thead>\n",
       "    <tr style=\"text-align: right;\">\n",
       "      <th></th>\n",
       "      <th>Date</th>\n",
       "      <th>Duration</th>\n",
       "      <th>Src_IP</th>\n",
       "      <th>Src_pt</th>\n",
       "      <th>Dst_IP</th>\n",
       "      <th>Dst_pt</th>\n",
       "      <th>Packets</th>\n",
       "      <th>Bytes</th>\n",
       "      <th>date_hr</th>\n",
       "      <th>pairs</th>\n",
       "      <th>pairs2</th>\n",
       "      <th>norm_latency</th>\n",
       "      <th>Src_Server</th>\n",
       "      <th>Dst_Server</th>\n",
       "    </tr>\n",
       "  </thead>\n",
       "  <tbody>\n",
       "    <tr>\n",
       "      <th>0</th>\n",
       "      <td>2017-08-02 00:00:00.419</td>\n",
       "      <td>0.003</td>\n",
       "      <td>192.168.210.55</td>\n",
       "      <td>44870</td>\n",
       "      <td>192.168.100.11</td>\n",
       "      <td>445.0</td>\n",
       "      <td>2</td>\n",
       "      <td>174</td>\n",
       "      <td>2017-08-02</td>\n",
       "      <td>[192.168.100.11, 192.168.210.55]</td>\n",
       "      <td>(192.168.100.11, 192.168.210.55)</td>\n",
       "      <td>0.0015</td>\n",
       "      <td>9.0</td>\n",
       "      <td>NaN</td>\n",
       "    </tr>\n",
       "    <tr>\n",
       "      <th>1</th>\n",
       "      <td>2017-08-02 00:00:00.421</td>\n",
       "      <td>0.000</td>\n",
       "      <td>192.168.100.11</td>\n",
       "      <td>445</td>\n",
       "      <td>192.168.210.55</td>\n",
       "      <td>44870.0</td>\n",
       "      <td>1</td>\n",
       "      <td>108</td>\n",
       "      <td>2017-08-02</td>\n",
       "      <td>[192.168.100.11, 192.168.210.55]</td>\n",
       "      <td>(192.168.100.11, 192.168.210.55)</td>\n",
       "      <td>0.0000</td>\n",
       "      <td>NaN</td>\n",
       "      <td>9.0</td>\n",
       "    </tr>\n",
       "    <tr>\n",
       "      <th>2</th>\n",
       "      <td>2017-08-02 00:00:02.593</td>\n",
       "      <td>0.004</td>\n",
       "      <td>192.168.220.47</td>\n",
       "      <td>55101</td>\n",
       "      <td>192.168.100.11</td>\n",
       "      <td>445.0</td>\n",
       "      <td>2</td>\n",
       "      <td>174</td>\n",
       "      <td>2017-08-02</td>\n",
       "      <td>[192.168.100.11, 192.168.220.47]</td>\n",
       "      <td>(192.168.100.11, 192.168.220.47)</td>\n",
       "      <td>0.0020</td>\n",
       "      <td>0.0</td>\n",
       "      <td>NaN</td>\n",
       "    </tr>\n",
       "    <tr>\n",
       "      <th>3</th>\n",
       "      <td>2017-08-02 00:00:02.859</td>\n",
       "      <td>0.000</td>\n",
       "      <td>10000_34</td>\n",
       "      <td>443</td>\n",
       "      <td>192.168.210.54</td>\n",
       "      <td>59628.0</td>\n",
       "      <td>1</td>\n",
       "      <td>100</td>\n",
       "      <td>2017-08-02</td>\n",
       "      <td>[10000_34, 192.168.210.54]</td>\n",
       "      <td>(10000_34, 192.168.210.54)</td>\n",
       "      <td>0.0000</td>\n",
       "      <td>NaN</td>\n",
       "      <td>0.0</td>\n",
       "    </tr>\n",
       "    <tr>\n",
       "      <th>4</th>\n",
       "      <td>2017-08-02 00:00:02.594</td>\n",
       "      <td>0.000</td>\n",
       "      <td>192.168.100.11</td>\n",
       "      <td>445</td>\n",
       "      <td>192.168.220.47</td>\n",
       "      <td>55101.0</td>\n",
       "      <td>1</td>\n",
       "      <td>108</td>\n",
       "      <td>2017-08-02</td>\n",
       "      <td>[192.168.100.11, 192.168.220.47]</td>\n",
       "      <td>(192.168.100.11, 192.168.220.47)</td>\n",
       "      <td>0.0000</td>\n",
       "      <td>NaN</td>\n",
       "      <td>0.0</td>\n",
       "    </tr>\n",
       "  </tbody>\n",
       "</table>\n",
       "</div>"
      ],
      "text/plain": [
       "                     Date  Duration          Src_IP  Src_pt          Dst_IP  \\\n",
       "0 2017-08-02 00:00:00.419     0.003  192.168.210.55   44870  192.168.100.11   \n",
       "1 2017-08-02 00:00:00.421     0.000  192.168.100.11     445  192.168.210.55   \n",
       "2 2017-08-02 00:00:02.593     0.004  192.168.220.47   55101  192.168.100.11   \n",
       "3 2017-08-02 00:00:02.859     0.000        10000_34     443  192.168.210.54   \n",
       "4 2017-08-02 00:00:02.594     0.000  192.168.100.11     445  192.168.220.47   \n",
       "\n",
       "    Dst_pt  Packets  Bytes    date_hr                             pairs  \\\n",
       "0    445.0        2    174 2017-08-02  [192.168.100.11, 192.168.210.55]   \n",
       "1  44870.0        1    108 2017-08-02  [192.168.100.11, 192.168.210.55]   \n",
       "2    445.0        2    174 2017-08-02  [192.168.100.11, 192.168.220.47]   \n",
       "3  59628.0        1    100 2017-08-02        [10000_34, 192.168.210.54]   \n",
       "4  55101.0        1    108 2017-08-02  [192.168.100.11, 192.168.220.47]   \n",
       "\n",
       "                             pairs2  norm_latency  Src_Server  Dst_Server  \n",
       "0  (192.168.100.11, 192.168.210.55)        0.0015         9.0         NaN  \n",
       "1  (192.168.100.11, 192.168.210.55)        0.0000         NaN         9.0  \n",
       "2  (192.168.100.11, 192.168.220.47)        0.0020         0.0         NaN  \n",
       "3        (10000_34, 192.168.210.54)        0.0000         NaN         0.0  \n",
       "4  (192.168.100.11, 192.168.220.47)        0.0000         NaN         0.0  "
      ]
     },
     "execution_count": 14,
     "metadata": {},
     "output_type": "execute_result"
    }
   ],
   "source": [
    "df_servers.head()"
   ]
  },
  {
   "cell_type": "markdown",
   "metadata": {},
   "source": [
    "This is not a big percentage, but makes sense because we only made rules for some of the IP pairs that were most critical.\n",
    "Now, let's go through and change all the durations where we get a matching server pair to be time =0, this assumes they are on the same machine and latency is 0."
   ]
  },
  {
   "cell_type": "code",
   "execution_count": 15,
   "metadata": {},
   "outputs": [],
   "source": [
    "df_servers['duration_pred']=df_servers['Duration']\n",
    "\n",
    "df_servers.loc[df_servers['Src_Server']==df_servers['Dst_Server'], 'duration_pred']=0"
   ]
  },
  {
   "cell_type": "code",
   "execution_count": 16,
   "metadata": {},
   "outputs": [
    {
     "data": {
      "text/plain": [
       "2014119.5810000007"
      ]
     },
     "execution_count": 16,
     "metadata": {},
     "output_type": "execute_result"
    }
   ],
   "source": [
    "df_servers['Duration'].sum() #originial total latency"
   ]
  },
  {
   "cell_type": "code",
   "execution_count": 17,
   "metadata": {},
   "outputs": [
    {
     "data": {
      "text/plain": [
       "1884878.5070000016"
      ]
     },
     "execution_count": 17,
     "metadata": {},
     "output_type": "execute_result"
    }
   ],
   "source": [
    "model80_latency=df_servers['duration_pred'].sum()\n",
    "model80_latency#new updated latency with the co-located apps"
   ]
  },
  {
   "cell_type": "code",
   "execution_count": 18,
   "metadata": {},
   "outputs": [
    {
     "data": {
      "text/plain": [
       "0.23025657818873027"
      ]
     },
     "execution_count": 18,
     "metadata": {},
     "output_type": "execute_result"
    }
   ],
   "source": [
    "model80_avg_latency=df_servers['duration_pred'].mean()\n",
    "model80_avg_latency"
   ]
  },
  {
   "cell_type": "code",
   "execution_count": 19,
   "metadata": {},
   "outputs": [],
   "source": [
    "latency={'total_time':[ model80_latency], 'avg_time':[ model80_avg_latency], 'type':['model80']}\n",
    "latency=pd.DataFrame(latency)\n",
    "latency.to_csv('latency_time_80.csv')"
   ]
  },
  {
   "cell_type": "markdown",
   "metadata": {},
   "source": [
    "## How much did our model improve the latency? We made a what % impact?"
   ]
  },
  {
   "cell_type": "code",
   "execution_count": 20,
   "metadata": {},
   "outputs": [
    {
     "data": {
      "text/plain": [
       "0.06416752769755187"
      ]
     },
     "execution_count": 20,
     "metadata": {},
     "output_type": "execute_result"
    }
   ],
   "source": [
    "#percent change \n",
    "\n",
    "orig_time=df_servers['Duration'].sum()\n",
    "pred_time=df_servers['duration_pred'].sum()\n",
    "\n",
    "(orig_time-pred_time )/orig_time"
   ]
  },
  {
   "cell_type": "markdown",
   "metadata": {},
   "source": [
    "How does this compare to randomly assigning servers?"
   ]
  },
  {
   "cell_type": "code",
   "execution_count": 21,
   "metadata": {},
   "outputs": [],
   "source": [
    "#need to assign random servers to the IP addressed, however b/c we did not assign a server to all the IP addresses in our model run, we will only assign servers to the same proportion of the data.\n",
    "\n",
    "#how many servers did we assign in the Src_server column?\n",
    "num_src_assign=df_servers['Src_Server'].count()\n",
    "num_dst_assign=df_servers['Dst_Server'].count()"
   ]
  },
  {
   "cell_type": "code",
   "execution_count": 22,
   "metadata": {},
   "outputs": [],
   "source": [
    "xx_src=np.random.choice(len(df), num_src_assign) #which rows are randomly assigned src servers\n",
    "xx_dst=np.random.choice(len(df), num_dst_assign) #which rows are randomly assigned dst servers\n",
    "num_servers=server_rules['serverid'].nunique()\n",
    "df_servers['rnd_src_server']=None\n",
    "df_servers['rnd_dst_server']=None"
   ]
  },
  {
   "cell_type": "code",
   "execution_count": 23,
   "metadata": {},
   "outputs": [],
   "source": [
    "rnd_src_servers=[]\n",
    "for x in range(len(xx_src)):\n",
    "  rnd_src_servers.append(random.randint(0,num_servers))"
   ]
  },
  {
   "cell_type": "code",
   "execution_count": 24,
   "metadata": {},
   "outputs": [],
   "source": [
    "rnd_dst_servers=[]\n",
    "for x in range(len(xx_dst)):\n",
    "  rnd_dst_servers.append(random.randint(0,num_servers)) #create random numbers for dst serve"
   ]
  },
  {
   "cell_type": "code",
   "execution_count": 25,
   "metadata": {},
   "outputs": [
    {
     "name": "stderr",
     "output_type": "stream",
     "text": [
      "/home/ubuntu/anaconda3/lib/python3.6/site-packages/ipykernel/__main__.py:1: SettingWithCopyWarning: \n",
      "A value is trying to be set on a copy of a slice from a DataFrame\n",
      "\n",
      "See the caveats in the documentation: http://pandas.pydata.org/pandas-docs/stable/indexing.html#indexing-view-versus-copy\n",
      "  if __name__ == '__main__':\n",
      "/home/ubuntu/anaconda3/lib/python3.6/site-packages/ipykernel/__main__.py:2: SettingWithCopyWarning: \n",
      "A value is trying to be set on a copy of a slice from a DataFrame\n",
      "\n",
      "See the caveats in the documentation: http://pandas.pydata.org/pandas-docs/stable/indexing.html#indexing-view-versus-copy\n",
      "  from ipykernel import kernelapp as app\n"
     ]
    }
   ],
   "source": [
    "df_servers['rnd_src_server'][xx_src]=rnd_src_servers\n",
    "df_servers['rnd_dst_server'][xx_dst]=rnd_dst_servers"
   ]
  },
  {
   "cell_type": "code",
   "execution_count": 26,
   "metadata": {},
   "outputs": [
    {
     "data": {
      "text/plain": [
       "0.008727225729025878"
      ]
     },
     "execution_count": 26,
     "metadata": {},
     "output_type": "execute_result"
    }
   ],
   "source": [
    "len(df_servers[df_servers.rnd_src_server==df_servers.rnd_dst_server])/len(df_servers) #we only get 0.9% matching pairs"
   ]
  },
  {
   "cell_type": "code",
   "execution_count": 27,
   "metadata": {},
   "outputs": [
    {
     "name": "stderr",
     "output_type": "stream",
     "text": [
      "/home/ubuntu/anaconda3/lib/python3.6/site-packages/ipykernel/__main__.py:2: SettingWithCopyWarning: \n",
      "A value is trying to be set on a copy of a slice from a DataFrame\n",
      "\n",
      "See the caveats in the documentation: http://pandas.pydata.org/pandas-docs/stable/indexing.html#indexing-view-versus-copy\n",
      "  from ipykernel import kernelapp as app\n"
     ]
    }
   ],
   "source": [
    "df_servers['duration_rnd']=df_servers['Duration']\n",
    "df_servers['duration_rnd'][df_servers['rnd_src_server']==df_servers['rnd_dst_server']]=0"
   ]
  },
  {
   "cell_type": "markdown",
   "metadata": {},
   "source": [
    "### How does this completely random assignment compare to our model?"
   ]
  },
  {
   "cell_type": "code",
   "execution_count": 28,
   "metadata": {},
   "outputs": [
    {
     "data": {
      "text/plain": [
       "1884878.5070000016"
      ]
     },
     "execution_count": 28,
     "metadata": {},
     "output_type": "execute_result"
    }
   ],
   "source": [
    "df_servers['duration_pred'].sum() #new updated latency with the co-located apps"
   ]
  },
  {
   "cell_type": "code",
   "execution_count": 29,
   "metadata": {},
   "outputs": [
    {
     "data": {
      "text/plain": [
       "0.008480732803125068"
      ]
     },
     "execution_count": 29,
     "metadata": {},
     "output_type": "execute_result"
    }
   ],
   "source": [
    "(df_servers['Duration'].sum()-df_servers['duration_rnd'].sum())/ df_servers['Duration'].sum() #new updated latency with the random assignment"
   ]
  },
  {
   "cell_type": "markdown",
   "metadata": {},
   "source": [
    "The random model only improves things by almost 1%, while our model is around a 6% improvement."
   ]
  },
  {
   "cell_type": "markdown",
   "metadata": {},
   "source": [
    "Now, set the matching pairs duration = 0, and sum up the time again, just like before."
   ]
  },
  {
   "cell_type": "markdown",
   "metadata": {},
   "source": [
    "Our model performs how much better than random? A % improvement:"
   ]
  },
  {
   "cell_type": "code",
   "execution_count": 30,
   "metadata": {},
   "outputs": [
    {
     "data": {
      "text/plain": [
       "0.056163099131556954"
      ]
     },
     "execution_count": 30,
     "metadata": {},
     "output_type": "execute_result"
    }
   ],
   "source": [
    "(df_servers['duration_rnd'].sum()-df_servers['duration_pred'].sum() )/df_servers['duration_rnd'].sum()"
   ]
  },
  {
   "cell_type": "markdown",
   "metadata": {},
   "source": [
    "We saved how many seconds?"
   ]
  },
  {
   "cell_type": "code",
   "execution_count": 31,
   "metadata": {},
   "outputs": [
    {
     "data": {
      "text/plain": [
       "112159.86399999587"
      ]
     },
     "execution_count": 31,
     "metadata": {},
     "output_type": "execute_result"
    }
   ],
   "source": [
    "df_servers['duration_rnd'].sum() - df_servers['duration_pred'].sum()"
   ]
  },
  {
   "cell_type": "code",
   "execution_count": 32,
   "metadata": {},
   "outputs": [],
   "source": [
    "df_servers.to_csv('df_servers80.csv')"
   ]
  },
  {
   "cell_type": "markdown",
   "metadata": {},
   "source": [
    "Let's make an hour timestep and see how total latency varies over time"
   ]
  },
  {
   "cell_type": "code",
   "execution_count": 33,
   "metadata": {},
   "outputs": [],
   "source": [
    "hour_totals=df_servers.groupby(['date_hr'],as_index=False)[['Duration', 'duration_pred']].sum()\n",
    "\n",
    "#hour_group2=df.groupby(['date_hr', 'pairs2'], as_index=False)['Date'].count()"
   ]
  },
  {
   "cell_type": "code",
   "execution_count": 34,
   "metadata": {},
   "outputs": [
    {
     "data": {
      "image/png": "[encoded data removed]",
      "text/plain": [
       "<Figure size 432x288 with 1 Axes>"
      ]
     },
     "metadata": {
      "needs_background": "light"
     },
     "output_type": "display_data"
    }
   ],
   "source": [
    "from datetime import datetime\n",
    "import matplotlib.pyplot as plt\n",
    "from matplotlib.dates import DateFormatter\n",
    "\n",
    "fig, ax = plt.subplots()\n",
    "ax.plot(hour_totals['date_hr'], hour_totals['Duration'])\n",
    "ax.plot(hour_totals['date_hr'], hour_totals['duration_pred'])\n",
    "\n",
    "myFmt = DateFormatter(\"%m-%d\")\n",
    "ax.xaxis.set_major_formatter(myFmt)\n",
    "ax.annotate('Weekend', xy=('2017-8-6', 100), xytext=('2017-8-6', 500),\n",
    "            arrowprops=dict(facecolor='black', shrink=0.05),\n",
    "            )\n",
    "\n",
    "## Rotate date labels automatically\n",
    "fig.autofmt_xdate()\n",
    "plt.ylabel('Total latency (s)')\n",
    "plt.xlabel('month-day')\n",
    "plt.show()"
   ]
  },
  {
   "cell_type": "markdown",
   "metadata": {},
   "source": [
    "How many seconds are we saving each hour?"
   ]
  },
  {
   "cell_type": "code",
   "execution_count": 35,
   "metadata": {},
   "outputs": [],
   "source": [
    "hour_totals['time_saved']=hour_totals['Duration']-hour_totals['duration_pred']"
   ]
  },
  {
   "cell_type": "code",
   "execution_count": 36,
   "metadata": {},
   "outputs": [
    {
     "data": {
      "image/png": "[encoded data removed]",
      "text/plain": [
       "<Figure size 432x288 with 1 Axes>"
      ]
     },
     "metadata": {
      "needs_background": "light"
     },
     "output_type": "display_data"
    }
   ],
   "source": [
    "fig, ax = plt.subplots()\n",
    "ax.plot(hour_totals['date_hr'], hour_totals['time_saved'])\n",
    "\n",
    "myFmt = DateFormatter(\"%m-%d\")\n",
    "ax.xaxis.set_major_formatter(myFmt)\n",
    "ax.annotate('Weekend', xy=('2017-8-6', 100), xytext=('2017-8-6', 500),\n",
    "            arrowprops=dict(facecolor='black', shrink=0.05),\n",
    "            )\n",
    "\n",
    "## Rotate date labels automatically\n",
    "fig.autofmt_xdate()\n",
    "plt.ylabel('Total latency (s) Saved with new model')\n",
    "plt.xlabel('month-day')\n",
    "plt.show()"
   ]
  },
  {
   "cell_type": "markdown",
   "metadata": {},
   "source": [
    "Hmmmm what's happening in the last day?"
   ]
  },
  {
   "cell_type": "markdown",
   "metadata": {},
   "source": [
    "### What if we only implement a sub-set of the rules?\n",
    "These results are for all of the rules generated by the FP-Growth algorithm being implemented. This is ~300 rules. If we do not want to implement them all, because of cost and resources, we could implement them in batches. The servers were assigned based on highest priorety rules being put in a server first. So server \"1\" has the IP addresses that are most valuable to be co-located, the IPs assigned to higher number servers (e.g., 20) are less important.\n",
    "\n",
    "Let's see if we implement each batch of rules, how close we get to our total benefit.\n",
    "Here % = time saved with this batch of rules / total time saved with all rules implemented"
   ]
  },
  {
   "cell_type": "code",
   "execution_count": 54,
   "metadata": {},
   "outputs": [],
   "source": [
    "server_rules1=server_rules[server_rules['serverid']==1] #only implementing the rules that fit on server 1, or the top 20 IPs"
   ]
  },
  {
   "cell_type": "code",
   "execution_count": 38,
   "metadata": {},
   "outputs": [],
   "source": [
    "df_servers_list=[]\n",
    "\n",
    "batch=pd.DataFrame()\n",
    "serverid=0\n",
    "#memory error, lets only do a subset, if i=5 we use servers 0-5\n",
    "percent_rules=[0.05, 0.25, 0.5, 0.75, 1]\n",
    "\n",
    "server_batches=[server_rules.serverid.nunique()*x for x in percent_rules]\n",
    "server_batches=[round(x) for x in server_batches]\n",
    "server_batches\n",
    "\n",
    "for i in server_batches:\n",
    "    batch=df.merge(server_rules[server_rules['serverid']<=i].iloc[:,1:3], left_on='Src_IP', right_on='IP', how='left')\n",
    "    batch=batch.rename(columns={'serverid': 'Src_Server'})\n",
    "    batch=batch.merge(server_rules[server_rules['serverid']<=i].iloc[:,1:3], left_on='Dst_IP', right_on='IP', how='left')\n",
    "    batch=batch.rename(columns={'serverid': 'Dst_Server'})\n",
    "    df_servers_list.append(batch)\n",
    "\n"
   ]
  },
  {
   "cell_type": "code",
   "execution_count": 39,
   "metadata": {},
   "outputs": [
    {
     "name": "stderr",
     "output_type": "stream",
     "text": [
      "/home/ubuntu/anaconda3/lib/python3.6/site-packages/ipykernel/__main__.py:6: SettingWithCopyWarning: \n",
      "A value is trying to be set on a copy of a slice from a DataFrame\n",
      "\n",
      "See the caveats in the documentation: http://pandas.pydata.org/pandas-docs/stable/indexing.html#indexing-view-versus-copy\n"
     ]
    }
   ],
   "source": [
    "latency_avg=[]\n",
    "latency_totals=[]\n",
    "for i in range(len(df_servers_list)):\n",
    "    df_server=df_servers_list[i]\n",
    "    df_server['duration_pred']=df_server['Duration']\n",
    "    df_server['duration_pred'][df_server['Src_Server']==df_servers['Dst_Server']]=0\n",
    "    total_time=df_server['duration_pred'].sum()\n",
    "    avg_time=df_server['duration_pred'].mean()\n",
    "    latency_totals.append(total_time)\n",
    "    latency_avg.append(avg_time)"
   ]
  },
  {
   "cell_type": "code",
   "execution_count": 40,
   "metadata": {},
   "outputs": [
    {
     "data": {
      "text/html": [
       "<div>\n",
       "<style scoped>\n",
       "    .dataframe tbody tr th:only-of-type {\n",
       "        vertical-align: middle;\n",
       "    }\n",
       "\n",
       "    .dataframe tbody tr th {\n",
       "        vertical-align: top;\n",
       "    }\n",
       "\n",
       "    .dataframe thead th {\n",
       "        text-align: right;\n",
       "    }\n",
       "</style>\n",
       "<table border=\"1\" class=\"dataframe\">\n",
       "  <thead>\n",
       "    <tr style=\"text-align: right;\">\n",
       "      <th></th>\n",
       "      <th>latency_total</th>\n",
       "      <th>latency_avg</th>\n",
       "      <th>percent_rules</th>\n",
       "      <th>num_rules</th>\n",
       "      <th>model</th>\n",
       "    </tr>\n",
       "  </thead>\n",
       "  <tbody>\n",
       "    <tr>\n",
       "      <th>0</th>\n",
       "      <td>1886554.666</td>\n",
       "      <td>0.230461</td>\n",
       "      <td>0.05</td>\n",
       "      <td>20</td>\n",
       "      <td>per80_70con</td>\n",
       "    </tr>\n",
       "    <tr>\n",
       "      <th>1</th>\n",
       "      <td>1885068.874</td>\n",
       "      <td>0.230280</td>\n",
       "      <td>0.25</td>\n",
       "      <td>80</td>\n",
       "      <td>per80_70con</td>\n",
       "    </tr>\n",
       "    <tr>\n",
       "      <th>2</th>\n",
       "      <td>1884878.507</td>\n",
       "      <td>0.230257</td>\n",
       "      <td>0.50</td>\n",
       "      <td>180</td>\n",
       "      <td>per80_70con</td>\n",
       "    </tr>\n",
       "    <tr>\n",
       "      <th>3</th>\n",
       "      <td>1884878.507</td>\n",
       "      <td>0.230257</td>\n",
       "      <td>0.75</td>\n",
       "      <td>280</td>\n",
       "      <td>per80_70con</td>\n",
       "    </tr>\n",
       "    <tr>\n",
       "      <th>4</th>\n",
       "      <td>1884878.507</td>\n",
       "      <td>0.230257</td>\n",
       "      <td>1.00</td>\n",
       "      <td>360</td>\n",
       "      <td>per80_70con</td>\n",
       "    </tr>\n",
       "  </tbody>\n",
       "</table>\n",
       "</div>"
      ],
      "text/plain": [
       "   latency_total  latency_avg  percent_rules  num_rules        model\n",
       "0    1886554.666     0.230461           0.05         20  per80_70con\n",
       "1    1885068.874     0.230280           0.25         80  per80_70con\n",
       "2    1884878.507     0.230257           0.50        180  per80_70con\n",
       "3    1884878.507     0.230257           0.75        280  per80_70con\n",
       "4    1884878.507     0.230257           1.00        360  per80_70con"
      ]
     },
     "execution_count": 40,
     "metadata": {},
     "output_type": "execute_result"
    }
   ],
   "source": [
    "apps_server=20\n",
    "num_rules=[x*apps_server for x in server_batches]\n",
    "latency_matrix={'latency_total':latency_totals, 'latency_avg':latency_avg, 'percent_rules':percent_rules, 'num_rules':num_rules}\n",
    "latency_matrix=pd.DataFrame.from_dict(latency_matrix)\n",
    "latency_matrix['model']='per80_70con'\n",
    "latency_matrix"
   ]
  },
  {
   "cell_type": "code",
   "execution_count": 59,
   "metadata": {},
   "outputs": [],
   "source": [
    "latency_matrix.to_csv('latency_matrix_80_70con.csv')"
   ]
  },
  {
   "cell_type": "code",
   "execution_count": null,
   "metadata": {},
   "outputs": [],
   "source": []
  }
 ],
 "metadata": {
  "kernelspec": {
   "display_name": "Python [conda env:anaconda3]",
   "language": "python",
   "name": "conda-env-anaconda3-py"
  },
  "language_info": {
   "codemirror_mode": {
    "name": "ipython",
    "version": 3
   },
   "file_extension": ".py",
   "mimetype": "text/x-python",
   "name": "python",
   "nbconvert_exporter": "python",
   "pygments_lexer": "ipython3",
   "version": "3.6.4"
  }
 },
 "nbformat": 4,
 "nbformat_minor": 2
}
