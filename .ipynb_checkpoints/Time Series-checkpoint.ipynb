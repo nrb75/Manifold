{
 "cells": [
  {
   "cell_type": "markdown",
   "metadata": {},
   "source": [
    "Attempt to make forecasts on the frequency of each IP pair using facebook Prophet model adjusted with a hierarchical or \"grouped\" structure. We will treat each pair as a \"group\", but allow them all to inform eachother.\n"
   ]
  },
  {
   "cell_type": "markdown",
   "metadata": {},
   "source": [
    "Import data and transform it into correct time-series format.\n",
    "\n",
    "For our purposed to get a count or frequency of each pair, we need some timestep to group these data on. For simplicity we will use a 1-hr timestep."
   ]
  },
  {
   "cell_type": "code",
   "execution_count": 21,
   "metadata": {},
   "outputs": [],
   "source": [
    "import boto3\n",
    "import pandas as pd\n",
    "import numpy as np\n",
    "import matplotlib.pyplot as plt\n",
    "from io import BytesIO\n",
    "from mlxtend.preprocessing import TransactionEncoder\n",
    "import random\n",
    "from fbprophet import Prophet\n",
    "import htsprophet\n",
    "from htsprophet.hts import hts, orderHier, makeWeekly\n",
    "from htsprophet.htsPlot import plotNode, plotChild, plotNodeComponents"
   ]
  },
  {
   "cell_type": "code",
   "execution_count": 2,
   "metadata": {},
   "outputs": [
    {
     "name": "stderr",
     "output_type": "stream",
     "text": [
      "/home/ubuntu/anaconda3/lib/python3.6/site-packages/IPython/core/interactiveshell.py:2785: DtypeWarning: Columns (8) have mixed types. Specify dtype option on import or set low_memory=False.\n",
      "  interactivity=interactivity, compiler=compiler, result=result)\n"
     ]
    }
   ],
   "source": [
    "#load data\n",
    "\n",
    "client = boto3.client('s3')\n",
    "obj = client.get_object(Bucket='manifolddata', Key='week1.csv')\n",
    "df = pd.read_csv(BytesIO(obj['Body'].read()))\n"
   ]
  },
  {
   "cell_type": "code",
   "execution_count": 3,
   "metadata": {},
   "outputs": [],
   "source": [
    "df=df.iloc[:,[0,1,3,4,5,6,7,8]]\n",
    "df.columns=['Date', 'Duration', 'Src_IP', 'Src_pt', 'Dst_IP', 'Dst_pt','Packets', 'Bytes']\n",
    "#add an date column that is rounded to nearest hour, so we can use this as a timestep to see how frequently IP pairs occur in each timestep\n",
    "df['Date']=pd.to_datetime(df['Date'], format=\"%Y-%m-%d %H:%M:%S.%f\", errors = 'coerce')\n",
    "df['date_hr']=pd.Series(df['Date']).dt.round(\"H\")\n",
    "#create a pair column, which is a touple of the src and dst IP, sorted. \n",
    "#It does not matter which call came first, we simply want to know which pair occurs most frequently.\n",
    "\n",
    "df['pairs']=list(zip(df.Src_IP, df.Dst_IP))\n",
    "df['pairs']=df['pairs'].apply(sorted)\n",
    "df['pairs2']=tuple(df['pairs'])\n"
   ]
  },
  {
   "cell_type": "code",
   "execution_count": 4,
   "metadata": {},
   "outputs": [],
   "source": [
    "def convert_si_to_number(x):\n",
    "    total_stars = 0\n",
    "    if 'k' in x:\n",
    "        if len(x) > 1:\n",
    "            total_stars = float(x.replace('k', '')) * 1000 # convert k to a thousand\n",
    "    elif 'M' in x:\n",
    "        if len(x) > 1:\n",
    "            total_stars = float(x.replace('M', '')) * 1000000 # convert M to a million\n",
    "    elif 'B' in x:\n",
    "        total_stars = float(x.replace('B', '')) * 1000000000 # convert B to a Billion\n",
    "    else:\n",
    "        total_stars = int(x) # Less than 1000\n",
    "    \n",
    "    return int(total_stars)"
   ]
  },
  {
   "cell_type": "code",
   "execution_count": 5,
   "metadata": {},
   "outputs": [],
   "source": [
    "df.Bytes=df.Bytes.astype('str')\n",
    "test_list=df.Bytes\n",
    "\n",
    "#[i for i, s in enumerate(test_list) if 'M' in s]#show where the M errors are happening\n",
    "\n",
    "test_list= [convert_si_to_number(x) for x in test_list]\n",
    "df.Bytes=test_list #bring it back into the dataframe"
   ]
  },
  {
   "cell_type": "code",
   "execution_count": 26,
   "metadata": {},
   "outputs": [
    {
     "data": {
      "text/html": [
       "<div>\n",
       "<style scoped>\n",
       "    .dataframe tbody tr th:only-of-type {\n",
       "        vertical-align: middle;\n",
       "    }\n",
       "\n",
       "    .dataframe tbody tr th {\n",
       "        vertical-align: top;\n",
       "    }\n",
       "\n",
       "    .dataframe thead th {\n",
       "        text-align: right;\n",
       "    }\n",
       "</style>\n",
       "<table border=\"1\" class=\"dataframe\">\n",
       "  <thead>\n",
       "    <tr style=\"text-align: right;\">\n",
       "      <th></th>\n",
       "      <th>date_hr</th>\n",
       "      <th>pairs2</th>\n",
       "      <th>Date</th>\n",
       "    </tr>\n",
       "  </thead>\n",
       "  <tbody>\n",
       "    <tr>\n",
       "      <th>0</th>\n",
       "      <td>2017-08-02</td>\n",
       "      <td>('10000_34', '192.168.210.54')</td>\n",
       "      <td>6</td>\n",
       "    </tr>\n",
       "    <tr>\n",
       "      <th>1</th>\n",
       "      <td>2017-08-02</td>\n",
       "      <td>('10001_213', '192.168.210.54')</td>\n",
       "      <td>53</td>\n",
       "    </tr>\n",
       "    <tr>\n",
       "      <th>2</th>\n",
       "      <td>2017-08-02</td>\n",
       "      <td>('10002_162', '192.168.210.57')</td>\n",
       "      <td>10</td>\n",
       "    </tr>\n",
       "    <tr>\n",
       "      <th>3</th>\n",
       "      <td>2017-08-02</td>\n",
       "      <td>('10002_174', '192.168.210.54')</td>\n",
       "      <td>20</td>\n",
       "    </tr>\n",
       "    <tr>\n",
       "      <th>4</th>\n",
       "      <td>2017-08-02</td>\n",
       "      <td>('10002_174', '192.168.210.57')</td>\n",
       "      <td>30</td>\n",
       "    </tr>\n",
       "  </tbody>\n",
       "</table>\n",
       "</div>"
      ],
      "text/plain": [
       "     date_hr                           pairs2  Date\n",
       "0 2017-08-02   ('10000_34', '192.168.210.54')     6\n",
       "1 2017-08-02  ('10001_213', '192.168.210.54')    53\n",
       "2 2017-08-02  ('10002_162', '192.168.210.57')    10\n",
       "3 2017-08-02  ('10002_174', '192.168.210.54')    20\n",
       "4 2017-08-02  ('10002_174', '192.168.210.57')    30"
      ]
     },
     "execution_count": 26,
     "metadata": {},
     "output_type": "execute_result"
    }
   ],
   "source": [
    "#Group the data by hour timestep and get a frequency of occurance for each pair\n",
    "\n",
    "hr_group=df.groupby(['date_hr', 'pairs2'],as_index=False)['Date'].count()\n",
    "hr_group.pairs2=hr_group.pairs2.astype(str) #need to convert tuple to string for hts function\n",
    "hr_group.head() #the pairs2 column is our 'group'"
   ]
  },
  {
   "cell_type": "code",
   "execution_count": 27,
   "metadata": {},
   "outputs": [
    {
     "name": "stdout",
     "output_type": "stream",
     "text": [
      "<class 'pandas.core.frame.DataFrame'>\n",
      "Int64Index: 158239 entries, 0 to 158238\n",
      "Data columns (total 3 columns):\n",
      "date_hr    158239 non-null datetime64[ns]\n",
      "pairs2     158239 non-null object\n",
      "Date       158239 non-null int64\n",
      "dtypes: datetime64[ns](1), int64(1), object(1)\n",
      "memory usage: 4.8+ MB\n"
     ]
    }
   ],
   "source": [
    "hr_group.info()"
   ]
  },
  {
   "cell_type": "code",
   "execution_count": 24,
   "metadata": {},
   "outputs": [
    {
     "name": "stdout",
     "output_type": "stream",
     "text": [
      "<class 'pandas.core.frame.DataFrame'>\n",
      "RangeIndex: 8185992 entries, 0 to 8185991\n",
      "Data columns (total 11 columns):\n",
      "Date        datetime64[ns]\n",
      "Duration    float64\n",
      "Src_IP      object\n",
      "Src_pt      int64\n",
      "Dst_IP      object\n",
      "Dst_pt      float64\n",
      "Packets     int64\n",
      "Bytes       int64\n",
      "date_hr     datetime64[ns]\n",
      "pairs       object\n",
      "pairs2      object\n",
      "dtypes: datetime64[ns](2), float64(2), int64(3), object(4)\n",
      "memory usage: 687.0+ MB\n"
     ]
    }
   ],
   "source": [
    "df.info()"
   ]
  },
  {
   "cell_type": "code",
   "execution_count": null,
   "metadata": {},
   "outputs": [],
   "source": [
    "#tell prophet what is our grouping variable\n",
    "data2, nodes = orderHier(hr_group, 1)"
   ]
  },
  {
   "cell_type": "code",
   "execution_count": null,
   "metadata": {},
   "outputs": [],
   "source": [
    "#run time series model\n",
    "\n",
    "myDict = hts(data2, freq='H', nodes) \n",
    "#the default mehthod\n",
    "#OLS\" - optimal combination by Original Least Squares (Default), "
   ]
  }
 ],
 "metadata": {
  "kernelspec": {
   "display_name": "Python [conda env:anaconda3]",
   "language": "python",
   "name": "conda-env-anaconda3-py"
  },
  "language_info": {
   "codemirror_mode": {
    "name": "ipython",
    "version": 3
   },
   "file_extension": ".py",
   "mimetype": "text/x-python",
   "name": "python",
   "nbconvert_exporter": "python",
   "pygments_lexer": "ipython3",
   "version": "3.6.4"
  }
 },
 "nbformat": 4,
 "nbformat_minor": 2
}
