{
 "cells": [
  {
   "cell_type": "code",
   "execution_count": 23,
   "metadata": {},
   "outputs": [],
   "source": [
    "import boto3\n",
    "import pandas as pd\n",
    "import numpy as np\n",
    "import matplotlib.pyplot as plt\n",
    "from io import BytesIO\n",
    "from mlxtend.preprocessing import TransactionEncoder\n",
    "import random\n",
    "#from mlxtend.frequent_patterns import apriori\n",
    "from apyori import apriori \n",
    "from itertools import combinations, groupby\n",
    "from collections import Counter\n",
    "from Server_Assign_apriori import server_association_apriori\n",
    "from format_rules_apriori import  format_rules_apriori\n",
    "from assign_test_apriori2 import assign_servers_output\n",
    "from apriori_rules import association_rules"
   ]
  },
  {
   "cell_type": "code",
   "execution_count": 2,
   "metadata": {},
   "outputs": [
    {
     "name": "stderr",
     "output_type": "stream",
     "text": [
      "/home/ubuntu/anaconda3/lib/python3.6/site-packages/IPython/core/interactiveshell.py:2785: DtypeWarning: Columns (8) have mixed types. Specify dtype option on import or set low_memory=False.\n",
      "  interactivity=interactivity, compiler=compiler, result=result)\n"
     ]
    }
   ],
   "source": [
    "#load data\n",
    "# based off https://www.datatheque.com/posts/association-analysis/\n",
    "\n",
    "client = boto3.client('s3')\n",
    "obj = client.get_object(Bucket='manifolddata', Key='week1.csv')\n",
    "df = pd.read_csv(BytesIO(obj['Body'].read()))\n"
   ]
  },
  {
   "cell_type": "code",
   "execution_count": 3,
   "metadata": {},
   "outputs": [],
   "source": [
    "df=df.iloc[:,[0,1,3,4,5,6,7,8]]\n",
    "df.columns=['Date', 'Duration', 'Src_IP', 'Src_pt', 'Dst_IP', 'Dst_pt','Packets', 'Bytes']\n",
    "#add an date column that is rounded to nearest hour, so we can use this as a timestep to see how frequently IP pairs occur in each timestep\n",
    "df['Date']=pd.to_datetime(df['Date'], format=\"%Y-%m-%d %H:%M:%S.%f\", errors = 'coerce')\n",
    "df['date_hr']=pd.Series(df['Date']).dt.round(\"H\")"
   ]
  },
  {
   "cell_type": "code",
   "execution_count": 4,
   "metadata": {},
   "outputs": [],
   "source": [
    "def convert_si_to_number(x):\n",
    "    total_stars = 0\n",
    "    if 'k' in x:\n",
    "        if len(x) > 1:\n",
    "            total_stars = float(x.replace('k', '')) * 1000 # convert k to a thousand\n",
    "    elif 'M' in x:\n",
    "        if len(x) > 1:\n",
    "            total_stars = float(x.replace('M', '')) * 1000000 # convert M to a million\n",
    "    elif 'B' in x:\n",
    "        total_stars = float(x.replace('B', '')) * 1000000000 # convert B to a Billion\n",
    "    else:\n",
    "        total_stars = int(x) # Less than 1000\n",
    "    return int(total_stars)"
   ]
  },
  {
   "cell_type": "code",
   "execution_count": 5,
   "metadata": {},
   "outputs": [],
   "source": [
    "df.Bytes=df.Bytes.astype('str')\n",
    "test_list=df.Bytes\n",
    "\n",
    "[i for i, s in enumerate(test_list) if 'M' in s]#show where the M errors are happening\n",
    "\n",
    "test_list= [convert_si_to_number(x) for x in test_list]\n",
    "df.Bytes=test_list #bring it back into the dataframe\n"
   ]
  },
  {
   "cell_type": "code",
   "execution_count": 6,
   "metadata": {},
   "outputs": [],
   "source": [
    "#create a pair column, which is a touple of the src and dst IP, sorted. \n",
    "#It does not matter which call came first, we simply want to know which pair occurs most frequently.\n",
    "\n",
    "df['pairs']=list(zip(df.Src_IP, df.Dst_IP))\n",
    "df['pairs']=df['pairs'].apply(sorted)\n",
    "df['pairs2']=tuple(df['pairs'])"
   ]
  },
  {
   "cell_type": "code",
   "execution_count": 7,
   "metadata": {},
   "outputs": [],
   "source": [
    "df['norm_latency']=df['Duration']/df['Packets']"
   ]
  },
  {
   "cell_type": "code",
   "execution_count": 22,
   "metadata": {},
   "outputs": [],
   "source": [
    "df_train=df[df['Date']<'2017-08-08'] #first 6 days\n",
    "df_test=df[df['Date']>'2017-08-08'] #last day"
   ]
  },
  {
   "cell_type": "code",
   "execution_count": 9,
   "metadata": {},
   "outputs": [],
   "source": [
    "percentile=0.9\n",
    "confidence=1\n",
    "apps_server=20"
   ]
  },
  {
   "cell_type": "code",
   "execution_count": null,
   "metadata": {},
   "outputs": [],
   "source": []
  },
  {
   "cell_type": "code",
   "execution_count": 10,
   "metadata": {},
   "outputs": [],
   "source": [
    "data=df[['Date', 'Src_IP', 'Dst_IP']]\n",
    "#melt \n",
    "data2=data\n",
    "data2=pd.melt(data2, id_vars=['Date'])"
   ]
  },
  {
   "cell_type": "code",
   "execution_count": 11,
   "metadata": {},
   "outputs": [],
   "source": [
    "# Convert from DataFrame to a Series, with order_id as index and item_id as value\n",
    "# Convert from DataFrame to a Series, with order_id as index and item_id as value\n",
    "#necessary for assocation mining\n",
    "data2=data2[['Date', 'value']]\n",
    "data2.columns=['Date', 'IP']\n",
    "data_series = data2.set_index('Date')['IP'].rename('IP')"
   ]
  },
  {
   "cell_type": "code",
   "execution_count": 12,
   "metadata": {},
   "outputs": [],
   "source": [
    "#group the dataset by unique pairs, then count how frequently each pair occurs, and also get the average normalized latency time for that pair. The latency times vary because the servers they are assigned are random.\n",
    "pairs_count=(df.groupby('pairs2').agg({'Date':'count', 'Duration': 'sum', 'Packets':'sum'}).reset_index())\n",
    "\n",
    "pairs_count.columns=['pairs','frequency', 'total_duration', 'total_packets']\n",
    "pairs_count['norm_latency']=(pairs_count['total_duration']/pairs_count['total_packets'].sum())*100 #sum of all duration time divided by sum of all packets transfered for that pair"
   ]
  },
  {
   "cell_type": "code",
   "execution_count": 13,
   "metadata": {},
   "outputs": [],
   "source": [
    "per_90=np.percentile(pairs_count['frequency'], [90])\n",
    "\n",
    "min_support=per_90/len(df)\n",
    "min_support=min_support[0]"
   ]
  },
  {
   "cell_type": "code",
   "execution_count": 14,
   "metadata": {},
   "outputs": [
    {
     "data": {
      "text/plain": [
       "3.24945345658779e-05"
      ]
     },
     "execution_count": 14,
     "metadata": {},
     "output_type": "execute_result"
    }
   ],
   "source": [
    "min_support"
   ]
  },
  {
   "cell_type": "code",
   "execution_count": 15,
   "metadata": {},
   "outputs": [
    {
     "name": "stdout",
     "output_type": "stream",
     "text": [
      "Starting order_item:               16371984\n",
      "Items with support >= 3.24945345658779e-05:            9041\n",
      "Remaining order_item:              16371372\n",
      "Remaining orders with 2+ items:     6709534\n",
      "Remaining order_item:              16370809\n"
     ]
    },
    {
     "name": "stderr",
     "output_type": "stream",
     "text": [
      "/home/ubuntu/notebook/Manifold/iter_apriori.py:27: FutureWarning: Method .as_matrix will be removed in a future version. Use .values instead.\n",
      "  order_item = order_item.reset_index().as_matrix()\n"
     ]
    },
    {
     "name": "stdout",
     "output_type": "stream",
     "text": [
      "Item pairs:                           92273\n",
      "Item pairs with support >= 3.24945345658779e-05:      17282\n",
      "\n"
     ]
    }
   ],
   "source": [
    "rules = association_rules(data_series, min_support)  "
   ]
  },
  {
   "cell_type": "code",
   "execution_count": 17,
   "metadata": {},
   "outputs": [],
   "source": [
    "server_df, server_assignments, total_latency, total_latency_model, avg_latency, avg_latency_model = server_association_apriori(formated_rules, df, apps_server) #this function loaded fr"
   ]
  },
  {
   "cell_type": "code",
   "execution_count": 18,
   "metadata": {},
   "outputs": [
    {
     "data": {
      "text/plain": [
       "2014119.5810000007"
      ]
     },
     "execution_count": 18,
     "metadata": {},
     "output_type": "execute_result"
    }
   ],
   "source": [
    "total_latency"
   ]
  },
  {
   "cell_type": "code",
   "execution_count": 19,
   "metadata": {},
   "outputs": [
    {
     "data": {
      "text/plain": [
       "1144726.8879999986"
      ]
     },
     "execution_count": 19,
     "metadata": {},
     "output_type": "execute_result"
    }
   ],
   "source": [
    "total_latency_model"
   ]
  },
  {
   "cell_type": "markdown",
   "metadata": {},
   "source": [
    "## Same thing with train/test data"
   ]
  },
  {
   "cell_type": "code",
   "execution_count": 24,
   "metadata": {},
   "outputs": [
    {
     "name": "stderr",
     "output_type": "stream",
     "text": [
      "/home/ubuntu/notebook/Manifold/assign_test_apriori2.py:23: SettingWithCopyWarning: \n",
      "A value is trying to be set on a copy of a slice from a DataFrame.\n",
      "Try using .loc[row_indexer,col_indexer] = value instead\n",
      "\n",
      "See the caveats in the documentation: http://pandas.pydata.org/pandas-docs/stable/indexing.html#indexing-view-versus-copy\n",
      "  df_train['hour']=None\n",
      "/home/ubuntu/notebook/Manifold/assign_test_apriori2.py:24: SettingWithCopyWarning: \n",
      "A value is trying to be set on a copy of a slice from a DataFrame.\n",
      "Try using .loc[row_indexer,col_indexer] = value instead\n",
      "\n",
      "See the caveats in the documentation: http://pandas.pydata.org/pandas-docs/stable/indexing.html#indexing-view-versus-copy\n",
      "  df_train['hour']=pd.DatetimeIndex(df_train['Date']).hour\n"
     ]
    },
    {
     "name": "stdout",
     "output_type": "stream",
     "text": [
      "Starting order_item:               12710576\n",
      "Items with support >= 3.807852610298699e-05:            8493\n",
      "Remaining order_item:              12710576\n",
      "Remaining orders with 2+ items:     5229106\n",
      "Remaining order_item:              12710576\n"
     ]
    },
    {
     "name": "stderr",
     "output_type": "stream",
     "text": [
      "/home/ubuntu/notebook/Manifold/iter_apriori.py:27: FutureWarning: Method .as_matrix will be removed in a future version. Use .values instead.\n",
      "  order_item = order_item.reset_index().as_matrix()\n"
     ]
    },
    {
     "name": "stdout",
     "output_type": "stream",
     "text": [
      "Item pairs:                           75258\n",
      "Item pairs with support >= 3.807852610298699e-05:      24490\n",
      "\n"
     ]
    }
   ],
   "source": [
    "server_df, server_assignments, total_latency, total_latency_model, avg_latency, avg_latency_model =assign_servers_output(df_train=df_train, df_test=df_test, percentile=percentile, apps_server=apps_server)"
   ]
  },
  {
   "cell_type": "code",
   "execution_count": 27,
   "metadata": {},
   "outputs": [],
   "source": [
    "#sum up by an hourly timestep, get the average transaction time (s)\n",
    "\n",
    "server_df_hour=server_df.groupby('hour')[['Duration', 'duration_pred']].mean().reset_index()"
   ]
  },
  {
   "cell_type": "code",
   "execution_count": 30,
   "metadata": {},
   "outputs": [
    {
     "data": {
      "text/plain": [
       "226"
      ]
     },
     "execution_count": 30,
     "metadata": {},
     "output_type": "execute_result"
    }
   ],
   "source": [
    "#how many rules did we create?\n",
    "len(server_assignments)"
   ]
  },
  {
   "cell_type": "markdown",
   "metadata": {},
   "source": [
    "This means the next day we assigned 226 rules that were in effect the whole 24 hours"
   ]
  },
  {
   "cell_type": "code",
   "execution_count": 31,
   "metadata": {},
   "outputs": [
    {
     "data": {
      "text/plain": [
       "0.2642127380851742"
      ]
     },
     "execution_count": 31,
     "metadata": {},
     "output_type": "execute_result"
    }
   ],
   "source": [
    "#What was the latency reduction?\n",
    "( total_latency- total_latency_model)/  total_latency"
   ]
  },
  {
   "cell_type": "code",
   "execution_count": 28,
   "metadata": {},
   "outputs": [
    {
     "data": {
      "image/png": "[encoded data removed]",
      "text/plain": [
       "<Figure size 504x360 with 1 Axes>"
      ]
     },
     "metadata": {
      "needs_background": "light"
     },
     "output_type": "display_data"
    }
   ],
   "source": [
    "from datetime import datetime\n",
    "import matplotlib.pyplot as plt\n",
    "from matplotlib.dates import DateFormatter\n",
    "\n",
    "#plot average transaction time\n",
    "\n",
    "fig, ax = plt.subplots(1,1, figsize=(7,5))\n",
    "ax.plot(server_df_hour['hour'], server_df_hour['Duration'], color='steelblue', linewidth=2.0)\n",
    "ax.plot(server_df_hour['hour'], server_df_hour['duration_pred'], color='firebrick', linewidth=4.0)\n",
    "\n",
    "\n",
    "## Rotate date labels automatically\n",
    "fig.autofmt_xdate()\n",
    "plt.ylabel('Latency (s)')\n",
    "plt.xlabel('hour of day')\n",
    "plt.title('Average Transaction Latency')\n",
    "fig.savefig('Average_transaction_latency.png')"
   ]
  },
  {
   "cell_type": "code",
   "execution_count": 26,
   "metadata": {},
   "outputs": [
    {
     "data": {
      "text/html": [
       "<div>\n",
       "<style scoped>\n",
       "    .dataframe tbody tr th:only-of-type {\n",
       "        vertical-align: middle;\n",
       "    }\n",
       "\n",
       "    .dataframe tbody tr th {\n",
       "        vertical-align: top;\n",
       "    }\n",
       "\n",
       "    .dataframe thead th {\n",
       "        text-align: right;\n",
       "    }\n",
       "</style>\n",
       "<table border=\"1\" class=\"dataframe\">\n",
       "  <thead>\n",
       "    <tr style=\"text-align: right;\">\n",
       "      <th></th>\n",
       "      <th>Date</th>\n",
       "      <th>Duration</th>\n",
       "      <th>Src_IP</th>\n",
       "      <th>Src_pt</th>\n",
       "      <th>Dst_IP</th>\n",
       "      <th>Dst_pt</th>\n",
       "      <th>Packets</th>\n",
       "      <th>Bytes</th>\n",
       "      <th>date_hr</th>\n",
       "      <th>pairs</th>\n",
       "      <th>pairs2</th>\n",
       "      <th>norm_latency</th>\n",
       "      <th>hour</th>\n",
       "      <th>Src_Server</th>\n",
       "      <th>Dst_Server</th>\n",
       "      <th>duration_pred</th>\n",
       "    </tr>\n",
       "  </thead>\n",
       "  <tbody>\n",
       "    <tr>\n",
       "      <th>0</th>\n",
       "      <td>2017-08-08 00:00:00.760</td>\n",
       "      <td>0.144</td>\n",
       "      <td>10692_129</td>\n",
       "      <td>443</td>\n",
       "      <td>192.168.210.54</td>\n",
       "      <td>52204.0</td>\n",
       "      <td>3</td>\n",
       "      <td>936</td>\n",
       "      <td>2017-08-08</td>\n",
       "      <td>[10692_129, 192.168.210.54]</td>\n",
       "      <td>(10692_129, 192.168.210.54)</td>\n",
       "      <td>0.0480</td>\n",
       "      <td>0</td>\n",
       "      <td>NaN</td>\n",
       "      <td>4.0</td>\n",
       "      <td>0.144</td>\n",
       "    </tr>\n",
       "    <tr>\n",
       "      <th>1</th>\n",
       "      <td>2017-08-08 00:00:00.746</td>\n",
       "      <td>0.158</td>\n",
       "      <td>192.168.210.54</td>\n",
       "      <td>52204</td>\n",
       "      <td>10692_129</td>\n",
       "      <td>443.0</td>\n",
       "      <td>2</td>\n",
       "      <td>334</td>\n",
       "      <td>2017-08-08</td>\n",
       "      <td>[10692_129, 192.168.210.54]</td>\n",
       "      <td>(10692_129, 192.168.210.54)</td>\n",
       "      <td>0.0790</td>\n",
       "      <td>0</td>\n",
       "      <td>4.0</td>\n",
       "      <td>NaN</td>\n",
       "      <td>0.158</td>\n",
       "    </tr>\n",
       "    <tr>\n",
       "      <th>2</th>\n",
       "      <td>2017-08-08 00:00:02.205</td>\n",
       "      <td>0.000</td>\n",
       "      <td>11948_124</td>\n",
       "      <td>80</td>\n",
       "      <td>192.168.220.51</td>\n",
       "      <td>40971.0</td>\n",
       "      <td>1</td>\n",
       "      <td>279</td>\n",
       "      <td>2017-08-08</td>\n",
       "      <td>[11948_124, 192.168.220.51]</td>\n",
       "      <td>(11948_124, 192.168.220.51)</td>\n",
       "      <td>0.0000</td>\n",
       "      <td>0</td>\n",
       "      <td>NaN</td>\n",
       "      <td>0.0</td>\n",
       "      <td>0.000</td>\n",
       "    </tr>\n",
       "    <tr>\n",
       "      <th>3</th>\n",
       "      <td>2017-08-08 00:00:02.126</td>\n",
       "      <td>0.023</td>\n",
       "      <td>DNS</td>\n",
       "      <td>53</td>\n",
       "      <td>192.168.220.51</td>\n",
       "      <td>54811.0</td>\n",
       "      <td>2</td>\n",
       "      <td>371</td>\n",
       "      <td>2017-08-08</td>\n",
       "      <td>[192.168.220.51, DNS]</td>\n",
       "      <td>(192.168.220.51, DNS)</td>\n",
       "      <td>0.0115</td>\n",
       "      <td>0</td>\n",
       "      <td>0.0</td>\n",
       "      <td>0.0</td>\n",
       "      <td>0.000</td>\n",
       "    </tr>\n",
       "    <tr>\n",
       "      <th>4</th>\n",
       "      <td>2017-08-08 00:00:02.098</td>\n",
       "      <td>0.031</td>\n",
       "      <td>192.168.220.51</td>\n",
       "      <td>54811</td>\n",
       "      <td>DNS</td>\n",
       "      <td>53.0</td>\n",
       "      <td>2</td>\n",
       "      <td>156</td>\n",
       "      <td>2017-08-08</td>\n",
       "      <td>[192.168.220.51, DNS]</td>\n",
       "      <td>(192.168.220.51, DNS)</td>\n",
       "      <td>0.0155</td>\n",
       "      <td>0</td>\n",
       "      <td>0.0</td>\n",
       "      <td>0.0</td>\n",
       "      <td>0.000</td>\n",
       "    </tr>\n",
       "  </tbody>\n",
       "</table>\n",
       "</div>"
      ],
      "text/plain": [
       "                     Date  Duration          Src_IP  Src_pt          Dst_IP  \\\n",
       "0 2017-08-08 00:00:00.760     0.144       10692_129     443  192.168.210.54   \n",
       "1 2017-08-08 00:00:00.746     0.158  192.168.210.54   52204       10692_129   \n",
       "2 2017-08-08 00:00:02.205     0.000       11948_124      80  192.168.220.51   \n",
       "3 2017-08-08 00:00:02.126     0.023             DNS      53  192.168.220.51   \n",
       "4 2017-08-08 00:00:02.098     0.031  192.168.220.51   54811             DNS   \n",
       "\n",
       "    Dst_pt  Packets  Bytes    date_hr                        pairs  \\\n",
       "0  52204.0        3    936 2017-08-08  [10692_129, 192.168.210.54]   \n",
       "1    443.0        2    334 2017-08-08  [10692_129, 192.168.210.54]   \n",
       "2  40971.0        1    279 2017-08-08  [11948_124, 192.168.220.51]   \n",
       "3  54811.0        2    371 2017-08-08        [192.168.220.51, DNS]   \n",
       "4     53.0        2    156 2017-08-08        [192.168.220.51, DNS]   \n",
       "\n",
       "                        pairs2  norm_latency  hour  Src_Server  Dst_Server  \\\n",
       "0  (10692_129, 192.168.210.54)        0.0480     0         NaN         4.0   \n",
       "1  (10692_129, 192.168.210.54)        0.0790     0         4.0         NaN   \n",
       "2  (11948_124, 192.168.220.51)        0.0000     0         NaN         0.0   \n",
       "3        (192.168.220.51, DNS)        0.0115     0         0.0         0.0   \n",
       "4        (192.168.220.51, DNS)        0.0155     0         0.0         0.0   \n",
       "\n",
       "   duration_pred  \n",
       "0          0.144  \n",
       "1          0.158  \n",
       "2          0.000  \n",
       "3          0.000  \n",
       "4          0.000  "
      ]
     },
     "execution_count": 26,
     "metadata": {},
     "output_type": "execute_result"
    }
   ],
   "source": [
    "server_df.head()"
   ]
  }
 ],
 "metadata": {
  "kernelspec": {
   "display_name": "Python [conda env:anaconda3]",
   "language": "python",
   "name": "conda-env-anaconda3-py"
  },
  "language_info": {
   "codemirror_mode": {
    "name": "ipython",
    "version": 3
   },
   "file_extension": ".py",
   "mimetype": "text/x-python",
   "name": "python",
   "nbconvert_exporter": "python",
   "pygments_lexer": "ipython3",
   "version": "3.6.4"
  }
 },
 "nbformat": 4,
 "nbformat_minor": 2
}
