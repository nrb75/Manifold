{
 "cells": [
  {
   "cell_type": "code",
   "execution_count": 9,
   "metadata": {},
   "outputs": [],
   "source": [
    "import boto3\n",
    "import pandas as pd\n",
    "import numpy as np\n",
    "import matplotlib.pyplot as plt\n",
    "from io import BytesIO\n",
    "from mlxtend.preprocessing import TransactionEncoder\n",
    "import random\n",
    "from mlxtend.frequent_patterns import apriori\n",
    "import pyfpgrowth\n",
    "#from apyori import apriori "
   ]
  },
  {
   "cell_type": "code",
   "execution_count": 10,
   "metadata": {},
   "outputs": [
    {
     "name": "stderr",
     "output_type": "stream",
     "text": [
      "/home/ubuntu/anaconda3/lib/python3.6/site-packages/IPython/core/interactiveshell.py:2785: DtypeWarning: Columns (8) have mixed types. Specify dtype option on import or set low_memory=False.\n",
      "  interactivity=interactivity, compiler=compiler, result=result)\n"
     ]
    }
   ],
   "source": [
    "#load data\n",
    "\n",
    "client = boto3.client('s3')\n",
    "obj = client.get_object(Bucket='manifolddata', Key='week1.csv')\n",
    "df = pd.read_csv(BytesIO(obj['Body'].read()))\n",
    "\n",
    "#df=pd.read_csv('week1processed.csv',  parse_dates=True)"
   ]
  },
  {
   "cell_type": "code",
   "execution_count": 12,
   "metadata": {},
   "outputs": [],
   "source": [
    "df=df.iloc[:,[0,1,3,4,5,6,7,8]]\n",
    "df.columns=['Date', 'Duration', 'Src_IP', 'Src_pt', 'Dst_IP', 'Dst_pt','Packets', 'Bytes']\n",
    "#add an date column that is rounded to nearest hour, so we can use this as a timestep to see how frequently IP pairs occur in each timestep\n",
    "df['Date']=pd.to_datetime(df['Date'], format=\"%Y-%m-%d %H:%M:%S.%f\", errors = 'coerce')\n",
    "df['date_hr']=pd.Series(df['Date']).dt.round(\"H\")"
   ]
  },
  {
   "cell_type": "code",
   "execution_count": null,
   "metadata": {},
   "outputs": [],
   "source": [
    "#create a pair column, which is a touple of the src and dst IP, sorted. \n",
    "#It does not matter which call came first, we simply want to know which pair occurs most frequently.\n",
    "\n",
    "df['pairs']=list(zip(df.Src_IP, df.Dst_IP))\n",
    "df['pairs']=df['pairs'].apply(sorted)\n",
    "df['pairs2']=tuple(df['pairs'])"
   ]
  },
  {
   "cell_type": "code",
   "execution_count": null,
   "metadata": {},
   "outputs": [],
   "source": [
    "def convert_si_to_number(x):\n",
    "    total_stars = 0\n",
    "    if 'k' in x:\n",
    "        if len(x) > 1:\n",
    "            total_stars = float(x.replace('k', '')) * 1000 # convert k to a thousand\n",
    "    elif 'M' in x:\n",
    "        if len(x) > 1:\n",
    "            total_stars = float(x.replace('M', '')) * 1000000 # convert M to a million\n",
    "    elif 'B' in x:\n",
    "        total_stars = float(x.replace('B', '')) * 1000000000 # convert B to a Billion\n",
    "    else:\n",
    "        total_stars = int(x) # Less than 1000\n",
    "    \n",
    "    return int(total_stars)"
   ]
  },
  {
   "cell_type": "code",
   "execution_count": null,
   "metadata": {},
   "outputs": [],
   "source": [
    "df.Bytes=df.Bytes.astype('str')\n",
    "test_list=df.Bytes\n",
    "\n",
    "#[i for i, s in enumerate(test_list) if 'M' in s]#show where the M errors are happening\n",
    "\n",
    "test_list= [convert_si_to_number(x) for x in test_list]\n",
    "df.Bytes=test_list #bring it back into the dataframe"
   ]
  },
  {
   "cell_type": "code",
   "execution_count": null,
   "metadata": {},
   "outputs": [],
   "source": [
    "df.Bytes.min()"
   ]
  },
  {
   "cell_type": "code",
   "execution_count": 84,
   "metadata": {},
   "outputs": [],
   "source": [
    "#create a normalized latency column = duration/packets\n",
    "df['norm_latency']=df['Duration']/df['Packets']\n",
    "\n",
    "#export a subset of this for testing\n",
    "df2=df[0:4000].copy()\n",
    "df2.to_csv('df_test.csv')"
   ]
  },
  {
   "cell_type": "markdown",
   "metadata": {},
   "source": [
    "## Implement Frequent Pattern (FP) - Growth algorithm\n",
    "\n",
    "https://fp-growth.readthedocs.io/en/latest/usage.html\n",
    "\n",
    "This algorithm\n",
    "1. Counts occurence of items in dataset in 1st pass\n",
    "2. Build FP-tree by inserting instances, and adds weight to each instance based on the number of times it appears in the dataset. Those infrequent instances are dropped from the tree.\n",
    "\n",
    "This allows the frequentest set to be generated organically, instead of creating a list of each itemset and checking if it does/does not pass minimum threshold (like Apriori algorithm)\n",
    "\n",
    "#### Vocabulary\n",
    " - itemset = all items in 1 transaction\n",
    "A \"pattern\" is a conjunction of items, or the unique itemset.\n",
    "A \"rule\" X --> Y means if you buy X you are likely to buy Y, or in this case if X IP address is used Y IP address is likely also\n",
    "\n",
    "\n",
    "#### Evaluation metrics include:\n",
    "\n",
    "1. Support = how frequently it occurs. The number of transactions of that unique itemset / all transactions. In this case: number of times IP pair occurs/all requests\n",
    "\n",
    "2. Confidence = how often rule is likely to be true. frequency of X and Y occuring/ frequency of X occuring in entire dataset. Conditional probability of Y given X. P(Ey|Ex)\n",
    "\n",
    "3. Lift = How likely is item Y given item X occurs, controlling for how frequent Y occurs in the entire dataset. For rule X-->Y, lift = P(Y|X)/P(Y).\n",
    "    Lift = 1 means X and Y are independent\n",
    "    Lift >1 = X and Y are positively correlated\n",
    "    Lift <1 = X and Y are negatively correlated"
   ]
  },
  {
   "cell_type": "markdown",
   "metadata": {},
   "source": [
    "### 1. Data manipulation\n",
    "\n",
    "The fp-growth function requires the data be a list of lists, where each list is an individual \"transaction\" or in our case IP pair request"
   ]
  },
  {
   "cell_type": "code",
   "execution_count": 87,
   "metadata": {},
   "outputs": [],
   "source": [
    "#we only want a list of all the individual pairs at each timestamp. Think of this where each timestamp is a 'transaction' and we chose to buy which 2 items (IP addresses)\n",
    "data_l=list(df['pairs']) #this list contains each transaction or timestamp, where many itemsets are repeated"
   ]
  },
  {
   "cell_type": "markdown",
   "metadata": {},
   "source": [
    "## 2. Implement Frequentest paterns algorithm\n",
    "\n",
    "Before we run this algorithm, we should have some idea of the minimum threshold we want to set. This is the \"support\" for each IP pair. Support = % of time this pair occurs in dataset."
   ]
  },
  {
   "cell_type": "code",
   "execution_count": 88,
   "metadata": {},
   "outputs": [],
   "source": [
    "#group the dataset by unique pairs, then count how frequently each pair occurs, and also get the average normalized latency time for that pair. The latency times vary because the servers they are assigned are random.\n",
    "pairs_count=(df.groupby('pairs2').agg({'Date':'count', 'norm_latency': 'mean', 'Duration': 'sum', 'Packets':'sum'}).reset_index())\n",
    "\n",
    "pairs_count.columns=['pairs','frequency', 'avg_norm_latency', 'total_duration', 'total_packets']\n",
    "pairs_count['norm_latency']=(pairs_count['total_duration']/pairs_count['total_packets'].sum())*100 #sum of all duration time divided by sum of all packets transfered for that pair"
   ]
  },
  {
   "cell_type": "code",
   "execution_count": 89,
   "metadata": {},
   "outputs": [
    {
     "data": {
      "text/html": [
       "<div>\n",
       "<style scoped>\n",
       "    .dataframe tbody tr th:only-of-type {\n",
       "        vertical-align: middle;\n",
       "    }\n",
       "\n",
       "    .dataframe tbody tr th {\n",
       "        vertical-align: top;\n",
       "    }\n",
       "\n",
       "    .dataframe thead th {\n",
       "        text-align: right;\n",
       "    }\n",
       "</style>\n",
       "<table border=\"1\" class=\"dataframe\">\n",
       "  <thead>\n",
       "    <tr style=\"text-align: right;\">\n",
       "      <th></th>\n",
       "      <th>pairs</th>\n",
       "      <th>frequency</th>\n",
       "      <th>avg_norm_latency</th>\n",
       "      <th>total_duration</th>\n",
       "      <th>total_packets</th>\n",
       "      <th>norm_latency</th>\n",
       "    </tr>\n",
       "  </thead>\n",
       "  <tbody>\n",
       "    <tr>\n",
       "      <th>0</th>\n",
       "      <td>(0.0.0.0, 255.255.255.255)</td>\n",
       "      <td>123</td>\n",
       "      <td>0.018820</td>\n",
       "      <td>6.801</td>\n",
       "      <td>223</td>\n",
       "      <td>0.000004</td>\n",
       "    </tr>\n",
       "    <tr>\n",
       "      <th>1</th>\n",
       "      <td>(10000_163, 192.168.220.47)</td>\n",
       "      <td>16</td>\n",
       "      <td>0.026500</td>\n",
       "      <td>6.378</td>\n",
       "      <td>204</td>\n",
       "      <td>0.000003</td>\n",
       "    </tr>\n",
       "    <tr>\n",
       "      <th>2</th>\n",
       "      <td>(10000_34, 192.168.210.45)</td>\n",
       "      <td>96</td>\n",
       "      <td>0.022706</td>\n",
       "      <td>23.679</td>\n",
       "      <td>723</td>\n",
       "      <td>0.000013</td>\n",
       "    </tr>\n",
       "    <tr>\n",
       "      <th>3</th>\n",
       "      <td>(10000_34, 192.168.210.46)</td>\n",
       "      <td>165</td>\n",
       "      <td>0.014315</td>\n",
       "      <td>28.699</td>\n",
       "      <td>971</td>\n",
       "      <td>0.000016</td>\n",
       "    </tr>\n",
       "    <tr>\n",
       "      <th>4</th>\n",
       "      <td>(10000_34, 192.168.210.47)</td>\n",
       "      <td>433</td>\n",
       "      <td>0.020122</td>\n",
       "      <td>77.542</td>\n",
       "      <td>1739</td>\n",
       "      <td>0.000042</td>\n",
       "    </tr>\n",
       "  </tbody>\n",
       "</table>\n",
       "</div>"
      ],
      "text/plain": [
       "                         pairs  frequency  avg_norm_latency  total_duration  \\\n",
       "0   (0.0.0.0, 255.255.255.255)        123          0.018820           6.801   \n",
       "1  (10000_163, 192.168.220.47)         16          0.026500           6.378   \n",
       "2   (10000_34, 192.168.210.45)         96          0.022706          23.679   \n",
       "3   (10000_34, 192.168.210.46)        165          0.014315          28.699   \n",
       "4   (10000_34, 192.168.210.47)        433          0.020122          77.542   \n",
       "\n",
       "   total_packets  norm_latency  \n",
       "0            223      0.000004  \n",
       "1            204      0.000003  \n",
       "2            723      0.000013  \n",
       "3            971      0.000016  \n",
       "4           1739      0.000042  "
      ]
     },
     "execution_count": 89,
     "metadata": {},
     "output_type": "execute_result"
    }
   ],
   "source": [
    "pairs_count.head()"
   ]
  },
  {
   "cell_type": "code",
   "execution_count": 90,
   "metadata": {},
   "outputs": [
    {
     "data": {
      "text/plain": [
       "Text(0,0.5,'Frequency of occurance')"
      ]
     },
     "execution_count": 90,
     "metadata": {},
     "output_type": "execute_result"
    },
    {
     "data": {
      "image/png": "[encoded data removed]",
      "text/plain": [
       "<Figure size 432x288 with 1 Axes>"
      ]
     },
     "metadata": {
      "needs_background": "light"
     },
     "output_type": "display_data"
    }
   ],
   "source": [
    "plt.hist(pairs_count['frequency'], bins=35)\n",
    "plt.xlabel('Number of time pair occurs in dataset')\n",
    "plt.ylabel('Frequency of occurance')"
   ]
  },
  {
   "cell_type": "markdown",
   "metadata": {},
   "source": [
    "Whew, this dataset is varied! We definitely want our minimum threshold to be below 200,000 (min=200,000)"
   ]
  },
  {
   "cell_type": "markdown",
   "metadata": {},
   "source": [
    "Are the pairs that occur frequently likely to have higher or lower latency?"
   ]
  },
  {
   "cell_type": "code",
   "execution_count": 91,
   "metadata": {},
   "outputs": [
    {
     "data": {
      "text/plain": [
       "Text(0.5,0,'IP pair frequency of occurance')"
      ]
     },
     "execution_count": 91,
     "metadata": {},
     "output_type": "execute_result"
    },
    {
     "data": {
      "image/png": "[encoded data removed]",
      "text/plain": [
       "<Figure size 432x288 with 1 Axes>"
      ]
     },
     "metadata": {
      "needs_background": "light"
     },
     "output_type": "display_data"
    }
   ],
   "source": [
    "plt.scatter(pairs_count['frequency'], pairs_count['norm_latency'])\n",
    "plt.ylabel('normalized latency (latency/packets)')\n",
    "plt.xlabel('IP pair frequency of occurance')\n",
    "#plt.ylim(-0.001, 0.02)"
   ]
  },
  {
   "cell_type": "markdown",
   "metadata": {},
   "source": [
    "Let's pick a few minimum thresholds for testing purposes, \n",
    "We will create percentiles and find out what percent this equates to, this percentage will then be our 'minimum support threshold' in the model."
   ]
  },
  {
   "cell_type": "code",
   "execution_count": 92,
   "metadata": {},
   "outputs": [],
   "source": [
    "per_40=np.percentile(pairs_count['frequency'], [40])"
   ]
  },
  {
   "cell_type": "code",
   "execution_count": 93,
   "metadata": {},
   "outputs": [],
   "source": [
    "per_80=np.percentile(pairs_count['frequency'], [80])"
   ]
  },
  {
   "cell_type": "code",
   "execution_count": 94,
   "metadata": {},
   "outputs": [
    {
     "data": {
      "text/plain": [
       "array([126.])"
      ]
     },
     "execution_count": 94,
     "metadata": {},
     "output_type": "execute_result"
    }
   ],
   "source": [
    "per_80"
   ]
  },
  {
   "cell_type": "code",
   "execution_count": 95,
   "metadata": {},
   "outputs": [],
   "source": [
    "patterns = pyfpgrowth.find_frequent_patterns(data_l, per_80) \n",
    "#we set the min threshold of frequency occurance equal to the 80th percentile of frequency, this will only return results where the pair exists above the 80th percentile, a relatively small amount"
   ]
  },
  {
   "cell_type": "code",
   "execution_count": 96,
   "metadata": {},
   "outputs": [
    {
     "data": {
      "text/plain": [
       "11015"
      ]
     },
     "execution_count": 96,
     "metadata": {},
     "output_type": "execute_result"
    }
   ],
   "source": [
    "len(patterns)"
   ]
  },
  {
   "cell_type": "code",
   "execution_count": 97,
   "metadata": {},
   "outputs": [],
   "source": [
    "confidence=0.7 #this means the rule is likely to be true 70% of the time, it is a high threshold, used for testing\n",
    "rules = pyfpgrowth.generate_association_rules(patterns, confidence)"
   ]
  },
  {
   "cell_type": "code",
   "execution_count": 98,
   "metadata": {},
   "outputs": [],
   "source": [
    "patterns40=pyfpgrowth.find_frequent_patterns(data_l, per_40) #because the min support is lower (40th percentile instead of 80), you will get more rules"
   ]
  },
  {
   "cell_type": "code",
   "execution_count": 99,
   "metadata": {},
   "outputs": [],
   "source": [
    "rules40= pyfpgrowth.generate_association_rules(patterns40, confidence)"
   ]
  },
  {
   "cell_type": "code",
   "execution_count": 100,
   "metadata": {},
   "outputs": [
    {
     "data": {
      "text/plain": [
       "329"
      ]
     },
     "execution_count": 100,
     "metadata": {},
     "output_type": "execute_result"
    }
   ],
   "source": [
    "\n",
    "len(rules) #80th percentile rules should be shorter, because stricter filter"
   ]
  },
  {
   "cell_type": "code",
   "execution_count": 101,
   "metadata": {},
   "outputs": [
    {
     "data": {
      "text/plain": [
       "1681"
      ]
     },
     "execution_count": 101,
     "metadata": {},
     "output_type": "execute_result"
    }
   ],
   "source": [
    "len(rules40)"
   ]
  },
  {
   "cell_type": "markdown",
   "metadata": {},
   "source": [
    "### Generate Rules from the most frequent items we found"
   ]
  },
  {
   "cell_type": "markdown",
   "metadata": {},
   "source": [
    "Bring in the frequency of each rule and sum of the normalized latency. Use these metrics to prioritize the rules we will implement. There is always a tradeoff withh implementing more rules, so we want to be efficient."
   ]
  },
  {
   "cell_type": "code",
   "execution_count": 102,
   "metadata": {},
   "outputs": [
    {
     "data": {
      "text/plain": [
       "dict"
      ]
     },
     "execution_count": 102,
     "metadata": {},
     "output_type": "execute_result"
    }
   ],
   "source": [
    "type(rules)"
   ]
  },
  {
   "cell_type": "code",
   "execution_count": 103,
   "metadata": {},
   "outputs": [],
   "source": [
    "#Convert the Dictionary format into a dataframe\n",
    "rules_df=pd.DataFrame(list(rules.items()), columns=['IP_A', 'confidence'])\n",
    "rules_df['confidence']=rules_df['confidence'].astype(str)\n",
    "\n",
    "rules_df['IP_B'], rules_df['B'] = rules_df['confidence'].str.split(', ', 1).str\n",
    "rules_df=rules_df.drop('confidence', axis=1)\n",
    "rules_df.IP_B=rules_df.IP_B.astype(str)\n",
    "rules_df.IP_A=rules_df.IP_A.astype(str)\n",
    "rules_df.columns=['IP_A', 'IP_B', 'confidence']\n",
    "rules_df[['IP_A', 'IP_B']]=rules_df[['IP_A', 'IP_B']].replace({',':''}, regex=True)\n",
    "\n",
    "rules_df['IP_A'] = rules_df['IP_A'].map(lambda x: x.lstrip('(').rstrip(')'))\n",
    "rules_df['IP_B'] = rules_df['IP_B'].map(lambda x: x.lstrip('((').rstrip(')'))\n",
    "rules_df['confidence'] = rules_df['confidence'].map(lambda x: x.rstrip(')'))\n",
    "rules_df['IP_A'] = rules_df['IP_A'].map(lambda x: x.lstrip(\"'\").rstrip(\"'\"))\n",
    "rules_df['IP_B'] = rules_df['IP_B'].map(lambda x: x.lstrip(\"'\").rstrip(\"'\"))"
   ]
  },
  {
   "cell_type": "code",
   "execution_count": 104,
   "metadata": {},
   "outputs": [],
   "source": [
    "#Convert the Dictionary format into a dataframe\n",
    "rules_df40=pd.DataFrame(list(rules40.items()), columns=['IP_A', 'confidence'])\n",
    "rules_df40['confidence']=rules_df40['confidence'].astype(str)\n",
    "\n",
    "rules_df40['IP_B'], rules_df40['B'] = rules_df40['confidence'].str.split(', ', 1).str\n",
    "rules_df40=rules_df40.drop('confidence', axis=1)\n",
    "rules_df40.IP_B=rules_df40.IP_B.astype(str)\n",
    "rules_df40.IP_A=rules_df40.IP_A.astype(str)\n",
    "rules_df40.columns=['IP_A', 'IP_B', 'confidence']\n",
    "rules_df40[['IP_A', 'IP_B']]=rules_df40[['IP_A', 'IP_B']].replace({',':''}, regex=True)\n",
    "\n",
    "rules_df40['IP_A'] = rules_df40['IP_A'].map(lambda x: x.lstrip('(').rstrip(')'))\n",
    "rules_df40['IP_B'] = rules_df40['IP_B'].map(lambda x: x.lstrip('((').rstrip(')'))\n",
    "rules_df40['confidence'] = rules_df40['confidence'].map(lambda x: x.rstrip(')'))\n",
    "rules_df40['IP_A'] = rules_df40['IP_A'].map(lambda x: x.lstrip(\"'\").rstrip(\"'\"))\n",
    "rules_df40['IP_B'] = rules_df40['IP_B'].map(lambda x: x.lstrip(\"'\").rstrip(\"'\"))"
   ]
  },
  {
   "cell_type": "code",
   "execution_count": 105,
   "metadata": {},
   "outputs": [
    {
     "data": {
      "text/html": [
       "<div>\n",
       "<style scoped>\n",
       "    .dataframe tbody tr th:only-of-type {\n",
       "        vertical-align: middle;\n",
       "    }\n",
       "\n",
       "    .dataframe tbody tr th {\n",
       "        vertical-align: top;\n",
       "    }\n",
       "\n",
       "    .dataframe thead th {\n",
       "        text-align: right;\n",
       "    }\n",
       "</style>\n",
       "<table border=\"1\" class=\"dataframe\">\n",
       "  <thead>\n",
       "    <tr style=\"text-align: right;\">\n",
       "      <th></th>\n",
       "      <th>IP_A</th>\n",
       "      <th>IP_B</th>\n",
       "      <th>confidence</th>\n",
       "    </tr>\n",
       "  </thead>\n",
       "  <tbody>\n",
       "    <tr>\n",
       "      <th>0</th>\n",
       "      <td>10030_137</td>\n",
       "      <td>192.168.210.49</td>\n",
       "      <td>1.0</td>\n",
       "    </tr>\n",
       "    <tr>\n",
       "      <th>1</th>\n",
       "      <td>14594_192</td>\n",
       "      <td>192.168.220.51</td>\n",
       "      <td>1.0</td>\n",
       "    </tr>\n",
       "    <tr>\n",
       "      <th>2</th>\n",
       "      <td>10759_43</td>\n",
       "      <td>192.168.220.47</td>\n",
       "      <td>1.0</td>\n",
       "    </tr>\n",
       "    <tr>\n",
       "      <th>3</th>\n",
       "      <td>13085_24</td>\n",
       "      <td>192.168.220.49</td>\n",
       "      <td>1.0</td>\n",
       "    </tr>\n",
       "    <tr>\n",
       "      <th>4</th>\n",
       "      <td>14154_89</td>\n",
       "      <td>192.168.210.54</td>\n",
       "      <td>1.0</td>\n",
       "    </tr>\n",
       "  </tbody>\n",
       "</table>\n",
       "</div>"
      ],
      "text/plain": [
       "        IP_A            IP_B confidence\n",
       "0  10030_137  192.168.210.49        1.0\n",
       "1  14594_192  192.168.220.51        1.0\n",
       "2   10759_43  192.168.220.47        1.0\n",
       "3   13085_24  192.168.220.49        1.0\n",
       "4   14154_89  192.168.210.54        1.0"
      ]
     },
     "execution_count": 105,
     "metadata": {},
     "output_type": "execute_result"
    }
   ],
   "source": [
    "rules_df.head()"
   ]
  },
  {
   "cell_type": "code",
   "execution_count": 106,
   "metadata": {},
   "outputs": [],
   "source": [
    "#add back in a pairs column, this is important because the order of IP_A and IP_B does not matter, \n",
    "rules_df['pairs']=list(zip(rules_df.IP_A, rules_df.IP_B))\n",
    "rules_df['pairs']=rules_df['pairs'].apply(sorted)\n",
    "rules_df['pairs2']=tuple(rules_df['pairs'])"
   ]
  },
  {
   "cell_type": "code",
   "execution_count": 107,
   "metadata": {},
   "outputs": [],
   "source": [
    "#add back in a pairs column, this is important because the order of IP_A and IP_B does not matter, \n",
    "rules_df40['pairs']=list(zip(rules_df40.IP_A, rules_df40.IP_B))\n",
    "rules_df40['pairs']=rules_df40['pairs'].apply(sorted)\n",
    "rules_df40['pairs2']=tuple(rules_df40['pairs'])"
   ]
  },
  {
   "cell_type": "code",
   "execution_count": 108,
   "metadata": {},
   "outputs": [
    {
     "data": {
      "text/html": [
       "<div>\n",
       "<style scoped>\n",
       "    .dataframe tbody tr th:only-of-type {\n",
       "        vertical-align: middle;\n",
       "    }\n",
       "\n",
       "    .dataframe tbody tr th {\n",
       "        vertical-align: top;\n",
       "    }\n",
       "\n",
       "    .dataframe thead th {\n",
       "        text-align: right;\n",
       "    }\n",
       "</style>\n",
       "<table border=\"1\" class=\"dataframe\">\n",
       "  <thead>\n",
       "    <tr style=\"text-align: right;\">\n",
       "      <th></th>\n",
       "      <th>IP_A</th>\n",
       "      <th>IP_B</th>\n",
       "      <th>confidence</th>\n",
       "      <th>pairs</th>\n",
       "      <th>pairs2</th>\n",
       "    </tr>\n",
       "  </thead>\n",
       "  <tbody>\n",
       "    <tr>\n",
       "      <th>0</th>\n",
       "      <td>10030_137</td>\n",
       "      <td>192.168.210.49</td>\n",
       "      <td>1.0</td>\n",
       "      <td>[10030_137, 192.168.210.49]</td>\n",
       "      <td>(10030_137, 192.168.210.49)</td>\n",
       "    </tr>\n",
       "    <tr>\n",
       "      <th>1</th>\n",
       "      <td>14594_192</td>\n",
       "      <td>192.168.220.51</td>\n",
       "      <td>1.0</td>\n",
       "      <td>[14594_192, 192.168.220.51]</td>\n",
       "      <td>(14594_192, 192.168.220.51)</td>\n",
       "    </tr>\n",
       "    <tr>\n",
       "      <th>2</th>\n",
       "      <td>10759_43</td>\n",
       "      <td>192.168.220.47</td>\n",
       "      <td>1.0</td>\n",
       "      <td>[10759_43, 192.168.220.47]</td>\n",
       "      <td>(10759_43, 192.168.220.47)</td>\n",
       "    </tr>\n",
       "    <tr>\n",
       "      <th>3</th>\n",
       "      <td>13085_24</td>\n",
       "      <td>192.168.220.49</td>\n",
       "      <td>1.0</td>\n",
       "      <td>[13085_24, 192.168.220.49]</td>\n",
       "      <td>(13085_24, 192.168.220.49)</td>\n",
       "    </tr>\n",
       "    <tr>\n",
       "      <th>4</th>\n",
       "      <td>14154_89</td>\n",
       "      <td>192.168.210.54</td>\n",
       "      <td>1.0</td>\n",
       "      <td>[14154_89, 192.168.210.54]</td>\n",
       "      <td>(14154_89, 192.168.210.54)</td>\n",
       "    </tr>\n",
       "    <tr>\n",
       "      <th>5</th>\n",
       "      <td>14155_88</td>\n",
       "      <td>192.168.210.54</td>\n",
       "      <td>1.0</td>\n",
       "      <td>[14155_88, 192.168.210.54]</td>\n",
       "      <td>(14155_88, 192.168.210.54)</td>\n",
       "    </tr>\n",
       "    <tr>\n",
       "      <th>6</th>\n",
       "      <td>10708_220</td>\n",
       "      <td>192.168.220.43</td>\n",
       "      <td>1.0</td>\n",
       "      <td>[10708_220, 192.168.220.43]</td>\n",
       "      <td>(10708_220, 192.168.220.43)</td>\n",
       "    </tr>\n",
       "    <tr>\n",
       "      <th>7</th>\n",
       "      <td>11513_244</td>\n",
       "      <td>192.168.220.47</td>\n",
       "      <td>1.0</td>\n",
       "      <td>[11513_244, 192.168.220.47]</td>\n",
       "      <td>(11513_244, 192.168.220.47)</td>\n",
       "    </tr>\n",
       "    <tr>\n",
       "      <th>8</th>\n",
       "      <td>13972_11</td>\n",
       "      <td>192.168.220.48</td>\n",
       "      <td>1.0</td>\n",
       "      <td>[13972_11, 192.168.220.48]</td>\n",
       "      <td>(13972_11, 192.168.220.48)</td>\n",
       "    </tr>\n",
       "    <tr>\n",
       "      <th>9</th>\n",
       "      <td>10731_186</td>\n",
       "      <td>192.168.220.47</td>\n",
       "      <td>1.0</td>\n",
       "      <td>[10731_186, 192.168.220.47]</td>\n",
       "      <td>(10731_186, 192.168.220.47)</td>\n",
       "    </tr>\n",
       "    <tr>\n",
       "      <th>10</th>\n",
       "      <td>12468_200</td>\n",
       "      <td>192.168.220.50</td>\n",
       "      <td>1.0</td>\n",
       "      <td>[12468_200, 192.168.220.50]</td>\n",
       "      <td>(12468_200, 192.168.220.50)</td>\n",
       "    </tr>\n",
       "    <tr>\n",
       "      <th>11</th>\n",
       "      <td>12088_61</td>\n",
       "      <td>192.168.220.51</td>\n",
       "      <td>1.0</td>\n",
       "      <td>[12088_61, 192.168.220.51]</td>\n",
       "      <td>(12088_61, 192.168.220.51)</td>\n",
       "    </tr>\n",
       "    <tr>\n",
       "      <th>12</th>\n",
       "      <td>10057_27</td>\n",
       "      <td>192.168.220.43</td>\n",
       "      <td>1.0</td>\n",
       "      <td>[10057_27, 192.168.220.43]</td>\n",
       "      <td>(10057_27, 192.168.220.43)</td>\n",
       "    </tr>\n",
       "    <tr>\n",
       "      <th>13</th>\n",
       "      <td>14620_188</td>\n",
       "      <td>192.168.210.48</td>\n",
       "      <td>1.0</td>\n",
       "      <td>[14620_188, 192.168.210.48]</td>\n",
       "      <td>(14620_188, 192.168.210.48)</td>\n",
       "    </tr>\n",
       "    <tr>\n",
       "      <th>14</th>\n",
       "      <td>12688_140</td>\n",
       "      <td>192.168.220.51</td>\n",
       "      <td>1.0</td>\n",
       "      <td>[12688_140, 192.168.220.51]</td>\n",
       "      <td>(12688_140, 192.168.220.51)</td>\n",
       "    </tr>\n",
       "    <tr>\n",
       "      <th>15</th>\n",
       "      <td>10088_242</td>\n",
       "      <td>192.168.220.48</td>\n",
       "      <td>1.0</td>\n",
       "      <td>[10088_242, 192.168.220.48]</td>\n",
       "      <td>(10088_242, 192.168.220.48)</td>\n",
       "    </tr>\n",
       "    <tr>\n",
       "      <th>16</th>\n",
       "      <td>10085_11</td>\n",
       "      <td>192.168.220.51</td>\n",
       "      <td>1.0</td>\n",
       "      <td>[10085_11, 192.168.220.51]</td>\n",
       "      <td>(10085_11, 192.168.220.51)</td>\n",
       "    </tr>\n",
       "    <tr>\n",
       "      <th>17</th>\n",
       "      <td>10650_38</td>\n",
       "      <td>192.168.220.47</td>\n",
       "      <td>1.0</td>\n",
       "      <td>[10650_38, 192.168.220.47]</td>\n",
       "      <td>(10650_38, 192.168.220.47)</td>\n",
       "    </tr>\n",
       "    <tr>\n",
       "      <th>18</th>\n",
       "      <td>10123_77</td>\n",
       "      <td>192.168.220.42</td>\n",
       "      <td>1.0</td>\n",
       "      <td>[10123_77, 192.168.220.42]</td>\n",
       "      <td>(10123_77, 192.168.220.42)</td>\n",
       "    </tr>\n",
       "    <tr>\n",
       "      <th>19</th>\n",
       "      <td>10088_247</td>\n",
       "      <td>192.168.220.46</td>\n",
       "      <td>1.0</td>\n",
       "      <td>[10088_247, 192.168.220.46]</td>\n",
       "      <td>(10088_247, 192.168.220.46)</td>\n",
       "    </tr>\n",
       "    <tr>\n",
       "      <th>20</th>\n",
       "      <td>10510_126</td>\n",
       "      <td>192.168.220.51</td>\n",
       "      <td>1.0</td>\n",
       "      <td>[10510_126, 192.168.220.51]</td>\n",
       "      <td>(10510_126, 192.168.220.51)</td>\n",
       "    </tr>\n",
       "    <tr>\n",
       "      <th>21</th>\n",
       "      <td>14582_235</td>\n",
       "      <td>192.168.220.43</td>\n",
       "      <td>1.0</td>\n",
       "      <td>[14582_235, 192.168.220.43]</td>\n",
       "      <td>(14582_235, 192.168.220.43)</td>\n",
       "    </tr>\n",
       "    <tr>\n",
       "      <th>22</th>\n",
       "      <td>11841_162</td>\n",
       "      <td>192.168.210.55</td>\n",
       "      <td>0.9130434782608695</td>\n",
       "      <td>[11841_162, 192.168.210.55]</td>\n",
       "      <td>(11841_162, 192.168.210.55)</td>\n",
       "    </tr>\n",
       "    <tr>\n",
       "      <th>23</th>\n",
       "      <td>13227_120</td>\n",
       "      <td>192.168.220.48</td>\n",
       "      <td>1.0</td>\n",
       "      <td>[13227_120, 192.168.220.48]</td>\n",
       "      <td>(13227_120, 192.168.220.48)</td>\n",
       "    </tr>\n",
       "    <tr>\n",
       "      <th>24</th>\n",
       "      <td>13926_197</td>\n",
       "      <td>192.168.220.47</td>\n",
       "      <td>1.0</td>\n",
       "      <td>[13926_197, 192.168.220.47]</td>\n",
       "      <td>(13926_197, 192.168.220.47)</td>\n",
       "    </tr>\n",
       "    <tr>\n",
       "      <th>25</th>\n",
       "      <td>10016_144</td>\n",
       "      <td>192.168.220.51</td>\n",
       "      <td>1.0</td>\n",
       "      <td>[10016_144, 192.168.220.51]</td>\n",
       "      <td>(10016_144, 192.168.220.51)</td>\n",
       "    </tr>\n",
       "    <tr>\n",
       "      <th>26</th>\n",
       "      <td>12469_84</td>\n",
       "      <td>192.168.220.47</td>\n",
       "      <td>1.0</td>\n",
       "      <td>[12469_84, 192.168.220.47]</td>\n",
       "      <td>(12469_84, 192.168.220.47)</td>\n",
       "    </tr>\n",
       "    <tr>\n",
       "      <th>27</th>\n",
       "      <td>12692_131</td>\n",
       "      <td>192.168.220.51</td>\n",
       "      <td>1.0</td>\n",
       "      <td>[12692_131, 192.168.220.51]</td>\n",
       "      <td>(12692_131, 192.168.220.51)</td>\n",
       "    </tr>\n",
       "    <tr>\n",
       "      <th>28</th>\n",
       "      <td>11925_110</td>\n",
       "      <td>192.168.220.49</td>\n",
       "      <td>1.0</td>\n",
       "      <td>[11925_110, 192.168.220.49]</td>\n",
       "      <td>(11925_110, 192.168.220.49)</td>\n",
       "    </tr>\n",
       "    <tr>\n",
       "      <th>29</th>\n",
       "      <td>12969_46</td>\n",
       "      <td>192.168.220.49</td>\n",
       "      <td>1.0</td>\n",
       "      <td>[12969_46, 192.168.220.49]</td>\n",
       "      <td>(12969_46, 192.168.220.49)</td>\n",
       "    </tr>\n",
       "    <tr>\n",
       "      <th>...</th>\n",
       "      <td>...</td>\n",
       "      <td>...</td>\n",
       "      <td>...</td>\n",
       "      <td>...</td>\n",
       "      <td>...</td>\n",
       "    </tr>\n",
       "    <tr>\n",
       "      <th>299</th>\n",
       "      <td>13049_193</td>\n",
       "      <td>192.168.210.56</td>\n",
       "      <td>1.0</td>\n",
       "      <td>[13049_193, 192.168.210.56]</td>\n",
       "      <td>(13049_193, 192.168.210.56)</td>\n",
       "    </tr>\n",
       "    <tr>\n",
       "      <th>300</th>\n",
       "      <td>13035_162</td>\n",
       "      <td>192.168.220.51</td>\n",
       "      <td>0.9894911504424779</td>\n",
       "      <td>[13035_162, 192.168.220.51]</td>\n",
       "      <td>(13035_162, 192.168.220.51)</td>\n",
       "    </tr>\n",
       "    <tr>\n",
       "      <th>301</th>\n",
       "      <td>14184_244</td>\n",
       "      <td>192.168.220.51</td>\n",
       "      <td>0.9773510585918267</td>\n",
       "      <td>[14184_244, 192.168.220.51]</td>\n",
       "      <td>(14184_244, 192.168.220.51)</td>\n",
       "    </tr>\n",
       "    <tr>\n",
       "      <th>302</th>\n",
       "      <td>10123_71</td>\n",
       "      <td>192.168.220.51</td>\n",
       "      <td>0.943952802359882</td>\n",
       "      <td>[10123_71, 192.168.220.51]</td>\n",
       "      <td>(10123_71, 192.168.220.51)</td>\n",
       "    </tr>\n",
       "    <tr>\n",
       "      <th>303</th>\n",
       "      <td>10123_41</td>\n",
       "      <td>192.168.220.51</td>\n",
       "      <td>0.938568129330254</td>\n",
       "      <td>[10123_41, 192.168.220.51]</td>\n",
       "      <td>(10123_41, 192.168.220.51)</td>\n",
       "    </tr>\n",
       "    <tr>\n",
       "      <th>304</th>\n",
       "      <td>10123_37</td>\n",
       "      <td>192.168.220.51</td>\n",
       "      <td>0.9674439067311923</td>\n",
       "      <td>[10123_37, 192.168.220.51]</td>\n",
       "      <td>(10123_37, 192.168.220.51)</td>\n",
       "    </tr>\n",
       "    <tr>\n",
       "      <th>305</th>\n",
       "      <td>10597_79</td>\n",
       "      <td>192.168.220.51</td>\n",
       "      <td>0.8004631416441529</td>\n",
       "      <td>[10597_79, 192.168.220.51]</td>\n",
       "      <td>(10597_79, 192.168.220.51)</td>\n",
       "    </tr>\n",
       "    <tr>\n",
       "      <th>306</th>\n",
       "      <td>10692_1</td>\n",
       "      <td>192.168.220.43</td>\n",
       "      <td>0.8405405405405405</td>\n",
       "      <td>[10692_1, 192.168.220.43]</td>\n",
       "      <td>(10692_1, 192.168.220.43)</td>\n",
       "    </tr>\n",
       "    <tr>\n",
       "      <th>307</th>\n",
       "      <td>11714_20</td>\n",
       "      <td>192.168.210.53</td>\n",
       "      <td>0.9656796769851952</td>\n",
       "      <td>[11714_20, 192.168.210.53]</td>\n",
       "      <td>(11714_20, 192.168.210.53)</td>\n",
       "    </tr>\n",
       "    <tr>\n",
       "      <th>308</th>\n",
       "      <td>10763_18</td>\n",
       "      <td>192.168.220.51</td>\n",
       "      <td>0.9253139458030403</td>\n",
       "      <td>[10763_18, 192.168.220.51]</td>\n",
       "      <td>(10763_18, 192.168.220.51)</td>\n",
       "    </tr>\n",
       "    <tr>\n",
       "      <th>309</th>\n",
       "      <td>12091_134</td>\n",
       "      <td>192.168.220.51</td>\n",
       "      <td>0.9160692951015532</td>\n",
       "      <td>[12091_134, 192.168.220.51]</td>\n",
       "      <td>(12091_134, 192.168.220.51)</td>\n",
       "    </tr>\n",
       "    <tr>\n",
       "      <th>310</th>\n",
       "      <td>11685_203</td>\n",
       "      <td>192.168.210.53</td>\n",
       "      <td>0.9769274057400112</td>\n",
       "      <td>[11685_203, 192.168.210.53]</td>\n",
       "      <td>(11685_203, 192.168.210.53)</td>\n",
       "    </tr>\n",
       "    <tr>\n",
       "      <th>311</th>\n",
       "      <td>13047_59</td>\n",
       "      <td>192.168.210.56</td>\n",
       "      <td>0.9821182943603851</td>\n",
       "      <td>[13047_59, 192.168.210.56]</td>\n",
       "      <td>(13047_59, 192.168.210.56)</td>\n",
       "    </tr>\n",
       "    <tr>\n",
       "      <th>312</th>\n",
       "      <td>10597_84</td>\n",
       "      <td>192.168.220.51</td>\n",
       "      <td>0.8470139771283355</td>\n",
       "      <td>[10597_84, 192.168.220.51]</td>\n",
       "      <td>(10597_84, 192.168.220.51)</td>\n",
       "    </tr>\n",
       "    <tr>\n",
       "      <th>313</th>\n",
       "      <td>192.168.200.1</td>\n",
       "      <td>192.168.220.51</td>\n",
       "      <td>1.0</td>\n",
       "      <td>[192.168.200.1, 192.168.220.51]</td>\n",
       "      <td>(192.168.200.1, 192.168.220.51)</td>\n",
       "    </tr>\n",
       "    <tr>\n",
       "      <th>314</th>\n",
       "      <td>11681_180</td>\n",
       "      <td>192.168.210.54</td>\n",
       "      <td>0.9963998305802626</td>\n",
       "      <td>[11681_180, 192.168.210.54]</td>\n",
       "      <td>(11681_180, 192.168.210.54)</td>\n",
       "    </tr>\n",
       "    <tr>\n",
       "      <th>315</th>\n",
       "      <td>192.168.200.2</td>\n",
       "      <td>192.168.220.51</td>\n",
       "      <td>1.0</td>\n",
       "      <td>[192.168.200.2, 192.168.220.51]</td>\n",
       "      <td>(192.168.200.2, 192.168.220.51)</td>\n",
       "    </tr>\n",
       "    <tr>\n",
       "      <th>316</th>\n",
       "      <td>14172_51</td>\n",
       "      <td>192.168.220.51</td>\n",
       "      <td>1.0</td>\n",
       "      <td>[14172_51, 192.168.220.51]</td>\n",
       "      <td>(14172_51, 192.168.220.51)</td>\n",
       "    </tr>\n",
       "    <tr>\n",
       "      <th>317</th>\n",
       "      <td>13053_106</td>\n",
       "      <td>192.168.210.56</td>\n",
       "      <td>1.0</td>\n",
       "      <td>[13053_106, 192.168.210.56]</td>\n",
       "      <td>(13053_106, 192.168.210.56)</td>\n",
       "    </tr>\n",
       "    <tr>\n",
       "      <th>318</th>\n",
       "      <td>14185_238</td>\n",
       "      <td>192.168.220.51</td>\n",
       "      <td>1.0</td>\n",
       "      <td>[14185_238, 192.168.220.51]</td>\n",
       "      <td>(14185_238, 192.168.220.51)</td>\n",
       "    </tr>\n",
       "    <tr>\n",
       "      <th>319</th>\n",
       "      <td>14170_51</td>\n",
       "      <td>192.168.220.51</td>\n",
       "      <td>1.0</td>\n",
       "      <td>[14170_51, 192.168.220.51]</td>\n",
       "      <td>(14170_51, 192.168.220.51)</td>\n",
       "    </tr>\n",
       "    <tr>\n",
       "      <th>320</th>\n",
       "      <td>192.168.100.1</td>\n",
       "      <td>192.168.220.51</td>\n",
       "      <td>1.0</td>\n",
       "      <td>[192.168.100.1, 192.168.220.51]</td>\n",
       "      <td>(192.168.100.1, 192.168.220.51)</td>\n",
       "    </tr>\n",
       "    <tr>\n",
       "      <th>321</th>\n",
       "      <td>192.168.100.2</td>\n",
       "      <td>192.168.220.51</td>\n",
       "      <td>0.9885708606638839</td>\n",
       "      <td>[192.168.100.2, 192.168.220.51]</td>\n",
       "      <td>(192.168.100.2, 192.168.220.51)</td>\n",
       "    </tr>\n",
       "    <tr>\n",
       "      <th>322</th>\n",
       "      <td>10272_44</td>\n",
       "      <td>192.168.220.51</td>\n",
       "      <td>1.0</td>\n",
       "      <td>[10272_44, 192.168.220.51]</td>\n",
       "      <td>(10272_44, 192.168.220.51)</td>\n",
       "    </tr>\n",
       "    <tr>\n",
       "      <th>323</th>\n",
       "      <td>192.168.210.1</td>\n",
       "      <td>192.168.220.51</td>\n",
       "      <td>0.969532100108814</td>\n",
       "      <td>[192.168.210.1, 192.168.220.51]</td>\n",
       "      <td>(192.168.210.1, 192.168.220.51)</td>\n",
       "    </tr>\n",
       "    <tr>\n",
       "      <th>324</th>\n",
       "      <td>192.168.220.2</td>\n",
       "      <td>192.168.220.51</td>\n",
       "      <td>0.966078697421981</td>\n",
       "      <td>[192.168.220.2, 192.168.220.51]</td>\n",
       "      <td>(192.168.220.2, 192.168.220.51)</td>\n",
       "    </tr>\n",
       "    <tr>\n",
       "      <th>325</th>\n",
       "      <td>12087_137</td>\n",
       "      <td>192.168.220.47</td>\n",
       "      <td>1.0</td>\n",
       "      <td>[12087_137, 192.168.220.47]</td>\n",
       "      <td>(12087_137, 192.168.220.47)</td>\n",
       "    </tr>\n",
       "    <tr>\n",
       "      <th>326</th>\n",
       "      <td>13053_118</td>\n",
       "      <td>192.168.210.56</td>\n",
       "      <td>1.0</td>\n",
       "      <td>[13053_118, 192.168.210.56]</td>\n",
       "      <td>(13053_118, 192.168.210.56)</td>\n",
       "    </tr>\n",
       "    <tr>\n",
       "      <th>327</th>\n",
       "      <td>192.168.100.14</td>\n",
       "      <td>192.168.220.51</td>\n",
       "      <td>0.7689569792633859</td>\n",
       "      <td>[192.168.100.14, 192.168.220.51]</td>\n",
       "      <td>(192.168.100.14, 192.168.220.51)</td>\n",
       "    </tr>\n",
       "    <tr>\n",
       "      <th>328</th>\n",
       "      <td>192.168.220.1</td>\n",
       "      <td>192.168.220.51</td>\n",
       "      <td>0.9861764925651947</td>\n",
       "      <td>[192.168.220.1, 192.168.220.51]</td>\n",
       "      <td>(192.168.220.1, 192.168.220.51)</td>\n",
       "    </tr>\n",
       "  </tbody>\n",
       "</table>\n",
       "<p>329 rows × 5 columns</p>\n",
       "</div>"
      ],
      "text/plain": [
       "               IP_A            IP_B          confidence  \\\n",
       "0         10030_137  192.168.210.49                 1.0   \n",
       "1         14594_192  192.168.220.51                 1.0   \n",
       "2          10759_43  192.168.220.47                 1.0   \n",
       "3          13085_24  192.168.220.49                 1.0   \n",
       "4          14154_89  192.168.210.54                 1.0   \n",
       "5          14155_88  192.168.210.54                 1.0   \n",
       "6         10708_220  192.168.220.43                 1.0   \n",
       "7         11513_244  192.168.220.47                 1.0   \n",
       "8          13972_11  192.168.220.48                 1.0   \n",
       "9         10731_186  192.168.220.47                 1.0   \n",
       "10        12468_200  192.168.220.50                 1.0   \n",
       "11         12088_61  192.168.220.51                 1.0   \n",
       "12         10057_27  192.168.220.43                 1.0   \n",
       "13        14620_188  192.168.210.48                 1.0   \n",
       "14        12688_140  192.168.220.51                 1.0   \n",
       "15        10088_242  192.168.220.48                 1.0   \n",
       "16         10085_11  192.168.220.51                 1.0   \n",
       "17         10650_38  192.168.220.47                 1.0   \n",
       "18         10123_77  192.168.220.42                 1.0   \n",
       "19        10088_247  192.168.220.46                 1.0   \n",
       "20        10510_126  192.168.220.51                 1.0   \n",
       "21        14582_235  192.168.220.43                 1.0   \n",
       "22        11841_162  192.168.210.55  0.9130434782608695   \n",
       "23        13227_120  192.168.220.48                 1.0   \n",
       "24        13926_197  192.168.220.47                 1.0   \n",
       "25        10016_144  192.168.220.51                 1.0   \n",
       "26         12469_84  192.168.220.47                 1.0   \n",
       "27        12692_131  192.168.220.51                 1.0   \n",
       "28        11925_110  192.168.220.49                 1.0   \n",
       "29         12969_46  192.168.220.49                 1.0   \n",
       "..              ...             ...                 ...   \n",
       "299       13049_193  192.168.210.56                 1.0   \n",
       "300       13035_162  192.168.220.51  0.9894911504424779   \n",
       "301       14184_244  192.168.220.51  0.9773510585918267   \n",
       "302        10123_71  192.168.220.51   0.943952802359882   \n",
       "303        10123_41  192.168.220.51   0.938568129330254   \n",
       "304        10123_37  192.168.220.51  0.9674439067311923   \n",
       "305        10597_79  192.168.220.51  0.8004631416441529   \n",
       "306         10692_1  192.168.220.43  0.8405405405405405   \n",
       "307        11714_20  192.168.210.53  0.9656796769851952   \n",
       "308        10763_18  192.168.220.51  0.9253139458030403   \n",
       "309       12091_134  192.168.220.51  0.9160692951015532   \n",
       "310       11685_203  192.168.210.53  0.9769274057400112   \n",
       "311        13047_59  192.168.210.56  0.9821182943603851   \n",
       "312        10597_84  192.168.220.51  0.8470139771283355   \n",
       "313   192.168.200.1  192.168.220.51                 1.0   \n",
       "314       11681_180  192.168.210.54  0.9963998305802626   \n",
       "315   192.168.200.2  192.168.220.51                 1.0   \n",
       "316        14172_51  192.168.220.51                 1.0   \n",
       "317       13053_106  192.168.210.56                 1.0   \n",
       "318       14185_238  192.168.220.51                 1.0   \n",
       "319        14170_51  192.168.220.51                 1.0   \n",
       "320   192.168.100.1  192.168.220.51                 1.0   \n",
       "321   192.168.100.2  192.168.220.51  0.9885708606638839   \n",
       "322        10272_44  192.168.220.51                 1.0   \n",
       "323   192.168.210.1  192.168.220.51   0.969532100108814   \n",
       "324   192.168.220.2  192.168.220.51   0.966078697421981   \n",
       "325       12087_137  192.168.220.47                 1.0   \n",
       "326       13053_118  192.168.210.56                 1.0   \n",
       "327  192.168.100.14  192.168.220.51  0.7689569792633859   \n",
       "328   192.168.220.1  192.168.220.51  0.9861764925651947   \n",
       "\n",
       "                                pairs                            pairs2  \n",
       "0         [10030_137, 192.168.210.49]       (10030_137, 192.168.210.49)  \n",
       "1         [14594_192, 192.168.220.51]       (14594_192, 192.168.220.51)  \n",
       "2          [10759_43, 192.168.220.47]        (10759_43, 192.168.220.47)  \n",
       "3          [13085_24, 192.168.220.49]        (13085_24, 192.168.220.49)  \n",
       "4          [14154_89, 192.168.210.54]        (14154_89, 192.168.210.54)  \n",
       "5          [14155_88, 192.168.210.54]        (14155_88, 192.168.210.54)  \n",
       "6         [10708_220, 192.168.220.43]       (10708_220, 192.168.220.43)  \n",
       "7         [11513_244, 192.168.220.47]       (11513_244, 192.168.220.47)  \n",
       "8          [13972_11, 192.168.220.48]        (13972_11, 192.168.220.48)  \n",
       "9         [10731_186, 192.168.220.47]       (10731_186, 192.168.220.47)  \n",
       "10        [12468_200, 192.168.220.50]       (12468_200, 192.168.220.50)  \n",
       "11         [12088_61, 192.168.220.51]        (12088_61, 192.168.220.51)  \n",
       "12         [10057_27, 192.168.220.43]        (10057_27, 192.168.220.43)  \n",
       "13        [14620_188, 192.168.210.48]       (14620_188, 192.168.210.48)  \n",
       "14        [12688_140, 192.168.220.51]       (12688_140, 192.168.220.51)  \n",
       "15        [10088_242, 192.168.220.48]       (10088_242, 192.168.220.48)  \n",
       "16         [10085_11, 192.168.220.51]        (10085_11, 192.168.220.51)  \n",
       "17         [10650_38, 192.168.220.47]        (10650_38, 192.168.220.47)  \n",
       "18         [10123_77, 192.168.220.42]        (10123_77, 192.168.220.42)  \n",
       "19        [10088_247, 192.168.220.46]       (10088_247, 192.168.220.46)  \n",
       "20        [10510_126, 192.168.220.51]       (10510_126, 192.168.220.51)  \n",
       "21        [14582_235, 192.168.220.43]       (14582_235, 192.168.220.43)  \n",
       "22        [11841_162, 192.168.210.55]       (11841_162, 192.168.210.55)  \n",
       "23        [13227_120, 192.168.220.48]       (13227_120, 192.168.220.48)  \n",
       "24        [13926_197, 192.168.220.47]       (13926_197, 192.168.220.47)  \n",
       "25        [10016_144, 192.168.220.51]       (10016_144, 192.168.220.51)  \n",
       "26         [12469_84, 192.168.220.47]        (12469_84, 192.168.220.47)  \n",
       "27        [12692_131, 192.168.220.51]       (12692_131, 192.168.220.51)  \n",
       "28        [11925_110, 192.168.220.49]       (11925_110, 192.168.220.49)  \n",
       "29         [12969_46, 192.168.220.49]        (12969_46, 192.168.220.49)  \n",
       "..                                ...                               ...  \n",
       "299       [13049_193, 192.168.210.56]       (13049_193, 192.168.210.56)  \n",
       "300       [13035_162, 192.168.220.51]       (13035_162, 192.168.220.51)  \n",
       "301       [14184_244, 192.168.220.51]       (14184_244, 192.168.220.51)  \n",
       "302        [10123_71, 192.168.220.51]        (10123_71, 192.168.220.51)  \n",
       "303        [10123_41, 192.168.220.51]        (10123_41, 192.168.220.51)  \n",
       "304        [10123_37, 192.168.220.51]        (10123_37, 192.168.220.51)  \n",
       "305        [10597_79, 192.168.220.51]        (10597_79, 192.168.220.51)  \n",
       "306         [10692_1, 192.168.220.43]         (10692_1, 192.168.220.43)  \n",
       "307        [11714_20, 192.168.210.53]        (11714_20, 192.168.210.53)  \n",
       "308        [10763_18, 192.168.220.51]        (10763_18, 192.168.220.51)  \n",
       "309       [12091_134, 192.168.220.51]       (12091_134, 192.168.220.51)  \n",
       "310       [11685_203, 192.168.210.53]       (11685_203, 192.168.210.53)  \n",
       "311        [13047_59, 192.168.210.56]        (13047_59, 192.168.210.56)  \n",
       "312        [10597_84, 192.168.220.51]        (10597_84, 192.168.220.51)  \n",
       "313   [192.168.200.1, 192.168.220.51]   (192.168.200.1, 192.168.220.51)  \n",
       "314       [11681_180, 192.168.210.54]       (11681_180, 192.168.210.54)  \n",
       "315   [192.168.200.2, 192.168.220.51]   (192.168.200.2, 192.168.220.51)  \n",
       "316        [14172_51, 192.168.220.51]        (14172_51, 192.168.220.51)  \n",
       "317       [13053_106, 192.168.210.56]       (13053_106, 192.168.210.56)  \n",
       "318       [14185_238, 192.168.220.51]       (14185_238, 192.168.220.51)  \n",
       "319        [14170_51, 192.168.220.51]        (14170_51, 192.168.220.51)  \n",
       "320   [192.168.100.1, 192.168.220.51]   (192.168.100.1, 192.168.220.51)  \n",
       "321   [192.168.100.2, 192.168.220.51]   (192.168.100.2, 192.168.220.51)  \n",
       "322        [10272_44, 192.168.220.51]        (10272_44, 192.168.220.51)  \n",
       "323   [192.168.210.1, 192.168.220.51]   (192.168.210.1, 192.168.220.51)  \n",
       "324   [192.168.220.2, 192.168.220.51]   (192.168.220.2, 192.168.220.51)  \n",
       "325       [12087_137, 192.168.220.47]       (12087_137, 192.168.220.47)  \n",
       "326       [13053_118, 192.168.210.56]       (13053_118, 192.168.210.56)  \n",
       "327  [192.168.100.14, 192.168.220.51]  (192.168.100.14, 192.168.220.51)  \n",
       "328   [192.168.220.1, 192.168.220.51]   (192.168.220.1, 192.168.220.51)  \n",
       "\n",
       "[329 rows x 5 columns]"
      ]
     },
     "execution_count": 108,
     "metadata": {},
     "output_type": "execute_result"
    }
   ],
   "source": [
    "rules_df"
   ]
  },
  {
   "cell_type": "markdown",
   "metadata": {},
   "source": [
    "Add back in the normalized latency and frequency of occurance into this rules dataframe."
   ]
  },
  {
   "cell_type": "code",
   "execution_count": 109,
   "metadata": {},
   "outputs": [
    {
     "data": {
      "text/html": [
       "<div>\n",
       "<style scoped>\n",
       "    .dataframe tbody tr th:only-of-type {\n",
       "        vertical-align: middle;\n",
       "    }\n",
       "\n",
       "    .dataframe tbody tr th {\n",
       "        vertical-align: top;\n",
       "    }\n",
       "\n",
       "    .dataframe thead th {\n",
       "        text-align: right;\n",
       "    }\n",
       "</style>\n",
       "<table border=\"1\" class=\"dataframe\">\n",
       "  <thead>\n",
       "    <tr style=\"text-align: right;\">\n",
       "      <th></th>\n",
       "      <th>IP_A</th>\n",
       "      <th>IP_B</th>\n",
       "      <th>confidence</th>\n",
       "      <th>pairs</th>\n",
       "      <th>pairs2</th>\n",
       "      <th>frequency</th>\n",
       "      <th>avg_norm_latency</th>\n",
       "      <th>total_duration</th>\n",
       "      <th>total_packets</th>\n",
       "      <th>norm_latency</th>\n",
       "    </tr>\n",
       "  </thead>\n",
       "  <tbody>\n",
       "    <tr>\n",
       "      <th>0</th>\n",
       "      <td>10030_137</td>\n",
       "      <td>192.168.210.49</td>\n",
       "      <td>1.0</td>\n",
       "      <td>[10030_137, 192.168.210.49]</td>\n",
       "      <td>(10030_137, 192.168.210.49)</td>\n",
       "      <td>126</td>\n",
       "      <td>0.005588</td>\n",
       "      <td>13.268</td>\n",
       "      <td>463</td>\n",
       "      <td>7.259393e-06</td>\n",
       "    </tr>\n",
       "    <tr>\n",
       "      <th>1</th>\n",
       "      <td>14594_192</td>\n",
       "      <td>192.168.220.51</td>\n",
       "      <td>1.0</td>\n",
       "      <td>[14594_192, 192.168.220.51]</td>\n",
       "      <td>(14594_192, 192.168.220.51)</td>\n",
       "      <td>126</td>\n",
       "      <td>0.023760</td>\n",
       "      <td>16.016</td>\n",
       "      <td>311</td>\n",
       "      <td>8.762921e-06</td>\n",
       "    </tr>\n",
       "    <tr>\n",
       "      <th>2</th>\n",
       "      <td>10759_43</td>\n",
       "      <td>192.168.220.47</td>\n",
       "      <td>1.0</td>\n",
       "      <td>[10759_43, 192.168.220.47]</td>\n",
       "      <td>(10759_43, 192.168.220.47)</td>\n",
       "      <td>128</td>\n",
       "      <td>0.004098</td>\n",
       "      <td>1.416</td>\n",
       "      <td>414</td>\n",
       "      <td>7.747437e-07</td>\n",
       "    </tr>\n",
       "    <tr>\n",
       "      <th>3</th>\n",
       "      <td>13085_24</td>\n",
       "      <td>192.168.220.49</td>\n",
       "      <td>1.0</td>\n",
       "      <td>[13085_24, 192.168.220.49]</td>\n",
       "      <td>(13085_24, 192.168.220.49)</td>\n",
       "      <td>128</td>\n",
       "      <td>0.029191</td>\n",
       "      <td>25.497</td>\n",
       "      <td>1608</td>\n",
       "      <td>1.395031e-05</td>\n",
       "    </tr>\n",
       "    <tr>\n",
       "      <th>4</th>\n",
       "      <td>14154_89</td>\n",
       "      <td>192.168.210.54</td>\n",
       "      <td>1.0</td>\n",
       "      <td>[14154_89, 192.168.210.54]</td>\n",
       "      <td>(14154_89, 192.168.210.54)</td>\n",
       "      <td>128</td>\n",
       "      <td>0.007364</td>\n",
       "      <td>7.290</td>\n",
       "      <td>244</td>\n",
       "      <td>3.988617e-06</td>\n",
       "    </tr>\n",
       "  </tbody>\n",
       "</table>\n",
       "</div>"
      ],
      "text/plain": [
       "        IP_A            IP_B confidence                        pairs  \\\n",
       "0  10030_137  192.168.210.49        1.0  [10030_137, 192.168.210.49]   \n",
       "1  14594_192  192.168.220.51        1.0  [14594_192, 192.168.220.51]   \n",
       "2   10759_43  192.168.220.47        1.0   [10759_43, 192.168.220.47]   \n",
       "3   13085_24  192.168.220.49        1.0   [13085_24, 192.168.220.49]   \n",
       "4   14154_89  192.168.210.54        1.0   [14154_89, 192.168.210.54]   \n",
       "\n",
       "                        pairs2  frequency  avg_norm_latency  total_duration  \\\n",
       "0  (10030_137, 192.168.210.49)        126          0.005588          13.268   \n",
       "1  (14594_192, 192.168.220.51)        126          0.023760          16.016   \n",
       "2   (10759_43, 192.168.220.47)        128          0.004098           1.416   \n",
       "3   (13085_24, 192.168.220.49)        128          0.029191          25.497   \n",
       "4   (14154_89, 192.168.210.54)        128          0.007364           7.290   \n",
       "\n",
       "   total_packets  norm_latency  \n",
       "0            463  7.259393e-06  \n",
       "1            311  8.762921e-06  \n",
       "2            414  7.747437e-07  \n",
       "3           1608  1.395031e-05  \n",
       "4            244  3.988617e-06  "
      ]
     },
     "execution_count": 109,
     "metadata": {},
     "output_type": "execute_result"
    }
   ],
   "source": [
    "rules_df=rules_df.merge(pairs_count, left_on='pairs2', right_on='pairs')\n",
    "rules_df=rules_df.drop('pairs_y', axis=1)\n",
    "rules_df=rules_df.rename(columns={'pairs_x':'pairs'})\n",
    "rules_df.head()"
   ]
  },
  {
   "cell_type": "code",
   "execution_count": 110,
   "metadata": {},
   "outputs": [],
   "source": [
    "rules_df40=rules_df40.merge(pairs_count, left_on='pairs2', right_on='pairs')\n",
    "rules_df40=rules_df40.drop('pairs_y', axis=1)\n",
    "rules_df40=rules_df40.rename(columns={'pairs_x':'pairs'})"
   ]
  },
  {
   "cell_type": "markdown",
   "metadata": {},
   "source": [
    "### now plot the normalized latency vs frequency and see if we have any trends"
   ]
  },
  {
   "cell_type": "code",
   "execution_count": 111,
   "metadata": {},
   "outputs": [
    {
     "data": {
      "text/plain": [
       "Text(0.5,0,'IP pair frequency of occurance')"
      ]
     },
     "execution_count": 111,
     "metadata": {},
     "output_type": "execute_result"
    },
    {
     "data": {
      "image/png": "[encoded data removed]",
      "text/plain": [
       "<Figure size 432x288 with 1 Axes>"
      ]
     },
     "metadata": {
      "needs_background": "light"
     },
     "output_type": "display_data"
    }
   ],
   "source": [
    "plt.scatter(rules_df['frequency'], rules_df['norm_latency'])\n",
    "plt.ylabel('normalized latency (latency/packets)')\n",
    "plt.xlabel('IP pair frequency of occurance')\n",
    "#plt.ylim(-0.001, 0.015)"
   ]
  },
  {
   "cell_type": "markdown",
   "metadata": {},
   "source": [
    "#### Comparing this plot to the earlier plot of all IP pairs, we see two things:\n",
    "    1. the left arm on the plot with all datapoints at the x-axis=0 is gone, this indicates that the model did not allow IP pairs with very low frequency. This is intuitive because of the min threshold we set for 'support' (which is simply frequency) equal to xx.\n",
    "    2. The x-axis is significantly shorter than the plot with all datapoints. This is due to the 'confidence' threshold we selected when creating the rules. This means that it is hard for the model to be as certain that an IP is likely to co-occur at higher frequency. This is counter intuitive, but is likely explained by the definition of confidience: frequency of X and Y occuring/ frequency of X occuring in entire dataset. Conditional probability of Y given X. Even if a pair has a high frequency of occuring, the frequency of X alone might be so great that it drowns out the signal of detecting the pair.\n",
    "    "
   ]
  },
  {
   "cell_type": "markdown",
   "metadata": {},
   "source": [
    "### rank these based on these trends... see how time cumulates as rank goes up, do we reach a threshold?"
   ]
  },
  {
   "cell_type": "markdown",
   "metadata": {},
   "source": [
    "Simple ranking approach:\n",
    "    Multiply the pair frequency of occurance by the normal latency duration time for that pair. We are simply giving higher priority to pairs that are slow, so even if they are not that frequent they will still be ranked higher because we have more to gain by co-locating them and reducing latency. \n",
    "    \n",
    "    for example if pair A appears 100 times, and has a normal latency of 0.005 it's score = 100*0.005 = 0.5\n",
    "    if a pair B appears 100 times, and has a normal latency of 0.02, it's score = 100/0.02 = 2.0\n",
    "    \n",
    "    Pair B is given a higher score (rank) than Pair A, even though they both had the same frequency, pair B is prioritized because it is slow and costs us time and money. Let's get them co-located!"
   ]
  },
  {
   "cell_type": "code",
   "execution_count": 112,
   "metadata": {},
   "outputs": [],
   "source": [
    "rules_df['latency_rank']=rules_df['frequency']*rules_df['norm_latency']"
   ]
  },
  {
   "cell_type": "code",
   "execution_count": 113,
   "metadata": {},
   "outputs": [],
   "source": [
    "rules_df40['latency_rank']=rules_df40['frequency']*rules_df40['norm_latency']"
   ]
  },
  {
   "cell_type": "markdown",
   "metadata": {},
   "source": [
    "## Assign Servers to each IP address in the rules dataframe\n",
    "\n",
    "Start with the highest rank IP pair, assign matching servers and then move on to the next highest rank pair until that server is full. This is a 'dumb' approach, but  it clearly assigns things based on priority and gets a proof of concept. Because IP addresses repeat throughout the rules dataset, we will remove repeated IPs leaving the highest ranked IP.\n",
    "\n",
    "For this exercise we assume a server can hold 20 apps, or 10 pairs"
   ]
  },
  {
   "cell_type": "code",
   "execution_count": 114,
   "metadata": {},
   "outputs": [],
   "source": [
    "rules_df=rules_df.sort_values(by='latency_rank', ascending=False)"
   ]
  },
  {
   "cell_type": "code",
   "execution_count": 115,
   "metadata": {},
   "outputs": [],
   "source": [
    "rules_df40=rules_df40.sort_values(by='latency_rank', ascending=False)"
   ]
  },
  {
   "cell_type": "code",
   "execution_count": 116,
   "metadata": {},
   "outputs": [],
   "source": [
    "#1. Start by filling in the servers on the pairs until the server is full\n",
    "import math\n",
    "apps_server=20 #number of apps that can fit on each server, arbitrary pick\n",
    "pairs_server=apps_server/2 #pairs of IP addresses that can fit on each server\n",
    "\n",
    "#how many servers do we need for our rules, which are in pairs?\n",
    "servers_rule=math.ceil(len(rules_df)/pairs_server)\n",
    "\n",
    "servers_rule_list=list(range(0,servers_rule+1))\n",
    "servers_rule_list=np.repeat(servers_rule_list,pairs_server)\n",
    "\n",
    "#remove the extra items\n",
    "servers_rule_list=servers_rule_list[0:len(rules_df)]"
   ]
  },
  {
   "cell_type": "code",
   "execution_count": 117,
   "metadata": {},
   "outputs": [],
   "source": [
    "#1. Start by filling in the servers on the pairs until the server is full\n",
    "\n",
    "#how many servers do we need for our rules, which are in pairs?\n",
    "servers_rule=math.ceil(len(rules_df40)/pairs_server)\n",
    "\n",
    "servers_rule_list=list(range(0,servers_rule+1))\n",
    "servers_rule_list40=np.repeat(servers_rule_list,pairs_server)\n",
    "\n",
    "#remove the extra items\n",
    "servers_rule_list40=servers_rule_list40[0:len(rules_df40)]"
   ]
  },
  {
   "cell_type": "code",
   "execution_count": 118,
   "metadata": {},
   "outputs": [
    {
     "name": "stderr",
     "output_type": "stream",
     "text": [
      "/home/ubuntu/anaconda3/lib/python3.6/site-packages/pandas/core/indexing.py:189: SettingWithCopyWarning: \n",
      "A value is trying to be set on a copy of a slice from a DataFrame\n",
      "\n",
      "See the caveats in the documentation: http://pandas.pydata.org/pandas-docs/stable/indexing.html#indexing-view-versus-copy\n",
      "  self._setitem_with_indexer(indexer, value)\n"
     ]
    }
   ],
   "source": [
    "# add a pair_ID column so we can keep track of how frequently IP addresses repeat in different pairs\n",
    "rules_df['pair_ID']=range(0, len(rules_df))\n",
    "#start by assigning the most important pair to a server\n",
    "rules_df['server_A']=None\n",
    "rules_df['server_B']=None\n",
    "rules_df['server_A'].iloc[0]=0\n",
    "rules_df['server_B'].iloc[0]=0"
   ]
  },
  {
   "cell_type": "code",
   "execution_count": null,
   "metadata": {},
   "outputs": [],
   "source": [
    "# add a pair_ID column so we can keep track of how frequently IP addresses repeat in different pairs\n",
    "rules_df40['pair_ID']=range(0, len(rules_df40))\n",
    "#start by assigning the most important pair to a server\n",
    "rules_df40['server_A']=None\n",
    "rules_df40['server_B']=None\n",
    "rules_df40['server_A'].iloc[0]=0\n",
    "rules_df40['server_B'].iloc[0]=0"
   ]
  },
  {
   "cell_type": "code",
   "execution_count": 120,
   "metadata": {},
   "outputs": [
    {
     "ename": "ValueError",
     "evalue": "Length of values does not match length of index",
     "output_type": "error",
     "traceback": [
      "\u001b[0;31m---------------------------------------------------------------------------\u001b[0m",
      "\u001b[0;31mValueError\u001b[0m                                Traceback (most recent call last)",
      "\u001b[0;32m<ipython-input-120-0c99d85c954d>\u001b[0m in \u001b[0;36m<module>\u001b[0;34m()\u001b[0m\n\u001b[1;32m      1\u001b[0m \u001b[0;31m#assign these servers to the pairs in our rules dataframe. Again this is stupid as we are not considering individual IPs that may repeat in different pairs. but it's a start\u001b[0m\u001b[0;34m\u001b[0m\u001b[0;34m\u001b[0m\u001b[0m\n\u001b[0;32m----> 2\u001b[0;31m \u001b[0mrules_df\u001b[0m\u001b[0;34m[\u001b[0m\u001b[0;34m'server'\u001b[0m\u001b[0;34m]\u001b[0m\u001b[0;34m=\u001b[0m\u001b[0mservers_rule_list\u001b[0m\u001b[0;34m\u001b[0m\u001b[0m\n\u001b[0m\u001b[1;32m      3\u001b[0m \u001b[0mrules_df\u001b[0m\u001b[0;34m.\u001b[0m\u001b[0mhead\u001b[0m\u001b[0;34m(\u001b[0m\u001b[0;34m)\u001b[0m\u001b[0;34m\u001b[0m\u001b[0m\n\u001b[1;32m      4\u001b[0m \u001b[0;31m#export rules_df\u001b[0m\u001b[0;34m\u001b[0m\u001b[0;34m\u001b[0m\u001b[0m\n\u001b[1;32m      5\u001b[0m \u001b[0mrules_df\u001b[0m\u001b[0;34m.\u001b[0m\u001b[0mto_csv\u001b[0m\u001b[0;34m(\u001b[0m\u001b[0;34m'rules_df.csv'\u001b[0m\u001b[0;34m)\u001b[0m\u001b[0;34m\u001b[0m\u001b[0m\n",
      "\u001b[0;32m~/anaconda3/lib/python3.6/site-packages/pandas/core/frame.py\u001b[0m in \u001b[0;36m__setitem__\u001b[0;34m(self, key, value)\u001b[0m\n\u001b[1;32m   3117\u001b[0m         \u001b[0;32melse\u001b[0m\u001b[0;34m:\u001b[0m\u001b[0;34m\u001b[0m\u001b[0m\n\u001b[1;32m   3118\u001b[0m             \u001b[0;31m# set column\u001b[0m\u001b[0;34m\u001b[0m\u001b[0;34m\u001b[0m\u001b[0m\n\u001b[0;32m-> 3119\u001b[0;31m             \u001b[0mself\u001b[0m\u001b[0;34m.\u001b[0m\u001b[0m_set_item\u001b[0m\u001b[0;34m(\u001b[0m\u001b[0mkey\u001b[0m\u001b[0;34m,\u001b[0m \u001b[0mvalue\u001b[0m\u001b[0;34m)\u001b[0m\u001b[0;34m\u001b[0m\u001b[0m\n\u001b[0m\u001b[1;32m   3120\u001b[0m \u001b[0;34m\u001b[0m\u001b[0m\n\u001b[1;32m   3121\u001b[0m     \u001b[0;32mdef\u001b[0m \u001b[0m_setitem_slice\u001b[0m\u001b[0;34m(\u001b[0m\u001b[0mself\u001b[0m\u001b[0;34m,\u001b[0m \u001b[0mkey\u001b[0m\u001b[0;34m,\u001b[0m \u001b[0mvalue\u001b[0m\u001b[0;34m)\u001b[0m\u001b[0;34m:\u001b[0m\u001b[0;34m\u001b[0m\u001b[0m\n",
      "\u001b[0;32m~/anaconda3/lib/python3.6/site-packages/pandas/core/frame.py\u001b[0m in \u001b[0;36m_set_item\u001b[0;34m(self, key, value)\u001b[0m\n\u001b[1;32m   3192\u001b[0m \u001b[0;34m\u001b[0m\u001b[0m\n\u001b[1;32m   3193\u001b[0m         \u001b[0mself\u001b[0m\u001b[0;34m.\u001b[0m\u001b[0m_ensure_valid_index\u001b[0m\u001b[0;34m(\u001b[0m\u001b[0mvalue\u001b[0m\u001b[0;34m)\u001b[0m\u001b[0;34m\u001b[0m\u001b[0m\n\u001b[0;32m-> 3194\u001b[0;31m         \u001b[0mvalue\u001b[0m \u001b[0;34m=\u001b[0m \u001b[0mself\u001b[0m\u001b[0;34m.\u001b[0m\u001b[0m_sanitize_column\u001b[0m\u001b[0;34m(\u001b[0m\u001b[0mkey\u001b[0m\u001b[0;34m,\u001b[0m \u001b[0mvalue\u001b[0m\u001b[0;34m)\u001b[0m\u001b[0;34m\u001b[0m\u001b[0m\n\u001b[0m\u001b[1;32m   3195\u001b[0m         \u001b[0mNDFrame\u001b[0m\u001b[0;34m.\u001b[0m\u001b[0m_set_item\u001b[0m\u001b[0;34m(\u001b[0m\u001b[0mself\u001b[0m\u001b[0;34m,\u001b[0m \u001b[0mkey\u001b[0m\u001b[0;34m,\u001b[0m \u001b[0mvalue\u001b[0m\u001b[0;34m)\u001b[0m\u001b[0;34m\u001b[0m\u001b[0m\n\u001b[1;32m   3196\u001b[0m \u001b[0;34m\u001b[0m\u001b[0m\n",
      "\u001b[0;32m~/anaconda3/lib/python3.6/site-packages/pandas/core/frame.py\u001b[0m in \u001b[0;36m_sanitize_column\u001b[0;34m(self, key, value, broadcast)\u001b[0m\n\u001b[1;32m   3389\u001b[0m \u001b[0;34m\u001b[0m\u001b[0m\n\u001b[1;32m   3390\u001b[0m             \u001b[0;31m# turn me into an ndarray\u001b[0m\u001b[0;34m\u001b[0m\u001b[0;34m\u001b[0m\u001b[0m\n\u001b[0;32m-> 3391\u001b[0;31m             \u001b[0mvalue\u001b[0m \u001b[0;34m=\u001b[0m \u001b[0m_sanitize_index\u001b[0m\u001b[0;34m(\u001b[0m\u001b[0mvalue\u001b[0m\u001b[0;34m,\u001b[0m \u001b[0mself\u001b[0m\u001b[0;34m.\u001b[0m\u001b[0mindex\u001b[0m\u001b[0;34m,\u001b[0m \u001b[0mcopy\u001b[0m\u001b[0;34m=\u001b[0m\u001b[0;32mFalse\u001b[0m\u001b[0;34m)\u001b[0m\u001b[0;34m\u001b[0m\u001b[0m\n\u001b[0m\u001b[1;32m   3392\u001b[0m             \u001b[0;32mif\u001b[0m \u001b[0;32mnot\u001b[0m \u001b[0misinstance\u001b[0m\u001b[0;34m(\u001b[0m\u001b[0mvalue\u001b[0m\u001b[0;34m,\u001b[0m \u001b[0;34m(\u001b[0m\u001b[0mnp\u001b[0m\u001b[0;34m.\u001b[0m\u001b[0mndarray\u001b[0m\u001b[0;34m,\u001b[0m \u001b[0mIndex\u001b[0m\u001b[0;34m)\u001b[0m\u001b[0;34m)\u001b[0m\u001b[0;34m:\u001b[0m\u001b[0;34m\u001b[0m\u001b[0m\n\u001b[1;32m   3393\u001b[0m                 \u001b[0;32mif\u001b[0m \u001b[0misinstance\u001b[0m\u001b[0;34m(\u001b[0m\u001b[0mvalue\u001b[0m\u001b[0;34m,\u001b[0m \u001b[0mlist\u001b[0m\u001b[0;34m)\u001b[0m \u001b[0;32mand\u001b[0m \u001b[0mlen\u001b[0m\u001b[0;34m(\u001b[0m\u001b[0mvalue\u001b[0m\u001b[0;34m)\u001b[0m \u001b[0;34m>\u001b[0m \u001b[0;36m0\u001b[0m\u001b[0;34m:\u001b[0m\u001b[0;34m\u001b[0m\u001b[0m\n",
      "\u001b[0;32m~/anaconda3/lib/python3.6/site-packages/pandas/core/series.py\u001b[0m in \u001b[0;36m_sanitize_index\u001b[0;34m(data, index, copy)\u001b[0m\n\u001b[1;32m   3999\u001b[0m \u001b[0;34m\u001b[0m\u001b[0m\n\u001b[1;32m   4000\u001b[0m     \u001b[0;32mif\u001b[0m \u001b[0mlen\u001b[0m\u001b[0;34m(\u001b[0m\u001b[0mdata\u001b[0m\u001b[0;34m)\u001b[0m \u001b[0;34m!=\u001b[0m \u001b[0mlen\u001b[0m\u001b[0;34m(\u001b[0m\u001b[0mindex\u001b[0m\u001b[0;34m)\u001b[0m\u001b[0;34m:\u001b[0m\u001b[0;34m\u001b[0m\u001b[0m\n\u001b[0;32m-> 4001\u001b[0;31m         \u001b[0;32mraise\u001b[0m \u001b[0mValueError\u001b[0m\u001b[0;34m(\u001b[0m\u001b[0;34m'Length of values does not match length of '\u001b[0m \u001b[0;34m'index'\u001b[0m\u001b[0;34m)\u001b[0m\u001b[0;34m\u001b[0m\u001b[0m\n\u001b[0m\u001b[1;32m   4002\u001b[0m \u001b[0;34m\u001b[0m\u001b[0m\n\u001b[1;32m   4003\u001b[0m     \u001b[0;32mif\u001b[0m \u001b[0misinstance\u001b[0m\u001b[0;34m(\u001b[0m\u001b[0mdata\u001b[0m\u001b[0;34m,\u001b[0m \u001b[0mABCIndexClass\u001b[0m\u001b[0;34m)\u001b[0m \u001b[0;32mand\u001b[0m \u001b[0;32mnot\u001b[0m \u001b[0mcopy\u001b[0m\u001b[0;34m:\u001b[0m\u001b[0;34m\u001b[0m\u001b[0m\n",
      "\u001b[0;31mValueError\u001b[0m: Length of values does not match length of index"
     ]
    }
   ],
   "source": [
    "#assign these servers to the pairs in our rules dataframe. Again this is stupid as we are not considering individual IPs that may repeat in different pairs. but it's a start\n",
    "rules_df['server']=servers_rule_list\n",
    "rules_df.head()\n",
    "#export rules_df\n",
    "rules_df.to_csv('rules_df.csv')"
   ]
  },
  {
   "cell_type": "code",
   "execution_count": null,
   "metadata": {},
   "outputs": [],
   "source": [
    "len(rules_df40)"
   ]
  },
  {
   "cell_type": "code",
   "execution_count": null,
   "metadata": {},
   "outputs": [],
   "source": [
    "#assign these servers to the pairs in our rules dataframe. Again this is stupid as we are not considering individual IPs that may repeat in different pairs. but it's a start\n",
    "rules_df40['server']=servers_rule_list40\n",
    "rules_df40.head()\n",
    "#export rules_df\n",
    "rules_df40.to_csv('rules_df40.csv')"
   ]
  },
  {
   "cell_type": "code",
   "execution_count": null,
   "metadata": {},
   "outputs": [],
   "source": []
  },
  {
   "cell_type": "code",
   "execution_count": null,
   "metadata": {},
   "outputs": [],
   "source": [
    "rules_df.info()"
   ]
  },
  {
   "cell_type": "code",
   "execution_count": null,
   "metadata": {},
   "outputs": [],
   "source": [
    "### Generate the rules sorted by latency and frequency"
   ]
  },
  {
   "cell_type": "markdown",
   "metadata": {},
   "source": [
    "All values in IP_A are unique. We do have repeats in IP_B, so need to deal with those.\n",
    "\n",
    "Rules for assigning servers:\n",
    "    1. start with the highest ranked pair, assign each of these IPs to server '0'\n",
    "    2. go to next highest pair, check if IP_B exists in any other server, \n",
    "        If it does not, then this pair (IP_A and IP_B) can be assigned to the first server that has room. \n",
    "        IF IP_B has already been assigned, put IP_A in the current server. This is not perfect, ideally we would find the server IP_B is already in and put the matching IP_A there, but hard to keep track if that server is full."
   ]
  },
  {
   "cell_type": "code",
   "execution_count": null,
   "metadata": {},
   "outputs": [],
   "source": [
    "#server 0 is a bucket, want to count how many go into bucket\n",
    "serversize=20\n",
    "serverlist=[]\n",
    "server={}\n",
    "ips={}\n",
    "#serverlist.append(server) #put a new server dictionary into our list\n",
    "\n",
    "serverid=0\n",
    "for i in range(0,len(rules_df)):\n",
    "    if len(server)==serversize:\n",
    "        serverlist.append(server)\n",
    "        server={}\n",
    "        serverid=serverid+1\n",
    "    #if IP_B is in this server, it is a duplicate, so we only want to add in the IP_A which has not been added to the server yet\n",
    "    if (rules_df['IP_B'][i] in server) or rules_df['IP_B'][i] in ips and (len(server)<=(serversize-1)) and (rules_df['IP_A'][i] not in ips):\n",
    "        server[rules_df['IP_A'][i]]=serverid\n",
    "        ips[rules_df['IP_A'][i]]=1\n",
    "    #if IP_B is not in the server, and the server has room for 2 more, and it's matching IP_A is also not in the ip list we know IP_A hasn't been added yet.\n",
    "    #Thus, we need to add both the IP_A and IP_B in this row to this server and the ip list.\n",
    "    if (rules_df['IP_B'][i] not in server) and len(server)<=(serversize-2) and (rules_df['IP_A'][i] not in ips) and (rules_df['IP_B'][i] not in ips):\n",
    "        server[rules_df['IP_A'][i]]=serverid\n",
    "        server[rules_df['IP_B'][i]]=serverid\n",
    "        ips[rules_df['IP_A'][i]]=1\n",
    "        ips[rules_df['IP_B'][i]]=1                                                                                                                                                                                                                          \n",
    "   ##if IP_B is not in the server, and the server has room for only 1 more, and it's matching IP_A is also not in the ip list we know IP_A hasn't been added yet.\n",
    "    #we need to create a new server, and add both the IP_A and IP_B in this row to this new server and the ip list.\n",
    "    if (rules_df['IP_B'][i] not in server) and len(server)==(serversize-1) and (rules_df['IP_A'][i] not in ips) and (rules_df['IP_B'][i] not in ips): #if there is not enough room for the pair, we need to start a new server even if it is not full\n",
    "        serverlist.append(server)\n",
    "        server={}\n",
    "        serverid=serverid+1\n",
    "        server[rules_df['IP_A'][i]]=serverid\n",
    "        server[rules_df['IP_B'][i]]=serverid\n",
    "        ips[rules_df['IP_A'][i]]=1\n",
    "        ips[rules_df['IP_B'][i]]=1\n",
    "\n",
    "  "
   ]
  },
  {
   "cell_type": "code",
   "execution_count": null,
   "metadata": {},
   "outputs": [],
   "source": [
    "server_rules=pd.DataFrame.from_records(serverlist)\n",
    "server_rules.count(axis=0) #make sure each IP is only assigned to 1 server"
   ]
  },
  {
   "cell_type": "code",
   "execution_count": null,
   "metadata": {},
   "outputs": [],
   "source": [
    "server_rules=server_rules.transpose()\n",
    "server_rules['serverid']=server_rules.min(axis=1) #makes a new column with the serverid, which is the only non na value in the row\n",
    "server_rules['IP']=server_rules.index\n",
    "server_rules=server_rules[['IP', 'serverid']]\n",
    "server_rules.to_csv('server_rules_80_70con.csv') #based on same rules as original, np80 and 0.7 confidence"
   ]
  },
  {
   "cell_type": "code",
   "execution_count": null,
   "metadata": {},
   "outputs": [],
   "source": [
    "server_rules['IP'].nunique()"
   ]
  },
  {
   "cell_type": "code",
   "execution_count": null,
   "metadata": {},
   "outputs": [],
   "source": [
    "## Server Assignments to each IP address\n",
    "\n",
    "#merge in the serverid\n",
    "\n",
    "df_servers=df.merge(server_rules, left_on='Src_IP', right_on='IP', how='left')\n",
    "df_servers=df_servers.rename(columns={'serverid': 'Src_Server'})\n",
    "df_servers=df_servers.merge(server_rules, left_on='Dst_IP', right_on='IP', how='left')\n",
    "df_servers=df_servers.rename(columns={'serverid': 'Dst_Server'})\n",
    "df_servers=df_servers.drop(['IP_x', 'IP_y'], axis=1)"
   ]
  },
  {
   "cell_type": "markdown",
   "metadata": {},
   "source": [
    "The percentage of matching pairs:"
   ]
  },
  {
   "cell_type": "code",
   "execution_count": null,
   "metadata": {},
   "outputs": [],
   "source": [
    "len(df_servers[df_servers['Src_Server']==df_servers['Dst_Server']])/len(df_servers)"
   ]
  },
  {
   "cell_type": "code",
   "execution_count": null,
   "metadata": {},
   "outputs": [],
   "source": []
  }
 ],
 "metadata": {
  "kernelspec": {
   "display_name": "Python [conda env:anaconda3]",
   "language": "python",
   "name": "conda-env-anaconda3-py"
  },
  "language_info": {
   "codemirror_mode": {
    "name": "ipython",
    "version": 3
   },
   "file_extension": ".py",
   "mimetype": "text/x-python",
   "name": "python",
   "nbconvert_exporter": "python",
   "pygments_lexer": "ipython3",
   "version": "3.6.4"
  }
 },
 "nbformat": 4,
 "nbformat_minor": 2
}
