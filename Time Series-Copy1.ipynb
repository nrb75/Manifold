{
 "cells": [
  {
   "cell_type": "markdown",
   "metadata": {},
   "source": [
    "Attempt to make forecasts on the frequency of each IP pair using facebook Prophet model adjusted with a hierarchical or \"grouped\" structure. We will treat each pair as a \"group\", but allow them all to inform eachother.\n"
   ]
  },
  {
   "cell_type": "markdown",
   "metadata": {},
   "source": [
    "Import data and transform it into correct time-series format.\n",
    "\n",
    "For our purposed to get a count or frequency of each pair, we need some timestep to group these data on. For simplicity we will use a 1-hr timestep."
   ]
  },
  {
   "cell_type": "code",
   "execution_count": 1,
   "metadata": {},
   "outputs": [],
   "source": [
    "import boto3\n",
    "import pandas as pd\n",
    "import numpy as np\n",
    "import matplotlib.pyplot as plt\n",
    "from io import BytesIO\n",
    "from mlxtend.preprocessing import TransactionEncoder\n",
    "import random\n",
    "from fbprophet import Prophet\n",
    "import htsprophet\n",
    "from htsprophet.hts import hts, orderHier, makeWeekly\n",
    "from htsprophet.htsPlot import plotNode, plotChild, plotNodeComponents"
   ]
  },
  {
   "cell_type": "code",
   "execution_count": 2,
   "metadata": {},
   "outputs": [
    {
     "name": "stderr",
     "output_type": "stream",
     "text": [
      "INFO:botocore.credentials:Found credentials in shared credentials file: ~/.aws/credentials\n",
      "/home/ubuntu/anaconda3/lib/python3.6/site-packages/IPython/core/interactiveshell.py:2785: DtypeWarning: Columns (8) have mixed types. Specify dtype option on import or set low_memory=False.\n",
      "  interactivity=interactivity, compiler=compiler, result=result)\n"
     ]
    }
   ],
   "source": [
    "#load data\n",
    "\n",
    "client = boto3.client('s3')\n",
    "obj = client.get_object(Bucket='manifolddata', Key='week1.csv')\n",
    "df = pd.read_csv(BytesIO(obj['Body'].read()))\n"
   ]
  },
  {
   "cell_type": "code",
   "execution_count": 3,
   "metadata": {},
   "outputs": [],
   "source": [
    "df=df.iloc[:,[0,1,3,4,5,6,7,8]]\n",
    "df.columns=['Date', 'Duration', 'Src_IP', 'Src_pt', 'Dst_IP', 'Dst_pt','Packets', 'Bytes']\n",
    "#add an date column that is rounded to nearest hour, so we can use this as a timestep to see how frequently IP pairs occur in each timestep\n",
    "df['Date']=pd.to_datetime(df['Date'], format=\"%Y-%m-%d %H:%M:%S.%f\", errors = 'coerce')\n",
    "df['date_hr']=pd.Series(df['Date']).dt.round(\"H\")\n",
    "#create a pair column, which is a touple of the src and dst IP, sorted. \n",
    "#It does not matter which call came first, we simply want to know which pair occurs most frequently.\n",
    "\n",
    "df['pairs']=list(zip(df.Src_IP, df.Dst_IP))\n",
    "df['pairs']=df['pairs'].apply(sorted)\n",
    "df['pairs2']=tuple(df['pairs'])\n"
   ]
  },
  {
   "cell_type": "code",
   "execution_count": 4,
   "metadata": {},
   "outputs": [],
   "source": [
    "def convert_si_to_number(x):\n",
    "    total_stars = 0\n",
    "    if 'k' in x:\n",
    "        if len(x) > 1:\n",
    "            total_stars = float(x.replace('k', '')) * 1000 # convert k to a thousand\n",
    "    elif 'M' in x:\n",
    "        if len(x) > 1:\n",
    "            total_stars = float(x.replace('M', '')) * 1000000 # convert M to a million\n",
    "    elif 'B' in x:\n",
    "        total_stars = float(x.replace('B', '')) * 1000000000 # convert B to a Billion\n",
    "    else:\n",
    "        total_stars = int(x) # Less than 1000\n",
    "    \n",
    "    return int(total_stars)"
   ]
  },
  {
   "cell_type": "code",
   "execution_count": 5,
   "metadata": {},
   "outputs": [],
   "source": [
    "df.Bytes=df.Bytes.astype('str')\n",
    "test_list=df.Bytes\n",
    "\n",
    "#[i for i, s in enumerate(test_list) if 'M' in s]#show where the M errors are happening\n",
    "\n",
    "test_list= [convert_si_to_number(x) for x in test_list]\n",
    "df.Bytes=test_list #bring it back into the dataframe"
   ]
  },
  {
   "cell_type": "code",
   "execution_count": 19,
   "metadata": {},
   "outputs": [
    {
     "data": {
      "text/html": [
       "<div>\n",
       "<style scoped>\n",
       "    .dataframe tbody tr th:only-of-type {\n",
       "        vertical-align: middle;\n",
       "    }\n",
       "\n",
       "    .dataframe tbody tr th {\n",
       "        vertical-align: top;\n",
       "    }\n",
       "\n",
       "    .dataframe thead th {\n",
       "        text-align: right;\n",
       "    }\n",
       "</style>\n",
       "<table border=\"1\" class=\"dataframe\">\n",
       "  <thead>\n",
       "    <tr style=\"text-align: right;\">\n",
       "      <th></th>\n",
       "      <th>date_hr</th>\n",
       "      <th>pairs2</th>\n",
       "      <th>frequency</th>\n",
       "    </tr>\n",
       "  </thead>\n",
       "  <tbody>\n",
       "    <tr>\n",
       "      <th>0</th>\n",
       "      <td>2017-08-02</td>\n",
       "      <td>('10000_34', '192.168.210.54')</td>\n",
       "      <td>6</td>\n",
       "    </tr>\n",
       "    <tr>\n",
       "      <th>1</th>\n",
       "      <td>2017-08-02</td>\n",
       "      <td>('10001_213', '192.168.210.54')</td>\n",
       "      <td>53</td>\n",
       "    </tr>\n",
       "    <tr>\n",
       "      <th>2</th>\n",
       "      <td>2017-08-02</td>\n",
       "      <td>('10002_162', '192.168.210.57')</td>\n",
       "      <td>10</td>\n",
       "    </tr>\n",
       "    <tr>\n",
       "      <th>3</th>\n",
       "      <td>2017-08-02</td>\n",
       "      <td>('10002_174', '192.168.210.54')</td>\n",
       "      <td>20</td>\n",
       "    </tr>\n",
       "    <tr>\n",
       "      <th>4</th>\n",
       "      <td>2017-08-02</td>\n",
       "      <td>('10002_174', '192.168.210.57')</td>\n",
       "      <td>30</td>\n",
       "    </tr>\n",
       "  </tbody>\n",
       "</table>\n",
       "</div>"
      ],
      "text/plain": [
       "     date_hr                           pairs2  frequency\n",
       "0 2017-08-02   ('10000_34', '192.168.210.54')          6\n",
       "1 2017-08-02  ('10001_213', '192.168.210.54')         53\n",
       "2 2017-08-02  ('10002_162', '192.168.210.57')         10\n",
       "3 2017-08-02  ('10002_174', '192.168.210.54')         20\n",
       "4 2017-08-02  ('10002_174', '192.168.210.57')         30"
      ]
     },
     "execution_count": 19,
     "metadata": {},
     "output_type": "execute_result"
    }
   ],
   "source": [
    "#Group the data by hour timestep and get a frequency of occurance for each pair\n",
    "\n",
    "hr_group=df.groupby(['date_hr', 'pairs2'],as_index=False)['Date'].count()\n",
    "hr_group.pairs2=hr_group.pairs2.astype(str) #need to convert tuple to string for hts function\n",
    "hr_group=hr_group.rename(columns={'Date':'frequency'})\n",
    "hr_group.head() #the pairs2 column is our 'group'"
   ]
  },
  {
   "cell_type": "code",
   "execution_count": 35,
   "metadata": {},
   "outputs": [
    {
     "data": {
      "text/plain": [
       "44751"
      ]
     },
     "execution_count": 35,
     "metadata": {},
     "output_type": "execute_result"
    }
   ],
   "source": [
    "hr_group.pairs2.nunique()"
   ]
  },
  {
   "cell_type": "code",
   "execution_count": 20,
   "metadata": {},
   "outputs": [],
   "source": [
    "hr_group2=hr_group[0:2000]"
   ]
  },
  {
   "cell_type": "code",
   "execution_count": 37,
   "metadata": {},
   "outputs": [],
   "source": [
    "#tell prophet what is our grouping variable\n",
    "data2, nodes = orderHier(hr_group2, 1)"
   ]
  },
  {
   "cell_type": "code",
   "execution_count": 53,
   "metadata": {},
   "outputs": [
    {
     "data": {
      "text/plain": [
       "1217"
      ]
     },
     "execution_count": 53,
     "metadata": {},
     "output_type": "execute_result"
    }
   ],
   "source": [
    "len(data2.columns)"
   ]
  },
  {
   "cell_type": "code",
   "execution_count": 38,
   "metadata": {},
   "outputs": [
    {
     "data": {
      "text/plain": [
       "[[120]]"
      ]
     },
     "execution_count": 38,
     "metadata": {},
     "output_type": "execute_result"
    }
   ],
   "source": [
    "nodes"
   ]
  },
  {
   "cell_type": "code",
   "execution_count": 54,
   "metadata": {},
   "outputs": [
    {
     "data": {
      "text/plain": [
       "1215"
      ]
     },
     "execution_count": 54,
     "metadata": {},
     "output_type": "execute_result"
    }
   ],
   "source": [
    "node1=np.repeat(1, 1215)\n",
    "sum(node1)"
   ]
  },
  {
   "cell_type": "code",
   "execution_count": null,
   "metadata": {},
   "outputs": [],
   "source": [
    "Prophet(growth=growth, changepoints=changepoints1, n_changepoints=n_changepoints1, yearly_seasonality=yearly_seasonality, weekly_seasonality=weekly_seasonality, holidays=holidays, seasonality_prior_scale=seasonality_prior_scale, \\\n",
    "                            holidays_prior_scale=holidays_prior_scale, changepoint_prior_scale=changepoint_prior_scale, mcmc_samples=mcmc_samples, interval_width=interval_width, uncertainty_samples=uncertainty_samples)"
   ]
  },
  {
   "cell_type": "code",
   "execution_count": null,
   "metadata": {},
   "outputs": [],
   "source": []
  },
  {
   "cell_type": "code",
   "execution_count": 61,
   "metadata": {},
   "outputs": [
    {
     "ename": "ValueError",
     "evalue": "holidays must be a DataFrame with 'ds' and 'holiday' columns.",
     "output_type": "error",
     "traceback": [
      "\u001b[0;31m---------------------------------------------------------------------------\u001b[0m",
      "\u001b[0;31mValueError\u001b[0m                                Traceback (most recent call last)",
      "\u001b[0;32m<ipython-input-61-3a7ab9cb1f47>\u001b[0m in \u001b[0;36m<module>\u001b[0;34m()\u001b[0m\n\u001b[1;32m      1\u001b[0m \u001b[0;31m#run time series model\u001b[0m\u001b[0;34m\u001b[0m\u001b[0;34m\u001b[0m\u001b[0m\n\u001b[1;32m      2\u001b[0m \u001b[0;31m#myDict = hts(data2, 52, nodes, holidays = holidays, method = \"FP\", transform = \"BoxCox\")\u001b[0m\u001b[0;34m\u001b[0m\u001b[0;34m\u001b[0m\u001b[0m\n\u001b[0;32m----> 3\u001b[0;31m \u001b[0mmyDict\u001b[0m \u001b[0;34m=\u001b[0m \u001b[0mhts\u001b[0m\u001b[0;34m(\u001b[0m\u001b[0mdata2\u001b[0m\u001b[0;34m,\u001b[0m\u001b[0;36m1\u001b[0m\u001b[0;34m,\u001b[0m \u001b[0mnodes\u001b[0m\u001b[0;34m=\u001b[0m\u001b[0;34m[\u001b[0m\u001b[0;34m[\u001b[0m\u001b[0;36m1215\u001b[0m\u001b[0;34m]\u001b[0m\u001b[0;34m]\u001b[0m\u001b[0;34m,\u001b[0m \u001b[0mfreq\u001b[0m\u001b[0;34m=\u001b[0m\u001b[0;34m'H'\u001b[0m\u001b[0;34m,\u001b[0m \u001b[0mholidays\u001b[0m \u001b[0;34m=\u001b[0m \u001b[0;32mNone\u001b[0m\u001b[0;34m)\u001b[0m\u001b[0;34m\u001b[0m\u001b[0m\n\u001b[0m\u001b[1;32m      4\u001b[0m \u001b[0;34m\u001b[0m\u001b[0m\n\u001b[1;32m      5\u001b[0m \u001b[0;34m\u001b[0m\u001b[0m\n",
      "\u001b[0;32m~/anaconda3/lib/python3.6/site-packages/htsprophet/hts.py\u001b[0m in \u001b[0;36mhts\u001b[0;34m(y, h, nodes, method, freq, transform, include_history, cap, capF, changepoints, n_changepoints, yearly_seasonality, weekly_seasonality, holidays, seasonality_prior_scale, holidays_prior_scale, changepoint_prior_scale, mcmc_samples, interval_width, uncertainty_samples, skipFitting, numThreads)\u001b[0m\n\u001b[1;32m    270\u001b[0m         ynew = fitForecast(y, h, sumMat, nodes, method, freq, include_history, cap, capF, changepoints, n_changepoints, \\\n\u001b[1;32m    271\u001b[0m                            \u001b[0myearly_seasonality\u001b[0m\u001b[0;34m,\u001b[0m \u001b[0mweekly_seasonality\u001b[0m\u001b[0;34m,\u001b[0m \u001b[0mholidays\u001b[0m\u001b[0;34m,\u001b[0m \u001b[0mseasonality_prior_scale\u001b[0m\u001b[0;34m,\u001b[0m \u001b[0mholidays_prior_scale\u001b[0m\u001b[0;34m,\u001b[0m\u001b[0;31m\\\u001b[0m\u001b[0;34m\u001b[0m\u001b[0m\n\u001b[0;32m--> 272\u001b[0;31m                            changepoint_prior_scale, mcmc_samples, interval_width, uncertainty_samples, boxcoxT, skipFitting)\n\u001b[0m\u001b[1;32m    273\u001b[0m     \u001b[0;31m##\u001b[0m\u001b[0;34m\u001b[0m\u001b[0;34m\u001b[0m\u001b[0m\n\u001b[1;32m    274\u001b[0m     \u001b[0;31m# Inverse boxcox the data\u001b[0m\u001b[0;34m\u001b[0m\u001b[0;34m\u001b[0m\u001b[0m\n",
      "\u001b[0;32m~/anaconda3/lib/python3.6/site-packages/htsprophet/fitForecast.py\u001b[0m in \u001b[0;36mfitForecast\u001b[0;34m(y, h, sumMat, nodes, method, freq, include_history, cap, capF, changepoints, n_changepoints, yearly_seasonality, weekly_seasonality, holidays, seasonality_prior_scale, holidays_prior_scale, changepoint_prior_scale, mcmc_samples, interval_width, uncertainty_samples, boxcoxT, skipFitting)\u001b[0m\n\u001b[1;32m     72\u001b[0m                     \u001b[0mgrowth\u001b[0m \u001b[0;34m=\u001b[0m \u001b[0;34m'linear'\u001b[0m\u001b[0;34m\u001b[0m\u001b[0m\n\u001b[1;32m     73\u001b[0m                     m = Prophet(growth, changepoints1, n_changepoints1, yearly_seasonality, weekly_seasonality, holidays, seasonality_prior_scale, \\\n\u001b[0;32m---> 74\u001b[0;31m                                 holidays_prior_scale, changepoint_prior_scale, mcmc_samples, interval_width, uncertainty_samples)\n\u001b[0m\u001b[1;32m     75\u001b[0m                 \u001b[0;32melse\u001b[0m\u001b[0;34m:\u001b[0m\u001b[0;34m\u001b[0m\u001b[0m\n\u001b[1;32m     76\u001b[0m                     \u001b[0mgrowth\u001b[0m \u001b[0;34m=\u001b[0m \u001b[0;34m'logistic'\u001b[0m\u001b[0;34m\u001b[0m\u001b[0m\n",
      "\u001b[0;32m~/anaconda3/lib/python3.6/site-packages/fbprophet/forecaster.py\u001b[0m in \u001b[0;36m__init__\u001b[0;34m(self, growth, changepoints, n_changepoints, changepoint_range, yearly_seasonality, weekly_seasonality, daily_seasonality, holidays, seasonality_mode, seasonality_prior_scale, holidays_prior_scale, changepoint_prior_scale, mcmc_samples, interval_width, uncertainty_samples)\u001b[0m\n\u001b[1;32m    130\u001b[0m                 \u001b[0;32mand\u001b[0m \u001b[0;34m'holiday'\u001b[0m \u001b[0;32min\u001b[0m \u001b[0mholidays\u001b[0m  \u001b[0;31m# noqa W503\u001b[0m\u001b[0;34m\u001b[0m\u001b[0m\n\u001b[1;32m    131\u001b[0m             ):\n\u001b[0;32m--> 132\u001b[0;31m                 raise ValueError(\"holidays must be a DataFrame with 'ds' and \"\n\u001b[0m\u001b[1;32m    133\u001b[0m                                  \"'holiday' columns.\")\n\u001b[1;32m    134\u001b[0m             \u001b[0mholidays\u001b[0m\u001b[0;34m[\u001b[0m\u001b[0;34m'ds'\u001b[0m\u001b[0;34m]\u001b[0m \u001b[0;34m=\u001b[0m \u001b[0mpd\u001b[0m\u001b[0;34m.\u001b[0m\u001b[0mto_datetime\u001b[0m\u001b[0;34m(\u001b[0m\u001b[0mholidays\u001b[0m\u001b[0;34m[\u001b[0m\u001b[0;34m'ds'\u001b[0m\u001b[0;34m]\u001b[0m\u001b[0;34m)\u001b[0m\u001b[0;34m\u001b[0m\u001b[0m\n",
      "\u001b[0;31mValueError\u001b[0m: holidays must be a DataFrame with 'ds' and 'holiday' columns."
     ]
    }
   ],
   "source": [
    "#run time series model\n",
    "#myDict = hts(data2, 52, nodes, holidays = holidays, method = \"FP\", transform = \"BoxCox\")\n",
    "myDict = hts(data2,1, nodes=[[1215]], freq='H', holidays = None) \n",
    "\n",
    "\n",
    "#the default mehthod\n",
    "#OLS\" - optimal combination by Original Least Squares (Default), "
   ]
  },
  {
   "cell_type": "code",
   "execution_count": null,
   "metadata": {},
   "outputs": [],
   "source": [
    "\n",
    "\n"
   ]
  },
  {
   "cell_type": "code",
   "execution_count": 15,
   "metadata": {},
   "outputs": [],
   "source": [
    "#%% Random data (Change this to whatever data you want)\n",
    "date = pd.date_range(\"2015-04-02\", \"2017-07-17\")\n",
    "date = np.repeat(date, 10)\n",
    "medium = [\"Air\", \"Land\", \"Sea\"]\n",
    "businessMarket = [\"Birmingham\",\"Auburn\",\"Evanston\"]\n",
    "platform = [\"Stone Tablet\",\"Car Phone\"]\n",
    "mediumDat = np.random.choice(medium, len(date))\n",
    "busDat = np.random.choice(businessMarket, len(date))\n",
    "platDat = np.random.choice(platform, len(date))\n",
    "sessions = np.random.randint(1000,10000,size=(len(date),1))\n",
    "data = pd.DataFrame(date, columns = [\"day\"])\n",
    "data[\"medium\"] = mediumDat\n",
    "data[\"platform\"] = platDat\n",
    "data[\"businessMarket\"] = busDat\n",
    "data[\"sessions\"] = sessions"
   ]
  },
  {
   "cell_type": "code",
   "execution_count": 16,
   "metadata": {},
   "outputs": [
    {
     "data": {
      "text/html": [
       "<div>\n",
       "<style scoped>\n",
       "    .dataframe tbody tr th:only-of-type {\n",
       "        vertical-align: middle;\n",
       "    }\n",
       "\n",
       "    .dataframe tbody tr th {\n",
       "        vertical-align: top;\n",
       "    }\n",
       "\n",
       "    .dataframe thead th {\n",
       "        text-align: right;\n",
       "    }\n",
       "</style>\n",
       "<table border=\"1\" class=\"dataframe\">\n",
       "  <thead>\n",
       "    <tr style=\"text-align: right;\">\n",
       "      <th></th>\n",
       "      <th>day</th>\n",
       "      <th>medium</th>\n",
       "      <th>platform</th>\n",
       "      <th>businessMarket</th>\n",
       "      <th>sessions</th>\n",
       "    </tr>\n",
       "  </thead>\n",
       "  <tbody>\n",
       "    <tr>\n",
       "      <th>0</th>\n",
       "      <td>2015-04-02</td>\n",
       "      <td>Land</td>\n",
       "      <td>Stone Tablet</td>\n",
       "      <td>Evanston</td>\n",
       "      <td>4542</td>\n",
       "    </tr>\n",
       "    <tr>\n",
       "      <th>1</th>\n",
       "      <td>2015-04-02</td>\n",
       "      <td>Air</td>\n",
       "      <td>Stone Tablet</td>\n",
       "      <td>Auburn</td>\n",
       "      <td>4460</td>\n",
       "    </tr>\n",
       "    <tr>\n",
       "      <th>2</th>\n",
       "      <td>2015-04-02</td>\n",
       "      <td>Sea</td>\n",
       "      <td>Car Phone</td>\n",
       "      <td>Evanston</td>\n",
       "      <td>6009</td>\n",
       "    </tr>\n",
       "    <tr>\n",
       "      <th>3</th>\n",
       "      <td>2015-04-02</td>\n",
       "      <td>Sea</td>\n",
       "      <td>Stone Tablet</td>\n",
       "      <td>Birmingham</td>\n",
       "      <td>5908</td>\n",
       "    </tr>\n",
       "    <tr>\n",
       "      <th>4</th>\n",
       "      <td>2015-04-02</td>\n",
       "      <td>Air</td>\n",
       "      <td>Stone Tablet</td>\n",
       "      <td>Evanston</td>\n",
       "      <td>1472</td>\n",
       "    </tr>\n",
       "  </tbody>\n",
       "</table>\n",
       "</div>"
      ],
      "text/plain": [
       "         day medium      platform businessMarket  sessions\n",
       "0 2015-04-02   Land  Stone Tablet       Evanston      4542\n",
       "1 2015-04-02    Air  Stone Tablet         Auburn      4460\n",
       "2 2015-04-02    Sea     Car Phone       Evanston      6009\n",
       "3 2015-04-02    Sea  Stone Tablet     Birmingham      5908\n",
       "4 2015-04-02    Air  Stone Tablet       Evanston      1472"
      ]
     },
     "execution_count": 16,
     "metadata": {},
     "output_type": "execute_result"
    }
   ],
   "source": [
    "data.head()"
   ]
  },
  {
   "cell_type": "code",
   "execution_count": 28,
   "metadata": {},
   "outputs": [],
   "source": [
    "data1 = makeWeekly(data)\n",
    "##\n",
    "# Put the data in the format to run HTS, and get the nodes input (a list of list that describes the hierarchical structure)\n",
    "##\n",
    "data3, nodes3 = orderHier(data, 1, 2, 3)"
   ]
  },
  {
   "cell_type": "code",
   "execution_count": 34,
   "metadata": {},
   "outputs": [
    {
     "data": {
      "text/plain": [
       "[[3], [2, 2, 2], [3, 3, 3, 3, 3, 3]]"
      ]
     },
     "execution_count": 34,
     "metadata": {},
     "output_type": "execute_result"
    }
   ],
   "source": [
    "nodes3"
   ]
  },
  {
   "cell_type": "code",
   "execution_count": 30,
   "metadata": {},
   "outputs": [
    {
     "data": {
      "text/html": [
       "<div>\n",
       "<style scoped>\n",
       "    .dataframe tbody tr th:only-of-type {\n",
       "        vertical-align: middle;\n",
       "    }\n",
       "\n",
       "    .dataframe tbody tr th {\n",
       "        vertical-align: top;\n",
       "    }\n",
       "\n",
       "    .dataframe thead th {\n",
       "        text-align: right;\n",
       "    }\n",
       "</style>\n",
       "<table border=\"1\" class=\"dataframe\">\n",
       "  <thead>\n",
       "    <tr style=\"text-align: right;\">\n",
       "      <th></th>\n",
       "      <th>time</th>\n",
       "      <th>Total</th>\n",
       "      <th>Land</th>\n",
       "      <th>Air</th>\n",
       "      <th>Sea</th>\n",
       "      <th>Land_Stone Tablet</th>\n",
       "      <th>Land_Car Phone</th>\n",
       "      <th>Air_Stone Tablet</th>\n",
       "      <th>Air_Car Phone</th>\n",
       "      <th>Sea_Stone Tablet</th>\n",
       "      <th>...</th>\n",
       "      <th>Air_Stone Tablet_Birmingham</th>\n",
       "      <th>Air_Car Phone_Evanston</th>\n",
       "      <th>Air_Car Phone_Auburn</th>\n",
       "      <th>Air_Car Phone_Birmingham</th>\n",
       "      <th>Sea_Stone Tablet_Evanston</th>\n",
       "      <th>Sea_Stone Tablet_Auburn</th>\n",
       "      <th>Sea_Stone Tablet_Birmingham</th>\n",
       "      <th>Sea_Car Phone_Evanston</th>\n",
       "      <th>Sea_Car Phone_Auburn</th>\n",
       "      <th>Sea_Car Phone_Birmingham</th>\n",
       "    </tr>\n",
       "  </thead>\n",
       "  <tbody>\n",
       "    <tr>\n",
       "      <th>0</th>\n",
       "      <td>2015-04-02</td>\n",
       "      <td>51722</td>\n",
       "      <td>10065.0</td>\n",
       "      <td>12861.0</td>\n",
       "      <td>28796.0</td>\n",
       "      <td>4542.0</td>\n",
       "      <td>5523.0</td>\n",
       "      <td>5932.0</td>\n",
       "      <td>6929.0</td>\n",
       "      <td>5908.0</td>\n",
       "      <td>...</td>\n",
       "      <td>1.0</td>\n",
       "      <td>1.0</td>\n",
       "      <td>6929.0</td>\n",
       "      <td>1.0</td>\n",
       "      <td>1.0</td>\n",
       "      <td>1.0</td>\n",
       "      <td>5908.0</td>\n",
       "      <td>14210.0</td>\n",
       "      <td>8678.0</td>\n",
       "      <td>1.0</td>\n",
       "    </tr>\n",
       "    <tr>\n",
       "      <th>1</th>\n",
       "      <td>2015-04-03</td>\n",
       "      <td>63599</td>\n",
       "      <td>20020.0</td>\n",
       "      <td>23203.0</td>\n",
       "      <td>20376.0</td>\n",
       "      <td>7754.0</td>\n",
       "      <td>12266.0</td>\n",
       "      <td>8507.0</td>\n",
       "      <td>14696.0</td>\n",
       "      <td>8228.0</td>\n",
       "      <td>...</td>\n",
       "      <td>1.0</td>\n",
       "      <td>8560.0</td>\n",
       "      <td>1.0</td>\n",
       "      <td>6136.0</td>\n",
       "      <td>8228.0</td>\n",
       "      <td>1.0</td>\n",
       "      <td>1.0</td>\n",
       "      <td>1.0</td>\n",
       "      <td>7586.0</td>\n",
       "      <td>4562.0</td>\n",
       "    </tr>\n",
       "    <tr>\n",
       "      <th>2</th>\n",
       "      <td>2015-04-04</td>\n",
       "      <td>59830</td>\n",
       "      <td>19390.0</td>\n",
       "      <td>39071.0</td>\n",
       "      <td>1369.0</td>\n",
       "      <td>17043.0</td>\n",
       "      <td>2347.0</td>\n",
       "      <td>24928.0</td>\n",
       "      <td>14143.0</td>\n",
       "      <td>1369.0</td>\n",
       "      <td>...</td>\n",
       "      <td>10377.0</td>\n",
       "      <td>1.0</td>\n",
       "      <td>5865.0</td>\n",
       "      <td>8278.0</td>\n",
       "      <td>1369.0</td>\n",
       "      <td>1.0</td>\n",
       "      <td>1.0</td>\n",
       "      <td>1.0</td>\n",
       "      <td>1.0</td>\n",
       "      <td>1.0</td>\n",
       "    </tr>\n",
       "    <tr>\n",
       "      <th>3</th>\n",
       "      <td>2015-04-05</td>\n",
       "      <td>35307</td>\n",
       "      <td>12694.0</td>\n",
       "      <td>8772.0</td>\n",
       "      <td>13841.0</td>\n",
       "      <td>4160.0</td>\n",
       "      <td>8534.0</td>\n",
       "      <td>5319.0</td>\n",
       "      <td>3453.0</td>\n",
       "      <td>12075.0</td>\n",
       "      <td>...</td>\n",
       "      <td>2184.0</td>\n",
       "      <td>1.0</td>\n",
       "      <td>1.0</td>\n",
       "      <td>3453.0</td>\n",
       "      <td>1.0</td>\n",
       "      <td>12075.0</td>\n",
       "      <td>1.0</td>\n",
       "      <td>1766.0</td>\n",
       "      <td>1.0</td>\n",
       "      <td>1.0</td>\n",
       "    </tr>\n",
       "    <tr>\n",
       "      <th>4</th>\n",
       "      <td>2015-04-06</td>\n",
       "      <td>43560</td>\n",
       "      <td>20756.0</td>\n",
       "      <td>10114.0</td>\n",
       "      <td>12690.0</td>\n",
       "      <td>20756.0</td>\n",
       "      <td>1.0</td>\n",
       "      <td>10114.0</td>\n",
       "      <td>1.0</td>\n",
       "      <td>1.0</td>\n",
       "      <td>...</td>\n",
       "      <td>2107.0</td>\n",
       "      <td>1.0</td>\n",
       "      <td>1.0</td>\n",
       "      <td>1.0</td>\n",
       "      <td>1.0</td>\n",
       "      <td>1.0</td>\n",
       "      <td>1.0</td>\n",
       "      <td>1.0</td>\n",
       "      <td>12690.0</td>\n",
       "      <td>1.0</td>\n",
       "    </tr>\n",
       "  </tbody>\n",
       "</table>\n",
       "<p>5 rows × 29 columns</p>\n",
       "</div>"
      ],
      "text/plain": [
       "        time  Total     Land      Air      Sea  Land_Stone Tablet  \\\n",
       "0 2015-04-02  51722  10065.0  12861.0  28796.0             4542.0   \n",
       "1 2015-04-03  63599  20020.0  23203.0  20376.0             7754.0   \n",
       "2 2015-04-04  59830  19390.0  39071.0   1369.0            17043.0   \n",
       "3 2015-04-05  35307  12694.0   8772.0  13841.0             4160.0   \n",
       "4 2015-04-06  43560  20756.0  10114.0  12690.0            20756.0   \n",
       "\n",
       "   Land_Car Phone  Air_Stone Tablet  Air_Car Phone  Sea_Stone Tablet  \\\n",
       "0          5523.0            5932.0         6929.0            5908.0   \n",
       "1         12266.0            8507.0        14696.0            8228.0   \n",
       "2          2347.0           24928.0        14143.0            1369.0   \n",
       "3          8534.0            5319.0         3453.0           12075.0   \n",
       "4             1.0           10114.0            1.0               1.0   \n",
       "\n",
       "             ...             Air_Stone Tablet_Birmingham  \\\n",
       "0            ...                                     1.0   \n",
       "1            ...                                     1.0   \n",
       "2            ...                                 10377.0   \n",
       "3            ...                                  2184.0   \n",
       "4            ...                                  2107.0   \n",
       "\n",
       "   Air_Car Phone_Evanston  Air_Car Phone_Auburn  Air_Car Phone_Birmingham  \\\n",
       "0                     1.0                6929.0                       1.0   \n",
       "1                  8560.0                   1.0                    6136.0   \n",
       "2                     1.0                5865.0                    8278.0   \n",
       "3                     1.0                   1.0                    3453.0   \n",
       "4                     1.0                   1.0                       1.0   \n",
       "\n",
       "   Sea_Stone Tablet_Evanston  Sea_Stone Tablet_Auburn  \\\n",
       "0                        1.0                      1.0   \n",
       "1                     8228.0                      1.0   \n",
       "2                     1369.0                      1.0   \n",
       "3                        1.0                  12075.0   \n",
       "4                        1.0                      1.0   \n",
       "\n",
       "   Sea_Stone Tablet_Birmingham  Sea_Car Phone_Evanston  Sea_Car Phone_Auburn  \\\n",
       "0                       5908.0                 14210.0                8678.0   \n",
       "1                          1.0                     1.0                7586.0   \n",
       "2                          1.0                     1.0                   1.0   \n",
       "3                          1.0                  1766.0                   1.0   \n",
       "4                          1.0                     1.0               12690.0   \n",
       "\n",
       "   Sea_Car Phone_Birmingham  \n",
       "0                       1.0  \n",
       "1                    4562.0  \n",
       "2                       1.0  \n",
       "3                       1.0  \n",
       "4                       1.0  \n",
       "\n",
       "[5 rows x 29 columns]"
      ]
     },
     "execution_count": 30,
     "metadata": {},
     "output_type": "execute_result"
    }
   ],
   "source": [
    "data3.head()"
   ]
  },
  {
   "cell_type": "code",
   "execution_count": null,
   "metadata": {},
   "outputs": [],
   "source": []
  }
 ],
 "metadata": {
  "kernelspec": {
   "display_name": "Python [conda env:anaconda3]",
   "language": "python",
   "name": "conda-env-anaconda3-py"
  },
  "language_info": {
   "codemirror_mode": {
    "name": "ipython",
    "version": 3
   },
   "file_extension": ".py",
   "mimetype": "text/x-python",
   "name": "python",
   "nbconvert_exporter": "python",
   "pygments_lexer": "ipython3",
   "version": "3.6.4"
  }
 },
 "nbformat": 4,
 "nbformat_minor": 2
}
