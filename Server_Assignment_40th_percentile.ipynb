{
 "cells": [
  {
   "cell_type": "markdown",
   "metadata": {},
   "source": [
    "After running the notebook to generate the FP-Growth Rules, and the server assignments based on number of servers and ensuring IP pairs are placed on the same server to the extent possible.\n",
    "\n",
    "We now go back to our origninal dataframe, and add 2 new columns: Src_server and Dst_server, which explicately states where that IP address (or app) should have been scheduled if all other resources were available.\n",
    "\n",
    "The number of apps per server is set int he 'Rules' notebook. In this instance we assume 20 apps/server."
   ]
  },
  {
   "cell_type": "code",
   "execution_count": 1,
   "metadata": {},
   "outputs": [],
   "source": [
    "import boto3\n",
    "import pandas as pd\n",
    "import numpy as np\n",
    "import matplotlib.pyplot as plt\n",
    "from io import BytesIO\n",
    "from mlxtend.preprocessing import TransactionEncoder\n",
    "import random\n",
    "from mlxtend.frequent_patterns import apriori\n",
    "import pyfpgrowth\n",
    "#from apyori import apriori "
   ]
  },
  {
   "cell_type": "code",
   "execution_count": 2,
   "metadata": {},
   "outputs": [
    {
     "name": "stderr",
     "output_type": "stream",
     "text": [
      "/home/ubuntu/anaconda3/lib/python3.6/site-packages/IPython/core/interactiveshell.py:2785: DtypeWarning: Columns (8) have mixed types. Specify dtype option on import or set low_memory=False.\n",
      "  interactivity=interactivity, compiler=compiler, result=result)\n"
     ]
    }
   ],
   "source": [
    "#load data\n",
    "\n",
    "client = boto3.client('s3')\n",
    "obj = client.get_object(Bucket='manifolddata', Key='week1.csv')\n",
    "df = pd.read_csv(BytesIO(obj['Body'].read()))\n",
    "\n",
    "df=df.iloc[:,[0,1,3,4,5,6,7,8]]\n",
    "df.columns=['Date', 'Duration', 'Src_IP', 'Src_pt', 'Dst_IP', 'Dst_pt','Packets', 'Bytes']\n",
    "#add an date column that is rounded to nearest hour, so we can use this as a timestep to see how frequently IP pairs occur in each timestep\n",
    "df['Date']=pd.to_datetime(df['Date'], format=\"%Y-%m-%d %H:%M:%S.%f\", errors = 'coerce')\n",
    "df['date_hr']=pd.Series(df['Date']).dt.round(\"H\")\n",
    "\n",
    "df['pairs']=list(zip(df.Src_IP, df.Dst_IP))\n",
    "df['pairs']=df['pairs'].apply(sorted)\n",
    "df['pairs2']=tuple(df['pairs'])\n",
    "df['norm_latency']=df['Duration']/df['Packets']"
   ]
  },
  {
   "cell_type": "code",
   "execution_count": 3,
   "metadata": {},
   "outputs": [],
   "source": [
    "def convert_si_to_number(x):\n",
    "    total_stars = 0\n",
    "    if 'k' in x:\n",
    "        if len(x) > 1:\n",
    "            total_stars = float(x.replace('k', '')) * 1000 # convert k to a thousand\n",
    "    elif 'M' in x:\n",
    "        if len(x) > 1:\n",
    "            total_stars = float(x.replace('M', '')) * 1000000 # convert M to a million\n",
    "    elif 'B' in x:\n",
    "        total_stars = float(x.replace('B', '')) * 1000000000 # convert B to a Billion\n",
    "    else:\n",
    "        total_stars = int(x) # Less than 1000\n",
    "    \n",
    "    return int(total_stars)"
   ]
  },
  {
   "cell_type": "code",
   "execution_count": 4,
   "metadata": {},
   "outputs": [],
   "source": [
    "df.Bytes=df.Bytes.astype('str')\n",
    "test_list=df.Bytes\n",
    "\n",
    "#[i for i, s in enumerate(test_list) if 'M' in s]#show where the M errors are happening\n",
    "\n",
    "test_list= [convert_si_to_number(x) for x in test_list]\n",
    "df.Bytes=test_list #bring it back into the dataframe"
   ]
  },
  {
   "cell_type": "code",
   "execution_count": 5,
   "metadata": {},
   "outputs": [],
   "source": [
    "#load in the server assignment dataframe\n",
    "\n",
    "server_rules=pd.read_csv('server_rules40.csv')\n",
    "#these are note in a particular oder, simply sorted by IP address. However, the most important rules are associated with the lower server ids.\n",
    "#a IP was assigned to the first server based on it's priorety, so server 0 had the top important IPs."
   ]
  },
  {
   "cell_type": "code",
   "execution_count": 6,
   "metadata": {},
   "outputs": [
    {
     "data": {
      "text/html": [
       "<div>\n",
       "<style scoped>\n",
       "    .dataframe tbody tr th:only-of-type {\n",
       "        vertical-align: middle;\n",
       "    }\n",
       "\n",
       "    .dataframe tbody tr th {\n",
       "        vertical-align: top;\n",
       "    }\n",
       "\n",
       "    .dataframe thead th {\n",
       "        text-align: right;\n",
       "    }\n",
       "</style>\n",
       "<table border=\"1\" class=\"dataframe\">\n",
       "  <thead>\n",
       "    <tr style=\"text-align: right;\">\n",
       "      <th></th>\n",
       "      <th>Unnamed: 0</th>\n",
       "      <th>IP</th>\n",
       "      <th>serverid</th>\n",
       "    </tr>\n",
       "  </thead>\n",
       "  <tbody>\n",
       "    <tr>\n",
       "      <th>0</th>\n",
       "      <td>0.0.0.0</td>\n",
       "      <td>0.0.0.0</td>\n",
       "      <td>25.0</td>\n",
       "    </tr>\n",
       "    <tr>\n",
       "      <th>1</th>\n",
       "      <td>10001_210</td>\n",
       "      <td>10001_210</td>\n",
       "      <td>36.0</td>\n",
       "    </tr>\n",
       "    <tr>\n",
       "      <th>2</th>\n",
       "      <td>10002_13</td>\n",
       "      <td>10002_13</td>\n",
       "      <td>69.0</td>\n",
       "    </tr>\n",
       "    <tr>\n",
       "      <th>3</th>\n",
       "      <td>10002_131</td>\n",
       "      <td>10002_131</td>\n",
       "      <td>83.0</td>\n",
       "    </tr>\n",
       "    <tr>\n",
       "      <th>4</th>\n",
       "      <td>10003_106</td>\n",
       "      <td>10003_106</td>\n",
       "      <td>7.0</td>\n",
       "    </tr>\n",
       "  </tbody>\n",
       "</table>\n",
       "</div>"
      ],
      "text/plain": [
       "  Unnamed: 0         IP  serverid\n",
       "0    0.0.0.0    0.0.0.0      25.0\n",
       "1  10001_210  10001_210      36.0\n",
       "2   10002_13   10002_13      69.0\n",
       "3  10002_131  10002_131      83.0\n",
       "4  10003_106  10003_106       7.0"
      ]
     },
     "execution_count": 6,
     "metadata": {},
     "output_type": "execute_result"
    }
   ],
   "source": [
    "server_rules.head()"
   ]
  },
  {
   "cell_type": "code",
   "execution_count": 6,
   "metadata": {},
   "outputs": [],
   "source": [
    "#merge in the serverid\n",
    "\n",
    "df_servers=df.merge(server_rules.iloc[:,1:3], left_on='Src_IP', right_on='IP', how='left')\n",
    "df_servers=df_servers.rename(columns={'serverid': 'Src_Server'})"
   ]
  },
  {
   "cell_type": "code",
   "execution_count": 7,
   "metadata": {},
   "outputs": [],
   "source": [
    "df_servers=df_servers.merge(server_rules.iloc[:,1:3], left_on='Dst_IP', right_on='IP', how='left')\n",
    "df_servers=df_servers.rename(columns={'serverid': 'Dst_Server'})\n",
    "df_servers=df_servers.drop(['IP_x', 'IP_y'], axis=1)"
   ]
  },
  {
   "cell_type": "code",
   "execution_count": 8,
   "metadata": {},
   "outputs": [
    {
     "data": {
      "text/html": [
       "<div>\n",
       "<style scoped>\n",
       "    .dataframe tbody tr th:only-of-type {\n",
       "        vertical-align: middle;\n",
       "    }\n",
       "\n",
       "    .dataframe tbody tr th {\n",
       "        vertical-align: top;\n",
       "    }\n",
       "\n",
       "    .dataframe thead th {\n",
       "        text-align: right;\n",
       "    }\n",
       "</style>\n",
       "<table border=\"1\" class=\"dataframe\">\n",
       "  <thead>\n",
       "    <tr style=\"text-align: right;\">\n",
       "      <th></th>\n",
       "      <th>Date</th>\n",
       "      <th>Duration</th>\n",
       "      <th>Src_IP</th>\n",
       "      <th>Src_pt</th>\n",
       "      <th>Dst_IP</th>\n",
       "      <th>Dst_pt</th>\n",
       "      <th>Packets</th>\n",
       "      <th>Bytes</th>\n",
       "      <th>date_hr</th>\n",
       "      <th>pairs</th>\n",
       "      <th>pairs2</th>\n",
       "      <th>norm_latency</th>\n",
       "      <th>Src_Server</th>\n",
       "      <th>Dst_Server</th>\n",
       "    </tr>\n",
       "  </thead>\n",
       "  <tbody>\n",
       "    <tr>\n",
       "      <th>1490</th>\n",
       "      <td>2017-08-02 00:23:54.113</td>\n",
       "      <td>0.997</td>\n",
       "      <td>192.168.100.20</td>\n",
       "      <td>59883</td>\n",
       "      <td>10011_132</td>\n",
       "      <td>25.0</td>\n",
       "      <td>2</td>\n",
       "      <td>148</td>\n",
       "      <td>2017-08-02 00:00:00</td>\n",
       "      <td>[10011_132, 192.168.100.20]</td>\n",
       "      <td>(10011_132, 192.168.100.20)</td>\n",
       "      <td>0.4985</td>\n",
       "      <td>1.0</td>\n",
       "      <td>1.0</td>\n",
       "    </tr>\n",
       "    <tr>\n",
       "      <th>1497</th>\n",
       "      <td>2017-08-02 00:23:57.115</td>\n",
       "      <td>0.000</td>\n",
       "      <td>192.168.100.20</td>\n",
       "      <td>59883</td>\n",
       "      <td>10011_132</td>\n",
       "      <td>25.0</td>\n",
       "      <td>1</td>\n",
       "      <td>74</td>\n",
       "      <td>2017-08-02 00:00:00</td>\n",
       "      <td>[10011_132, 192.168.100.20]</td>\n",
       "      <td>(10011_132, 192.168.100.20)</td>\n",
       "      <td>0.0000</td>\n",
       "      <td>1.0</td>\n",
       "      <td>1.0</td>\n",
       "    </tr>\n",
       "    <tr>\n",
       "      <th>1727</th>\n",
       "      <td>2017-08-02 00:28:54.340</td>\n",
       "      <td>0.998</td>\n",
       "      <td>192.168.100.20</td>\n",
       "      <td>59886</td>\n",
       "      <td>10011_132</td>\n",
       "      <td>25.0</td>\n",
       "      <td>2</td>\n",
       "      <td>148</td>\n",
       "      <td>2017-08-02 00:00:00</td>\n",
       "      <td>[10011_132, 192.168.100.20]</td>\n",
       "      <td>(10011_132, 192.168.100.20)</td>\n",
       "      <td>0.4990</td>\n",
       "      <td>1.0</td>\n",
       "      <td>1.0</td>\n",
       "    </tr>\n",
       "    <tr>\n",
       "      <th>1736</th>\n",
       "      <td>2017-08-02 00:28:57.342</td>\n",
       "      <td>0.000</td>\n",
       "      <td>192.168.100.20</td>\n",
       "      <td>59886</td>\n",
       "      <td>10011_132</td>\n",
       "      <td>25.0</td>\n",
       "      <td>1</td>\n",
       "      <td>74</td>\n",
       "      <td>2017-08-02 00:00:00</td>\n",
       "      <td>[10011_132, 192.168.100.20]</td>\n",
       "      <td>(10011_132, 192.168.100.20)</td>\n",
       "      <td>0.0000</td>\n",
       "      <td>1.0</td>\n",
       "      <td>1.0</td>\n",
       "    </tr>\n",
       "    <tr>\n",
       "      <th>3035</th>\n",
       "      <td>2017-08-02 00:58:53.915</td>\n",
       "      <td>0.999</td>\n",
       "      <td>192.168.100.20</td>\n",
       "      <td>59891</td>\n",
       "      <td>10011_132</td>\n",
       "      <td>25.0</td>\n",
       "      <td>2</td>\n",
       "      <td>148</td>\n",
       "      <td>2017-08-02 01:00:00</td>\n",
       "      <td>[10011_132, 192.168.100.20]</td>\n",
       "      <td>(10011_132, 192.168.100.20)</td>\n",
       "      <td>0.4995</td>\n",
       "      <td>1.0</td>\n",
       "      <td>1.0</td>\n",
       "    </tr>\n",
       "  </tbody>\n",
       "</table>\n",
       "</div>"
      ],
      "text/plain": [
       "                        Date  Duration          Src_IP  Src_pt     Dst_IP  \\\n",
       "1490 2017-08-02 00:23:54.113     0.997  192.168.100.20   59883  10011_132   \n",
       "1497 2017-08-02 00:23:57.115     0.000  192.168.100.20   59883  10011_132   \n",
       "1727 2017-08-02 00:28:54.340     0.998  192.168.100.20   59886  10011_132   \n",
       "1736 2017-08-02 00:28:57.342     0.000  192.168.100.20   59886  10011_132   \n",
       "3035 2017-08-02 00:58:53.915     0.999  192.168.100.20   59891  10011_132   \n",
       "\n",
       "      Dst_pt  Packets  Bytes             date_hr                        pairs  \\\n",
       "1490    25.0        2    148 2017-08-02 00:00:00  [10011_132, 192.168.100.20]   \n",
       "1497    25.0        1     74 2017-08-02 00:00:00  [10011_132, 192.168.100.20]   \n",
       "1727    25.0        2    148 2017-08-02 00:00:00  [10011_132, 192.168.100.20]   \n",
       "1736    25.0        1     74 2017-08-02 00:00:00  [10011_132, 192.168.100.20]   \n",
       "3035    25.0        2    148 2017-08-02 01:00:00  [10011_132, 192.168.100.20]   \n",
       "\n",
       "                           pairs2  norm_latency  Src_Server  Dst_Server  \n",
       "1490  (10011_132, 192.168.100.20)        0.4985         1.0         1.0  \n",
       "1497  (10011_132, 192.168.100.20)        0.0000         1.0         1.0  \n",
       "1727  (10011_132, 192.168.100.20)        0.4990         1.0         1.0  \n",
       "1736  (10011_132, 192.168.100.20)        0.0000         1.0         1.0  \n",
       "3035  (10011_132, 192.168.100.20)        0.4995         1.0         1.0  "
      ]
     },
     "execution_count": 8,
     "metadata": {},
     "output_type": "execute_result"
    }
   ],
   "source": [
    "#check to see if we get any pairs\n",
    "df_servers[df_servers['Src_Server']==df_servers['Dst_Server']].head()"
   ]
  },
  {
   "cell_type": "markdown",
   "metadata": {},
   "source": [
    "Great, at least we get some pairs. The percentage of matching pairs from the dataset is:\n"
   ]
  },
  {
   "cell_type": "code",
   "execution_count": 10,
   "metadata": {},
   "outputs": [
    {
     "data": {
      "text/plain": [
       "0.015293931389134024"
      ]
     },
     "execution_count": 10,
     "metadata": {},
     "output_type": "execute_result"
    }
   ],
   "source": [
    "len(df_servers[df_servers['Src_Server']==df_servers['Dst_Server']])/len(df_servers)"
   ]
  },
  {
   "cell_type": "markdown",
   "metadata": {},
   "source": [
    "This is not a big percentage, but makes sense because we only made rules for some of the IP pairs that were most critical.\n",
    "Now, let's go through and change all the durations where we get a matching server pair to be time =0, this assumes they are on the same machine and latency is 0."
   ]
  },
  {
   "cell_type": "code",
   "execution_count": 11,
   "metadata": {},
   "outputs": [
    {
     "name": "stderr",
     "output_type": "stream",
     "text": [
      "/home/ubuntu/anaconda3/lib/python3.6/site-packages/ipykernel/__main__.py:2: SettingWithCopyWarning: \n",
      "A value is trying to be set on a copy of a slice from a DataFrame\n",
      "\n",
      "See the caveats in the documentation: http://pandas.pydata.org/pandas-docs/stable/indexing.html#indexing-view-versus-copy\n",
      "  from ipykernel import kernelapp as app\n"
     ]
    }
   ],
   "source": [
    "df_servers['duration_pred']=df_servers['Duration']\n",
    "df_servers['duration_pred'][df_servers['Src_Server']==df_servers['Dst_Server']]=0"
   ]
  },
  {
   "cell_type": "markdown",
   "metadata": {},
   "source": [
    "We will use the same logic for determining how many bytes we pay for. We assume apps that are co-located are not using any bandwith, and thus their paid for bytes is set to 0"
   ]
  },
  {
   "cell_type": "code",
   "execution_count": 12,
   "metadata": {},
   "outputs": [
    {
     "data": {
      "text/plain": [
       "2014119.5810000007"
      ]
     },
     "execution_count": 12,
     "metadata": {},
     "output_type": "execute_result"
    }
   ],
   "source": [
    "orig_latency=df_servers['Duration'].sum()\n",
    "orig_latency#originial total latency"
   ]
  },
  {
   "cell_type": "code",
   "execution_count": 13,
   "metadata": {},
   "outputs": [
    {
     "data": {
      "text/plain": [
       "0.24604465543092532"
      ]
     },
     "execution_count": 13,
     "metadata": {},
     "output_type": "execute_result"
    }
   ],
   "source": [
    "orig_avg_latency=df_servers['Duration'].mean()\n",
    "orig_avg_latency"
   ]
  },
  {
   "cell_type": "code",
   "execution_count": 14,
   "metadata": {},
   "outputs": [
    {
     "data": {
      "text/plain": [
       "1889540.067000001"
      ]
     },
     "execution_count": 14,
     "metadata": {},
     "output_type": "execute_result"
    }
   ],
   "source": [
    "model40_latency=df_servers['duration_pred'].sum()\n",
    "model40_latency#new updated latency with the co-located apps"
   ]
  },
  {
   "cell_type": "code",
   "execution_count": 15,
   "metadata": {},
   "outputs": [
    {
     "data": {
      "text/plain": [
       "0.23082603391260523"
      ]
     },
     "execution_count": 15,
     "metadata": {},
     "output_type": "execute_result"
    }
   ],
   "source": [
    "model40_avg_latency=df_servers['duration_pred'].mean()\n",
    "model40_avg_latency"
   ]
  },
  {
   "cell_type": "markdown",
   "metadata": {},
   "source": [
    "## How much did our model improve the latency? We made a what % impact?"
   ]
  },
  {
   "cell_type": "code",
   "execution_count": 16,
   "metadata": {},
   "outputs": [
    {
     "data": {
      "text/plain": [
       "0.06185308716285187"
      ]
     },
     "execution_count": 16,
     "metadata": {},
     "output_type": "execute_result"
    }
   ],
   "source": [
    "#percent change \n",
    "\n",
    "orig_time=df_servers['Duration'].sum()\n",
    "pred_time=df_servers['duration_pred'].sum()\n",
    "\n",
    "(orig_time-pred_time )/orig_time"
   ]
  },
  {
   "cell_type": "markdown",
   "metadata": {},
   "source": [
    "How does this compare to randomly assigning servers?"
   ]
  },
  {
   "cell_type": "code",
   "execution_count": 17,
   "metadata": {},
   "outputs": [],
   "source": [
    "#need to assign random servers to the IP addressed, however b/c we did not assign a server to all the IP addresses in our model run, we will only assign servers to the same proportion of the data.\n",
    "\n",
    "#how many servers did we assign in the Src_server column?\n",
    "num_src_assign=df_servers['Src_Server'].count()\n",
    "num_dst_assign=df_servers['Dst_Server'].count()"
   ]
  },
  {
   "cell_type": "code",
   "execution_count": 18,
   "metadata": {},
   "outputs": [],
   "source": [
    "xx_src=np.random.choice(len(df), num_src_assign) #which rows are randomly assigned src servers\n",
    "xx_dst=np.random.choice(len(df), num_dst_assign) #which rows are randomly assigned dst servers\n",
    "num_servers=server_rules['serverid'].nunique()\n",
    "df_servers['rnd_src_server']=None\n",
    "df_servers['rnd_dst_server']=None"
   ]
  },
  {
   "cell_type": "code",
   "execution_count": 19,
   "metadata": {},
   "outputs": [],
   "source": [
    "rnd_src_servers=[]\n",
    "for x in range(len(xx_src)):\n",
    "  rnd_src_servers.append(random.randint(0,num_servers))"
   ]
  },
  {
   "cell_type": "code",
   "execution_count": 20,
   "metadata": {},
   "outputs": [],
   "source": [
    "rnd_dst_servers=[]\n",
    "for x in range(len(xx_dst)):\n",
    "  rnd_dst_servers.append(random.randint(0,num_servers)) #create random numbers for dst serve"
   ]
  },
  {
   "cell_type": "code",
   "execution_count": 21,
   "metadata": {},
   "outputs": [
    {
     "name": "stderr",
     "output_type": "stream",
     "text": [
      "/home/ubuntu/anaconda3/lib/python3.6/site-packages/ipykernel/__main__.py:1: SettingWithCopyWarning: \n",
      "A value is trying to be set on a copy of a slice from a DataFrame\n",
      "\n",
      "See the caveats in the documentation: http://pandas.pydata.org/pandas-docs/stable/indexing.html#indexing-view-versus-copy\n",
      "  if __name__ == '__main__':\n",
      "/home/ubuntu/anaconda3/lib/python3.6/site-packages/ipykernel/__main__.py:2: SettingWithCopyWarning: \n",
      "A value is trying to be set on a copy of a slice from a DataFrame\n",
      "\n",
      "See the caveats in the documentation: http://pandas.pydata.org/pandas-docs/stable/indexing.html#indexing-view-versus-copy\n",
      "  from ipykernel import kernelapp as app\n"
     ]
    }
   ],
   "source": [
    "df_servers['rnd_src_server'][xx_src]=rnd_src_servers\n",
    "df_servers['rnd_dst_server'][xx_dst]=rnd_dst_servers"
   ]
  },
  {
   "cell_type": "code",
   "execution_count": 22,
   "metadata": {},
   "outputs": [
    {
     "data": {
      "text/plain": [
       "0.0019235298544147124"
      ]
     },
     "execution_count": 22,
     "metadata": {},
     "output_type": "execute_result"
    }
   ],
   "source": [
    "len(df_servers[df_servers.rnd_src_server==df_servers.rnd_dst_server])/len(df_servers) #we only get 0.9% matching pairs"
   ]
  },
  {
   "cell_type": "markdown",
   "metadata": {},
   "source": [
    "Now, set the matching pairs duration = 0, and sum up the time again, just like before."
   ]
  },
  {
   "cell_type": "code",
   "execution_count": 23,
   "metadata": {},
   "outputs": [
    {
     "name": "stderr",
     "output_type": "stream",
     "text": [
      "/home/ubuntu/anaconda3/lib/python3.6/site-packages/ipykernel/__main__.py:2: SettingWithCopyWarning: \n",
      "A value is trying to be set on a copy of a slice from a DataFrame\n",
      "\n",
      "See the caveats in the documentation: http://pandas.pydata.org/pandas-docs/stable/indexing.html#indexing-view-versus-copy\n",
      "  from ipykernel import kernelapp as app\n"
     ]
    }
   ],
   "source": [
    "df_servers['duration_rnd']=df_servers['Duration']\n",
    "df_servers['duration_rnd'][df_servers['rnd_src_server']==df_servers['rnd_dst_server']]=0"
   ]
  },
  {
   "cell_type": "markdown",
   "metadata": {},
   "source": [
    "### How does this completely random assignment compare to our model?"
   ]
  },
  {
   "cell_type": "code",
   "execution_count": 24,
   "metadata": {},
   "outputs": [
    {
     "data": {
      "text/plain": [
       "2009728.161999999"
      ]
     },
     "execution_count": 24,
     "metadata": {},
     "output_type": "execute_result"
    }
   ],
   "source": [
    "latency_rnd=df_servers['duration_rnd'].sum() #new updated latency with the randomly assigned apps\n",
    "latency_rnd"
   ]
  },
  {
   "cell_type": "code",
   "execution_count": 25,
   "metadata": {},
   "outputs": [
    {
     "data": {
      "text/plain": [
       "0.24550820010577828"
      ]
     },
     "execution_count": 25,
     "metadata": {},
     "output_type": "execute_result"
    }
   ],
   "source": [
    "latency_rnd_avg=df_servers['duration_rnd'].mean() #new updated latency with the randomly assigned apps\n",
    "latency_rnd_avg"
   ]
  },
  {
   "cell_type": "code",
   "execution_count": 26,
   "metadata": {},
   "outputs": [
    {
     "data": {
      "text/html": [
       "<div>\n",
       "<style scoped>\n",
       "    .dataframe tbody tr th:only-of-type {\n",
       "        vertical-align: middle;\n",
       "    }\n",
       "\n",
       "    .dataframe tbody tr th {\n",
       "        vertical-align: top;\n",
       "    }\n",
       "\n",
       "    .dataframe thead th {\n",
       "        text-align: right;\n",
       "    }\n",
       "</style>\n",
       "<table border=\"1\" class=\"dataframe\">\n",
       "  <thead>\n",
       "    <tr style=\"text-align: right;\">\n",
       "      <th></th>\n",
       "      <th>total_time</th>\n",
       "      <th>avg_time</th>\n",
       "      <th>type</th>\n",
       "    </tr>\n",
       "  </thead>\n",
       "  <tbody>\n",
       "    <tr>\n",
       "      <th>0</th>\n",
       "      <td>2009728.162</td>\n",
       "      <td>0.245508</td>\n",
       "      <td>rnd</td>\n",
       "    </tr>\n",
       "    <tr>\n",
       "      <th>1</th>\n",
       "      <td>2014119.581</td>\n",
       "      <td>0.246045</td>\n",
       "      <td>orig</td>\n",
       "    </tr>\n",
       "    <tr>\n",
       "      <th>2</th>\n",
       "      <td>1889540.067</td>\n",
       "      <td>0.230826</td>\n",
       "      <td>model40</td>\n",
       "    </tr>\n",
       "  </tbody>\n",
       "</table>\n",
       "</div>"
      ],
      "text/plain": [
       "    total_time  avg_time     type\n",
       "0  2009728.162  0.245508      rnd\n",
       "1  2014119.581  0.246045     orig\n",
       "2  1889540.067  0.230826  model40"
      ]
     },
     "execution_count": 26,
     "metadata": {},
     "output_type": "execute_result"
    }
   ],
   "source": [
    "latency={'total_time':[latency_rnd, orig_latency, model40_latency], 'avg_time':[latency_rnd_avg, orig_avg_latency, model40_avg_latency], 'type':['rnd', 'orig', 'model40']}\n",
    "latency=pd.DataFrame(latency)\n",
    "latency"
   ]
  },
  {
   "cell_type": "code",
   "execution_count": 27,
   "metadata": {},
   "outputs": [],
   "source": [
    "latency.to_csv('latency_time_40.csv')"
   ]
  },
  {
   "cell_type": "code",
   "execution_count": 27,
   "metadata": {},
   "outputs": [
    {
     "data": {
      "text/plain": [
       "0.002180316919326759"
      ]
     },
     "execution_count": 27,
     "metadata": {},
     "output_type": "execute_result"
    }
   ],
   "source": [
    "(df_servers['Duration'].sum()-df_servers['duration_rnd'].sum())/ df_servers['Duration'].sum() #new updated latency with the random assignment"
   ]
  },
  {
   "cell_type": "markdown",
   "metadata": {},
   "source": [
    "The random model only improves things by almost 1%, while our model is around a 6% improvement."
   ]
  },
  {
   "cell_type": "markdown",
   "metadata": {},
   "source": [
    "Our model performs how much better than random? A % improvement:"
   ]
  },
  {
   "cell_type": "code",
   "execution_count": 29,
   "metadata": {},
   "outputs": [
    {
     "data": {
      "text/plain": [
       "0.059966407070878656"
      ]
     },
     "execution_count": 29,
     "metadata": {},
     "output_type": "execute_result"
    }
   ],
   "source": [
    "(df_servers['duration_rnd'].sum()-df_servers['duration_pred'].sum() )/df_servers['duration_rnd'].sum()"
   ]
  },
  {
   "cell_type": "markdown",
   "metadata": {},
   "source": [
    "We saved how many seconds?"
   ]
  },
  {
   "cell_type": "code",
   "execution_count": 30,
   "metadata": {},
   "outputs": [
    {
     "data": {
      "text/plain": [
       "120537.10599999898"
      ]
     },
     "execution_count": 30,
     "metadata": {},
     "output_type": "execute_result"
    }
   ],
   "source": [
    "df_servers['duration_rnd'].sum() - df_servers['duration_pred'].sum()"
   ]
  },
  {
   "cell_type": "code",
   "execution_count": 31,
   "metadata": {},
   "outputs": [
    {
     "name": "stdout",
     "output_type": "stream",
     "text": [
      "<class 'pandas.core.frame.DataFrame'>\n",
      "Int64Index: 8185992 entries, 0 to 8185991\n",
      "Data columns (total 18 columns):\n",
      "Date              datetime64[ns]\n",
      "Duration          float64\n",
      "Src_IP            object\n",
      "Src_pt            int64\n",
      "Dst_IP            object\n",
      "Dst_pt            float64\n",
      "Packets           int64\n",
      "Bytes             int64\n",
      "date_hr           datetime64[ns]\n",
      "pairs             object\n",
      "pairs2            object\n",
      "norm_latency      float64\n",
      "Src_Server        float64\n",
      "Dst_Server        float64\n",
      "duration_pred     float64\n",
      "rnd_src_server    object\n",
      "rnd_dst_server    object\n",
      "duration_rnd      float64\n",
      "dtypes: datetime64[ns](2), float64(7), int64(3), object(6)\n",
      "memory usage: 1.5+ GB\n"
     ]
    }
   ],
   "source": [
    "df_servers.info()"
   ]
  },
  {
   "cell_type": "code",
   "execution_count": 24,
   "metadata": {},
   "outputs": [],
   "source": [
    "#export csv\n",
    "\n",
    "df_servers.to_csv('df_servers40.csv')"
   ]
  },
  {
   "cell_type": "markdown",
   "metadata": {},
   "source": [
    "Let's make an hour timestep and see how total latency varies over time"
   ]
  },
  {
   "cell_type": "code",
   "execution_count": 36,
   "metadata": {},
   "outputs": [],
   "source": [
    "hour_totals=df_servers.groupby(['date_hr'],as_index=False)[['Duration', 'duration_pred']].sum()\n",
    "\n",
    "#hour_group2=df.groupby(['date_hr', 'pairs2'], as_index=False)['Date'].count()"
   ]
  },
  {
   "cell_type": "code",
   "execution_count": 37,
   "metadata": {},
   "outputs": [
    {
     "data": {
      "image/png": "[encoded data removed]",
      "text/plain": [
       "<Figure size 432x288 with 1 Axes>"
      ]
     },
     "metadata": {
      "needs_background": "light"
     },
     "output_type": "display_data"
    }
   ],
   "source": [
    "from datetime import datetime\n",
    "import matplotlib.pyplot as plt\n",
    "from matplotlib.dates import DateFormatter\n",
    "\n",
    "fig, ax = plt.subplots()\n",
    "ax.plot(hour_totals['date_hr'], hour_totals['Duration'])\n",
    "ax.plot(hour_totals['date_hr'], hour_totals['duration_pred'])\n",
    "\n",
    "myFmt = DateFormatter(\"%m-%d\")\n",
    "ax.xaxis.set_major_formatter(myFmt)\n",
    "ax.annotate('Weekend', xy=('2017-8-6', 100), xytext=('2017-8-6', 500),\n",
    "            arrowprops=dict(facecolor='black', shrink=0.05),\n",
    "            )\n",
    "\n",
    "## Rotate date labels automatically\n",
    "fig.autofmt_xdate()\n",
    "plt.ylabel('Total latency (s)')\n",
    "plt.xlabel('month-day')\n",
    "plt.show()"
   ]
  },
  {
   "cell_type": "markdown",
   "metadata": {},
   "source": [
    "How many seconds are we saving each hour?"
   ]
  },
  {
   "cell_type": "code",
   "execution_count": 38,
   "metadata": {},
   "outputs": [],
   "source": [
    "hour_totals['time_saved']=hour_totals['Duration']-hour_totals['duration_pred']"
   ]
  },
  {
   "cell_type": "code",
   "execution_count": 39,
   "metadata": {},
   "outputs": [
    {
     "data": {
      "image/png": "[encoded data removed]",
      "text/plain": [
       "<Figure size 432x288 with 1 Axes>"
      ]
     },
     "metadata": {
      "needs_background": "light"
     },
     "output_type": "display_data"
    }
   ],
   "source": [
    "fig, ax = plt.subplots()\n",
    "ax.plot(hour_totals['date_hr'], hour_totals['time_saved'])\n",
    "\n",
    "myFmt = DateFormatter(\"%m-%d\")\n",
    "ax.xaxis.set_major_formatter(myFmt)\n",
    "ax.annotate('Weekend', xy=('2017-8-6', 100), xytext=('2017-8-6', 500),\n",
    "            arrowprops=dict(facecolor='black', shrink=0.05),\n",
    "            )\n",
    "\n",
    "## Rotate date labels automatically\n",
    "fig.autofmt_xdate()\n",
    "plt.ylabel('Total latency (s) Saved with new model')\n",
    "plt.xlabel('month-day')\n",
    "plt.show()"
   ]
  },
  {
   "cell_type": "markdown",
   "metadata": {},
   "source": [
    "Hmmmm what's happening in the last day?"
   ]
  },
  {
   "cell_type": "markdown",
   "metadata": {},
   "source": [
    "### What if we only implement a sub-set of the rules?\n",
    "These results are for all of the rules generated by the FP-Growth algorithm being implemented. This is ~300 rules. If we do not want to implement them all, because of cost and resources, we could implement them in batches. The servers were assigned based on highest priorety rules being put in a server first. So server \"1\" has the IP addresses that are most valuable to be co-located, the IPs assigned to higher number servers (e.g., 20) are less important.\n",
    "\n",
    "Let's see if we implement each batch of rules, how close we get to our total benefit.\n",
    "Here % = time saved with this batch of rules / total time saved with all rules implemented"
   ]
  },
  {
   "cell_type": "code",
   "execution_count": 40,
   "metadata": {},
   "outputs": [],
   "source": [
    "df_servers_list=[]\n",
    "\n",
    "batch=pd.DataFrame()\n",
    "serverid=0\n",
    "#memory error, lets only do a subset, if i=5 we use servers 0-5\n",
    "percent_rules=[0.05, 0.25, 0.5, 0.75, 1]\n",
    "\n",
    "server_batches=[server_rules.serverid.nunique()*x for x in percent_rules]\n",
    "server_batches=[round(x) for x in server_batches]\n",
    "server_batches\n",
    "\n",
    "for i in server_batches:\n",
    "    batch=df.merge(server_rules[server_rules['serverid']<=i].iloc[:,1:3], left_on='Src_IP', right_on='IP', how='left')\n",
    "    batch=batch.rename(columns={'serverid': 'Src_Server'})\n",
    "    batch=batch.merge(server_rules[server_rules['serverid']<=i].iloc[:,1:3], left_on='Dst_IP', right_on='IP', how='left')\n",
    "    batch=batch.rename(columns={'serverid': 'Dst_Server'})\n",
    "    df_servers_list.append(batch)\n",
    "\n"
   ]
  },
  {
   "cell_type": "code",
   "execution_count": 41,
   "metadata": {},
   "outputs": [
    {
     "name": "stderr",
     "output_type": "stream",
     "text": [
      "/home/ubuntu/anaconda3/lib/python3.6/site-packages/ipykernel/__main__.py:6: SettingWithCopyWarning: \n",
      "A value is trying to be set on a copy of a slice from a DataFrame\n",
      "\n",
      "See the caveats in the documentation: http://pandas.pydata.org/pandas-docs/stable/indexing.html#indexing-view-versus-copy\n"
     ]
    }
   ],
   "source": [
    "latency_avg=[]\n",
    "latency_totals=[]\n",
    "for i in range(len(df_servers_list)):\n",
    "    df_server=df_servers_list[i]\n",
    "    df_server['duration_pred']=df_server['Duration']\n",
    "    df_server['duration_pred'][df_server['Src_Server']==df_servers['Dst_Server']]=0\n",
    "    total_time=df_server['duration_pred'].sum()\n",
    "    avg_time=df_server['duration_pred'].mean()\n",
    "    latency_totals.append(total_time)\n",
    "    latency_avg.append(avg_time)"
   ]
  },
  {
   "cell_type": "code",
   "execution_count": 42,
   "metadata": {},
   "outputs": [
    {
     "data": {
      "text/plain": [
       "[0.05, 0.25, 0.5, 0.75, 1]"
      ]
     },
     "execution_count": 42,
     "metadata": {},
     "output_type": "execute_result"
    }
   ],
   "source": [
    "percent_rules"
   ]
  },
  {
   "cell_type": "code",
   "execution_count": 43,
   "metadata": {},
   "outputs": [
    {
     "data": {
      "text/html": [
       "<div>\n",
       "<style scoped>\n",
       "    .dataframe tbody tr th:only-of-type {\n",
       "        vertical-align: middle;\n",
       "    }\n",
       "\n",
       "    .dataframe tbody tr th {\n",
       "        vertical-align: top;\n",
       "    }\n",
       "\n",
       "    .dataframe thead th {\n",
       "        text-align: right;\n",
       "    }\n",
       "</style>\n",
       "<table border=\"1\" class=\"dataframe\">\n",
       "  <thead>\n",
       "    <tr style=\"text-align: right;\">\n",
       "      <th></th>\n",
       "      <th>latency_total</th>\n",
       "      <th>latency_avg</th>\n",
       "      <th>percent_rules</th>\n",
       "      <th>num_rules</th>\n",
       "      <th>model</th>\n",
       "    </tr>\n",
       "  </thead>\n",
       "  <tbody>\n",
       "    <tr>\n",
       "      <th>0</th>\n",
       "      <td>1889864.341</td>\n",
       "      <td>0.230866</td>\n",
       "      <td>0.05</td>\n",
       "      <td>80</td>\n",
       "      <td>per40_70con</td>\n",
       "    </tr>\n",
       "    <tr>\n",
       "      <th>1</th>\n",
       "      <td>1889546.868</td>\n",
       "      <td>0.230827</td>\n",
       "      <td>0.25</td>\n",
       "      <td>420</td>\n",
       "      <td>per40_70con</td>\n",
       "    </tr>\n",
       "    <tr>\n",
       "      <th>2</th>\n",
       "      <td>1889540.067</td>\n",
       "      <td>0.230826</td>\n",
       "      <td>0.50</td>\n",
       "      <td>840</td>\n",
       "      <td>per40_70con</td>\n",
       "    </tr>\n",
       "    <tr>\n",
       "      <th>3</th>\n",
       "      <td>1889540.067</td>\n",
       "      <td>0.230826</td>\n",
       "      <td>0.75</td>\n",
       "      <td>1280</td>\n",
       "      <td>per40_70con</td>\n",
       "    </tr>\n",
       "    <tr>\n",
       "      <th>4</th>\n",
       "      <td>1889540.067</td>\n",
       "      <td>0.230826</td>\n",
       "      <td>1.00</td>\n",
       "      <td>1700</td>\n",
       "      <td>per40_70con</td>\n",
       "    </tr>\n",
       "  </tbody>\n",
       "</table>\n",
       "</div>"
      ],
      "text/plain": [
       "   latency_total  latency_avg  percent_rules  num_rules        model\n",
       "0    1889864.341     0.230866           0.05         80  per40_70con\n",
       "1    1889546.868     0.230827           0.25        420  per40_70con\n",
       "2    1889540.067     0.230826           0.50        840  per40_70con\n",
       "3    1889540.067     0.230826           0.75       1280  per40_70con\n",
       "4    1889540.067     0.230826           1.00       1700  per40_70con"
      ]
     },
     "execution_count": 43,
     "metadata": {},
     "output_type": "execute_result"
    }
   ],
   "source": [
    "apps_server=20\n",
    "num_rules=[x*apps_server for x in server_batches]\n",
    "latency_matrix={'latency_total':latency_totals, 'latency_avg':latency_avg, 'percent_rules':percent_rules, 'num_rules': num_rules}\n",
    "latency_matrix=pd.DataFrame.from_dict(latency_matrix)\n",
    "latency_matrix['model']='per40_70con'\n",
    "latency_matrix"
   ]
  },
  {
   "cell_type": "code",
   "execution_count": 44,
   "metadata": {},
   "outputs": [],
   "source": [
    "latency_matrix.to_csv('latency_matrix_40_70con.csv')"
   ]
  },
  {
   "cell_type": "code",
   "execution_count": null,
   "metadata": {},
   "outputs": [],
   "source": []
  }
 ],
 "metadata": {
  "kernelspec": {
   "display_name": "Python [conda env:anaconda3]",
   "language": "python",
   "name": "conda-env-anaconda3-py"
  },
  "language_info": {
   "codemirror_mode": {
    "name": "ipython",
    "version": 3
   },
   "file_extension": ".py",
   "mimetype": "text/x-python",
   "name": "python",
   "nbconvert_exporter": "python",
   "pygments_lexer": "ipython3",
   "version": "3.6.4"
  }
 },
 "nbformat": 4,
 "nbformat_minor": 2
}
