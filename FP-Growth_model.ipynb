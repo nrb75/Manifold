{
 "cells": [
  {
   "cell_type": "code",
   "execution_count": 5,
   "metadata": {},
   "outputs": [],
   "source": [
    "import boto3\n",
    "import pandas as pd\n",
    "import numpy as np\n",
    "import matplotlib.pyplot as plt\n",
    "from io import BytesIO\n",
    "from mlxtend.preprocessing import TransactionEncoder\n",
    "import random\n",
    "from mlxtend.frequent_patterns import apriori\n",
    "import pyfpgrowth\n",
    "#from apyori import apriori "
   ]
  },
  {
   "cell_type": "code",
   "execution_count": 6,
   "metadata": {},
   "outputs": [
    {
     "name": "stderr",
     "output_type": "stream",
     "text": [
      "/home/ubuntu/anaconda3/lib/python3.6/site-packages/IPython/core/interactiveshell.py:2785: DtypeWarning: Columns (8) have mixed types. Specify dtype option on import or set low_memory=False.\n",
      "  interactivity=interactivity, compiler=compiler, result=result)\n"
     ]
    }
   ],
   "source": [
    "#load data\n",
    "\n",
    "client = boto3.client('s3')\n",
    "obj = client.get_object(Bucket='manifolddata', Key='week1.csv')\n",
    "df = pd.read_csv(BytesIO(obj['Body'].read()))\n",
    "\n",
    "#df=pd.read_csv('week1processed.csv',  parse_dates=True)"
   ]
  },
  {
   "cell_type": "code",
   "execution_count": 7,
   "metadata": {},
   "outputs": [],
   "source": [
    "df=df.iloc[:,[0,1,3,4,5,6,7,8]]\n",
    "df.columns=['Date', 'Duration', 'Src_IP', 'Src_pt', 'Dst_IP', 'Dst_pt','Packets', 'Bytes']\n",
    "#add an date column that is rounded to nearest hour, so we can use this as a timestep to see how frequently IP pairs occur in each timestep\n",
    "df['Date']=pd.to_datetime(df['Date'], format=\"%Y-%m-%d %H:%M:%S.%f\", errors = 'coerce')\n",
    "df['date_hr']=pd.Series(df['Date']).dt.round(\"H\")"
   ]
  },
  {
   "cell_type": "code",
   "execution_count": 8,
   "metadata": {},
   "outputs": [],
   "source": [
    "#create a pair column, which is a touple of the src and dst IP, sorted. \n",
    "#It does not matter which call came first, we simply want to know which pair occurs most frequently.\n",
    "\n",
    "df['pairs']=list(zip(df.Src_IP, df.Dst_IP))\n",
    "df['pairs']=df['pairs'].apply(sorted)\n",
    "df['pairs2']=tuple(df['pairs'])\n",
    "#create a normalized latency column = duration/packets\n",
    "df['norm_latency']=df['Duration']/df['Packets']"
   ]
  },
  {
   "cell_type": "code",
   "execution_count": 9,
   "metadata": {},
   "outputs": [],
   "source": [
    "def convert_si_to_number(x):\n",
    "    total_stars = 0\n",
    "    if 'k' in x:\n",
    "        if len(x) > 1:\n",
    "            total_stars = float(x.replace('k', '')) * 1000 # convert k to a thousand\n",
    "    elif 'M' in x:\n",
    "        if len(x) > 1:\n",
    "            total_stars = float(x.replace('M', '')) * 1000000 # convert M to a million\n",
    "    elif 'B' in x:\n",
    "        total_stars = float(x.replace('B', '')) * 1000000000 # convert B to a Billion\n",
    "    else:\n",
    "        total_stars = int(x) # Less than 1000\n",
    "    \n",
    "    return int(total_stars)"
   ]
  },
  {
   "cell_type": "code",
   "execution_count": 10,
   "metadata": {},
   "outputs": [],
   "source": [
    "df.Bytes=df.Bytes.astype('str')\n",
    "test_list=df.Bytes\n",
    "\n",
    "#[i for i, s in enumerate(test_list) if 'M' in s]#show where the M errors are happening\n",
    "\n",
    "test_list= [convert_si_to_number(x) for x in test_list]\n",
    "df.Bytes=test_list #bring it back into the dataframe"
   ]
  },
  {
   "cell_type": "code",
   "execution_count": 11,
   "metadata": {},
   "outputs": [],
   "source": [
    "df1=df[0:1000000]\n",
    "df1.to_csv('df_test1M.csv')"
   ]
  },
  {
   "cell_type": "code",
   "execution_count": 9,
   "metadata": {},
   "outputs": [],
   "source": [
    "\n",
    "\n",
    "#export a subset of this for testing\n",
    "df2=df[0:4000].copy()\n",
    "df2.to_csv('df_test2.csv')"
   ]
  },
  {
   "cell_type": "markdown",
   "metadata": {},
   "source": [
    "## Implement Frequent Pattern (FP) - Growth algorithm\n",
    "\n",
    "https://fp-growth.readthedocs.io/en/latest/usage.html\n",
    "\n",
    "This algorithm\n",
    "1. Counts occurence of items in dataset in 1st pass\n",
    "2. Build FP-tree by inserting instances, and adds weight to each instance based on the number of times it appears in the dataset. Those infrequent instances are dropped from the tree.\n",
    "\n",
    "This allows the frequentest set to be generated organically, instead of creating a list of each itemset and checking if it does/does not pass minimum threshold (like Apriori algorithm)\n",
    "\n",
    "#### Vocabulary\n",
    " - itemset = all items in 1 transaction\n",
    "A \"pattern\" is a conjunction of items, or the unique itemset.\n",
    "A \"rule\" X --> Y means if you buy X you are likely to buy Y, or in this case if X IP address is used Y IP address is likely also\n",
    "\n",
    "\n",
    "#### Evaluation metrics include:\n",
    "\n",
    "1. Support = how frequently it occurs. The number of transactions of that unique itemset / all transactions. In this case: number of times IP pair occurs/all requests\n",
    "\n",
    "2. Confidence = how often rule is likely to be true. frequency of X and Y occuring/ frequency of X occuring in entire dataset. Conditional probability of Y given X. P(Ey|Ex)\n",
    "\n",
    "3. Lift = How likely is item Y given item X occurs, controlling for how frequent Y occurs in the entire dataset. For rule X-->Y, lift = P(Y|X)/P(Y).\n",
    "    Lift = 1 means X and Y are independent\n",
    "    Lift >1 = X and Y are positively correlated\n",
    "    Lift <1 = X and Y are negatively correlated"
   ]
  },
  {
   "cell_type": "markdown",
   "metadata": {},
   "source": [
    "### 1. Data manipulation\n",
    "\n",
    "The fp-growth function requires the data be a list of lists, where each list is an individual \"transaction\" or in our case IP pair request"
   ]
  },
  {
   "cell_type": "code",
   "execution_count": 12,
   "metadata": {},
   "outputs": [],
   "source": [
    "#we only want a list of all the individual pairs at each timestamp. Think of this where each timestamp is a 'transaction' and we chose to buy which 2 items (IP addresses)\n",
    "data_l=list(df['pairs']) #this list contains each transaction or timestamp, where many itemsets are repeated"
   ]
  },
  {
   "cell_type": "markdown",
   "metadata": {},
   "source": [
    "## 2. Implement Frequentest paterns algorithm\n",
    "\n",
    "Before we run this algorithm, we should have some idea of the minimum threshold we want to set. This is the \"support\" for each IP pair. Support = % of time this pair occurs in dataset."
   ]
  },
  {
   "cell_type": "code",
   "execution_count": 13,
   "metadata": {},
   "outputs": [],
   "source": [
    "#group the dataset by unique pairs, then count how frequently each pair occurs, and also get the average normalized latency time for that pair. The latency times vary because the servers they are assigned are random.\n",
    "pairs_count=(df.groupby('pairs2').agg({'Date':'count', 'norm_latency': 'mean', 'Duration': 'sum', 'Packets':'sum'}).reset_index())\n",
    "\n",
    "pairs_count.columns=['pairs','frequency', 'avg_norm_latency', 'total_duration', 'total_packets']\n",
    "pairs_count['norm_latency']=(pairs_count['total_duration']/pairs_count['total_packets'].sum())*100 #sum of all duration time divided by sum of all packets transfered for that pair"
   ]
  },
  {
   "cell_type": "code",
   "execution_count": 14,
   "metadata": {},
   "outputs": [
    {
     "data": {
      "text/html": [
       "<div>\n",
       "<style scoped>\n",
       "    .dataframe tbody tr th:only-of-type {\n",
       "        vertical-align: middle;\n",
       "    }\n",
       "\n",
       "    .dataframe tbody tr th {\n",
       "        vertical-align: top;\n",
       "    }\n",
       "\n",
       "    .dataframe thead th {\n",
       "        text-align: right;\n",
       "    }\n",
       "</style>\n",
       "<table border=\"1\" class=\"dataframe\">\n",
       "  <thead>\n",
       "    <tr style=\"text-align: right;\">\n",
       "      <th></th>\n",
       "      <th>pairs</th>\n",
       "      <th>frequency</th>\n",
       "      <th>avg_norm_latency</th>\n",
       "      <th>total_duration</th>\n",
       "      <th>total_packets</th>\n",
       "      <th>norm_latency</th>\n",
       "    </tr>\n",
       "  </thead>\n",
       "  <tbody>\n",
       "    <tr>\n",
       "      <th>0</th>\n",
       "      <td>(0.0.0.0, 255.255.255.255)</td>\n",
       "      <td>123</td>\n",
       "      <td>0.018820</td>\n",
       "      <td>6.801</td>\n",
       "      <td>223</td>\n",
       "      <td>0.000004</td>\n",
       "    </tr>\n",
       "    <tr>\n",
       "      <th>1</th>\n",
       "      <td>(10000_163, 192.168.220.47)</td>\n",
       "      <td>16</td>\n",
       "      <td>0.026500</td>\n",
       "      <td>6.378</td>\n",
       "      <td>204</td>\n",
       "      <td>0.000003</td>\n",
       "    </tr>\n",
       "    <tr>\n",
       "      <th>2</th>\n",
       "      <td>(10000_34, 192.168.210.45)</td>\n",
       "      <td>96</td>\n",
       "      <td>0.022706</td>\n",
       "      <td>23.679</td>\n",
       "      <td>723</td>\n",
       "      <td>0.000013</td>\n",
       "    </tr>\n",
       "    <tr>\n",
       "      <th>3</th>\n",
       "      <td>(10000_34, 192.168.210.46)</td>\n",
       "      <td>165</td>\n",
       "      <td>0.014315</td>\n",
       "      <td>28.699</td>\n",
       "      <td>971</td>\n",
       "      <td>0.000016</td>\n",
       "    </tr>\n",
       "    <tr>\n",
       "      <th>4</th>\n",
       "      <td>(10000_34, 192.168.210.47)</td>\n",
       "      <td>433</td>\n",
       "      <td>0.020122</td>\n",
       "      <td>77.542</td>\n",
       "      <td>1739</td>\n",
       "      <td>0.000042</td>\n",
       "    </tr>\n",
       "  </tbody>\n",
       "</table>\n",
       "</div>"
      ],
      "text/plain": [
       "                         pairs  frequency  avg_norm_latency  total_duration  \\\n",
       "0   (0.0.0.0, 255.255.255.255)        123          0.018820           6.801   \n",
       "1  (10000_163, 192.168.220.47)         16          0.026500           6.378   \n",
       "2   (10000_34, 192.168.210.45)         96          0.022706          23.679   \n",
       "3   (10000_34, 192.168.210.46)        165          0.014315          28.699   \n",
       "4   (10000_34, 192.168.210.47)        433          0.020122          77.542   \n",
       "\n",
       "   total_packets  norm_latency  \n",
       "0            223      0.000004  \n",
       "1            204      0.000003  \n",
       "2            723      0.000013  \n",
       "3            971      0.000016  \n",
       "4           1739      0.000042  "
      ]
     },
     "execution_count": 14,
     "metadata": {},
     "output_type": "execute_result"
    }
   ],
   "source": [
    "pairs_count.head()"
   ]
  },
  {
   "cell_type": "code",
   "execution_count": 90,
   "metadata": {},
   "outputs": [
    {
     "data": {
      "text/plain": [
       "Text(0,0.5,'Frequency of occurance')"
      ]
     },
     "execution_count": 90,
     "metadata": {},
     "output_type": "execute_result"
    },
    {
     "data": {
      "image/png": "[encoded data removed]",
      "text/plain": [
       "<Figure size 432x288 with 1 Axes>"
      ]
     },
     "metadata": {
      "needs_background": "light"
     },
     "output_type": "display_data"
    }
   ],
   "source": [
    "plt.hist(pairs_count['frequency'], bins=35)\n",
    "plt.xlabel('Number of time pair occurs in dataset')\n",
    "plt.ylabel('Frequency of occurance')"
   ]
  },
  {
   "cell_type": "markdown",
   "metadata": {},
   "source": [
    "Whew, this dataset is varied! We definitely want our minimum threshold to be below 200,000 (min=200,000)"
   ]
  },
  {
   "cell_type": "markdown",
   "metadata": {},
   "source": [
    "Are the pairs that occur frequently likely to have higher or lower latency?"
   ]
  },
  {
   "cell_type": "code",
   "execution_count": 91,
   "metadata": {},
   "outputs": [
    {
     "data": {
      "text/plain": [
       "Text(0.5,0,'IP pair frequency of occurance')"
      ]
     },
     "execution_count": 91,
     "metadata": {},
     "output_type": "execute_result"
    },
    {
     "data": {
      "image/png": "[encoded data removed]",
      "text/plain": [
       "<Figure size 432x288 with 1 Axes>"
      ]
     },
     "metadata": {
      "needs_background": "light"
     },
     "output_type": "display_data"
    }
   ],
   "source": [
    "plt.scatter(pairs_count['frequency'], pairs_count['norm_latency'])\n",
    "plt.ylabel('normalized latency (latency/packets)')\n",
    "plt.xlabel('IP pair frequency of occurance')\n",
    "#plt.ylim(-0.001, 0.02)"
   ]
  },
  {
   "cell_type": "markdown",
   "metadata": {},
   "source": [
    "Let's pick a few minimum thresholds for testing purposes, \n",
    "We will create percentiles and find out what percent this equates to, this percentage will then be our 'minimum support threshold' in the model."
   ]
  },
  {
   "cell_type": "code",
   "execution_count": 15,
   "metadata": {},
   "outputs": [],
   "source": [
    "per_40=np.percentile(pairs_count['frequency'], [40])"
   ]
  },
  {
   "cell_type": "code",
   "execution_count": 16,
   "metadata": {},
   "outputs": [],
   "source": [
    "per_80=np.percentile(pairs_count['frequency'], [80])"
   ]
  },
  {
   "cell_type": "code",
   "execution_count": 17,
   "metadata": {},
   "outputs": [
    {
     "data": {
      "text/plain": [
       "array([126.])"
      ]
     },
     "execution_count": 17,
     "metadata": {},
     "output_type": "execute_result"
    }
   ],
   "source": [
    "per_80"
   ]
  },
  {
   "cell_type": "code",
   "execution_count": 18,
   "metadata": {},
   "outputs": [],
   "source": [
    "patterns = pyfpgrowth.find_frequent_patterns(data_l, per_80) \n",
    "#we set the min threshold of frequency occurance equal to the 80th percentile of frequency, this will only return results where the pair exists above the 80th percentile, a relatively small amount"
   ]
  },
  {
   "cell_type": "code",
   "execution_count": 19,
   "metadata": {},
   "outputs": [
    {
     "data": {
      "text/plain": [
       "11015"
      ]
     },
     "execution_count": 19,
     "metadata": {},
     "output_type": "execute_result"
    }
   ],
   "source": [
    "len(patterns)"
   ]
  },
  {
   "cell_type": "code",
   "execution_count": 21,
   "metadata": {},
   "outputs": [],
   "source": [
    "confidence=0.7 #this means the rule is likely to be true 70% of the time, it is a high threshold, used for testing\n",
    "rules = pyfpgrowth.generate_association_rules(patterns, confidence)"
   ]
  },
  {
   "cell_type": "code",
   "execution_count": 27,
   "metadata": {},
   "outputs": [],
   "source": [
    "#patterns40=pyfpgrowth.find_frequent_patterns(data_l, per_40) #because the min support is lower (40th percentile instead of 80), you will get more rules"
   ]
  },
  {
   "cell_type": "code",
   "execution_count": 28,
   "metadata": {},
   "outputs": [],
   "source": [
    "#rules40= pyfpgrowth.generate_association_rules(patterns40, confidence)"
   ]
  },
  {
   "cell_type": "code",
   "execution_count": null,
   "metadata": {},
   "outputs": [],
   "source": []
  },
  {
   "cell_type": "code",
   "execution_count": 22,
   "metadata": {},
   "outputs": [
    {
     "data": {
      "text/plain": [
       "329"
      ]
     },
     "execution_count": 22,
     "metadata": {},
     "output_type": "execute_result"
    }
   ],
   "source": [
    "\n",
    "len(rules) #80th percentile rules should be shorter, because stricter filter"
   ]
  },
  {
   "cell_type": "code",
   "execution_count": 101,
   "metadata": {},
   "outputs": [
    {
     "data": {
      "text/plain": [
       "1681"
      ]
     },
     "execution_count": 101,
     "metadata": {},
     "output_type": "execute_result"
    }
   ],
   "source": [
    "len(rules40)"
   ]
  },
  {
   "cell_type": "markdown",
   "metadata": {},
   "source": [
    "### Generate Rules from the most frequent items we found"
   ]
  },
  {
   "cell_type": "markdown",
   "metadata": {},
   "source": [
    "Bring in the frequency of each rule and sum of the normalized latency. Use these metrics to prioritize the rules we will implement. There is always a tradeoff withh implementing more rules, so we want to be efficient."
   ]
  },
  {
   "cell_type": "code",
   "execution_count": 102,
   "metadata": {},
   "outputs": [
    {
     "data": {
      "text/plain": [
       "dict"
      ]
     },
     "execution_count": 102,
     "metadata": {},
     "output_type": "execute_result"
    }
   ],
   "source": [
    "type(rules)"
   ]
  },
  {
   "cell_type": "code",
   "execution_count": 74,
   "metadata": {},
   "outputs": [],
   "source": [
    "#Convert the Dictionary format into a dataframe\n",
    "rules_df=pd.DataFrame(list(rules.items()), columns=['IP_A', 'confidence'])\n",
    "rules_df['confidence']=rules_df['confidence'].astype(str)\n",
    "\n",
    "rules_df['IP_B'], rules_df['B'] = rules_df['confidence'].str.split(', ', 1).str\n",
    "rules_df=rules_df.drop('confidence', axis=1)\n",
    "rules_df.IP_B=rules_df.IP_B.astype(str)\n",
    "rules_df.IP_A=rules_df.IP_A.astype(str)\n",
    "rules_df.columns=['IP_A', 'IP_B', 'confidence']\n",
    "rules_df[['IP_A', 'IP_B']]=rules_df[['IP_A', 'IP_B']].replace({',':''}, regex=True)\n",
    "\n",
    "rules_df['IP_A'] = rules_df['IP_A'].map(lambda x: x.lstrip('(').rstrip(')'))\n",
    "rules_df['IP_B'] = rules_df['IP_B'].map(lambda x: x.lstrip('((').rstrip(')'))\n",
    "rules_df['confidence'] = rules_df['confidence'].map(lambda x: x.rstrip(')'))\n",
    "rules_df['IP_A'] = rules_df['IP_A'].map(lambda x: x.lstrip(\"'\").rstrip(\"'\"))\n",
    "rules_df['IP_B'] = rules_df['IP_B'].map(lambda x: x.lstrip(\"'\").rstrip(\"'\"))"
   ]
  },
  {
   "cell_type": "code",
   "execution_count": 24,
   "metadata": {},
   "outputs": [
    {
     "ename": "NameError",
     "evalue": "name 'rules40' is not defined",
     "output_type": "error",
     "traceback": [
      "\u001b[0;31m---------------------------------------------------------------------------\u001b[0m",
      "\u001b[0;31mNameError\u001b[0m                                 Traceback (most recent call last)",
      "\u001b[0;32m<ipython-input-24-1b738ed29ccb>\u001b[0m in \u001b[0;36m<module>\u001b[0;34m()\u001b[0m\n\u001b[1;32m      1\u001b[0m \u001b[0;31m#Convert the Dictionary format into a dataframe\u001b[0m\u001b[0;34m\u001b[0m\u001b[0;34m\u001b[0m\u001b[0m\n\u001b[0;32m----> 2\u001b[0;31m \u001b[0mrules_df40\u001b[0m\u001b[0;34m=\u001b[0m\u001b[0mpd\u001b[0m\u001b[0;34m.\u001b[0m\u001b[0mDataFrame\u001b[0m\u001b[0;34m(\u001b[0m\u001b[0mlist\u001b[0m\u001b[0;34m(\u001b[0m\u001b[0mrules40\u001b[0m\u001b[0;34m.\u001b[0m\u001b[0mitems\u001b[0m\u001b[0;34m(\u001b[0m\u001b[0;34m)\u001b[0m\u001b[0;34m)\u001b[0m\u001b[0;34m,\u001b[0m \u001b[0mcolumns\u001b[0m\u001b[0;34m=\u001b[0m\u001b[0;34m[\u001b[0m\u001b[0;34m'IP_A'\u001b[0m\u001b[0;34m,\u001b[0m \u001b[0;34m'confidence'\u001b[0m\u001b[0;34m]\u001b[0m\u001b[0;34m)\u001b[0m\u001b[0;34m\u001b[0m\u001b[0m\n\u001b[0m\u001b[1;32m      3\u001b[0m \u001b[0mrules_df40\u001b[0m\u001b[0;34m[\u001b[0m\u001b[0;34m'confidence'\u001b[0m\u001b[0;34m]\u001b[0m\u001b[0;34m=\u001b[0m\u001b[0mrules_df40\u001b[0m\u001b[0;34m[\u001b[0m\u001b[0;34m'confidence'\u001b[0m\u001b[0;34m]\u001b[0m\u001b[0;34m.\u001b[0m\u001b[0mastype\u001b[0m\u001b[0;34m(\u001b[0m\u001b[0mstr\u001b[0m\u001b[0;34m)\u001b[0m\u001b[0;34m\u001b[0m\u001b[0m\n\u001b[1;32m      4\u001b[0m \u001b[0;34m\u001b[0m\u001b[0m\n\u001b[1;32m      5\u001b[0m \u001b[0mrules_df40\u001b[0m\u001b[0;34m[\u001b[0m\u001b[0;34m'IP_B'\u001b[0m\u001b[0;34m]\u001b[0m\u001b[0;34m,\u001b[0m \u001b[0mrules_df40\u001b[0m\u001b[0;34m[\u001b[0m\u001b[0;34m'B'\u001b[0m\u001b[0;34m]\u001b[0m \u001b[0;34m=\u001b[0m \u001b[0mrules_df40\u001b[0m\u001b[0;34m[\u001b[0m\u001b[0;34m'confidence'\u001b[0m\u001b[0;34m]\u001b[0m\u001b[0;34m.\u001b[0m\u001b[0mstr\u001b[0m\u001b[0;34m.\u001b[0m\u001b[0msplit\u001b[0m\u001b[0;34m(\u001b[0m\u001b[0;34m', '\u001b[0m\u001b[0;34m,\u001b[0m \u001b[0;36m1\u001b[0m\u001b[0;34m)\u001b[0m\u001b[0;34m.\u001b[0m\u001b[0mstr\u001b[0m\u001b[0;34m\u001b[0m\u001b[0m\n",
      "\u001b[0;31mNameError\u001b[0m: name 'rules40' is not defined"
     ]
    }
   ],
   "source": [
    "#Convert the Dictionary format into a dataframe\n",
    "rules_df40=pd.DataFrame(list(rules40.items()), columns=['IP_A', 'confidence'])\n",
    "rules_df40['confidence']=rules_df40['confidence'].astype(str)\n",
    "\n",
    "rules_df40['IP_B'], rules_df40['B'] = rules_df40['confidence'].str.split(', ', 1).str\n",
    "rules_df40=rules_df40.drop('confidence', axis=1)\n",
    "rules_df40.IP_B=rules_df40.IP_B.astype(str)\n",
    "rules_df40.IP_A=rules_df40.IP_A.astype(str)\n",
    "rules_df40.columns=['IP_A', 'IP_B', 'confidence']\n",
    "rules_df40[['IP_A', 'IP_B']]=rules_df40[['IP_A', 'IP_B']].replace({',':''}, regex=True)\n",
    "\n",
    "rules_df40['IP_A'] = rules_df40['IP_A'].map(lambda x: x.lstrip('(').rstrip(')'))\n",
    "rules_df40['IP_B'] = rules_df40['IP_B'].map(lambda x: x.lstrip('((').rstrip(')'))\n",
    "rules_df40['confidence'] = rules_df40['confidence'].map(lambda x: x.rstrip(')'))\n",
    "rules_df40['IP_A'] = rules_df40['IP_A'].map(lambda x: x.lstrip(\"'\").rstrip(\"'\"))\n",
    "rules_df40['IP_B'] = rules_df40['IP_B'].map(lambda x: x.lstrip(\"'\").rstrip(\"'\"))"
   ]
  },
  {
   "cell_type": "code",
   "execution_count": 64,
   "metadata": {},
   "outputs": [
    {
     "data": {
      "text/html": [
       "<div>\n",
       "<style scoped>\n",
       "    .dataframe tbody tr th:only-of-type {\n",
       "        vertical-align: middle;\n",
       "    }\n",
       "\n",
       "    .dataframe tbody tr th {\n",
       "        vertical-align: top;\n",
       "    }\n",
       "\n",
       "    .dataframe thead th {\n",
       "        text-align: right;\n",
       "    }\n",
       "</style>\n",
       "<table border=\"1\" class=\"dataframe\">\n",
       "  <thead>\n",
       "    <tr style=\"text-align: right;\">\n",
       "      <th></th>\n",
       "      <th>IP_A</th>\n",
       "      <th>IP_B</th>\n",
       "      <th>confidence</th>\n",
       "    </tr>\n",
       "  </thead>\n",
       "  <tbody>\n",
       "    <tr>\n",
       "      <th>0</th>\n",
       "      <td>10030_137</td>\n",
       "      <td>192.168.210.49</td>\n",
       "      <td>1.0</td>\n",
       "    </tr>\n",
       "    <tr>\n",
       "      <th>1</th>\n",
       "      <td>14594_192</td>\n",
       "      <td>192.168.220.51</td>\n",
       "      <td>1.0</td>\n",
       "    </tr>\n",
       "    <tr>\n",
       "      <th>2</th>\n",
       "      <td>10759_43</td>\n",
       "      <td>192.168.220.47</td>\n",
       "      <td>1.0</td>\n",
       "    </tr>\n",
       "    <tr>\n",
       "      <th>3</th>\n",
       "      <td>13085_24</td>\n",
       "      <td>192.168.220.49</td>\n",
       "      <td>1.0</td>\n",
       "    </tr>\n",
       "    <tr>\n",
       "      <th>4</th>\n",
       "      <td>14154_89</td>\n",
       "      <td>192.168.210.54</td>\n",
       "      <td>1.0</td>\n",
       "    </tr>\n",
       "  </tbody>\n",
       "</table>\n",
       "</div>"
      ],
      "text/plain": [
       "        IP_A            IP_B confidence\n",
       "0  10030_137  192.168.210.49        1.0\n",
       "1  14594_192  192.168.220.51        1.0\n",
       "2   10759_43  192.168.220.47        1.0\n",
       "3   13085_24  192.168.220.49        1.0\n",
       "4   14154_89  192.168.210.54        1.0"
      ]
     },
     "execution_count": 64,
     "metadata": {},
     "output_type": "execute_result"
    }
   ],
   "source": [
    "rules_df.head()"
   ]
  },
  {
   "cell_type": "code",
   "execution_count": 75,
   "metadata": {},
   "outputs": [],
   "source": [
    "#add back in a pairs column, this is important because the order of IP_A and IP_B does not matter, \n",
    "rules_df['pairs']=list(zip(rules_df.IP_A, rules_df.IP_B))\n",
    "rules_df['pairs']=rules_df['pairs'].apply(sorted)\n",
    "rules_df['pairs2']=tuple(rules_df['pairs'])"
   ]
  },
  {
   "cell_type": "code",
   "execution_count": 34,
   "metadata": {},
   "outputs": [],
   "source": [
    "#add back in a pairs column, this is important because the order of IP_A and IP_B does not matter, \n",
    "rules_df40['pairs']=list(zip(rules_df40.IP_A, rules_df40.IP_B))\n",
    "rules_df40['pairs']=rules_df40['pairs'].apply(sorted)\n",
    "rules_df40['pairs2']=tuple(rules_df40['pairs'])"
   ]
  },
  {
   "cell_type": "markdown",
   "metadata": {},
   "source": [
    "Add back in the normalized latency and frequency of occurance into this rules dataframe."
   ]
  },
  {
   "cell_type": "code",
   "execution_count": 76,
   "metadata": {},
   "outputs": [
    {
     "data": {
      "text/html": [
       "<div>\n",
       "<style scoped>\n",
       "    .dataframe tbody tr th:only-of-type {\n",
       "        vertical-align: middle;\n",
       "    }\n",
       "\n",
       "    .dataframe tbody tr th {\n",
       "        vertical-align: top;\n",
       "    }\n",
       "\n",
       "    .dataframe thead th {\n",
       "        text-align: right;\n",
       "    }\n",
       "</style>\n",
       "<table border=\"1\" class=\"dataframe\">\n",
       "  <thead>\n",
       "    <tr style=\"text-align: right;\">\n",
       "      <th></th>\n",
       "      <th>IP_A</th>\n",
       "      <th>IP_B</th>\n",
       "      <th>confidence</th>\n",
       "      <th>pairs</th>\n",
       "      <th>pairs2</th>\n",
       "      <th>frequency</th>\n",
       "      <th>avg_norm_latency</th>\n",
       "      <th>total_duration</th>\n",
       "      <th>total_packets</th>\n",
       "      <th>norm_latency</th>\n",
       "    </tr>\n",
       "  </thead>\n",
       "  <tbody>\n",
       "    <tr>\n",
       "      <th>0</th>\n",
       "      <td>10030_137</td>\n",
       "      <td>192.168.210.49</td>\n",
       "      <td>1.0</td>\n",
       "      <td>[10030_137, 192.168.210.49]</td>\n",
       "      <td>(10030_137, 192.168.210.49)</td>\n",
       "      <td>126</td>\n",
       "      <td>0.005588</td>\n",
       "      <td>13.268</td>\n",
       "      <td>463</td>\n",
       "      <td>7.259393e-06</td>\n",
       "    </tr>\n",
       "    <tr>\n",
       "      <th>1</th>\n",
       "      <td>14594_192</td>\n",
       "      <td>192.168.220.51</td>\n",
       "      <td>1.0</td>\n",
       "      <td>[14594_192, 192.168.220.51]</td>\n",
       "      <td>(14594_192, 192.168.220.51)</td>\n",
       "      <td>126</td>\n",
       "      <td>0.023760</td>\n",
       "      <td>16.016</td>\n",
       "      <td>311</td>\n",
       "      <td>8.762921e-06</td>\n",
       "    </tr>\n",
       "    <tr>\n",
       "      <th>2</th>\n",
       "      <td>10759_43</td>\n",
       "      <td>192.168.220.47</td>\n",
       "      <td>1.0</td>\n",
       "      <td>[10759_43, 192.168.220.47]</td>\n",
       "      <td>(10759_43, 192.168.220.47)</td>\n",
       "      <td>128</td>\n",
       "      <td>0.004098</td>\n",
       "      <td>1.416</td>\n",
       "      <td>414</td>\n",
       "      <td>7.747437e-07</td>\n",
       "    </tr>\n",
       "    <tr>\n",
       "      <th>3</th>\n",
       "      <td>13085_24</td>\n",
       "      <td>192.168.220.49</td>\n",
       "      <td>1.0</td>\n",
       "      <td>[13085_24, 192.168.220.49]</td>\n",
       "      <td>(13085_24, 192.168.220.49)</td>\n",
       "      <td>128</td>\n",
       "      <td>0.029191</td>\n",
       "      <td>25.497</td>\n",
       "      <td>1608</td>\n",
       "      <td>1.395031e-05</td>\n",
       "    </tr>\n",
       "    <tr>\n",
       "      <th>4</th>\n",
       "      <td>14154_89</td>\n",
       "      <td>192.168.210.54</td>\n",
       "      <td>1.0</td>\n",
       "      <td>[14154_89, 192.168.210.54]</td>\n",
       "      <td>(14154_89, 192.168.210.54)</td>\n",
       "      <td>128</td>\n",
       "      <td>0.007364</td>\n",
       "      <td>7.290</td>\n",
       "      <td>244</td>\n",
       "      <td>3.988617e-06</td>\n",
       "    </tr>\n",
       "  </tbody>\n",
       "</table>\n",
       "</div>"
      ],
      "text/plain": [
       "        IP_A            IP_B confidence                        pairs  \\\n",
       "0  10030_137  192.168.210.49        1.0  [10030_137, 192.168.210.49]   \n",
       "1  14594_192  192.168.220.51        1.0  [14594_192, 192.168.220.51]   \n",
       "2   10759_43  192.168.220.47        1.0   [10759_43, 192.168.220.47]   \n",
       "3   13085_24  192.168.220.49        1.0   [13085_24, 192.168.220.49]   \n",
       "4   14154_89  192.168.210.54        1.0   [14154_89, 192.168.210.54]   \n",
       "\n",
       "                        pairs2  frequency  avg_norm_latency  total_duration  \\\n",
       "0  (10030_137, 192.168.210.49)        126          0.005588          13.268   \n",
       "1  (14594_192, 192.168.220.51)        126          0.023760          16.016   \n",
       "2   (10759_43, 192.168.220.47)        128          0.004098           1.416   \n",
       "3   (13085_24, 192.168.220.49)        128          0.029191          25.497   \n",
       "4   (14154_89, 192.168.210.54)        128          0.007364           7.290   \n",
       "\n",
       "   total_packets  norm_latency  \n",
       "0            463  7.259393e-06  \n",
       "1            311  8.762921e-06  \n",
       "2            414  7.747437e-07  \n",
       "3           1608  1.395031e-05  \n",
       "4            244  3.988617e-06  "
      ]
     },
     "execution_count": 76,
     "metadata": {},
     "output_type": "execute_result"
    }
   ],
   "source": [
    "rules_df=rules_df.merge(pairs_count, left_on='pairs2', right_on='pairs')\n",
    "rules_df=rules_df.drop('pairs_y', axis=1)\n",
    "rules_df=rules_df.rename(columns={'pairs_x':'pairs'})\n",
    "rules_df.head()"
   ]
  },
  {
   "cell_type": "code",
   "execution_count": 77,
   "metadata": {},
   "outputs": [
    {
     "data": {
      "text/plain": [
       "329"
      ]
     },
     "execution_count": 77,
     "metadata": {},
     "output_type": "execute_result"
    }
   ],
   "source": [
    "len(rules_df)"
   ]
  },
  {
   "cell_type": "code",
   "execution_count": 68,
   "metadata": {},
   "outputs": [
    {
     "ename": "NameError",
     "evalue": "name 'rules_df40' is not defined",
     "output_type": "error",
     "traceback": [
      "\u001b[0;31m---------------------------------------------------------------------------\u001b[0m",
      "\u001b[0;31mNameError\u001b[0m                                 Traceback (most recent call last)",
      "\u001b[0;32m<ipython-input-68-4d179a731406>\u001b[0m in \u001b[0;36m<module>\u001b[0;34m()\u001b[0m\n\u001b[0;32m----> 1\u001b[0;31m \u001b[0mrules_df40\u001b[0m\u001b[0;34m=\u001b[0m\u001b[0mrules_df40\u001b[0m\u001b[0;34m.\u001b[0m\u001b[0mmerge\u001b[0m\u001b[0;34m(\u001b[0m\u001b[0mpairs_count\u001b[0m\u001b[0;34m,\u001b[0m \u001b[0mleft_on\u001b[0m\u001b[0;34m=\u001b[0m\u001b[0;34m'pairs2'\u001b[0m\u001b[0;34m,\u001b[0m \u001b[0mright_on\u001b[0m\u001b[0;34m=\u001b[0m\u001b[0;34m'pairs'\u001b[0m\u001b[0;34m)\u001b[0m\u001b[0;34m\u001b[0m\u001b[0m\n\u001b[0m\u001b[1;32m      2\u001b[0m \u001b[0mrules_df40\u001b[0m\u001b[0;34m=\u001b[0m\u001b[0mrules_df40\u001b[0m\u001b[0;34m.\u001b[0m\u001b[0mdrop\u001b[0m\u001b[0;34m(\u001b[0m\u001b[0;34m'pairs_y'\u001b[0m\u001b[0;34m,\u001b[0m \u001b[0maxis\u001b[0m\u001b[0;34m=\u001b[0m\u001b[0;36m1\u001b[0m\u001b[0;34m)\u001b[0m\u001b[0;34m\u001b[0m\u001b[0m\n\u001b[1;32m      3\u001b[0m \u001b[0mrules_df40\u001b[0m\u001b[0;34m=\u001b[0m\u001b[0mrules_df40\u001b[0m\u001b[0;34m.\u001b[0m\u001b[0mrename\u001b[0m\u001b[0;34m(\u001b[0m\u001b[0mcolumns\u001b[0m\u001b[0;34m=\u001b[0m\u001b[0;34m{\u001b[0m\u001b[0;34m'pairs_x'\u001b[0m\u001b[0;34m:\u001b[0m\u001b[0;34m'pairs'\u001b[0m\u001b[0;34m}\u001b[0m\u001b[0;34m)\u001b[0m\u001b[0;34m\u001b[0m\u001b[0m\n",
      "\u001b[0;31mNameError\u001b[0m: name 'rules_df40' is not defined"
     ]
    }
   ],
   "source": [
    "rules_df40=rules_df40.merge(pairs_count, left_on='pairs2', right_on='pairs')\n",
    "rules_df40=rules_df40.drop('pairs_y', axis=1)\n",
    "rules_df40=rules_df40.rename(columns={'pairs_x':'pairs'})"
   ]
  },
  {
   "cell_type": "markdown",
   "metadata": {},
   "source": [
    "### now plot the normalized latency vs frequency and see if we have any trends"
   ]
  },
  {
   "cell_type": "code",
   "execution_count": 38,
   "metadata": {},
   "outputs": [
    {
     "data": {
      "text/plain": [
       "Text(0.5,0,'IP pair frequency of occurance')"
      ]
     },
     "execution_count": 38,
     "metadata": {},
     "output_type": "execute_result"
    },
    {
     "data": {
      "image/png": "[encoded data removed]",
      "text/plain": [
       "<Figure size 432x288 with 1 Axes>"
      ]
     },
     "metadata": {
      "needs_background": "light"
     },
     "output_type": "display_data"
    }
   ],
   "source": [
    "plt.scatter(rules_df['frequency'], rules_df['norm_latency'])\n",
    "plt.ylabel('normalized latency (latency/packets)')\n",
    "plt.xlabel('IP pair frequency of occurance')\n",
    "#plt.ylim(-0.001, 0.015)"
   ]
  },
  {
   "cell_type": "markdown",
   "metadata": {},
   "source": [
    "#### Comparing this plot to the earlier plot of all IP pairs, we see two things:\n",
    "    1. the left arm on the plot with all datapoints at the x-axis=0 is gone, this indicates that the model did not allow IP pairs with very low frequency. This is intuitive because of the min threshold we set for 'support' (which is simply frequency) equal to xx.\n",
    "    2. The x-axis is significantly shorter than the plot with all datapoints. This is due to the 'confidence' threshold we selected when creating the rules. This means that it is hard for the model to be as certain that an IP is likely to co-occur at higher frequency. This is counter intuitive, but is likely explained by the definition of confidience: frequency of X and Y occuring/ frequency of X occuring in entire dataset. Conditional probability of Y given X. Even if a pair has a high frequency of occuring, the frequency of X alone might be so great that it drowns out the signal of detecting the pair.\n",
    "    "
   ]
  },
  {
   "cell_type": "markdown",
   "metadata": {},
   "source": [
    "### rank these based on these trends... see how time cumulates as rank goes up, do we reach a threshold?"
   ]
  },
  {
   "cell_type": "markdown",
   "metadata": {},
   "source": [
    "Simple ranking approach:\n",
    "    Multiply the pair frequency of occurance by the normal latency duration time for that pair. We are simply giving higher priority to pairs that are slow, so even if they are not that frequent they will still be ranked higher because we have more to gain by co-locating them and reducing latency. \n",
    "    \n",
    "    for example if pair A appears 100 times, and has a normal latency of 0.005 it's score = 100*0.005 = 0.5\n",
    "    if a pair B appears 100 times, and has a normal latency of 0.02, it's score = 100/0.02 = 2.0\n",
    "    \n",
    "    Pair B is given a higher score (rank) than Pair A, even though they both had the same frequency, pair B is prioritized because it is slow and costs us time and money. Let's get them co-located!"
   ]
  },
  {
   "cell_type": "code",
   "execution_count": 78,
   "metadata": {},
   "outputs": [],
   "source": [
    "rules_df['latency_rank']=rules_df['frequency']*rules_df['norm_latency']"
   ]
  },
  {
   "cell_type": "code",
   "execution_count": 40,
   "metadata": {},
   "outputs": [],
   "source": [
    "rules_df40['latency_rank']=rules_df40['frequency']*rules_df40['norm_latency']"
   ]
  },
  {
   "cell_type": "markdown",
   "metadata": {},
   "source": [
    "## Assign Servers to each IP address in the rules dataframe\n",
    "\n",
    "Start with the highest rank IP pair, assign matching servers and then move on to the next highest rank pair until that server is full. This is a 'dumb' approach, but  it clearly assigns things based on priority and gets a proof of concept. Because IP addresses repeat throughout the rules dataset, we will remove repeated IPs leaving the highest ranked IP.\n",
    "\n",
    "For this exercise we assume a server can hold 20 apps, or 10 pairs"
   ]
  },
  {
   "cell_type": "code",
   "execution_count": 79,
   "metadata": {},
   "outputs": [],
   "source": [
    "rules_df=rules_df.sort_values(by='latency_rank', ascending=False)"
   ]
  },
  {
   "cell_type": "code",
   "execution_count": 42,
   "metadata": {},
   "outputs": [],
   "source": [
    "rules_df40=rules_df40.sort_values(by='latency_rank', ascending=False)"
   ]
  },
  {
   "cell_type": "code",
   "execution_count": 80,
   "metadata": {},
   "outputs": [],
   "source": [
    "#1. Start by filling in the servers on the pairs until the server is full\n",
    "import math\n",
    "apps_server=20 #number of apps that can fit on each server, arbitrary pick\n",
    "pairs_server=apps_server/2 #pairs of IP addresses that can fit on each server\n",
    "\n",
    "#how many servers do we need for our rules, which are in pairs?\n",
    "servers_rule=math.ceil(len(rules_df)/pairs_server)\n",
    "\n",
    "servers_rule_list=list(range(0,servers_rule+1))\n",
    "servers_rule_list=np.repeat(servers_rule_list,pairs_server)\n",
    "\n",
    "#remove the extra items\n",
    "servers_rule_list=servers_rule_list[0:len(rules_df)]"
   ]
  },
  {
   "cell_type": "code",
   "execution_count": 44,
   "metadata": {},
   "outputs": [],
   "source": [
    "#1. Start by filling in the servers on the pairs until the server is full for the 40th percentile model\n",
    "\n",
    "#how many servers do we need for our rules, which are in pairs?\n",
    "servers_rule40=math.ceil(len(rules_df40)/pairs_server)\n",
    "\n",
    "servers_rule_list40=list(range(0,servers_rule40+1))\n",
    "servers_rule_list40=np.repeat(servers_rule_list40,pairs_server)\n",
    "\n",
    "#remove the extra items\n",
    "servers_rule_list40=servers_rule_list40[0:len(rules_df40)]"
   ]
  },
  {
   "cell_type": "code",
   "execution_count": 81,
   "metadata": {},
   "outputs": [
    {
     "data": {
      "text/html": [
       "<div>\n",
       "<style scoped>\n",
       "    .dataframe tbody tr th:only-of-type {\n",
       "        vertical-align: middle;\n",
       "    }\n",
       "\n",
       "    .dataframe tbody tr th {\n",
       "        vertical-align: top;\n",
       "    }\n",
       "\n",
       "    .dataframe thead th {\n",
       "        text-align: right;\n",
       "    }\n",
       "</style>\n",
       "<table border=\"1\" class=\"dataframe\">\n",
       "  <thead>\n",
       "    <tr style=\"text-align: right;\">\n",
       "      <th></th>\n",
       "      <th>IP_A</th>\n",
       "      <th>IP_B</th>\n",
       "      <th>confidence</th>\n",
       "      <th>pairs</th>\n",
       "      <th>pairs2</th>\n",
       "      <th>frequency</th>\n",
       "      <th>avg_norm_latency</th>\n",
       "      <th>total_duration</th>\n",
       "      <th>total_packets</th>\n",
       "      <th>norm_latency</th>\n",
       "      <th>latency_rank</th>\n",
       "      <th>pair_ID</th>\n",
       "      <th>server_A</th>\n",
       "      <th>server_B</th>\n",
       "    </tr>\n",
       "  </thead>\n",
       "  <tbody>\n",
       "    <tr>\n",
       "      <th>326</th>\n",
       "      <td>13053_118</td>\n",
       "      <td>192.168.210.56</td>\n",
       "      <td>1.0</td>\n",
       "      <td>[13053_118, 192.168.210.56]</td>\n",
       "      <td>(13053_118, 192.168.210.56)</td>\n",
       "      <td>12439</td>\n",
       "      <td>0.255143</td>\n",
       "      <td>15736.067</td>\n",
       "      <td>44427</td>\n",
       "      <td>0.008610</td>\n",
       "      <td>107.096797</td>\n",
       "      <td>0</td>\n",
       "      <td>0</td>\n",
       "      <td>0</td>\n",
       "    </tr>\n",
       "    <tr>\n",
       "      <th>299</th>\n",
       "      <td>13049_193</td>\n",
       "      <td>192.168.210.56</td>\n",
       "      <td>1.0</td>\n",
       "      <td>[13049_193, 192.168.210.56]</td>\n",
       "      <td>(13049_193, 192.168.210.56)</td>\n",
       "      <td>1775</td>\n",
       "      <td>0.372031</td>\n",
       "      <td>79345.558</td>\n",
       "      <td>245786</td>\n",
       "      <td>0.043413</td>\n",
       "      <td>77.057656</td>\n",
       "      <td>1</td>\n",
       "      <td>None</td>\n",
       "      <td>None</td>\n",
       "    </tr>\n",
       "    <tr>\n",
       "      <th>317</th>\n",
       "      <td>13053_106</td>\n",
       "      <td>192.168.210.56</td>\n",
       "      <td>1.0</td>\n",
       "      <td>[13053_106, 192.168.210.56]</td>\n",
       "      <td>(13053_106, 192.168.210.56)</td>\n",
       "      <td>7180</td>\n",
       "      <td>0.343261</td>\n",
       "      <td>14717.209</td>\n",
       "      <td>31305</td>\n",
       "      <td>0.008052</td>\n",
       "      <td>57.815558</td>\n",
       "      <td>2</td>\n",
       "      <td>None</td>\n",
       "      <td>None</td>\n",
       "    </tr>\n",
       "    <tr>\n",
       "      <th>322</th>\n",
       "      <td>10272_44</td>\n",
       "      <td>192.168.220.51</td>\n",
       "      <td>1.0</td>\n",
       "      <td>[10272_44, 192.168.220.51]</td>\n",
       "      <td>(10272_44, 192.168.220.51)</td>\n",
       "      <td>10094</td>\n",
       "      <td>0.091117</td>\n",
       "      <td>3665.353</td>\n",
       "      <td>26275</td>\n",
       "      <td>0.002005</td>\n",
       "      <td>20.242956</td>\n",
       "      <td>3</td>\n",
       "      <td>None</td>\n",
       "      <td>None</td>\n",
       "    </tr>\n",
       "    <tr>\n",
       "      <th>319</th>\n",
       "      <td>14170_51</td>\n",
       "      <td>192.168.220.51</td>\n",
       "      <td>1.0</td>\n",
       "      <td>[14170_51, 192.168.220.51]</td>\n",
       "      <td>(14170_51, 192.168.220.51)</td>\n",
       "      <td>8094</td>\n",
       "      <td>0.022052</td>\n",
       "      <td>1881.134</td>\n",
       "      <td>26460</td>\n",
       "      <td>0.001029</td>\n",
       "      <td>8.330628</td>\n",
       "      <td>4</td>\n",
       "      <td>None</td>\n",
       "      <td>None</td>\n",
       "    </tr>\n",
       "  </tbody>\n",
       "</table>\n",
       "</div>"
      ],
      "text/plain": [
       "          IP_A            IP_B confidence                        pairs  \\\n",
       "326  13053_118  192.168.210.56        1.0  [13053_118, 192.168.210.56]   \n",
       "299  13049_193  192.168.210.56        1.0  [13049_193, 192.168.210.56]   \n",
       "317  13053_106  192.168.210.56        1.0  [13053_106, 192.168.210.56]   \n",
       "322   10272_44  192.168.220.51        1.0   [10272_44, 192.168.220.51]   \n",
       "319   14170_51  192.168.220.51        1.0   [14170_51, 192.168.220.51]   \n",
       "\n",
       "                          pairs2  frequency  avg_norm_latency  total_duration  \\\n",
       "326  (13053_118, 192.168.210.56)      12439          0.255143       15736.067   \n",
       "299  (13049_193, 192.168.210.56)       1775          0.372031       79345.558   \n",
       "317  (13053_106, 192.168.210.56)       7180          0.343261       14717.209   \n",
       "322   (10272_44, 192.168.220.51)      10094          0.091117        3665.353   \n",
       "319   (14170_51, 192.168.220.51)       8094          0.022052        1881.134   \n",
       "\n",
       "     total_packets  norm_latency  latency_rank  pair_ID server_A server_B  \n",
       "326          44427      0.008610    107.096797        0        0        0  \n",
       "299         245786      0.043413     77.057656        1     None     None  \n",
       "317          31305      0.008052     57.815558        2     None     None  \n",
       "322          26275      0.002005     20.242956        3     None     None  \n",
       "319          26460      0.001029      8.330628        4     None     None  "
      ]
     },
     "execution_count": 81,
     "metadata": {},
     "output_type": "execute_result"
    }
   ],
   "source": [
    "# add a pair_ID column so we can keep track of how frequently IP addresses repeat in different pairs\n",
    "rules_df['pair_ID']=range(0, len(rules_df))\n",
    "#start by assigning the most important pair to a server\n",
    "rules_df['server_A']=None\n",
    "rules_df['server_B']=None\n",
    "rules_df.loc[rules_df['pair_ID']==0, 'server_A'] = 0\n",
    "rules_df.loc[rules_df['pair_ID']==0, 'server_B'] = 0\n",
    "rules_df.head()"
   ]
  },
  {
   "cell_type": "code",
   "execution_count": 56,
   "metadata": {},
   "outputs": [
    {
     "ename": "NameError",
     "evalue": "name 'rules_df40' is not defined",
     "output_type": "error",
     "traceback": [
      "\u001b[0;31m---------------------------------------------------------------------------\u001b[0m",
      "\u001b[0;31mNameError\u001b[0m                                 Traceback (most recent call last)",
      "\u001b[0;32m<ipython-input-56-3d5cc11c36c8>\u001b[0m in \u001b[0;36m<module>\u001b[0;34m()\u001b[0m\n\u001b[1;32m      1\u001b[0m \u001b[0;31m# add a pair_ID column so we can keep track of how frequently IP addresses repeat in different pairs\u001b[0m\u001b[0;34m\u001b[0m\u001b[0;34m\u001b[0m\u001b[0m\n\u001b[0;32m----> 2\u001b[0;31m \u001b[0mrules_df40\u001b[0m\u001b[0;34m[\u001b[0m\u001b[0;34m'pair_ID'\u001b[0m\u001b[0;34m]\u001b[0m\u001b[0;34m=\u001b[0m\u001b[0mrange\u001b[0m\u001b[0;34m(\u001b[0m\u001b[0;36m0\u001b[0m\u001b[0;34m,\u001b[0m \u001b[0mlen\u001b[0m\u001b[0;34m(\u001b[0m\u001b[0mrules_df40\u001b[0m\u001b[0;34m)\u001b[0m\u001b[0;34m)\u001b[0m\u001b[0;34m\u001b[0m\u001b[0m\n\u001b[0m\u001b[1;32m      3\u001b[0m \u001b[0;31m#start by assigning the most important pair to a server\u001b[0m\u001b[0;34m\u001b[0m\u001b[0;34m\u001b[0m\u001b[0m\n\u001b[1;32m      4\u001b[0m \u001b[0mrules_df40\u001b[0m\u001b[0;34m[\u001b[0m\u001b[0;34m'server_A'\u001b[0m\u001b[0;34m]\u001b[0m\u001b[0;34m=\u001b[0m\u001b[0;32mNone\u001b[0m\u001b[0;34m\u001b[0m\u001b[0m\n\u001b[1;32m      5\u001b[0m \u001b[0mrules_df40\u001b[0m\u001b[0;34m[\u001b[0m\u001b[0;34m'server_B'\u001b[0m\u001b[0;34m]\u001b[0m\u001b[0;34m=\u001b[0m\u001b[0;32mNone\u001b[0m\u001b[0;34m\u001b[0m\u001b[0m\n",
      "\u001b[0;31mNameError\u001b[0m: name 'rules_df40' is not defined"
     ]
    }
   ],
   "source": [
    "# add a pair_ID column so we can keep track of how frequently IP addresses repeat in different pairs\n",
    "rules_df40['pair_ID']=range(0, len(rules_df40))\n",
    "#start by assigning the most important pair to a server\n",
    "rules_df40['server_A']=None\n",
    "rules_df40['server_B']=None\n",
    "rules_df40.loc[rules_df40['pair_ID']==0, 'server_A'] = 0\n",
    "rules_df40.loc[rules_df40['pair_ID']==0, 'server_B'] = 0"
   ]
  },
  {
   "cell_type": "code",
   "execution_count": 84,
   "metadata": {},
   "outputs": [],
   "source": [
    "#assign these servers to the pairs in our rules dataframe. Again this is stupid as we are not considering individual IPs that may repeat in different pairs. but it's a start\n",
    "rules_df['server']=servers_rule_list\n",
    "rules_df.head()\n",
    "#export rules_df\n",
    "rules_df.to_csv('rules_df.csv')"
   ]
  },
  {
   "cell_type": "code",
   "execution_count": 57,
   "metadata": {},
   "outputs": [
    {
     "data": {
      "text/plain": [
       "1681"
      ]
     },
     "execution_count": 57,
     "metadata": {},
     "output_type": "execute_result"
    }
   ],
   "source": [
    "len(rules_df40)"
   ]
  },
  {
   "cell_type": "code",
   "execution_count": 49,
   "metadata": {},
   "outputs": [],
   "source": [
    "#assign these servers to the pairs in our rules dataframe. Again this is stupid as we are not considering individual IPs that may repeat in different pairs. but it's a start\n",
    "rules_df40['server']=servers_rule_list40\n",
    "rules_df40.head()\n",
    "#export rules_df\n",
    "rules_df40.to_csv('rules_df40.csv')"
   ]
  },
  {
   "cell_type": "code",
   "execution_count": null,
   "metadata": {},
   "outputs": [],
   "source": []
  },
  {
   "cell_type": "code",
   "execution_count": 85,
   "metadata": {},
   "outputs": [
    {
     "data": {
      "text/html": [
       "<div>\n",
       "<style scoped>\n",
       "    .dataframe tbody tr th:only-of-type {\n",
       "        vertical-align: middle;\n",
       "    }\n",
       "\n",
       "    .dataframe tbody tr th {\n",
       "        vertical-align: top;\n",
       "    }\n",
       "\n",
       "    .dataframe thead th {\n",
       "        text-align: right;\n",
       "    }\n",
       "</style>\n",
       "<table border=\"1\" class=\"dataframe\">\n",
       "  <thead>\n",
       "    <tr style=\"text-align: right;\">\n",
       "      <th></th>\n",
       "      <th>IP_A</th>\n",
       "      <th>IP_B</th>\n",
       "      <th>confidence</th>\n",
       "      <th>pairs</th>\n",
       "      <th>pairs2</th>\n",
       "      <th>frequency</th>\n",
       "      <th>avg_norm_latency</th>\n",
       "      <th>total_duration</th>\n",
       "      <th>total_packets</th>\n",
       "      <th>norm_latency</th>\n",
       "      <th>latency_rank</th>\n",
       "      <th>pair_ID</th>\n",
       "      <th>server_A</th>\n",
       "      <th>server_B</th>\n",
       "      <th>server</th>\n",
       "    </tr>\n",
       "  </thead>\n",
       "  <tbody>\n",
       "    <tr>\n",
       "      <th>326</th>\n",
       "      <td>13053_118</td>\n",
       "      <td>192.168.210.56</td>\n",
       "      <td>1.0</td>\n",
       "      <td>[13053_118, 192.168.210.56]</td>\n",
       "      <td>(13053_118, 192.168.210.56)</td>\n",
       "      <td>12439</td>\n",
       "      <td>0.255143</td>\n",
       "      <td>15736.067</td>\n",
       "      <td>44427</td>\n",
       "      <td>0.008610</td>\n",
       "      <td>107.096797</td>\n",
       "      <td>0</td>\n",
       "      <td>0</td>\n",
       "      <td>0</td>\n",
       "      <td>0</td>\n",
       "    </tr>\n",
       "    <tr>\n",
       "      <th>299</th>\n",
       "      <td>13049_193</td>\n",
       "      <td>192.168.210.56</td>\n",
       "      <td>1.0</td>\n",
       "      <td>[13049_193, 192.168.210.56]</td>\n",
       "      <td>(13049_193, 192.168.210.56)</td>\n",
       "      <td>1775</td>\n",
       "      <td>0.372031</td>\n",
       "      <td>79345.558</td>\n",
       "      <td>245786</td>\n",
       "      <td>0.043413</td>\n",
       "      <td>77.057656</td>\n",
       "      <td>1</td>\n",
       "      <td>None</td>\n",
       "      <td>None</td>\n",
       "      <td>0</td>\n",
       "    </tr>\n",
       "    <tr>\n",
       "      <th>317</th>\n",
       "      <td>13053_106</td>\n",
       "      <td>192.168.210.56</td>\n",
       "      <td>1.0</td>\n",
       "      <td>[13053_106, 192.168.210.56]</td>\n",
       "      <td>(13053_106, 192.168.210.56)</td>\n",
       "      <td>7180</td>\n",
       "      <td>0.343261</td>\n",
       "      <td>14717.209</td>\n",
       "      <td>31305</td>\n",
       "      <td>0.008052</td>\n",
       "      <td>57.815558</td>\n",
       "      <td>2</td>\n",
       "      <td>None</td>\n",
       "      <td>None</td>\n",
       "      <td>0</td>\n",
       "    </tr>\n",
       "    <tr>\n",
       "      <th>322</th>\n",
       "      <td>10272_44</td>\n",
       "      <td>192.168.220.51</td>\n",
       "      <td>1.0</td>\n",
       "      <td>[10272_44, 192.168.220.51]</td>\n",
       "      <td>(10272_44, 192.168.220.51)</td>\n",
       "      <td>10094</td>\n",
       "      <td>0.091117</td>\n",
       "      <td>3665.353</td>\n",
       "      <td>26275</td>\n",
       "      <td>0.002005</td>\n",
       "      <td>20.242956</td>\n",
       "      <td>3</td>\n",
       "      <td>None</td>\n",
       "      <td>None</td>\n",
       "      <td>0</td>\n",
       "    </tr>\n",
       "    <tr>\n",
       "      <th>319</th>\n",
       "      <td>14170_51</td>\n",
       "      <td>192.168.220.51</td>\n",
       "      <td>1.0</td>\n",
       "      <td>[14170_51, 192.168.220.51]</td>\n",
       "      <td>(14170_51, 192.168.220.51)</td>\n",
       "      <td>8094</td>\n",
       "      <td>0.022052</td>\n",
       "      <td>1881.134</td>\n",
       "      <td>26460</td>\n",
       "      <td>0.001029</td>\n",
       "      <td>8.330628</td>\n",
       "      <td>4</td>\n",
       "      <td>None</td>\n",
       "      <td>None</td>\n",
       "      <td>0</td>\n",
       "    </tr>\n",
       "  </tbody>\n",
       "</table>\n",
       "</div>"
      ],
      "text/plain": [
       "          IP_A            IP_B confidence                        pairs  \\\n",
       "326  13053_118  192.168.210.56        1.0  [13053_118, 192.168.210.56]   \n",
       "299  13049_193  192.168.210.56        1.0  [13049_193, 192.168.210.56]   \n",
       "317  13053_106  192.168.210.56        1.0  [13053_106, 192.168.210.56]   \n",
       "322   10272_44  192.168.220.51        1.0   [10272_44, 192.168.220.51]   \n",
       "319   14170_51  192.168.220.51        1.0   [14170_51, 192.168.220.51]   \n",
       "\n",
       "                          pairs2  frequency  avg_norm_latency  total_duration  \\\n",
       "326  (13053_118, 192.168.210.56)      12439          0.255143       15736.067   \n",
       "299  (13049_193, 192.168.210.56)       1775          0.372031       79345.558   \n",
       "317  (13053_106, 192.168.210.56)       7180          0.343261       14717.209   \n",
       "322   (10272_44, 192.168.220.51)      10094          0.091117        3665.353   \n",
       "319   (14170_51, 192.168.220.51)       8094          0.022052        1881.134   \n",
       "\n",
       "     total_packets  norm_latency  latency_rank  pair_ID server_A server_B  \\\n",
       "326          44427      0.008610    107.096797        0        0        0   \n",
       "299         245786      0.043413     77.057656        1     None     None   \n",
       "317          31305      0.008052     57.815558        2     None     None   \n",
       "322          26275      0.002005     20.242956        3     None     None   \n",
       "319          26460      0.001029      8.330628        4     None     None   \n",
       "\n",
       "     server  \n",
       "326       0  \n",
       "299       0  \n",
       "317       0  \n",
       "322       0  \n",
       "319       0  "
      ]
     },
     "execution_count": 85,
     "metadata": {},
     "output_type": "execute_result"
    }
   ],
   "source": [
    "rules_df.head()"
   ]
  },
  {
   "cell_type": "code",
   "execution_count": null,
   "metadata": {},
   "outputs": [],
   "source": []
  }
 ],
 "metadata": {
  "kernelspec": {
   "display_name": "Python [conda env:anaconda3]",
   "language": "python",
   "name": "conda-env-anaconda3-py"
  },
  "language_info": {
   "codemirror_mode": {
    "name": "ipython",
    "version": 3
   },
   "file_extension": ".py",
   "mimetype": "text/x-python",
   "name": "python",
   "nbconvert_exporter": "python",
   "pygments_lexer": "ipython3",
   "version": "3.6.4"
  }
 },
 "nbformat": 4,
 "nbformat_minor": 2
}
