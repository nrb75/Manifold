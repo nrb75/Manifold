{
 "cells": [
  {
   "cell_type": "code",
   "execution_count": 1,
   "metadata": {},
   "outputs": [],
   "source": [
    "import boto3\n",
    "import pandas as pd\n",
    "import numpy as np\n",
    "import matplotlib.pyplot as plt\n",
    "from io import BytesIO\n",
    "from mlxtend.preprocessing import TransactionEncoder\n",
    "import random\n",
    "from mlxtend.frequent_patterns import apriori\n",
    "import pyfpgrowth\n",
    "from format_rules import format_rules\n",
    "#from server_association import server_association\n",
    "from Server_Assign import server_association\n",
    "#from apyori import apriori "
   ]
  },
  {
   "cell_type": "code",
   "execution_count": 2,
   "metadata": {},
   "outputs": [],
   "source": [
    "#load data\n",
    "#df=pd.read_csv('/home/natalie/Documents/Manifold/df_test.csv')\n",
    "client = boto3.client('s3')\n",
    "obj = client.get_object(Bucket='manifolddata', Key='week1.csv')\n",
    "df = pd.read_csv(BytesIO(obj['Body'].read()), low_memory=False)\n",
    "\n",
    "\n",
    "df=df.iloc[:,[0,1,3,4,5,6,7,8]]\n",
    "df.columns=['Date', 'Duration', 'Src_IP', 'Src_pt', 'Dst_IP', 'Dst_pt','Packets', 'Bytes']\n",
    "#add an date column that is rounded to nearest hour, so we can use this as a timestep to see how frequently IP pairs occur in each timestep\n",
    "df['Date']=pd.to_datetime(df['Date'], format=\"%Y-%m-%d %H:%M:%S.%f\", errors = 'coerce')\n",
    "df['date_hr']=pd.Series(df['Date']).dt.round(\"H\")\n"
   ]
  },
  {
   "cell_type": "code",
   "execution_count": 3,
   "metadata": {},
   "outputs": [],
   "source": [
    "#create a pair column, which is a touple of the src and dst IP, sorted. \n",
    "#It does not matter which call came first, we simply want to know which pair occurs most frequently.\n",
    "\n",
    "df['pairs']=list(zip(df.Src_IP, df.Dst_IP))\n",
    "df['pairs']=df['pairs'].apply(sorted)\n",
    "df['pairs2']=tuple(df['pairs'])\n",
    "#create a normalized latency column = duration/packets\n",
    "df['norm_latency']=df['Duration']/df['Packets']"
   ]
  },
  {
   "cell_type": "code",
   "execution_count": 4,
   "metadata": {},
   "outputs": [],
   "source": [
    "def convert_si_to_number(x):\n",
    "    total_stars = 0\n",
    "    if 'k' in x:\n",
    "        if len(x) > 1:\n",
    "            total_stars = float(x.replace('k', '')) * 1000 # convert k to a thousand\n",
    "    elif 'M' in x:\n",
    "        if len(x) > 1:\n",
    "            total_stars = float(x.replace('M', '')) * 1000000 # convert M to a million\n",
    "    elif 'B' in x:\n",
    "        total_stars = float(x.replace('B', '')) * 1000000000 # convert B to a Billion\n",
    "    else:\n",
    "        total_stars = int(x) # Less than 1000\n",
    "    return int(total_stars)"
   ]
  },
  {
   "cell_type": "code",
   "execution_count": 5,
   "metadata": {},
   "outputs": [],
   "source": [
    "df.Bytes=df.Bytes.astype('str')\n",
    "test_list=df.Bytes\n",
    "\n",
    "[i for i, s in enumerate(test_list) if 'M' in s]#show where the M errors are happening\n",
    "\n",
    "test_list= [convert_si_to_number(x) for x in test_list]\n",
    "df.Bytes=test_list #bring it back into the dataframe\n"
   ]
  },
  {
   "cell_type": "code",
   "execution_count": 9,
   "metadata": {},
   "outputs": [],
   "source": [
    "#add hour column, where it is a value 1-24, and repeats each day\n",
    "df['hour']=None\n",
    "df['hour']=pd.DatetimeIndex(df['Date']).hour\n",
    "\n",
    "#lambda x: x[0]).head()"
   ]
  },
  {
   "cell_type": "code",
   "execution_count": 10,
   "metadata": {},
   "outputs": [
    {
     "data": {
      "text/html": [
       "<div>\n",
       "<style scoped>\n",
       "    .dataframe tbody tr th:only-of-type {\n",
       "        vertical-align: middle;\n",
       "    }\n",
       "\n",
       "    .dataframe tbody tr th {\n",
       "        vertical-align: top;\n",
       "    }\n",
       "\n",
       "    .dataframe thead th {\n",
       "        text-align: right;\n",
       "    }\n",
       "</style>\n",
       "<table border=\"1\" class=\"dataframe\">\n",
       "  <thead>\n",
       "    <tr style=\"text-align: right;\">\n",
       "      <th></th>\n",
       "      <th>Date</th>\n",
       "      <th>Duration</th>\n",
       "      <th>Src_IP</th>\n",
       "      <th>Src_pt</th>\n",
       "      <th>Dst_IP</th>\n",
       "      <th>Dst_pt</th>\n",
       "      <th>Packets</th>\n",
       "      <th>Bytes</th>\n",
       "      <th>date_hr</th>\n",
       "      <th>pairs</th>\n",
       "      <th>pairs2</th>\n",
       "      <th>norm_latency</th>\n",
       "      <th>hour</th>\n",
       "    </tr>\n",
       "  </thead>\n",
       "  <tbody>\n",
       "    <tr>\n",
       "      <th>0</th>\n",
       "      <td>2017-08-02 00:00:00.419</td>\n",
       "      <td>0.003</td>\n",
       "      <td>192.168.210.55</td>\n",
       "      <td>44870</td>\n",
       "      <td>192.168.100.11</td>\n",
       "      <td>445.0</td>\n",
       "      <td>2</td>\n",
       "      <td>174</td>\n",
       "      <td>2017-08-02</td>\n",
       "      <td>[192.168.100.11, 192.168.210.55]</td>\n",
       "      <td>(192.168.100.11, 192.168.210.55)</td>\n",
       "      <td>0.0015</td>\n",
       "      <td>0</td>\n",
       "    </tr>\n",
       "    <tr>\n",
       "      <th>1</th>\n",
       "      <td>2017-08-02 00:00:00.421</td>\n",
       "      <td>0.000</td>\n",
       "      <td>192.168.100.11</td>\n",
       "      <td>445</td>\n",
       "      <td>192.168.210.55</td>\n",
       "      <td>44870.0</td>\n",
       "      <td>1</td>\n",
       "      <td>108</td>\n",
       "      <td>2017-08-02</td>\n",
       "      <td>[192.168.100.11, 192.168.210.55]</td>\n",
       "      <td>(192.168.100.11, 192.168.210.55)</td>\n",
       "      <td>0.0000</td>\n",
       "      <td>0</td>\n",
       "    </tr>\n",
       "    <tr>\n",
       "      <th>2</th>\n",
       "      <td>2017-08-02 00:00:02.593</td>\n",
       "      <td>0.004</td>\n",
       "      <td>192.168.220.47</td>\n",
       "      <td>55101</td>\n",
       "      <td>192.168.100.11</td>\n",
       "      <td>445.0</td>\n",
       "      <td>2</td>\n",
       "      <td>174</td>\n",
       "      <td>2017-08-02</td>\n",
       "      <td>[192.168.100.11, 192.168.220.47]</td>\n",
       "      <td>(192.168.100.11, 192.168.220.47)</td>\n",
       "      <td>0.0020</td>\n",
       "      <td>0</td>\n",
       "    </tr>\n",
       "    <tr>\n",
       "      <th>3</th>\n",
       "      <td>2017-08-02 00:00:02.859</td>\n",
       "      <td>0.000</td>\n",
       "      <td>10000_34</td>\n",
       "      <td>443</td>\n",
       "      <td>192.168.210.54</td>\n",
       "      <td>59628.0</td>\n",
       "      <td>1</td>\n",
       "      <td>100</td>\n",
       "      <td>2017-08-02</td>\n",
       "      <td>[10000_34, 192.168.210.54]</td>\n",
       "      <td>(10000_34, 192.168.210.54)</td>\n",
       "      <td>0.0000</td>\n",
       "      <td>0</td>\n",
       "    </tr>\n",
       "    <tr>\n",
       "      <th>4</th>\n",
       "      <td>2017-08-02 00:00:02.594</td>\n",
       "      <td>0.000</td>\n",
       "      <td>192.168.100.11</td>\n",
       "      <td>445</td>\n",
       "      <td>192.168.220.47</td>\n",
       "      <td>55101.0</td>\n",
       "      <td>1</td>\n",
       "      <td>108</td>\n",
       "      <td>2017-08-02</td>\n",
       "      <td>[192.168.100.11, 192.168.220.47]</td>\n",
       "      <td>(192.168.100.11, 192.168.220.47)</td>\n",
       "      <td>0.0000</td>\n",
       "      <td>0</td>\n",
       "    </tr>\n",
       "  </tbody>\n",
       "</table>\n",
       "</div>"
      ],
      "text/plain": [
       "                     Date  Duration          Src_IP  Src_pt          Dst_IP  \\\n",
       "0 2017-08-02 00:00:00.419     0.003  192.168.210.55   44870  192.168.100.11   \n",
       "1 2017-08-02 00:00:00.421     0.000  192.168.100.11     445  192.168.210.55   \n",
       "2 2017-08-02 00:00:02.593     0.004  192.168.220.47   55101  192.168.100.11   \n",
       "3 2017-08-02 00:00:02.859     0.000        10000_34     443  192.168.210.54   \n",
       "4 2017-08-02 00:00:02.594     0.000  192.168.100.11     445  192.168.220.47   \n",
       "\n",
       "    Dst_pt  Packets  Bytes    date_hr                             pairs  \\\n",
       "0    445.0        2    174 2017-08-02  [192.168.100.11, 192.168.210.55]   \n",
       "1  44870.0        1    108 2017-08-02  [192.168.100.11, 192.168.210.55]   \n",
       "2    445.0        2    174 2017-08-02  [192.168.100.11, 192.168.220.47]   \n",
       "3  59628.0        1    100 2017-08-02        [10000_34, 192.168.210.54]   \n",
       "4  55101.0        1    108 2017-08-02  [192.168.100.11, 192.168.220.47]   \n",
       "\n",
       "                             pairs2  norm_latency  hour  \n",
       "0  (192.168.100.11, 192.168.210.55)        0.0015     0  \n",
       "1  (192.168.100.11, 192.168.210.55)        0.0000     0  \n",
       "2  (192.168.100.11, 192.168.220.47)        0.0020     0  \n",
       "3        (10000_34, 192.168.210.54)        0.0000     0  \n",
       "4  (192.168.100.11, 192.168.220.47)        0.0000     0  "
      ]
     },
     "execution_count": 10,
     "metadata": {},
     "output_type": "execute_result"
    }
   ],
   "source": [
    "df.head()"
   ]
  },
  {
   "cell_type": "markdown",
   "metadata": {},
   "source": [
    "how many transactions do we have?"
   ]
  },
  {
   "cell_type": "code",
   "execution_count": 49,
   "metadata": {},
   "outputs": [
    {
     "data": {
      "text/plain": [
       "8185992"
      ]
     },
     "execution_count": 49,
     "metadata": {},
     "output_type": "execute_result"
    }
   ],
   "source": [
    "len(df)"
   ]
  },
  {
   "cell_type": "markdown",
   "metadata": {},
   "source": [
    "## Implement Frequent Pattern (FP) - Growth algorithm\n",
    "\n",
    "https://fp-growth.readthedocs.io/en/latest/usage.html\n",
    "\n",
    "This algorithm\n",
    "1. Counts occurence of items in dataset in 1st pass\n",
    "2. Build FP-tree by inserting instances, and adds count to each instance based on the number of times it appears in the dataset. Those infrequent instances are dropped from the tree.\n",
    "\n",
    "This allows the frequentest set to be generated organically, instead of creating a list of each itemset and checking if it does/does not pass minimum threshold (like Apriori algorithm)\n",
    "\n",
    "#### Vocabulary\n",
    " - itemset = all items in 1 transaction\n",
    "A \"pattern\" is a conjunction of items, or the unique itemset.\n",
    "A \"rule\" X --> Y means if you buy X you are likely to buy Y, or in this case if X IP address is used Y IP address is likely also\n",
    "\n",
    "\n",
    "#### Evaluation metrics include:\n",
    "\n",
    "1. Support = how frequently it occurs. The number of transactions of that unique itemset / all transactions. In this case: number of times IP pair occurs/all requests\n",
    "\n",
    "2. Confidence = how often rule is likely to be true. frequency of X and Y occuring/ frequency of X occuring in entire dataset. Conditional probability of Y given X. P(Ey|Ex)\n",
    "\n",
    "3. Lift = How likely is item Y given item X occurs, controlling for how frequent Y occurs in the entire dataset. For rule X-->Y, lift = P(Y|X)/P(Y).\n",
    "    Lift = 1 means X and Y are independent\n",
    "    Lift >1 = X and Y are positively correlated\n",
    "    Lift <1 = X and Y are negatively correlated"
   ]
  },
  {
   "cell_type": "markdown",
   "metadata": {},
   "source": [
    "## 2. Implement Frequentest paterns algorithm\n",
    "\n",
    "Before we run this algorithm, we should have some idea of the minimum threshold we want to set. This is the \"support\" for each IP pair. Support = % of time this pair occurs in dataset."
   ]
  },
  {
   "cell_type": "markdown",
   "metadata": {},
   "source": [
    "### Do this for each hour in the dataset, we think that frequency in pairs might change with time."
   ]
  },
  {
   "cell_type": "code",
   "execution_count": 46,
   "metadata": {},
   "outputs": [],
   "source": [
    "data_groups=[]\n",
    "\n",
    "for i in range(0,25):\n",
    "    data=df[df['hour']==i]\n",
    "    data_groups.append(data)"
   ]
  },
  {
   "cell_type": "code",
   "execution_count": 47,
   "metadata": {},
   "outputs": [
    {
     "data": {
      "text/plain": [
       "126.0"
      ]
     },
     "execution_count": 47,
     "metadata": {},
     "output_type": "execute_result"
    }
   ],
   "source": [
    "#make individual 'pairs count' frequency tables so we can get a good value for our minimum support and keep it consitent.\n",
    "#We are selecting the 80th percentile as our min threshold, so each group will ahve a different 80th value.\n",
    "\n",
    "pairs_count=(df.groupby('pairs2').agg({'Date':'count', 'norm_latency': 'mean', 'Duration': 'sum', 'Packets':'sum'}).reset_index())\n",
    "pairs_count.columns=['pairs','frequency', 'avg_norm_latency', 'total_duration', 'total_packets']\n",
    "pairs_count['norm_latency']=(pairs_count['total_duration']/pairs_count['total_packets'].sum())*100 #sum of all duration time divided by \n",
    "np.percentile(pairs_count['frequency'], [80])[0]"
   ]
  },
  {
   "cell_type": "code",
   "execution_count": 34,
   "metadata": {},
   "outputs": [],
   "source": [
    "pairs_list=[]\n",
    "per80_list=[]\n",
    "data_l_list=[]\n",
    "patterns_list=[]\n",
    "rules_list=[]\n",
    "confidence=0.7 #this means the rule is likely to be true 20% of the time, it is a high threshold, used for testing\n",
    "\n",
    "\n",
    "for i in data_groups:    \n",
    "    data_l=list(i['pairs'])\n",
    "    pairs_count=(i.groupby('pairs2').agg({'Date':'count', 'norm_latency': 'mean', 'Duration': 'sum', 'Packets':'sum'}).reset_index())\n",
    "    pairs_count.columns=['pairs','frequency', 'avg_norm_latency', 'total_duration', 'total_packets']\n",
    "    pairs_count['norm_latency']=(pairs_count['total_duration']/pairs_count['total_packets'].sum())*100 #sum of all duration time divided by sum of all packets transfered for that pair\n",
    "    pairs_list.append(pairs_count)\n",
    "    per_80=(pairs_count['frequency'].quantile(.8))\n",
    "    patterns = pyfpgrowth.find_frequent_patterns(data_l, per_80) \n",
    "    patterns_list.append(patterns)\n",
    "    rules = pyfpgrowth.generate_association_rules(patterns, confidence)\n",
    "    rules_list.append(rules)\n",
    "      "
   ]
  },
  {
   "cell_type": "code",
   "execution_count": 35,
   "metadata": {},
   "outputs": [],
   "source": [
    "#format the rules, bring back in the other info on latency rank\n",
    "rules_list=rules_list[:-1]#last item was empty, remove it\n",
    "formated_rules=[]\n",
    "apps_server=20\n",
    "\n",
    "for i in rules_list:\n",
    "    formatrule=format_rules(i, df, apps_server)\n",
    "    formated_rules.append(formatrule)\n"
   ]
  },
  {
   "cell_type": "markdown",
   "metadata": {},
   "source": [
    "## Assign Servers to each IP address in the rules dataframe\n",
    "\n",
    "Start with the highest rank IP pair, assign matching servers and then move on to the next highest rank pair until that server is full. This is a 'dumb' approach, but  it clearly assigns things based on priority and gets a proof of concept. Because IP addresses repeat throughout the rules dataset, we will remove repeated IPs leaving the highest ranked IP.\n",
    "\n",
    "For this exercise we assume a server can hold 20 apps, or 10 pairs"
   ]
  },
  {
   "cell_type": "code",
   "execution_count": 13,
   "metadata": {},
   "outputs": [
    {
     "data": {
      "text/plain": [
       "range(0, 24)"
      ]
     },
     "execution_count": 13,
     "metadata": {},
     "output_type": "execute_result"
    }
   ],
   "source": [
    "range(len(formated_rules))"
   ]
  },
  {
   "cell_type": "code",
   "execution_count": 36,
   "metadata": {},
   "outputs": [],
   "source": [
    "#assign IPs to the servers at each hour\n",
    "server_assign_list=[]\n",
    "total_latency_list=[]\n",
    "total_latency_model_list=[]\n",
    "avg_latency_list=[]\n",
    "avg_latency_model_list=[]\n",
    "\n",
    "\n",
    "for i in formated_rules:\n",
    "    server_assignments, total_latency, total_latency_model, avg_latency, avg_latency_model = server_association(i, df, apps_server) #this function loaded fr\n",
    "    server_assign_list.append(server_assignments)\n",
    "    total_latency_list.append(total_latency)\n",
    "    total_latency_model_list.append(total_latency_model)\n",
    "    avg_latency_list.append(avg_latency)\n",
    "    avg_latency_model_list.append(avg_latency_model)\n",
    "    "
   ]
  },
  {
   "cell_type": "code",
   "execution_count": 37,
   "metadata": {},
   "outputs": [],
   "source": [
    "#original times\n",
    "\n",
    "df_hour=df.groupby('hour')['Duration'].sum()"
   ]
  },
  {
   "cell_type": "code",
   "execution_count": 38,
   "metadata": {},
   "outputs": [
    {
     "data": {
      "text/html": [
       "<div>\n",
       "<style scoped>\n",
       "    .dataframe tbody tr th:only-of-type {\n",
       "        vertical-align: middle;\n",
       "    }\n",
       "\n",
       "    .dataframe tbody tr th {\n",
       "        vertical-align: top;\n",
       "    }\n",
       "\n",
       "    .dataframe thead th {\n",
       "        text-align: right;\n",
       "    }\n",
       "</style>\n",
       "<table border=\"1\" class=\"dataframe\">\n",
       "  <thead>\n",
       "    <tr style=\"text-align: right;\">\n",
       "      <th></th>\n",
       "      <th>hours</th>\n",
       "      <th>total_latency</th>\n",
       "      <th>total_latency_model</th>\n",
       "      <th>avg_latency</th>\n",
       "      <th>avg_latency_model</th>\n",
       "      <th>avg_latency_per_reduction</th>\n",
       "    </tr>\n",
       "  </thead>\n",
       "  <tbody>\n",
       "    <tr>\n",
       "      <th>0</th>\n",
       "      <td>0</td>\n",
       "      <td>2014119.581</td>\n",
       "      <td>1961880.304</td>\n",
       "      <td>0.246045</td>\n",
       "      <td>0.239663</td>\n",
       "      <td>2.593653</td>\n",
       "    </tr>\n",
       "    <tr>\n",
       "      <th>1</th>\n",
       "      <td>1</td>\n",
       "      <td>2014119.581</td>\n",
       "      <td>1964771.263</td>\n",
       "      <td>0.246045</td>\n",
       "      <td>0.240016</td>\n",
       "      <td>2.450119</td>\n",
       "    </tr>\n",
       "    <tr>\n",
       "      <th>2</th>\n",
       "      <td>2</td>\n",
       "      <td>2014119.581</td>\n",
       "      <td>1980974.831</td>\n",
       "      <td>0.246045</td>\n",
       "      <td>0.241996</td>\n",
       "      <td>1.645620</td>\n",
       "    </tr>\n",
       "    <tr>\n",
       "      <th>3</th>\n",
       "      <td>3</td>\n",
       "      <td>2014119.581</td>\n",
       "      <td>1974951.504</td>\n",
       "      <td>0.246045</td>\n",
       "      <td>0.241260</td>\n",
       "      <td>1.944675</td>\n",
       "    </tr>\n",
       "    <tr>\n",
       "      <th>4</th>\n",
       "      <td>4</td>\n",
       "      <td>2014119.581</td>\n",
       "      <td>1979494.561</td>\n",
       "      <td>0.246045</td>\n",
       "      <td>0.241815</td>\n",
       "      <td>1.719114</td>\n",
       "    </tr>\n",
       "    <tr>\n",
       "      <th>5</th>\n",
       "      <td>5</td>\n",
       "      <td>2014119.581</td>\n",
       "      <td>1966708.785</td>\n",
       "      <td>0.246045</td>\n",
       "      <td>0.240253</td>\n",
       "      <td>2.353922</td>\n",
       "    </tr>\n",
       "    <tr>\n",
       "      <th>6</th>\n",
       "      <td>6</td>\n",
       "      <td>2014119.581</td>\n",
       "      <td>1989550.147</td>\n",
       "      <td>0.246045</td>\n",
       "      <td>0.243043</td>\n",
       "      <td>1.219860</td>\n",
       "    </tr>\n",
       "    <tr>\n",
       "      <th>7</th>\n",
       "      <td>7</td>\n",
       "      <td>2014119.581</td>\n",
       "      <td>1910287.797</td>\n",
       "      <td>0.246045</td>\n",
       "      <td>0.233361</td>\n",
       "      <td>5.155195</td>\n",
       "    </tr>\n",
       "    <tr>\n",
       "      <th>8</th>\n",
       "      <td>8</td>\n",
       "      <td>2014119.581</td>\n",
       "      <td>1891056.218</td>\n",
       "      <td>0.246045</td>\n",
       "      <td>0.231011</td>\n",
       "      <td>6.110033</td>\n",
       "    </tr>\n",
       "    <tr>\n",
       "      <th>9</th>\n",
       "      <td>9</td>\n",
       "      <td>2014119.581</td>\n",
       "      <td>1988274.645</td>\n",
       "      <td>0.246045</td>\n",
       "      <td>0.242887</td>\n",
       "      <td>1.283188</td>\n",
       "    </tr>\n",
       "    <tr>\n",
       "      <th>10</th>\n",
       "      <td>10</td>\n",
       "      <td>2014119.581</td>\n",
       "      <td>1884206.489</td>\n",
       "      <td>0.246045</td>\n",
       "      <td>0.230174</td>\n",
       "      <td>6.450118</td>\n",
       "    </tr>\n",
       "    <tr>\n",
       "      <th>11</th>\n",
       "      <td>11</td>\n",
       "      <td>2014119.581</td>\n",
       "      <td>1668014.865</td>\n",
       "      <td>0.246045</td>\n",
       "      <td>0.203765</td>\n",
       "      <td>17.183921</td>\n",
       "    </tr>\n",
       "    <tr>\n",
       "      <th>12</th>\n",
       "      <td>12</td>\n",
       "      <td>2014119.581</td>\n",
       "      <td>2001171.612</td>\n",
       "      <td>0.246045</td>\n",
       "      <td>0.244463</td>\n",
       "      <td>0.642860</td>\n",
       "    </tr>\n",
       "    <tr>\n",
       "      <th>13</th>\n",
       "      <td>13</td>\n",
       "      <td>2014119.581</td>\n",
       "      <td>1878147.674</td>\n",
       "      <td>0.246045</td>\n",
       "      <td>0.229434</td>\n",
       "      <td>6.750935</td>\n",
       "    </tr>\n",
       "    <tr>\n",
       "      <th>14</th>\n",
       "      <td>14</td>\n",
       "      <td>2014119.581</td>\n",
       "      <td>2000770.841</td>\n",
       "      <td>0.246045</td>\n",
       "      <td>0.244414</td>\n",
       "      <td>0.662758</td>\n",
       "    </tr>\n",
       "    <tr>\n",
       "      <th>15</th>\n",
       "      <td>15</td>\n",
       "      <td>2014119.581</td>\n",
       "      <td>1694091.433</td>\n",
       "      <td>0.246045</td>\n",
       "      <td>0.206950</td>\n",
       "      <td>15.889233</td>\n",
       "    </tr>\n",
       "    <tr>\n",
       "      <th>16</th>\n",
       "      <td>16</td>\n",
       "      <td>2014119.581</td>\n",
       "      <td>1690881.089</td>\n",
       "      <td>0.246045</td>\n",
       "      <td>0.206558</td>\n",
       "      <td>16.048625</td>\n",
       "    </tr>\n",
       "    <tr>\n",
       "      <th>17</th>\n",
       "      <td>17</td>\n",
       "      <td>2014119.581</td>\n",
       "      <td>1695808.744</td>\n",
       "      <td>0.246045</td>\n",
       "      <td>0.207160</td>\n",
       "      <td>15.803969</td>\n",
       "    </tr>\n",
       "    <tr>\n",
       "      <th>18</th>\n",
       "      <td>18</td>\n",
       "      <td>2014119.581</td>\n",
       "      <td>1884521.079</td>\n",
       "      <td>0.246045</td>\n",
       "      <td>0.230213</td>\n",
       "      <td>6.434499</td>\n",
       "    </tr>\n",
       "    <tr>\n",
       "      <th>19</th>\n",
       "      <td>19</td>\n",
       "      <td>2014119.581</td>\n",
       "      <td>1683209.448</td>\n",
       "      <td>0.246045</td>\n",
       "      <td>0.205621</td>\n",
       "      <td>16.429518</td>\n",
       "    </tr>\n",
       "    <tr>\n",
       "      <th>20</th>\n",
       "      <td>20</td>\n",
       "      <td>2014119.581</td>\n",
       "      <td>1563128.390</td>\n",
       "      <td>0.246045</td>\n",
       "      <td>0.190952</td>\n",
       "      <td>22.391480</td>\n",
       "    </tr>\n",
       "    <tr>\n",
       "      <th>21</th>\n",
       "      <td>21</td>\n",
       "      <td>2014119.581</td>\n",
       "      <td>1957127.687</td>\n",
       "      <td>0.246045</td>\n",
       "      <td>0.239083</td>\n",
       "      <td>2.829618</td>\n",
       "    </tr>\n",
       "    <tr>\n",
       "      <th>22</th>\n",
       "      <td>22</td>\n",
       "      <td>2014119.581</td>\n",
       "      <td>1955440.561</td>\n",
       "      <td>0.246045</td>\n",
       "      <td>0.238876</td>\n",
       "      <td>2.913383</td>\n",
       "    </tr>\n",
       "    <tr>\n",
       "      <th>23</th>\n",
       "      <td>23</td>\n",
       "      <td>2014119.581</td>\n",
       "      <td>1961579.062</td>\n",
       "      <td>0.246045</td>\n",
       "      <td>0.239626</td>\n",
       "      <td>2.608610</td>\n",
       "    </tr>\n",
       "  </tbody>\n",
       "</table>\n",
       "</div>"
      ],
      "text/plain": [
       "    hours  total_latency  total_latency_model  avg_latency  avg_latency_model  \\\n",
       "0       0    2014119.581          1961880.304     0.246045           0.239663   \n",
       "1       1    2014119.581          1964771.263     0.246045           0.240016   \n",
       "2       2    2014119.581          1980974.831     0.246045           0.241996   \n",
       "3       3    2014119.581          1974951.504     0.246045           0.241260   \n",
       "4       4    2014119.581          1979494.561     0.246045           0.241815   \n",
       "5       5    2014119.581          1966708.785     0.246045           0.240253   \n",
       "6       6    2014119.581          1989550.147     0.246045           0.243043   \n",
       "7       7    2014119.581          1910287.797     0.246045           0.233361   \n",
       "8       8    2014119.581          1891056.218     0.246045           0.231011   \n",
       "9       9    2014119.581          1988274.645     0.246045           0.242887   \n",
       "10     10    2014119.581          1884206.489     0.246045           0.230174   \n",
       "11     11    2014119.581          1668014.865     0.246045           0.203765   \n",
       "12     12    2014119.581          2001171.612     0.246045           0.244463   \n",
       "13     13    2014119.581          1878147.674     0.246045           0.229434   \n",
       "14     14    2014119.581          2000770.841     0.246045           0.244414   \n",
       "15     15    2014119.581          1694091.433     0.246045           0.206950   \n",
       "16     16    2014119.581          1690881.089     0.246045           0.206558   \n",
       "17     17    2014119.581          1695808.744     0.246045           0.207160   \n",
       "18     18    2014119.581          1884521.079     0.246045           0.230213   \n",
       "19     19    2014119.581          1683209.448     0.246045           0.205621   \n",
       "20     20    2014119.581          1563128.390     0.246045           0.190952   \n",
       "21     21    2014119.581          1957127.687     0.246045           0.239083   \n",
       "22     22    2014119.581          1955440.561     0.246045           0.238876   \n",
       "23     23    2014119.581          1961579.062     0.246045           0.239626   \n",
       "\n",
       "    avg_latency_per_reduction  \n",
       "0                    2.593653  \n",
       "1                    2.450119  \n",
       "2                    1.645620  \n",
       "3                    1.944675  \n",
       "4                    1.719114  \n",
       "5                    2.353922  \n",
       "6                    1.219860  \n",
       "7                    5.155195  \n",
       "8                    6.110033  \n",
       "9                    1.283188  \n",
       "10                   6.450118  \n",
       "11                  17.183921  \n",
       "12                   0.642860  \n",
       "13                   6.750935  \n",
       "14                   0.662758  \n",
       "15                  15.889233  \n",
       "16                  16.048625  \n",
       "17                  15.803969  \n",
       "18                   6.434499  \n",
       "19                  16.429518  \n",
       "20                  22.391480  \n",
       "21                   2.829618  \n",
       "22                   2.913383  \n",
       "23                   2.608610  "
      ]
     },
     "execution_count": 38,
     "metadata": {},
     "output_type": "execute_result"
    }
   ],
   "source": [
    "#bring together all the durations for the actual data and the model\n",
    "hours=range(0,24)\n",
    "model_output=pd.DataFrame({'hours':hours,'total_latency_list': total_latency_list, 'total_latency_model_list': total_latency_model_list, 'avg_latency_list': avg_latency_list, 'avg_latency_model_list': avg_latency_model_list})\n",
    "model_output.columns=['hours', 'total_latency', 'total_latency_model', 'avg_latency', 'avg_latency_model']\n",
    "model_output['avg_latency_per_reduction']=((model_output['avg_latency']-model_output['avg_latency_model'])/model_output['avg_latency'])*100\n",
    "model_output"
   ]
  },
  {
   "cell_type": "code",
   "execution_count": 17,
   "metadata": {},
   "outputs": [],
   "source": [
    "time=['12am', '1am', '2am', '3am', '4am', '5am', '6am', '7am', '8am', '9am', '10am', '11am', '12pm', '1pm', '2pm', '3pm', '4ppm', '5pm', '6pm', '7pm', '8pm', '9pm', '10pm', '11pm']"
   ]
  },
  {
   "cell_type": "markdown",
   "metadata": {},
   "source": [
    "How did this model do?"
   ]
  },
  {
   "cell_type": "code",
   "execution_count": 39,
   "metadata": {},
   "outputs": [
    {
     "data": {
      "text/plain": [
       "48338869.94400002"
      ]
     },
     "execution_count": 39,
     "metadata": {},
     "output_type": "execute_result"
    }
   ],
   "source": [
    "model_output['total_latency'].sum() #original total latency"
   ]
  },
  {
   "cell_type": "code",
   "execution_count": 40,
   "metadata": {},
   "outputs": [
    {
     "data": {
      "text/plain": [
       "45126049.028999984"
      ]
     },
     "execution_count": 40,
     "metadata": {},
     "output_type": "execute_result"
    }
   ],
   "source": [
    "model_output['total_latency_model'].sum()#predicted latency, does not match the other output.... what is wrong..."
   ]
  },
  {
   "cell_type": "markdown",
   "metadata": {},
   "source": [
    "## Overall, this is a % improvement in total latency:"
   ]
  },
  {
   "cell_type": "code",
   "execution_count": 41,
   "metadata": {},
   "outputs": [
    {
     "data": {
      "text/plain": [
       "0.06646454331104656"
      ]
     },
     "execution_count": 41,
     "metadata": {},
     "output_type": "execute_result"
    }
   ],
   "source": [
    "(model_output['total_latency'].sum()-model_output['total_latency_model'].sum())/model_output['total_latency'].sum()"
   ]
  },
  {
   "cell_type": "markdown",
   "metadata": {},
   "source": [
    "What about average transaction time?"
   ]
  },
  {
   "cell_type": "code",
   "execution_count": 21,
   "metadata": {},
   "outputs": [
    {
     "data": {
      "text/plain": [
       "0.24604465543092527"
      ]
     },
     "execution_count": 21,
     "metadata": {},
     "output_type": "execute_result"
    }
   ],
   "source": [
    "model_output['avg_latency'].mean()"
   ]
  },
  {
   "cell_type": "code",
   "execution_count": 22,
   "metadata": {},
   "outputs": [
    {
     "data": {
      "text/plain": [
       "0.22969140977359212"
      ]
     },
     "execution_count": 22,
     "metadata": {},
     "output_type": "execute_result"
    }
   ],
   "source": [
    "model_output['avg_latency_model'].mean()"
   ]
  },
  {
   "cell_type": "code",
   "execution_count": 23,
   "metadata": {},
   "outputs": [
    {
     "data": {
      "text/plain": [
       "6.6464543311018"
      ]
     },
     "execution_count": 23,
     "metadata": {},
     "output_type": "execute_result"
    }
   ],
   "source": [
    "#each hour the avg transaction time is averaged for a overall avg\n",
    "\n",
    "model_output['avg_latency_per_reduction'].mean()"
   ]
  },
  {
   "cell_type": "code",
   "execution_count": 45,
   "metadata": {},
   "outputs": [
    {
     "data": {
      "image/png": "[encoded data removed]",
      "text/plain": [
       "<Figure size 432x288 with 1 Axes>"
      ]
     },
     "metadata": {
      "needs_background": "light"
     },
     "output_type": "display_data"
    }
   ],
   "source": [
    "from datetime import datetime\n",
    "import matplotlib.pyplot as plt\n",
    "from matplotlib.dates import DateFormatter\n",
    "\n",
    "fig, ax = plt.subplots()\n",
    "ax.plot(model_output['hours'], model_output['total_latency'])\n",
    "ax.plot(model_output['hours'], model_output['total_latency_model'])\n",
    "\n",
    "\n",
    "## Rotate date labels automatically\n",
    "fig.autofmt_xdate()\n",
    "plt.ylabel('Total latency (s)')\n",
    "plt.xlabel('hour of day')\n",
    "plt.title('Total latency')\n",
    "plt.show()"
   ]
  },
  {
   "cell_type": "code",
   "execution_count": 25,
   "metadata": {},
   "outputs": [
    {
     "data": {
      "image/png": "[encoded data removed]",
      "text/plain": [
       "<Figure size 504x360 with 1 Axes>"
      ]
     },
     "metadata": {
      "needs_background": "light"
     },
     "output_type": "display_data"
    }
   ],
   "source": [
    "from datetime import datetime\n",
    "import matplotlib.pyplot as plt\n",
    "from matplotlib.dates import DateFormatter\n",
    "\n",
    "fig, ax = plt.subplots(1,1, figsize=(7,5))\n",
    "ax.plot(model_output['hours'], model_output['avg_latency'], color='steelblue', linewidth=2.0)\n",
    "ax.plot(model_output['hours'], model_output['avg_latency_model'], color='firebrick', linewidth=4.0)\n",
    "\n",
    "\n",
    "## Rotate date labels automatically\n",
    "fig.autofmt_xdate()\n",
    "plt.ylabel('Latency (s)')\n",
    "plt.xlabel('hour of day')\n",
    "plt.title('Average Transaction Latency')\n",
    "fig.savefig('Average_transaction_latency_hours_day1.png')"
   ]
  },
  {
   "cell_type": "markdown",
   "metadata": {},
   "source": [
    "## Same analysis but subset the data for training and testing\n",
    "\n",
    "use the first 5 days for training, and the last 2 days for testing. Even though this covers weekends, which are in the training dataset, because of the relatively small amount of transactions on the weekend, it is not likely to skew the results."
   ]
  },
  {
   "cell_type": "code",
   "execution_count": 11,
   "metadata": {},
   "outputs": [],
   "source": [
    "train_df=df[df['Date']<'2017-08-08'] #first 6 days"
   ]
  },
  {
   "cell_type": "code",
   "execution_count": 12,
   "metadata": {},
   "outputs": [],
   "source": [
    "test_df=df[df['Date']>'2017-08-08'] #last day"
   ]
  },
  {
   "cell_type": "code",
   "execution_count": 13,
   "metadata": {},
   "outputs": [],
   "source": [
    "#training data\n",
    "\n",
    "data_groups_t=[]\n",
    "\n",
    "for i in range(0,25):\n",
    "    data=train_df[train_df['hour']==i]\n",
    "    data_groups_t.append(data)"
   ]
  },
  {
   "cell_type": "code",
   "execution_count": 14,
   "metadata": {},
   "outputs": [],
   "source": [
    "#make individual 'pairs count' frequency tables so we can get a good value for our minimum support and keep it consitent.\n",
    "#We are selecting the 80th percentile as our min threshold, so each group will ahve a different 80th value.\n",
    "\n",
    "pairs_count_t=(train_df.groupby('pairs2').agg({'Date':'count', 'norm_latency': 'mean', 'Duration': 'sum', 'Packets':'sum'}).reset_index())\n",
    "pairs_count_t.columns=['pairs','frequency', 'avg_norm_latency', 'total_duration', 'total_packets']\n",
    "pairs_count_t['norm_latency']=(pairs_count_t['total_duration']/pairs_count_t['total_packets'].sum())*100 #sum of all duration time divided by \n",
    "np.percentile(pairs_count_t['frequency'], [80])[0]\n",
    "\n",
    "pairs_list_t=[]\n",
    "per80_list_t=[]\n",
    "data_l_list_t=[]\n",
    "patterns_list_t=[]\n",
    "rules_list_t=[]\n",
    "confidence=0.7 #this means the rule is likely to be true 70% of the time\n",
    "\n",
    "\n",
    "for i in data_groups_t:    \n",
    "    data_l_t=list(i['pairs'])#the IP pairs are now a list of lists\n",
    "    pairs_count_t=(i.groupby('pairs2').agg({'Date':'count', 'norm_latency': 'mean', 'Duration': 'sum', 'Packets':'sum'}).reset_index())\n",
    "    pairs_count_t.columns=['pairs','frequency', 'avg_norm_latency', 'total_duration', 'total_packets']\n",
    "    pairs_count_t['norm_latency']=(pairs_count_t['total_duration']/pairs_count_t['total_packets'].sum())*100 #sum of all duration time divided by sum of all packets transfered for that pair\n",
    "    pairs_list_t.append(pairs_count_t)\n",
    "    per_80=(pairs_count_t['frequency'].quantile(.8))\n",
    "    patterns = pyfpgrowth.find_frequent_patterns(data_l_t, per_80) \n",
    "    patterns_list_t.append(patterns)\n",
    "    rules = pyfpgrowth.generate_association_rules(patterns, confidence)\n",
    "    rules_list_t.append(rules)\n",
    "   "
   ]
  },
  {
   "cell_type": "code",
   "execution_count": 15,
   "metadata": {},
   "outputs": [],
   "source": [
    "#format the rules, bring back in the other info on latency rank, based on the training data\n",
    "rules_list_t=rules_list_t[:-1]#last item was empty, remove it\n",
    "formated_rules_t=[]\n",
    "apps_server=20\n",
    "\n",
    "for i in rules_list_t:\n",
    "    formatrule=format_rules(i, train_df, apps_server)\n",
    "    formated_rules_t.append(formatrule)\n"
   ]
  },
  {
   "cell_type": "code",
   "execution_count": 17,
   "metadata": {},
   "outputs": [],
   "source": [
    "#assign IPs to the TEST servers at each hour, \n",
    "#NOW WE ASSIGN SERVERS TO THE TETING DATA BASED ON THE TRAINING DATA USED ABOVE\n",
    "\n",
    "server_assign_list_test=[]\n",
    "total_latency_list_test=[]\n",
    "total_latency_model_list_test=[]\n",
    "avg_latency_list_test=[]\n",
    "avg_latency_model_list_test=[]\n",
    "\n",
    "\n",
    "for i, j in zip(formated_rules_t, data_groups_t) :\n",
    "    server_assignments, total_latency, total_latency_model, avg_latency, avg_latency_model = server_association(i, j, apps_server) #this function loaded fr\n",
    "    server_assign_list_test.append(server_assignments)\n",
    "    total_latency_list_test.append(total_latency)\n",
    "    total_latency_model_list_test.append(total_latency_model)\n",
    "    avg_latency_list_test.append(avg_latency)\n",
    "    avg_latency_model_list_test.append(avg_latency_model)\n",
    "    "
   ]
  },
  {
   "cell_type": "code",
   "execution_count": 32,
   "metadata": {},
   "outputs": [
    {
     "data": {
      "text/html": [
       "<div>\n",
       "<style scoped>\n",
       "    .dataframe tbody tr th:only-of-type {\n",
       "        vertical-align: middle;\n",
       "    }\n",
       "\n",
       "    .dataframe tbody tr th {\n",
       "        vertical-align: top;\n",
       "    }\n",
       "\n",
       "    .dataframe thead th {\n",
       "        text-align: right;\n",
       "    }\n",
       "</style>\n",
       "<table border=\"1\" class=\"dataframe\">\n",
       "  <thead>\n",
       "    <tr style=\"text-align: right;\">\n",
       "      <th></th>\n",
       "      <th>hours</th>\n",
       "      <th>total_latency</th>\n",
       "      <th>total_latency_model</th>\n",
       "      <th>avg_latency</th>\n",
       "      <th>avg_latency_model</th>\n",
       "      <th>avg_latency_per_reduction</th>\n",
       "    </tr>\n",
       "  </thead>\n",
       "  <tbody>\n",
       "    <tr>\n",
       "      <th>0</th>\n",
       "      <td>0</td>\n",
       "      <td>2520.962</td>\n",
       "      <td>1665.492</td>\n",
       "      <td>0.060149</td>\n",
       "      <td>0.039738</td>\n",
       "      <td>33.934268</td>\n",
       "    </tr>\n",
       "    <tr>\n",
       "      <th>1</th>\n",
       "      <td>1</td>\n",
       "      <td>2556.084</td>\n",
       "      <td>1604.235</td>\n",
       "      <td>0.069988</td>\n",
       "      <td>0.043925</td>\n",
       "      <td>37.238565</td>\n",
       "    </tr>\n",
       "    <tr>\n",
       "      <th>2</th>\n",
       "      <td>2</td>\n",
       "      <td>2584.281</td>\n",
       "      <td>1727.508</td>\n",
       "      <td>0.069887</td>\n",
       "      <td>0.046717</td>\n",
       "      <td>33.153245</td>\n",
       "    </tr>\n",
       "    <tr>\n",
       "      <th>3</th>\n",
       "      <td>3</td>\n",
       "      <td>2634.629</td>\n",
       "      <td>1721.909</td>\n",
       "      <td>0.071291</td>\n",
       "      <td>0.046593</td>\n",
       "      <td>34.643208</td>\n",
       "    </tr>\n",
       "    <tr>\n",
       "      <th>4</th>\n",
       "      <td>4</td>\n",
       "      <td>3074.361</td>\n",
       "      <td>2259.084</td>\n",
       "      <td>0.083327</td>\n",
       "      <td>0.061230</td>\n",
       "      <td>26.518584</td>\n",
       "    </tr>\n",
       "    <tr>\n",
       "      <th>5</th>\n",
       "      <td>5</td>\n",
       "      <td>2269.169</td>\n",
       "      <td>2066.358</td>\n",
       "      <td>0.069784</td>\n",
       "      <td>0.063547</td>\n",
       "      <td>8.937677</td>\n",
       "    </tr>\n",
       "    <tr>\n",
       "      <th>6</th>\n",
       "      <td>6</td>\n",
       "      <td>8304.769</td>\n",
       "      <td>7745.217</td>\n",
       "      <td>0.106899</td>\n",
       "      <td>0.099696</td>\n",
       "      <td>6.737719</td>\n",
       "    </tr>\n",
       "    <tr>\n",
       "      <th>7</th>\n",
       "      <td>7</td>\n",
       "      <td>27839.168</td>\n",
       "      <td>26045.055</td>\n",
       "      <td>0.125774</td>\n",
       "      <td>0.117669</td>\n",
       "      <td>6.444564</td>\n",
       "    </tr>\n",
       "    <tr>\n",
       "      <th>8</th>\n",
       "      <td>8</td>\n",
       "      <td>39943.202</td>\n",
       "      <td>31697.050</td>\n",
       "      <td>0.156812</td>\n",
       "      <td>0.124439</td>\n",
       "      <td>20.644694</td>\n",
       "    </tr>\n",
       "    <tr>\n",
       "      <th>9</th>\n",
       "      <td>9</td>\n",
       "      <td>126588.410</td>\n",
       "      <td>125098.218</td>\n",
       "      <td>0.167181</td>\n",
       "      <td>0.165213</td>\n",
       "      <td>1.177195</td>\n",
       "    </tr>\n",
       "    <tr>\n",
       "      <th>10</th>\n",
       "      <td>10</td>\n",
       "      <td>128716.377</td>\n",
       "      <td>113212.669</td>\n",
       "      <td>0.180206</td>\n",
       "      <td>0.158500</td>\n",
       "      <td>12.044860</td>\n",
       "    </tr>\n",
       "    <tr>\n",
       "      <th>11</th>\n",
       "      <td>11</td>\n",
       "      <td>135805.016</td>\n",
       "      <td>118890.522</td>\n",
       "      <td>0.178722</td>\n",
       "      <td>0.156462</td>\n",
       "      <td>12.454985</td>\n",
       "    </tr>\n",
       "    <tr>\n",
       "      <th>12</th>\n",
       "      <td>12</td>\n",
       "      <td>148788.455</td>\n",
       "      <td>119718.507</td>\n",
       "      <td>0.219180</td>\n",
       "      <td>0.176357</td>\n",
       "      <td>19.537771</td>\n",
       "    </tr>\n",
       "    <tr>\n",
       "      <th>13</th>\n",
       "      <td>13</td>\n",
       "      <td>164290.552</td>\n",
       "      <td>146131.169</td>\n",
       "      <td>0.233728</td>\n",
       "      <td>0.207893</td>\n",
       "      <td>11.053212</td>\n",
       "    </tr>\n",
       "    <tr>\n",
       "      <th>14</th>\n",
       "      <td>14</td>\n",
       "      <td>210026.051</td>\n",
       "      <td>208363.815</td>\n",
       "      <td>0.255010</td>\n",
       "      <td>0.252992</td>\n",
       "      <td>0.791443</td>\n",
       "    </tr>\n",
       "    <tr>\n",
       "      <th>15</th>\n",
       "      <td>15</td>\n",
       "      <td>235877.035</td>\n",
       "      <td>201003.243</td>\n",
       "      <td>0.315463</td>\n",
       "      <td>0.268823</td>\n",
       "      <td>14.784734</td>\n",
       "    </tr>\n",
       "    <tr>\n",
       "      <th>16</th>\n",
       "      <td>16</td>\n",
       "      <td>269364.962</td>\n",
       "      <td>233178.889</td>\n",
       "      <td>0.419766</td>\n",
       "      <td>0.363375</td>\n",
       "      <td>13.433846</td>\n",
       "    </tr>\n",
       "    <tr>\n",
       "      <th>17</th>\n",
       "      <td>17</td>\n",
       "      <td>181901.313</td>\n",
       "      <td>151703.707</td>\n",
       "      <td>0.344520</td>\n",
       "      <td>0.287326</td>\n",
       "      <td>16.601093</td>\n",
       "    </tr>\n",
       "    <tr>\n",
       "      <th>18</th>\n",
       "      <td>18</td>\n",
       "      <td>181585.553</td>\n",
       "      <td>179843.012</td>\n",
       "      <td>0.299909</td>\n",
       "      <td>0.297031</td>\n",
       "      <td>0.959625</td>\n",
       "    </tr>\n",
       "    <tr>\n",
       "      <th>19</th>\n",
       "      <td>19</td>\n",
       "      <td>105866.349</td>\n",
       "      <td>81516.944</td>\n",
       "      <td>0.410972</td>\n",
       "      <td>0.316448</td>\n",
       "      <td>23.000137</td>\n",
       "    </tr>\n",
       "    <tr>\n",
       "      <th>20</th>\n",
       "      <td>20</td>\n",
       "      <td>26332.451</td>\n",
       "      <td>8611.594</td>\n",
       "      <td>0.363919</td>\n",
       "      <td>0.119014</td>\n",
       "      <td>67.296649</td>\n",
       "    </tr>\n",
       "    <tr>\n",
       "      <th>21</th>\n",
       "      <td>21</td>\n",
       "      <td>2324.935</td>\n",
       "      <td>1256.891</td>\n",
       "      <td>0.054855</td>\n",
       "      <td>0.029656</td>\n",
       "      <td>45.938661</td>\n",
       "    </tr>\n",
       "    <tr>\n",
       "      <th>22</th>\n",
       "      <td>22</td>\n",
       "      <td>2420.664</td>\n",
       "      <td>1474.841</td>\n",
       "      <td>0.059889</td>\n",
       "      <td>0.036489</td>\n",
       "      <td>39.072874</td>\n",
       "    </tr>\n",
       "    <tr>\n",
       "      <th>23</th>\n",
       "      <td>23</td>\n",
       "      <td>2504.833</td>\n",
       "      <td>1518.297</td>\n",
       "      <td>0.065675</td>\n",
       "      <td>0.039809</td>\n",
       "      <td>39.385300</td>\n",
       "    </tr>\n",
       "  </tbody>\n",
       "</table>\n",
       "</div>"
      ],
      "text/plain": [
       "    hours  total_latency  total_latency_model  avg_latency  avg_latency_model  \\\n",
       "0       0       2520.962             1665.492     0.060149           0.039738   \n",
       "1       1       2556.084             1604.235     0.069988           0.043925   \n",
       "2       2       2584.281             1727.508     0.069887           0.046717   \n",
       "3       3       2634.629             1721.909     0.071291           0.046593   \n",
       "4       4       3074.361             2259.084     0.083327           0.061230   \n",
       "5       5       2269.169             2066.358     0.069784           0.063547   \n",
       "6       6       8304.769             7745.217     0.106899           0.099696   \n",
       "7       7      27839.168            26045.055     0.125774           0.117669   \n",
       "8       8      39943.202            31697.050     0.156812           0.124439   \n",
       "9       9     126588.410           125098.218     0.167181           0.165213   \n",
       "10     10     128716.377           113212.669     0.180206           0.158500   \n",
       "11     11     135805.016           118890.522     0.178722           0.156462   \n",
       "12     12     148788.455           119718.507     0.219180           0.176357   \n",
       "13     13     164290.552           146131.169     0.233728           0.207893   \n",
       "14     14     210026.051           208363.815     0.255010           0.252992   \n",
       "15     15     235877.035           201003.243     0.315463           0.268823   \n",
       "16     16     269364.962           233178.889     0.419766           0.363375   \n",
       "17     17     181901.313           151703.707     0.344520           0.287326   \n",
       "18     18     181585.553           179843.012     0.299909           0.297031   \n",
       "19     19     105866.349            81516.944     0.410972           0.316448   \n",
       "20     20      26332.451             8611.594     0.363919           0.119014   \n",
       "21     21       2324.935             1256.891     0.054855           0.029656   \n",
       "22     22       2420.664             1474.841     0.059889           0.036489   \n",
       "23     23       2504.833             1518.297     0.065675           0.039809   \n",
       "\n",
       "    avg_latency_per_reduction  \n",
       "0                   33.934268  \n",
       "1                   37.238565  \n",
       "2                   33.153245  \n",
       "3                   34.643208  \n",
       "4                   26.518584  \n",
       "5                    8.937677  \n",
       "6                    6.737719  \n",
       "7                    6.444564  \n",
       "8                   20.644694  \n",
       "9                    1.177195  \n",
       "10                  12.044860  \n",
       "11                  12.454985  \n",
       "12                  19.537771  \n",
       "13                  11.053212  \n",
       "14                   0.791443  \n",
       "15                  14.784734  \n",
       "16                  13.433846  \n",
       "17                  16.601093  \n",
       "18                   0.959625  \n",
       "19                  23.000137  \n",
       "20                  67.296649  \n",
       "21                  45.938661  \n",
       "22                  39.072874  \n",
       "23                  39.385300  "
      ]
     },
     "execution_count": 32,
     "metadata": {},
     "output_type": "execute_result"
    }
   ],
   "source": [
    "#bring together all the durations for the actual data and the model\n",
    "hours=range(0,24)\n",
    "model_output_test=pd.DataFrame({'hours':hours,'total_latency_list': total_latency_list_test, 'total_latency_model_list': total_latency_model_list_test, 'avg_latency_list': avg_latency_list_test, 'avg_latency_model_list': avg_latency_model_list_test})\n",
    "model_output_test.columns=['hours', 'total_latency', 'total_latency_model', 'avg_latency', 'avg_latency_model']\n",
    "model_output_test['avg_latency_per_reduction']=((model_output_test['avg_latency']-model_output_test['avg_latency_model'])/model_output_test['avg_latency'])*100\n",
    "model_output_test"
   ]
  },
  {
   "cell_type": "code",
   "execution_count": 33,
   "metadata": {},
   "outputs": [
    {
     "name": "stderr",
     "output_type": "stream",
     "text": [
      "/home/ubuntu/anaconda3/lib/python3.6/site-packages/matplotlib/font_manager.py:1238: UserWarning: findfont: Font family ['normal'] not found. Falling back to DejaVu Sans.\n",
      "  (prop.get_family(), self.defaultFamily[fontext]))\n"
     ]
    },
    {
     "data": {
      "image/png": "[encoded data removed]",
      "text/plain": [
       "<Figure size 504x360 with 1 Axes>"
      ]
     },
     "metadata": {
      "needs_background": "light"
     },
     "output_type": "display_data"
    }
   ],
   "source": [
    "from datetime import datetime\n",
    "import matplotlib.pyplot as plt\n",
    "from matplotlib.dates import DateFormatter\n",
    "import matplotlib as matplotlib\n",
    "\n",
    "font = {'family' : 'normal',\n",
    "        'weight' : 'bold',\n",
    "        'size'   : 16}\n",
    "matplotlib.rc('font', **font)\n",
    "fig, ax = plt.subplots(1,1, figsize=(7,5))\n",
    "ax.plot(model_output_test['hours'], model_output_test['avg_latency'], color='steelblue', linewidth=2.0)\n",
    "ax.plot(model_output_test['hours'], model_output_test['avg_latency_model'], color='firebrick', linewidth=4.0)\n",
    "\n",
    "\n",
    "## Rotate date labels automatically\n",
    "fig.autofmt_xdate()\n",
    "plt.ylabel('Latency (s)')\n",
    "plt.xlabel('hour of day')\n",
    "plt.title('Average Transaction Latency Test Data')\n",
    "fig.savefig('Average_transaction_latency_hours_day_Test.png')"
   ]
  },
  {
   "cell_type": "code",
   "execution_count": 42,
   "metadata": {},
   "outputs": [
    {
     "data": {
      "text/plain": [
       "2014119.5810000002"
      ]
     },
     "execution_count": 42,
     "metadata": {},
     "output_type": "execute_result"
    }
   ],
   "source": [
    "model_output_test['total_latency'].sum()#total latency, "
   ]
  },
  {
   "cell_type": "code",
   "execution_count": 43,
   "metadata": {},
   "outputs": [
    {
     "data": {
      "text/plain": [
       "1768054.2259999998"
      ]
     },
     "execution_count": 43,
     "metadata": {},
     "output_type": "execute_result"
    }
   ],
   "source": [
    "model_output_test['total_latency_model'].sum()#predicted latency, "
   ]
  },
  {
   "cell_type": "markdown",
   "metadata": {},
   "source": [
    "We performed how much better, %:"
   ]
  },
  {
   "cell_type": "code",
   "execution_count": 44,
   "metadata": {},
   "outputs": [
    {
     "data": {
      "text/plain": [
       "0.12217018161246923"
      ]
     },
     "execution_count": 44,
     "metadata": {},
     "output_type": "execute_result"
    }
   ],
   "source": [
    "(model_output_test['total_latency'].sum()-model_output_test['total_latency_model'].sum())/model_output_test['total_latency'].sum()"
   ]
  },
  {
   "cell_type": "code",
   "execution_count": null,
   "metadata": {},
   "outputs": [],
   "source": []
  }
 ],
 "metadata": {
  "kernelspec": {
   "display_name": "Python [conda env:anaconda3]",
   "language": "python",
   "name": "conda-env-anaconda3-py"
  },
  "language_info": {
   "codemirror_mode": {
    "name": "ipython",
    "version": 3
   },
   "file_extension": ".py",
   "mimetype": "text/x-python",
   "name": "python",
   "nbconvert_exporter": "python",
   "pygments_lexer": "ipython3",
   "version": "3.6.4"
  }
 },
 "nbformat": 4,
 "nbformat_minor": 2
}
